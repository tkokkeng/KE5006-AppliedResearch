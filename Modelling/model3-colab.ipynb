{
 "cells": [
  {
   "cell_type": "markdown",
   "metadata": {
    "collapsed": true,
    "id": "6jzSqG0Zrno9",
    "colab_type": "text"
   },
   "source": [
    "# KE5006 - Enhancer Classification\n",
    "\n",
    "# Modelling 3\n",
    "\n",
    "## Summary of Findings\n",
    "* 2x16 GRU, 1 x Dense\n",
    "  * to be updated"
   ]
  },
  {
   "cell_type": "code",
   "execution_count": 1,
   "metadata": {
    "id": "2klDuv9CsRnr",
    "colab_type": "code",
    "outputId": "91b05722-135a-4613-9f59-a0358b9eff60",
    "executionInfo": {
     "status": "ok",
     "timestamp": 1.550328226637E12,
     "user_tz": -480.0,
     "elapsed": 3927.0,
     "user": {
      "displayName": "kok keng Tan",
      "photoUrl": "",
      "userId": "05110360950881985443"
     }
    },
    "colab": {
     "base_uri": "https://localhost:8080/",
     "height": 34.0
    }
   },
   "outputs": [
    {
     "name": "stdout",
     "output_type": "stream",
     "text": [
      "Found GPU at: /device:GPU:0\n"
     ]
    }
   ],
   "source": [
    "import tensorflow as tf\n",
    "device_name = tf.test.gpu_device_name()\n",
    "if device_name != '/device:GPU:0':\n",
    "  raise SystemError('GPU device not found')\n",
    "print('Found GPU at: {}'.format(device_name))"
   ]
  },
  {
   "cell_type": "code",
   "execution_count": 2,
   "metadata": {
    "id": "dgb13Fx-jE56",
    "colab_type": "code",
    "outputId": "8ad61653-0353-4a72-dda4-a3dfc32708fe",
    "executionInfo": {
     "status": "ok",
     "timestamp": 1.550328242662E12,
     "user_tz": -480.0,
     "elapsed": 19910.0,
     "user": {
      "displayName": "kok keng Tan",
      "photoUrl": "",
      "userId": "05110360950881985443"
     }
    },
    "colab": {
     "base_uri": "https://localhost:8080/",
     "height": 269.0
    }
   },
   "outputs": [
    {
     "name": "stdout",
     "output_type": "stream",
     "text": [
      "Collecting gputil\n",
      "  Downloading https://files.pythonhosted.org/packages/ed/0e/5c61eedde9f6c87713e89d794f01e378cfd9565847d4576fa627d758c554/GPUtil-1.4.0.tar.gz\n",
      "Building wheels for collected packages: gputil\n",
      "  Building wheel for gputil (setup.py) ... \u001b[?25ldone\n",
      "\u001b[?25h  Stored in directory: /root/.cache/pip/wheels/3d/77/07/80562de4bb0786e5ea186911a2c831fdd0018bda69beab71fd\n",
      "Successfully built gputil\n",
      "Installing collected packages: gputil\n",
      "Successfully installed gputil-1.4.0\n",
      "Requirement already satisfied: psutil in /usr/local/lib/python3.6/dist-packages (5.4.8)\n",
      "Requirement already satisfied: humanize in /usr/local/lib/python3.6/dist-packages (0.5.1)\n",
      "Gen RAM Free: 12.5 GB  | Proc size: 732.1 MB\n",
      "# of CPU: 2\n",
      "CPU type: uname_result(system='Linux', node='efa9e665c5b0', release='4.14.79+', version='#1 SMP Wed Dec 19 21:19:13 PST 2018', machine='x86_64', processor='x86_64')\n",
      "GPU Type: Tesla K80\n",
      "GPU RAM Free: 11320MB | Used: 121MB | Util   1% | Total 11441MB\n"
     ]
    }
   ],
   "source": [
    "!pip install gputil\n",
    "!pip install psutil\n",
    "!pip install humanize\n",
    "import psutil\n",
    "import humanize\n",
    "import os\n",
    "import GPUtil as GPU\n",
    "import platform\n",
    "GPUs = GPU.getGPUs()\n",
    "gpu = GPUs[0]\n",
    "def printm():\n",
    " process = psutil.Process(os.getpid())\n",
    " print(\"Gen RAM Free: \" + humanize.naturalsize( psutil.virtual_memory().available ), \" | Proc size: \" + humanize.naturalsize( process.memory_info().rss))\n",
    " print(\"# of CPU: {0}\".format(psutil.cpu_count()))\n",
    " print(\"CPU type: {0}\".format(platform.uname()))\n",
    " print(\"GPU Type: {0}\".format(gpu.name))\n",
    " print(\"GPU RAM Free: {0:.0f}MB | Used: {1:.0f}MB | Util {2:3.0f}% | Total {3:.0f}MB\".format(gpu.memoryFree, gpu.memoryUsed, gpu.memoryUtil*100, gpu.memoryTotal))\n",
    "printm()"
   ]
  },
  {
   "cell_type": "code",
   "execution_count": 0,
   "metadata": {
    "id": "5yzyRKcbvY2q",
    "colab_type": "code",
    "colab": {}
   },
   "outputs": [],
   "source": [
    "# from google.colab import files\n",
    "# files.upload()"
   ]
  },
  {
   "cell_type": "code",
   "execution_count": 4,
   "metadata": {
    "id": "DgU0scLxjlbh",
    "colab_type": "code",
    "outputId": "9e292693-4ff6-4877-dd1b-a85579ba0270",
    "executionInfo": {
     "status": "ok",
     "timestamp": 1.550328267607E12,
     "user_tz": -480.0,
     "elapsed": 44805.0,
     "user": {
      "displayName": "kok keng Tan",
      "photoUrl": "",
      "userId": "05110360950881985443"
     }
    },
    "colab": {
     "base_uri": "https://localhost:8080/",
     "height": 121.0
    }
   },
   "outputs": [
    {
     "name": "stdout",
     "output_type": "stream",
     "text": [
      "Go to this URL in a browser: https://accounts.google.com/o/oauth2/auth?client_id=947318989803-6bn6qk8qdgf4n4g3pfee6491hc0brc4i.apps.googleusercontent.com&redirect_uri=urn%3Aietf%3Awg%3Aoauth%3A2.0%3Aoob&scope=email%20https%3A%2F%2Fwww.googleapis.com%2Fauth%2Fdocs.test%20https%3A%2F%2Fwww.googleapis.com%2Fauth%2Fdrive%20https%3A%2F%2Fwww.googleapis.com%2Fauth%2Fdrive.photos.readonly%20https%3A%2F%2Fwww.googleapis.com%2Fauth%2Fpeopleapi.readonly&response_type=code\n",
      "\n",
      "Enter your authorization code:\n",
      "··········\n",
      "Mounted at /content/gdrive\n"
     ]
    }
   ],
   "source": [
    "from google.colab import drive\n",
    "drive.mount('/content/gdrive')"
   ]
  },
  {
   "cell_type": "code",
   "execution_count": 5,
   "metadata": {
    "id": "7uxZCNbTjvxT",
    "colab_type": "code",
    "outputId": "6940a09e-9153-4794-f6e8-6d71ab6f5566",
    "executionInfo": {
     "status": "ok",
     "timestamp": 1.550328270711E12,
     "user_tz": -480.0,
     "elapsed": 47865.0,
     "user": {
      "displayName": "kok keng Tan",
      "photoUrl": "",
      "userId": "05110360950881985443"
     }
    },
    "colab": {
     "base_uri": "https://localhost:8080/",
     "height": 202.0
    }
   },
   "outputs": [
    {
     "name": "stdout",
     "output_type": "stream",
     "text": [
      "total 2178\n",
      "-rw------- 1 root root 333744 Jan 29 15:06 enhancer.csv\n",
      "-rw------- 1 root root 338184 Jan 29 15:06 enhancer.txt\n",
      "-rw------- 1 root root  94789 Jan 29 15:06 independent.csv\n",
      "-rw------- 1 root root 116293 Jan 29 15:06 independent.txt\n",
      "-rw------- 1 root root 333796 Jan 29 15:06 non_enhancer.csv\n",
      "-rw------- 1 root root 338234 Jan 29 15:06 non_enhancer.txt\n",
      "-rw------- 1 root root 166835 Jan 29 15:06 strong.csv\n",
      "-rw------- 1 root root 169049 Jan 29 15:06 strong.txt\n",
      "-rw------- 1 root root 166921 Jan 29 15:06 weak.csv\n",
      "-rw------- 1 root root 169135 Jan 29 15:06 weak.txt\n"
     ]
    }
   ],
   "source": [
    "!ls -l /content/gdrive/My\\ Drive/data-enhancer"
   ]
  },
  {
   "cell_type": "markdown",
   "metadata": {
    "id": "7VEBLyCQrnpB",
    "colab_type": "text"
   },
   "source": [
    "## Load libraries"
   ]
  },
  {
   "cell_type": "code",
   "execution_count": 6,
   "metadata": {
    "id": "nuaUwD7CrnpC",
    "colab_type": "code",
    "outputId": "87113521-5d54-48d9-945a-dcb411ec9e2d",
    "executionInfo": {
     "status": "ok",
     "timestamp": 1.550328271138E12,
     "user_tz": -480.0,
     "elapsed": 48248.0,
     "user": {
      "displayName": "kok keng Tan",
      "photoUrl": "",
      "userId": "05110360950881985443"
     }
    },
    "colab": {
     "base_uri": "https://localhost:8080/",
     "height": 34.0
    }
   },
   "outputs": [
    {
     "name": "stderr",
     "output_type": "stream",
     "text": [
      "Using TensorFlow backend.\n"
     ]
    }
   ],
   "source": [
    "%matplotlib inline\n",
    "\n",
    "import matplotlib.pyplot as plt\n",
    "import pandas as pd\n",
    "import numpy as np\n",
    "import datetime\n",
    "import pytz\n",
    "import pickle\n",
    "\n",
    "from sklearn.metrics import classification_report, confusion_matrix, matthews_corrcoef, make_scorer, recall_score, roc_auc_score, roc_curve \n",
    "from sklearn.pipeline import Pipeline\n",
    "from sklearn.base import BaseEstimator, TransformerMixin\n",
    "from sklearn.model_selection import train_test_split, StratifiedKFold, cross_validate\n",
    "\n",
    "\n",
    "from keras.preprocessing.text import Tokenizer\n",
    "from keras.models import Sequential\n",
    "from keras import layers\n",
    "from keras.optimizers import RMSprop\n",
    "from keras.wrappers.scikit_learn import KerasClassifier\n",
    "from keras.callbacks import EarlyStopping"
   ]
  },
  {
   "cell_type": "markdown",
   "metadata": {
    "id": "yq57FoFrrnpG",
    "colab_type": "text"
   },
   "source": [
    "## Load data"
   ]
  },
  {
   "cell_type": "code",
   "execution_count": 7,
   "metadata": {
    "id": "M9is6l2lrnpG",
    "colab_type": "code",
    "outputId": "61dea427-841b-4581-cd07-b2a2eafcff6b",
    "executionInfo": {
     "status": "ok",
     "timestamp": 1.550328271696E12,
     "user_tz": -480.0,
     "elapsed": 48764.0,
     "user": {
      "displayName": "kok keng Tan",
      "photoUrl": "",
      "userId": "05110360950881985443"
     }
    },
    "colab": {
     "base_uri": "https://localhost:8080/",
     "height": 134.0
    }
   },
   "outputs": [
    {
     "name": "stdout",
     "output_type": "stream",
     "text": [
      "<class 'pandas.core.frame.DataFrame'>\n",
      "RangeIndex: 1484 entries, 0 to 1483\n",
      "Data columns (total 2 columns):\n",
      "id          1484 non-null object\n",
      "sequence    1484 non-null object\n",
      "dtypes: object(2)\n",
      "memory usage: 23.3+ KB\n"
     ]
    }
   ],
   "source": [
    "enhancer_df = pd.read_csv('/content/gdrive/My Drive/data-enhancer/enhancer.csv')\n",
    "enhancer_df.info()"
   ]
  },
  {
   "cell_type": "code",
   "execution_count": 0,
   "metadata": {
    "id": "NYVQE-zRrnpI",
    "colab_type": "code",
    "colab": {}
   },
   "outputs": [],
   "source": [
    "enhancer_df['enhancer'] = np.ones((len(enhancer_df),))"
   ]
  },
  {
   "cell_type": "code",
   "execution_count": 9,
   "metadata": {
    "id": "y9qdwRgRF1j_",
    "colab_type": "code",
    "outputId": "2f863d25-fb5e-4afb-8f3d-0a20e5b5a186",
    "executionInfo": {
     "status": "ok",
     "timestamp": 1.550328271703E12,
     "user_tz": -480.0,
     "elapsed": 48731.0,
     "user": {
      "displayName": "kok keng Tan",
      "photoUrl": "",
      "userId": "05110360950881985443"
     }
    },
    "colab": {
     "base_uri": "https://localhost:8080/",
     "height": 195.0
    }
   },
   "outputs": [
    {
     "data": {
      "text/html": [
       "<div>\n",
       "<style scoped>\n",
       "    .dataframe tbody tr th:only-of-type {\n",
       "        vertical-align: middle;\n",
       "    }\n",
       "\n",
       "    .dataframe tbody tr th {\n",
       "        vertical-align: top;\n",
       "    }\n",
       "\n",
       "    .dataframe thead th {\n",
       "        text-align: right;\n",
       "    }\n",
       "</style>\n",
       "<table border=\"1\" class=\"dataframe\">\n",
       "  <thead>\n",
       "    <tr style=\"text-align: right;\">\n",
       "      <th></th>\n",
       "      <th>id</th>\n",
       "      <th>sequence</th>\n",
       "      <th>enhancer</th>\n",
       "    </tr>\n",
       "  </thead>\n",
       "  <tbody>\n",
       "    <tr>\n",
       "      <th>0</th>\n",
       "      <td>CHRX_48897056_48897256</td>\n",
       "      <td>CACAATGTAGAAGCAGAGACACAGGAACCAGGCTTGGTGATGGCTC...</td>\n",
       "      <td>1.0</td>\n",
       "    </tr>\n",
       "    <tr>\n",
       "      <th>1</th>\n",
       "      <td>CHR12_6444339_6444539</td>\n",
       "      <td>GCCCTCACATTCCCTGGCCCATCCCCTCCACCTCAAAATTTACAAA...</td>\n",
       "      <td>1.0</td>\n",
       "    </tr>\n",
       "    <tr>\n",
       "      <th>2</th>\n",
       "      <td>CHR12_6444939_6445139</td>\n",
       "      <td>GAGCAGGAGGCCAGTCACCCTGAGTCAGCCACGGGGAGACGCTGCA...</td>\n",
       "      <td>1.0</td>\n",
       "    </tr>\n",
       "    <tr>\n",
       "      <th>3</th>\n",
       "      <td>CHR12_6445139_6445339</td>\n",
       "      <td>CCTCTGCTGAGAACAGGACTGGGGCTTCCAGGGCAACAGGAAGGGT...</td>\n",
       "      <td>1.0</td>\n",
       "    </tr>\n",
       "    <tr>\n",
       "      <th>4</th>\n",
       "      <td>CHR12_6445339_6445539</td>\n",
       "      <td>ACAGCCTTAAAGGGAGCTTTTCAGGGACCTCTGGCCAGTGGGGGAT...</td>\n",
       "      <td>1.0</td>\n",
       "    </tr>\n",
       "  </tbody>\n",
       "</table>\n",
       "</div>"
      ],
      "text/plain": [
       "                       id                                           sequence  \\\n",
       "0  CHRX_48897056_48897256  CACAATGTAGAAGCAGAGACACAGGAACCAGGCTTGGTGATGGCTC...   \n",
       "1   CHR12_6444339_6444539  GCCCTCACATTCCCTGGCCCATCCCCTCCACCTCAAAATTTACAAA...   \n",
       "2   CHR12_6444939_6445139  GAGCAGGAGGCCAGTCACCCTGAGTCAGCCACGGGGAGACGCTGCA...   \n",
       "3   CHR12_6445139_6445339  CCTCTGCTGAGAACAGGACTGGGGCTTCCAGGGCAACAGGAAGGGT...   \n",
       "4   CHR12_6445339_6445539  ACAGCCTTAAAGGGAGCTTTTCAGGGACCTCTGGCCAGTGGGGGAT...   \n",
       "\n",
       "   enhancer  \n",
       "0       1.0  \n",
       "1       1.0  \n",
       "2       1.0  \n",
       "3       1.0  \n",
       "4       1.0  "
      ]
     },
     "execution_count": 9,
     "metadata": {
      "tags": []
     },
     "output_type": "execute_result"
    }
   ],
   "source": [
    "enhancer_df.head()"
   ]
  },
  {
   "cell_type": "code",
   "execution_count": 10,
   "metadata": {
    "id": "HTMmn4xbF4uy",
    "colab_type": "code",
    "outputId": "05e0e708-6128-4296-e3a3-72c08fc1a01e",
    "executionInfo": {
     "status": "ok",
     "timestamp": 1.550328272464E12,
     "user_tz": -480.0,
     "elapsed": 49465.0,
     "user": {
      "displayName": "kok keng Tan",
      "photoUrl": "",
      "userId": "05110360950881985443"
     }
    },
    "colab": {
     "base_uri": "https://localhost:8080/",
     "height": 134.0
    }
   },
   "outputs": [
    {
     "name": "stdout",
     "output_type": "stream",
     "text": [
      "<class 'pandas.core.frame.DataFrame'>\n",
      "RangeIndex: 1484 entries, 0 to 1483\n",
      "Data columns (total 2 columns):\n",
      "id          1484 non-null object\n",
      "sequence    1484 non-null object\n",
      "dtypes: object(2)\n",
      "memory usage: 23.3+ KB\n"
     ]
    }
   ],
   "source": [
    "non_enhancer_df = pd.read_csv('/content/gdrive/My Drive/data-enhancer/non_enhancer.csv')\n",
    "non_enhancer_df.info()"
   ]
  },
  {
   "cell_type": "code",
   "execution_count": 0,
   "metadata": {
    "id": "tQ6IeZjdF4rU",
    "colab_type": "code",
    "colab": {}
   },
   "outputs": [],
   "source": [
    "non_enhancer_df['enhancer'] = np.zeros((len(non_enhancer_df),))"
   ]
  },
  {
   "cell_type": "code",
   "execution_count": 12,
   "metadata": {
    "id": "lDDT-5PxF4m5",
    "colab_type": "code",
    "outputId": "d4ad955e-617e-479a-e6a2-6673d5be665f",
    "executionInfo": {
     "status": "ok",
     "timestamp": 1.550328272476E12,
     "user_tz": -480.0,
     "elapsed": 49434.0,
     "user": {
      "displayName": "kok keng Tan",
      "photoUrl": "",
      "userId": "05110360950881985443"
     }
    },
    "colab": {
     "base_uri": "https://localhost:8080/",
     "height": 195.0
    }
   },
   "outputs": [
    {
     "data": {
      "text/html": [
       "<div>\n",
       "<style scoped>\n",
       "    .dataframe tbody tr th:only-of-type {\n",
       "        vertical-align: middle;\n",
       "    }\n",
       "\n",
       "    .dataframe tbody tr th {\n",
       "        vertical-align: top;\n",
       "    }\n",
       "\n",
       "    .dataframe thead th {\n",
       "        text-align: right;\n",
       "    }\n",
       "</style>\n",
       "<table border=\"1\" class=\"dataframe\">\n",
       "  <thead>\n",
       "    <tr style=\"text-align: right;\">\n",
       "      <th></th>\n",
       "      <th>id</th>\n",
       "      <th>sequence</th>\n",
       "      <th>enhancer</th>\n",
       "    </tr>\n",
       "  </thead>\n",
       "  <tbody>\n",
       "    <tr>\n",
       "      <th>0</th>\n",
       "      <td>CHRX_2970600_2970800</td>\n",
       "      <td>CAGTCACATCTGTAATCACAATACGTTGGGAGGCTGAGGCAGGAGG...</td>\n",
       "      <td>0.0</td>\n",
       "    </tr>\n",
       "    <tr>\n",
       "      <th>1</th>\n",
       "      <td>CHRX_6179400_6179600</td>\n",
       "      <td>ACTTTGAAGAAGTCAGTCATCAAGATGAGAGACCCAACTGTCAAGC...</td>\n",
       "      <td>0.0</td>\n",
       "    </tr>\n",
       "    <tr>\n",
       "      <th>2</th>\n",
       "      <td>CHRX_11003079_11003279</td>\n",
       "      <td>TCGGCCTCCCAAAGTGCTGGGATTATAGGCATGAGCTACTGCACCC...</td>\n",
       "      <td>0.0</td>\n",
       "    </tr>\n",
       "    <tr>\n",
       "      <th>3</th>\n",
       "      <td>CHRX_22042679_22042879</td>\n",
       "      <td>TGGGAGCTGTATCAATCATGTTTTTTATTTTCTATATTTTATGATG...</td>\n",
       "      <td>0.0</td>\n",
       "    </tr>\n",
       "    <tr>\n",
       "      <th>4</th>\n",
       "      <td>CHRX_23280479_23280679</td>\n",
       "      <td>TACAGCAAATAGCCTTGGCAGATACAGTGTTTCCCTCCAGAGCAAA...</td>\n",
       "      <td>0.0</td>\n",
       "    </tr>\n",
       "  </tbody>\n",
       "</table>\n",
       "</div>"
      ],
      "text/plain": [
       "                       id                                           sequence  \\\n",
       "0    CHRX_2970600_2970800  CAGTCACATCTGTAATCACAATACGTTGGGAGGCTGAGGCAGGAGG...   \n",
       "1    CHRX_6179400_6179600  ACTTTGAAGAAGTCAGTCATCAAGATGAGAGACCCAACTGTCAAGC...   \n",
       "2  CHRX_11003079_11003279  TCGGCCTCCCAAAGTGCTGGGATTATAGGCATGAGCTACTGCACCC...   \n",
       "3  CHRX_22042679_22042879  TGGGAGCTGTATCAATCATGTTTTTTATTTTCTATATTTTATGATG...   \n",
       "4  CHRX_23280479_23280679  TACAGCAAATAGCCTTGGCAGATACAGTGTTTCCCTCCAGAGCAAA...   \n",
       "\n",
       "   enhancer  \n",
       "0       0.0  \n",
       "1       0.0  \n",
       "2       0.0  \n",
       "3       0.0  \n",
       "4       0.0  "
      ]
     },
     "execution_count": 12,
     "metadata": {
      "tags": []
     },
     "output_type": "execute_result"
    }
   ],
   "source": [
    "non_enhancer_df.head()"
   ]
  },
  {
   "cell_type": "markdown",
   "metadata": {
    "id": "CK17aqwnF9_B",
    "colab_type": "text"
   },
   "source": [
    "## Combine the data frames to form a single dataset"
   ]
  },
  {
   "cell_type": "code",
   "execution_count": 13,
   "metadata": {
    "id": "0JUYHZ67F4ib",
    "colab_type": "code",
    "outputId": "f2c62b84-20da-46d8-c0a4-6e013b2c9eaa",
    "executionInfo": {
     "status": "ok",
     "timestamp": 1.550328272477E12,
     "user_tz": -480.0,
     "elapsed": 49410.0,
     "user": {
      "displayName": "kok keng Tan",
      "photoUrl": "",
      "userId": "05110360950881985443"
     }
    },
    "colab": {
     "base_uri": "https://localhost:8080/",
     "height": 151.0
    }
   },
   "outputs": [
    {
     "name": "stdout",
     "output_type": "stream",
     "text": [
      "<class 'pandas.core.frame.DataFrame'>\n",
      "RangeIndex: 2968 entries, 0 to 2967\n",
      "Data columns (total 3 columns):\n",
      "id          2968 non-null object\n",
      "sequence    2968 non-null object\n",
      "enhancer    2968 non-null float64\n",
      "dtypes: float64(1), object(2)\n",
      "memory usage: 69.6+ KB\n"
     ]
    }
   ],
   "source": [
    "all_data_df = pd.concat([enhancer_df, non_enhancer_df])\n",
    "all_data_df.reset_index(drop=True, inplace=True)\n",
    "all_data_df.info()"
   ]
  },
  {
   "cell_type": "code",
   "execution_count": 14,
   "metadata": {
    "id": "1jzxUdCzF4XW",
    "colab_type": "code",
    "outputId": "dc005f19-e77a-4074-a7c6-37c893655314",
    "executionInfo": {
     "status": "ok",
     "timestamp": 1.550328272479E12,
     "user_tz": -480.0,
     "elapsed": 49387.0,
     "user": {
      "displayName": "kok keng Tan",
      "photoUrl": "",
      "userId": "05110360950881985443"
     }
    },
    "colab": {
     "base_uri": "https://localhost:8080/",
     "height": 195.0
    }
   },
   "outputs": [
    {
     "data": {
      "text/html": [
       "<div>\n",
       "<style scoped>\n",
       "    .dataframe tbody tr th:only-of-type {\n",
       "        vertical-align: middle;\n",
       "    }\n",
       "\n",
       "    .dataframe tbody tr th {\n",
       "        vertical-align: top;\n",
       "    }\n",
       "\n",
       "    .dataframe thead th {\n",
       "        text-align: right;\n",
       "    }\n",
       "</style>\n",
       "<table border=\"1\" class=\"dataframe\">\n",
       "  <thead>\n",
       "    <tr style=\"text-align: right;\">\n",
       "      <th></th>\n",
       "      <th>id</th>\n",
       "      <th>sequence</th>\n",
       "      <th>enhancer</th>\n",
       "    </tr>\n",
       "  </thead>\n",
       "  <tbody>\n",
       "    <tr>\n",
       "      <th>0</th>\n",
       "      <td>CHRX_48897056_48897256</td>\n",
       "      <td>CACAATGTAGAAGCAGAGACACAGGAACCAGGCTTGGTGATGGCTC...</td>\n",
       "      <td>1.0</td>\n",
       "    </tr>\n",
       "    <tr>\n",
       "      <th>1</th>\n",
       "      <td>CHR12_6444339_6444539</td>\n",
       "      <td>GCCCTCACATTCCCTGGCCCATCCCCTCCACCTCAAAATTTACAAA...</td>\n",
       "      <td>1.0</td>\n",
       "    </tr>\n",
       "    <tr>\n",
       "      <th>2</th>\n",
       "      <td>CHR12_6444939_6445139</td>\n",
       "      <td>GAGCAGGAGGCCAGTCACCCTGAGTCAGCCACGGGGAGACGCTGCA...</td>\n",
       "      <td>1.0</td>\n",
       "    </tr>\n",
       "    <tr>\n",
       "      <th>3</th>\n",
       "      <td>CHR12_6445139_6445339</td>\n",
       "      <td>CCTCTGCTGAGAACAGGACTGGGGCTTCCAGGGCAACAGGAAGGGT...</td>\n",
       "      <td>1.0</td>\n",
       "    </tr>\n",
       "    <tr>\n",
       "      <th>4</th>\n",
       "      <td>CHR12_6445339_6445539</td>\n",
       "      <td>ACAGCCTTAAAGGGAGCTTTTCAGGGACCTCTGGCCAGTGGGGGAT...</td>\n",
       "      <td>1.0</td>\n",
       "    </tr>\n",
       "  </tbody>\n",
       "</table>\n",
       "</div>"
      ],
      "text/plain": [
       "                       id                                           sequence  \\\n",
       "0  CHRX_48897056_48897256  CACAATGTAGAAGCAGAGACACAGGAACCAGGCTTGGTGATGGCTC...   \n",
       "1   CHR12_6444339_6444539  GCCCTCACATTCCCTGGCCCATCCCCTCCACCTCAAAATTTACAAA...   \n",
       "2   CHR12_6444939_6445139  GAGCAGGAGGCCAGTCACCCTGAGTCAGCCACGGGGAGACGCTGCA...   \n",
       "3   CHR12_6445139_6445339  CCTCTGCTGAGAACAGGACTGGGGCTTCCAGGGCAACAGGAAGGGT...   \n",
       "4   CHR12_6445339_6445539  ACAGCCTTAAAGGGAGCTTTTCAGGGACCTCTGGCCAGTGGGGGAT...   \n",
       "\n",
       "   enhancer  \n",
       "0       1.0  \n",
       "1       1.0  \n",
       "2       1.0  \n",
       "3       1.0  \n",
       "4       1.0  "
      ]
     },
     "execution_count": 14,
     "metadata": {
      "tags": []
     },
     "output_type": "execute_result"
    }
   ],
   "source": [
    "all_data_df.head()"
   ]
  },
  {
   "cell_type": "markdown",
   "metadata": {
    "id": "jJF2BTx2GHul",
    "colab_type": "text"
   },
   "source": [
    "All the sequences are of length 200 characters."
   ]
  },
  {
   "cell_type": "code",
   "execution_count": 15,
   "metadata": {
    "id": "3X4hqTvaGDLP",
    "colab_type": "code",
    "outputId": "4470712b-6fcc-44ac-81f1-a58e4d7ffc8b",
    "executionInfo": {
     "status": "ok",
     "timestamp": 1.55032827248E12,
     "user_tz": -480.0,
     "elapsed": 49368.0,
     "user": {
      "displayName": "kok keng Tan",
      "photoUrl": "",
      "userId": "05110360950881985443"
     }
    },
    "colab": {
     "base_uri": "https://localhost:8080/",
     "height": 50.0
    }
   },
   "outputs": [
    {
     "data": {
      "text/plain": [
       "200    2968\n",
       "Name: sequence, dtype: int64"
      ]
     },
     "execution_count": 15,
     "metadata": {
      "tags": []
     },
     "output_type": "execute_result"
    }
   ],
   "source": [
    "all_data_df['sequence'].map(lambda x: len(x)).value_counts()"
   ]
  },
  {
   "cell_type": "markdown",
   "metadata": {
    "id": "FyPehh05GNC6",
    "colab_type": "text"
   },
   "source": [
    "## Prepare the sequence data for modelling"
   ]
  },
  {
   "cell_type": "markdown",
   "metadata": {
    "id": "71oke4kdGPsN",
    "colab_type": "text"
   },
   "source": [
    "Initialise the keras tokenizer"
   ]
  },
  {
   "cell_type": "code",
   "execution_count": 0,
   "metadata": {
    "id": "7sgsIzwoGDIC",
    "colab_type": "code",
    "colab": {}
   },
   "outputs": [],
   "source": [
    "tokenizer =  Tokenizer(num_words=4, lower=False, char_level=True)"
   ]
  },
  {
   "cell_type": "code",
   "execution_count": 0,
   "metadata": {
    "id": "y9XdigeDGDEd",
    "colab_type": "code",
    "colab": {}
   },
   "outputs": [],
   "source": [
    "tokenizer.fit_on_texts(all_data_df['sequence'][0])"
   ]
  },
  {
   "cell_type": "code",
   "execution_count": 18,
   "metadata": {
    "id": "oror588ZGDAy",
    "colab_type": "code",
    "outputId": "9783ae32-305c-4ae5-b4a7-e37fe3bb5bf4",
    "executionInfo": {
     "status": "ok",
     "timestamp": 1.550328272504E12,
     "user_tz": -480.0,
     "elapsed": 49369.0,
     "user": {
      "displayName": "kok keng Tan",
      "photoUrl": "",
      "userId": "05110360950881985443"
     }
    },
    "colab": {
     "base_uri": "https://localhost:8080/",
     "height": 34.0
    }
   },
   "outputs": [
    {
     "data": {
      "text/plain": [
       "{'A': 3, 'C': 4, 'G': 1, 'T': 2}"
      ]
     },
     "execution_count": 18,
     "metadata": {
      "tags": []
     },
     "output_type": "execute_result"
    }
   ],
   "source": [
    "tokenizer.word_index"
   ]
  },
  {
   "cell_type": "code",
   "execution_count": 19,
   "metadata": {
    "id": "_-w81kvDGUkJ",
    "colab_type": "code",
    "outputId": "f46cfc2c-792a-41f7-d4ec-f1bdeb2258b2",
    "executionInfo": {
     "status": "ok",
     "timestamp": 1.550328272508E12,
     "user_tz": -480.0,
     "elapsed": 49356.0,
     "user": {
      "displayName": "kok keng Tan",
      "photoUrl": "",
      "userId": "05110360950881985443"
     }
    },
    "colab": {
     "base_uri": "https://localhost:8080/",
     "height": 34.0
    }
   },
   "outputs": [
    {
     "data": {
      "text/plain": [
       "{1: 'G', 2: 'T', 3: 'A', 4: 'C'}"
      ]
     },
     "execution_count": 19,
     "metadata": {
      "tags": []
     },
     "output_type": "execute_result"
    }
   ],
   "source": [
    "tokenizer.index_word"
   ]
  },
  {
   "cell_type": "markdown",
   "metadata": {
    "id": "j67CYo9zGaXo",
    "colab_type": "text"
   },
   "source": [
    "Test the tokenizer on the first sequence"
   ]
  },
  {
   "cell_type": "code",
   "execution_count": 20,
   "metadata": {
    "id": "OwFsLCW9GUhT",
    "colab_type": "code",
    "outputId": "c8171ae0-bfb2-4690-c0a7-69b7ea4ef0d2",
    "executionInfo": {
     "status": "ok",
     "timestamp": 1.550328272525E12,
     "user_tz": -480.0,
     "elapsed": 49349.0,
     "user": {
      "displayName": "kok keng Tan",
      "photoUrl": "",
      "userId": "05110360950881985443"
     }
    },
    "colab": {
     "base_uri": "https://localhost:8080/",
     "height": 34.0
    }
   },
   "outputs": [
    {
     "data": {
      "text/plain": [
       "'CACAATGTAG'"
      ]
     },
     "execution_count": 20,
     "metadata": {
      "tags": []
     },
     "output_type": "execute_result"
    }
   ],
   "source": [
    "all_data_df['sequence'][0][:10]"
   ]
  },
  {
   "cell_type": "code",
   "execution_count": 21,
   "metadata": {
    "id": "fFiRgOTcGUeZ",
    "colab_type": "code",
    "outputId": "2426a1f7-18df-4c06-968f-b3b022882545",
    "executionInfo": {
     "status": "ok",
     "timestamp": 1.550328272527E12,
     "user_tz": -480.0,
     "elapsed": 49331.0,
     "user": {
      "displayName": "kok keng Tan",
      "photoUrl": "",
      "userId": "05110360950881985443"
     }
    },
    "colab": {
     "base_uri": "https://localhost:8080/",
     "height": 185.0
    }
   },
   "outputs": [
    {
     "data": {
      "text/plain": [
       "array([[0., 0., 0., 0.],\n",
       "       [0., 0., 0., 1.],\n",
       "       [0., 0., 0., 0.],\n",
       "       [0., 0., 0., 1.],\n",
       "       [0., 0., 0., 1.],\n",
       "       [0., 0., 1., 0.],\n",
       "       [0., 1., 0., 0.],\n",
       "       [0., 0., 1., 0.],\n",
       "       [0., 0., 0., 1.],\n",
       "       [0., 1., 0., 0.]])"
      ]
     },
     "execution_count": 21,
     "metadata": {
      "tags": []
     },
     "output_type": "execute_result"
    }
   ],
   "source": [
    "tokenizer.texts_to_matrix(all_data_df['sequence'][0], mode='binary')[:10]"
   ]
  },
  {
   "cell_type": "markdown",
   "metadata": {
    "id": "XD_aiKwmGfq1",
    "colab_type": "text"
   },
   "source": [
    "Create a transformation pipleline to prepare the training dataset for RNN."
   ]
  },
  {
   "cell_type": "code",
   "execution_count": 0,
   "metadata": {
    "id": "GollMv_KGUbA",
    "colab_type": "code",
    "colab": {}
   },
   "outputs": [],
   "source": [
    "# This class selects the desired attributes and drops the rest.\n",
    "class DataFrameSelector(BaseEstimator, TransformerMixin):\n",
    "\n",
    "    def __init__(self, attribute_names):\n",
    "        self.attribute_names = attribute_names\n",
    "\n",
    "    def fit(self, X, y=None):\n",
    "        return self\n",
    "\n",
    "    def transform(self, X):\n",
    "        return X[self.attribute_names]"
   ]
  },
  {
   "cell_type": "code",
   "execution_count": 0,
   "metadata": {
    "id": "1zPeCsSJGUXb",
    "colab_type": "code",
    "colab": {}
   },
   "outputs": [],
   "source": [
    "# This class converts a nucleotide base (A, C, G, T) to one-hot-encoding.\n",
    "class one_hot_encoder(BaseEstimator, TransformerMixin):\n",
    "\n",
    "    def __init__(self):\n",
    "        self.tokenizer = Tokenizer(num_words=4, lower=False, char_level=True)\n",
    "\n",
    "    def fit(self, X, y=None):\n",
    "        # Note that X is a data frame.\n",
    "        # Fit the tokenizer on the 1st sequence in the dataset.\n",
    "        self.tokenizer.fit_on_texts(X.iloc[0, 0])\n",
    "        self.len_sequence = len(X.iloc[0, 0])\n",
    "        return self\n",
    "\n",
    "    def transform(self, X):\n",
    "        # Note that X is a data frame.\n",
    "        one_hot_X = X.iloc[:, 0].map(lambda x: tokenizer.texts_to_matrix(x, mode='binary')).values\n",
    "        one_hot_X = np.concatenate(one_hot_X)\n",
    "        one_hot_X = np.reshape(one_hot_X, (-1, self.len_sequence, 4))\n",
    "        return one_hot_X"
   ]
  },
  {
   "cell_type": "code",
   "execution_count": 0,
   "metadata": {
    "id": "RFowsD1TGj7U",
    "colab_type": "code",
    "colab": {}
   },
   "outputs": [],
   "source": [
    "attrbs = ['sequence']\n",
    "my_pipeline = Pipeline([\n",
    "    ('selector', DataFrameSelector(attrbs)),\n",
    "    ('one_hot_encoder', one_hot_encoder())\n",
    "])"
   ]
  },
  {
   "cell_type": "code",
   "execution_count": 25,
   "metadata": {
    "id": "R4muiP4sGj4S",
    "colab_type": "code",
    "outputId": "23d89513-160d-4aef-9c70-f048d7903577",
    "executionInfo": {
     "status": "ok",
     "timestamp": 1.550328274114E12,
     "user_tz": -480.0,
     "elapsed": 50900.0,
     "user": {
      "displayName": "kok keng Tan",
      "photoUrl": "",
      "userId": "05110360950881985443"
     }
    },
    "colab": {
     "base_uri": "https://localhost:8080/",
     "height": 34.0
    }
   },
   "outputs": [
    {
     "data": {
      "text/plain": [
       "(2968, 200, 4)"
      ]
     },
     "execution_count": 25,
     "metadata": {
      "tags": []
     },
     "output_type": "execute_result"
    }
   ],
   "source": [
    "X = my_pipeline.fit_transform(all_data_df)\n",
    "X.shape"
   ]
  },
  {
   "cell_type": "markdown",
   "metadata": {
    "id": "pxcl7XLCGp73",
    "colab_type": "text"
   },
   "source": [
    "Check the 1st sequence is correctly encoded."
   ]
  },
  {
   "cell_type": "code",
   "execution_count": 26,
   "metadata": {
    "id": "FBF2PBB8Gj03",
    "colab_type": "code",
    "outputId": "70e07da5-f76b-4479-b8c2-ba9ed27c0d3e",
    "executionInfo": {
     "status": "ok",
     "timestamp": 1.550328274116E12,
     "user_tz": -480.0,
     "elapsed": 50882.0,
     "user": {
      "displayName": "kok keng Tan",
      "photoUrl": "",
      "userId": "05110360950881985443"
     }
    },
    "colab": {
     "base_uri": "https://localhost:8080/",
     "height": 185.0
    }
   },
   "outputs": [
    {
     "data": {
      "text/plain": [
       "array([[0., 0., 0., 0.],\n",
       "       [0., 0., 0., 1.],\n",
       "       [0., 0., 0., 0.],\n",
       "       [0., 0., 0., 1.],\n",
       "       [0., 0., 0., 1.],\n",
       "       [0., 0., 1., 0.],\n",
       "       [0., 1., 0., 0.],\n",
       "       [0., 0., 1., 0.],\n",
       "       [0., 0., 0., 1.],\n",
       "       [0., 1., 0., 0.]])"
      ]
     },
     "execution_count": 26,
     "metadata": {
      "tags": []
     },
     "output_type": "execute_result"
    }
   ],
   "source": [
    "X[0, :10, :]"
   ]
  },
  {
   "cell_type": "code",
   "execution_count": 27,
   "metadata": {
    "id": "4EUizuu3Gjxe",
    "colab_type": "code",
    "outputId": "66394f97-7749-4e52-d049-bc87d5d2f944",
    "executionInfo": {
     "status": "ok",
     "timestamp": 1.550328274117E12,
     "user_tz": -480.0,
     "elapsed": 50868.0,
     "user": {
      "displayName": "kok keng Tan",
      "photoUrl": "",
      "userId": "05110360950881985443"
     }
    },
    "colab": {
     "base_uri": "https://localhost:8080/",
     "height": 34.0
    }
   },
   "outputs": [
    {
     "data": {
      "text/plain": [
       "(2968,)"
      ]
     },
     "execution_count": 27,
     "metadata": {
      "tags": []
     },
     "output_type": "execute_result"
    }
   ],
   "source": [
    "y = all_data_df['enhancer'].values\n",
    "y.shape"
   ]
  },
  {
   "cell_type": "code",
   "execution_count": 28,
   "metadata": {
    "id": "WX43C2TEGuMH",
    "colab_type": "code",
    "outputId": "b74887d1-a010-427b-e6fb-02fce035533e",
    "executionInfo": {
     "status": "ok",
     "timestamp": 1.550328274118E12,
     "user_tz": -480.0,
     "elapsed": 50855.0,
     "user": {
      "displayName": "kok keng Tan",
      "photoUrl": "",
      "userId": "05110360950881985443"
     }
    },
    "colab": {
     "base_uri": "https://localhost:8080/",
     "height": 34.0
    }
   },
   "outputs": [
    {
     "data": {
      "text/plain": [
       "array([1., 1., 1., 1., 1., 1., 1., 1., 1., 1.])"
      ]
     },
     "execution_count": 28,
     "metadata": {
      "tags": []
     },
     "output_type": "execute_result"
    }
   ],
   "source": [
    "y[:10]"
   ]
  },
  {
   "cell_type": "markdown",
   "metadata": {
    "id": "Qdp_0QjtrnpK",
    "colab_type": "text"
   },
   "source": [
    "## Split the dataset into train / validation sets\n",
    "\n",
    "For the initial base model, we will use a simple train / validation split. 5-fold cross-validation will be used during model fine-tuning to obtain the final model."
   ]
  },
  {
   "cell_type": "code",
   "execution_count": 0,
   "metadata": {
    "id": "EMgHdELuG0ub",
    "colab_type": "code",
    "colab": {}
   },
   "outputs": [],
   "source": [
    "X_train, X_val, y_train, y_val = train_test_split(X, y, test_size=0.33, random_state=123)"
   ]
  },
  {
   "cell_type": "code",
   "execution_count": 30,
   "metadata": {
    "id": "73lTD-Z8G0rW",
    "colab_type": "code",
    "outputId": "d505414f-c775-40f0-bea1-27448972fbd4",
    "executionInfo": {
     "status": "ok",
     "timestamp": 1.550328274125E12,
     "user_tz": -480.0,
     "elapsed": 50845.0,
     "user": {
      "displayName": "kok keng Tan",
      "photoUrl": "",
      "userId": "05110360950881985443"
     }
    },
    "colab": {
     "base_uri": "https://localhost:8080/",
     "height": 840.0
    }
   },
   "outputs": [
    {
     "data": {
      "text/plain": [
       "array([[[0., 0., 0., 0.],\n",
       "        [0., 0., 1., 0.],\n",
       "        [0., 0., 0., 1.],\n",
       "        ...,\n",
       "        [0., 0., 0., 1.],\n",
       "        [0., 0., 0., 1.],\n",
       "        [0., 1., 0., 0.]],\n",
       "\n",
       "       [[0., 0., 0., 1.],\n",
       "        [0., 1., 0., 0.],\n",
       "        [0., 0., 0., 1.],\n",
       "        ...,\n",
       "        [0., 0., 1., 0.],\n",
       "        [0., 0., 0., 1.],\n",
       "        [0., 0., 0., 1.]],\n",
       "\n",
       "       [[0., 0., 0., 1.],\n",
       "        [0., 1., 0., 0.],\n",
       "        [0., 0., 1., 0.],\n",
       "        ...,\n",
       "        [0., 0., 0., 1.],\n",
       "        [0., 0., 0., 1.],\n",
       "        [0., 1., 0., 0.]],\n",
       "\n",
       "       ...,\n",
       "\n",
       "       [[0., 0., 0., 1.],\n",
       "        [0., 0., 0., 1.],\n",
       "        [0., 1., 0., 0.],\n",
       "        ...,\n",
       "        [0., 0., 0., 1.],\n",
       "        [0., 0., 0., 1.],\n",
       "        [0., 0., 0., 1.]],\n",
       "\n",
       "       [[0., 0., 1., 0.],\n",
       "        [0., 0., 0., 0.],\n",
       "        [0., 0., 1., 0.],\n",
       "        ...,\n",
       "        [0., 0., 0., 0.],\n",
       "        [0., 0., 1., 0.],\n",
       "        [0., 0., 1., 0.]],\n",
       "\n",
       "       [[0., 0., 1., 0.],\n",
       "        [0., 0., 1., 0.],\n",
       "        [0., 0., 0., 1.],\n",
       "        ...,\n",
       "        [0., 0., 1., 0.],\n",
       "        [0., 0., 0., 1.],\n",
       "        [0., 0., 0., 0.]]])"
      ]
     },
     "execution_count": 30,
     "metadata": {
      "tags": []
     },
     "output_type": "execute_result"
    }
   ],
   "source": [
    "X_train"
   ]
  },
  {
   "cell_type": "code",
   "execution_count": 31,
   "metadata": {
    "id": "LU8Cel-YG0n6",
    "colab_type": "code",
    "outputId": "9e504ea2-9d89-4e84-e7d9-333ebcc8e989",
    "executionInfo": {
     "status": "ok",
     "timestamp": 1.550328274126E12,
     "user_tz": -480.0,
     "elapsed": 50832.0,
     "user": {
      "displayName": "kok keng Tan",
      "photoUrl": "",
      "userId": "05110360950881985443"
     }
    },
    "colab": {
     "base_uri": "https://localhost:8080/",
     "height": 185.0
    }
   },
   "outputs": [
    {
     "data": {
      "text/plain": [
       "array([[0., 0., 0., 0.],\n",
       "       [0., 0., 1., 0.],\n",
       "       [0., 0., 0., 1.],\n",
       "       [0., 0., 0., 0.],\n",
       "       [0., 0., 0., 0.],\n",
       "       [0., 0., 0., 1.],\n",
       "       [0., 0., 0., 1.],\n",
       "       [0., 0., 1., 0.],\n",
       "       [0., 0., 1., 0.],\n",
       "       [0., 0., 0., 0.]])"
      ]
     },
     "execution_count": 31,
     "metadata": {
      "tags": []
     },
     "output_type": "execute_result"
    }
   ],
   "source": [
    "X_train[0][:10]"
   ]
  },
  {
   "cell_type": "code",
   "execution_count": 32,
   "metadata": {
    "id": "82SNpT3UG0ko",
    "colab_type": "code",
    "outputId": "bb1219b3-0573-488d-97db-256a768e66ad",
    "executionInfo": {
     "status": "ok",
     "timestamp": 1.550328274128E12,
     "user_tz": -480.0,
     "elapsed": 50816.0,
     "user": {
      "displayName": "kok keng Tan",
      "photoUrl": "",
      "userId": "05110360950881985443"
     }
    },
    "colab": {
     "base_uri": "https://localhost:8080/",
     "height": 34.0
    }
   },
   "outputs": [
    {
     "data": {
      "text/plain": [
       "(1988,)"
      ]
     },
     "execution_count": 32,
     "metadata": {
      "tags": []
     },
     "output_type": "execute_result"
    }
   ],
   "source": [
    "y_train.shape"
   ]
  },
  {
   "cell_type": "code",
   "execution_count": 33,
   "metadata": {
    "id": "bICa4ZapG0hN",
    "colab_type": "code",
    "outputId": "1f79c926-e461-448d-be73-fe40eb0f930e",
    "executionInfo": {
     "status": "ok",
     "timestamp": 1.550328274129E12,
     "user_tz": -480.0,
     "elapsed": 50800.0,
     "user": {
      "displayName": "kok keng Tan",
      "photoUrl": "",
      "userId": "05110360950881985443"
     }
    },
    "colab": {
     "base_uri": "https://localhost:8080/",
     "height": 34.0
    }
   },
   "outputs": [
    {
     "data": {
      "text/plain": [
       "1.0"
      ]
     },
     "execution_count": 33,
     "metadata": {
      "tags": []
     },
     "output_type": "execute_result"
    }
   ],
   "source": [
    "y_train[0]"
   ]
  },
  {
   "cell_type": "markdown",
   "metadata": {
    "id": "9GQpUmEDHCGe",
    "colab_type": "text"
   },
   "source": [
    "## Train a base RNN model\n",
    "\n",
    "In this training phase, the aim is to find a base model with statistical power which overfits. Interatively, this base model will be scaled up first to overfit, to be followed by regularization, to improve the validation accuracy.\n",
    "\n",
    "In the next phase, cross-validation will be applied to obtain better estimates of validation accuracy. Grid-search can be applied to fine-tune the parameters, hyper-parameters to further improve the validation accuracy."
   ]
  },
  {
   "cell_type": "markdown",
   "metadata": {
    "id": "4EFvWmnFHJSc",
    "colab_type": "text"
   },
   "source": [
    "### 2 Layer 16 Node GRU, 1x16 Dense\n",
    "\n",
    "#### Apply dropout regularization (.2/.2) to the base model to reduce overfitting / achieve a higher accuracy"
   ]
  },
  {
   "cell_type": "code",
   "execution_count": 0,
   "metadata": {
    "id": "wmUqtjM7G0dm",
    "colab_type": "code",
    "colab": {}
   },
   "outputs": [],
   "source": [
    "from numpy.random import seed\n",
    "seed(123)\n",
    "from tensorflow import set_random_seed\n",
    "set_random_seed(456)"
   ]
  },
  {
   "cell_type": "code",
   "execution_count": 0,
   "metadata": {
    "id": "XsTICOhZG0ZZ",
    "colab_type": "code",
    "outputId": "dfcf120b-8324-4ef8-a402-24fa075f8734",
    "executionInfo": {
     "status": "ok",
     "timestamp": 1.550232013167E12,
     "user_tz": -480.0,
     "elapsed": 1457.0,
     "user": {
      "displayName": "kok keng Tan",
      "photoUrl": "",
      "userId": "05110360950881985443"
     }
    },
    "colab": {
     "base_uri": "https://localhost:8080/",
     "height": 336.0
    }
   },
   "outputs": [
    {
     "name": "stdout",
     "output_type": "stream",
     "text": [
      "_________________________________________________________________\n",
      "Layer (type)                 Output Shape              Param #   \n",
      "=================================================================\n",
      "gru_3 (GRU)                  (None, None, 16)          1056      \n",
      "_________________________________________________________________\n",
      "gru_4 (GRU)                  (None, 16)                1632      \n",
      "_________________________________________________________________\n",
      "dropout_3 (Dropout)          (None, 16)                0         \n",
      "_________________________________________________________________\n",
      "dense_3 (Dense)              (None, 16)                272       \n",
      "_________________________________________________________________\n",
      "dropout_4 (Dropout)          (None, 16)                0         \n",
      "_________________________________________________________________\n",
      "dense_4 (Dense)              (None, 1)                 17        \n",
      "=================================================================\n",
      "Total params: 2,977\n",
      "Trainable params: 2,977\n",
      "Non-trainable params: 0\n",
      "_________________________________________________________________\n"
     ]
    }
   ],
   "source": [
    "model = Sequential()\n",
    "model.add(layers.GRU(16, recurrent_activation='sigmoid', dropout=0.2, recurrent_dropout=0.2, reset_after=True, return_sequences=True, input_shape=(None, X_train.shape[-1])))\n",
    "model.add(layers.GRU(16, recurrent_activation='sigmoid', dropout=0.2, recurrent_dropout=0.2, reset_after=True))\n",
    "model.add(layers.Dropout(0.2))\n",
    "model.add(layers.Dense(16, activation='relu'))\n",
    "model.add(layers.Dropout(0.2))\n",
    "model.add(layers.Dense(1, activation='sigmoid'))\n",
    "model.compile(optimizer=RMSprop(), loss='binary_crossentropy', metrics=['acc'])\n",
    "model.summary()"
   ]
  },
  {
   "cell_type": "code",
   "execution_count": 35,
   "metadata": {
    "id": "OUtFhxpJILIO",
    "colab_type": "code",
    "outputId": "212ca36b-892b-4ea4-da90-e8d1f2a6e431",
    "executionInfo": {
     "status": "ok",
     "timestamp": 1.550328309033E12,
     "user_tz": -480.0,
     "elapsed": 5288.0,
     "user": {
      "displayName": "kok keng Tan",
      "photoUrl": "",
      "userId": "05110360950881985443"
     }
    },
    "colab": {
     "base_uri": "https://localhost:8080/",
     "height": 507.0
    }
   },
   "outputs": [
    {
     "name": "stdout",
     "output_type": "stream",
     "text": [
      "WARNING:tensorflow:From /usr/local/lib/python3.6/dist-packages/tensorflow/python/framework/op_def_library.py:263: colocate_with (from tensorflow.python.framework.ops) is deprecated and will be removed in a future version.\n",
      "Instructions for updating:\n",
      "Colocations handled automatically by placer.\n",
      "WARNING:tensorflow:From /usr/local/lib/python3.6/dist-packages/keras/backend/tensorflow_backend.py:3445: calling dropout (from tensorflow.python.ops.nn_ops) with keep_prob is deprecated and will be removed in a future version.\n",
      "Instructions for updating:\n",
      "Please use `rate` instead of `keep_prob`. Rate should be set to `rate = 1 - keep_prob`.\n",
      "WARNING:tensorflow:From /usr/local/lib/python3.6/dist-packages/tensorflow/python/ops/math_ops.py:3066: to_int32 (from tensorflow.python.ops.math_ops) is deprecated and will be removed in a future version.\n",
      "Instructions for updating:\n",
      "Use tf.cast instead.\n",
      "_________________________________________________________________\n",
      "Layer (type)                 Output Shape              Param #   \n",
      "=================================================================\n",
      "gru_3 (GRU)                  (None, None, 16)          1056      \n",
      "_________________________________________________________________\n",
      "gru_4 (GRU)                  (None, 16)                1632      \n",
      "_________________________________________________________________\n",
      "dropout_3 (Dropout)          (None, 16)                0         \n",
      "_________________________________________________________________\n",
      "dense_3 (Dense)              (None, 16)                272       \n",
      "_________________________________________________________________\n",
      "dropout_4 (Dropout)          (None, 16)                0         \n",
      "_________________________________________________________________\n",
      "dense_4 (Dense)              (None, 1)                 17        \n",
      "=================================================================\n",
      "Total params: 2,977\n",
      "Trainable params: 2,977\n",
      "Non-trainable params: 0\n",
      "_________________________________________________________________\n"
     ]
    }
   ],
   "source": [
    "# Temporary - to remove after training is completed\n",
    "# Load previous history\n",
    "with open('/content/gdrive/My Drive/models-enhancer/base-2x16gru1x16dense-dropout0202-histories-epch7000.pkl', 'rb') as infile:\n",
    "    histories = pickle.load(infile)\n",
    "# Load previous model\n",
    "from keras.models import load_model\n",
    "model = load_model('/content/gdrive/My Drive/models-enhancer/base-2x16gru1x16dense-dropout0202-epch7000.h5')\n",
    "model.summary()"
   ]
  },
  {
   "cell_type": "code",
   "execution_count": 36,
   "metadata": {
    "id": "309CFR59IARv",
    "colab_type": "code",
    "outputId": "e9283642-9a14-4afe-9136-9bb1746d6a96",
    "executionInfo": {
     "status": "ok",
     "timestamp": 1.550340723993E12,
     "user_tz": -480.0,
     "elapsed": 1.235436E7,
     "user": {
      "displayName": "kok keng Tan",
      "photoUrl": "",
      "userId": "05110360950881985443"
     }
    },
    "colab": {
     "base_uri": "https://localhost:8080/",
     "height": 67.0
    }
   },
   "outputs": [
    {
     "name": "stdout",
     "output_type": "stream",
     "text": [
      "Training start time = 2019-02-16 22:46:09.430927+08:00\n",
      "\n",
      "Training Duration = 3:25:53.778902\n"
     ]
    }
   ],
   "source": [
    "t1 = pytz.timezone(\"utc\").localize(datetime.datetime.now()).astimezone(pytz.timezone(\"Singapore\"))\n",
    "print('Training start time = %s' %  t1)\n",
    "history = model.fit(X_train, y_train,\n",
    "                    batch_size=128,  epochs=1500, verbose=0,\n",
    "                    validation_data=(X_val, y_val), shuffle=True)\n",
    "t2 = pytz.timezone(\"utc\").localize(datetime.datetime.now()).astimezone(pytz.timezone(\"Singapore\"))\n",
    "print('\\nTraining Duration = %s' % (t2-t1))"
   ]
  },
  {
   "cell_type": "code",
   "execution_count": 0,
   "metadata": {
    "id": "ze1MHHo3IAO_",
    "colab_type": "code",
    "colab": {}
   },
   "outputs": [],
   "source": [
    "# histories = []  # only for first training session\n",
    "histories.append(history.history)"
   ]
  },
  {
   "cell_type": "code",
   "execution_count": 38,
   "metadata": {
    "id": "-F18hwIqIALn",
    "colab_type": "code",
    "outputId": "d89c004e-166e-4b6b-f486-6405278ce52d",
    "executionInfo": {
     "status": "ok",
     "timestamp": 1.550340724915E12,
     "user_tz": -480.0,
     "elapsed": 1.2355247E7,
     "user": {
      "displayName": "kok keng Tan",
      "photoUrl": "",
      "userId": "05110360950881985443"
     }
    },
    "colab": {
     "base_uri": "https://localhost:8080/",
     "height": 403.0
    }
   },
   "outputs": [
    {
     "data": {
      "image/png": "[encoded data removed]",
      "text/plain": [
       "<Figure size 1152x432 with 2 Axes>"
      ]
     },
     "metadata": {
      "tags": []
     },
     "output_type": "display_data"
    }
   ],
   "source": [
    "train_loss = []\n",
    "val_loss = []\n",
    "train_acc = []\n",
    "val_acc = []\n",
    "\n",
    "for h in histories:\n",
    "    for a_loss in h['loss']:\n",
    "        train_loss.append(a_loss)\n",
    "    for a_loss in h['val_loss']:\n",
    "        val_loss.append(a_loss)\n",
    "    for a_acc in h['acc']:\n",
    "        train_acc.append(a_acc)\n",
    "    for a_val_acc in h['val_acc']:\n",
    "        val_acc.append(a_val_acc)\n",
    "\n",
    "epochs = range(1, len(train_loss) + 1)\n",
    "plt.figure(figsize=(16, 6))\n",
    "plt.subplot(121)\n",
    "plt.plot(epochs, train_loss, 'g', label='Training Loss')\n",
    "plt.plot(epochs, val_loss, 'b', label='Validation Loss')\n",
    "plt.title('Base 2x16-node GRU 1x16 Dense with Dropouts (0.2/0.2)\\nTraining and Validation Loss')\n",
    "plt.legend()\n",
    "plt.subplot(122)\n",
    "plt.plot(epochs, train_acc, 'g', label='Training Accuracy')\n",
    "plt.plot(epochs, val_acc, 'b', label='Validation Accuracy')\n",
    "plt.title('Base 2x16-node GRU 1x16 Dense with Dropouts (0.2/0.2)\\nTraining and Validation Accuracy')\n",
    "plt.legend()\n",
    "plt.show()"
   ]
  },
  {
   "cell_type": "code",
   "execution_count": 39,
   "metadata": {
    "id": "7ePagn8qIAIf",
    "colab_type": "code",
    "outputId": "c7614602-b501-4112-8b35-9316537e7ac1",
    "executionInfo": {
     "status": "ok",
     "timestamp": 1.550340725716E12,
     "user_tz": -480.0,
     "elapsed": 1.235602E7,
     "user": {
      "displayName": "kok keng Tan",
      "photoUrl": "",
      "userId": "05110360950881985443"
     }
    },
    "colab": {
     "base_uri": "https://localhost:8080/",
     "height": 50.0
    }
   },
   "outputs": [
    {
     "name": "stdout",
     "output_type": "stream",
     "text": [
      "validation loss =   0.54 at epoch = 1054\n",
      "validation accuracy =  75.41% at epoch = 7554\n"
     ]
    }
   ],
   "source": [
    "print('validation loss = {:6.2f} at epoch = {:4d}'.format(min(val_loss), val_loss.index(min(val_loss))))\n",
    "print('validation accuracy = {:6.2f}% at epoch = {:4d}'.format(max(val_acc) * 100, val_acc.index(max(val_acc))))"
   ]
  },
  {
   "cell_type": "code",
   "execution_count": 0,
   "metadata": {
    "id": "rOw2GcljH_rq",
    "colab_type": "code",
    "colab": {}
   },
   "outputs": [],
   "source": [
    "with open('/content/gdrive/My Drive/models-enhancer/base-2x16gru1x16dense-dropout0202-histories.pkl', 'wb') as outfile:\n",
    "    pickle.dump(histories, outfile)"
   ]
  },
  {
   "cell_type": "code",
   "execution_count": 0,
   "metadata": {
    "id": "ofiScfS8IaOM",
    "colab_type": "code",
    "colab": {}
   },
   "outputs": [],
   "source": [
    "model.save('/content/gdrive/My Drive/models-enhancer/base-2x16gru1x16dense-dropout0202.h5')"
   ]
  },
  {
   "cell_type": "markdown",
   "metadata": {
    "id": "F0VyWv44uoe1",
    "colab_type": "text"
   },
   "source": [
    "# ----------- TO BE EDITED ------------"
   ]
  },
  {
   "cell_type": "markdown",
   "metadata": {
    "id": "UzFgbxmDT97a",
    "colab_type": "text"
   },
   "source": [
    "#### Apply dropout regularization (.1/.1) to the base model to reduce overfitting / achieve a higher accuracy"
   ]
  },
  {
   "cell_type": "code",
   "execution_count": 0,
   "metadata": {
    "id": "AMwZ2RXsT9G3",
    "colab_type": "code",
    "colab": {}
   },
   "outputs": [],
   "source": [
    "from numpy.random import seed\n",
    "seed(123)\n",
    "from tensorflow import set_random_seed\n",
    "set_random_seed(456)"
   ]
  },
  {
   "cell_type": "code",
   "execution_count": 0,
   "metadata": {
    "id": "7SfWVjuIUHA-",
    "colab_type": "code",
    "outputId": "bcd0eca2-69a5-4b64-bb80-5fe18eca3b3e",
    "executionInfo": {
     "status": "ok",
     "timestamp": 1.54995211412E12,
     "user_tz": -480.0,
     "elapsed": 1923.0,
     "user": {
      "displayName": "kok keng Tan",
      "photoUrl": "",
      "userId": "05110360950881985443"
     }
    },
    "colab": {
     "base_uri": "https://localhost:8080/",
     "height": 139.0
    }
   },
   "outputs": [
    {
     "name": "stdout",
     "output_type": "stream",
     "text": [
      "WARNING:tensorflow:From /usr/local/lib/python3.6/dist-packages/tensorflow/python/framework/op_def_library.py:263: colocate_with (from tensorflow.python.framework.ops) is deprecated and will be removed in a future version.\n",
      "Instructions for updating:\n",
      "Colocations handled automatically by placer.\n",
      "WARNING:tensorflow:From /usr/local/lib/python3.6/dist-packages/keras/backend/tensorflow_backend.py:3445: calling dropout (from tensorflow.python.ops.nn_ops) with keep_prob is deprecated and will be removed in a future version.\n",
      "Instructions for updating:\n",
      "Please use `rate` instead of `keep_prob`. Rate should be set to `rate = 1 - keep_prob`.\n"
     ]
    }
   ],
   "source": [
    "model = Sequential()\n",
    "model.add(layers.GRU(16, recurrent_activation='sigmoid', dropout=0.1, recurrent_dropout=0.1, reset_after=True, return_sequences=True, input_shape=(None, X_train.shape[-1])))\n",
    "model.add(layers.GRU(16, recurrent_activation='sigmoid', dropout=0.1, recurrent_dropout=0.1, reset_after=True))\n",
    "model.add(layers.Dense(1, activation='sigmoid'))\n",
    "model.compile(optimizer=RMSprop(), loss='binary_crossentropy', metrics=['acc'])"
   ]
  },
  {
   "cell_type": "code",
   "execution_count": 0,
   "metadata": {
    "id": "HCeHgFMbUG-C",
    "colab_type": "code",
    "colab": {}
   },
   "outputs": [],
   "source": [
    "# Temporary - to remove after training is completed\n",
    "# Load previous history\n",
    "with open('/content/gdrive/My Drive/models-enhancer/base-2x16gru-dropout0101-histories-epch1500.pkl', 'rb') as infile:\n",
    "    histories = pickle.load(infile)\n",
    "# Load previous model\n",
    "from keras.models import load_model\n",
    "model = load_model('/content/gdrive/My Drive/models-enhancer/base-2x16gru-dropout0101-epch1500.h5')\n",
    "model.summary()"
   ]
  },
  {
   "cell_type": "code",
   "execution_count": 0,
   "metadata": {
    "id": "Ylt3Mf0gUG6y",
    "colab_type": "code",
    "outputId": "e47fab4e-6acd-4ca5-fbc8-e93746984e95",
    "executionInfo": {
     "status": "ok",
     "timestamp": 1.549964481268E12,
     "user_tz": -480.0,
     "elapsed": 1.2326916E7,
     "user": {
      "displayName": "kok keng Tan",
      "photoUrl": "",
      "userId": "05110360950881985443"
     }
    },
    "colab": {
     "base_uri": "https://localhost:8080/",
     "height": 139.0
    }
   },
   "outputs": [
    {
     "name": "stdout",
     "output_type": "stream",
     "text": [
      "Training start time = 2019-02-12 14:15:54.781935+08:00\n",
      "WARNING:tensorflow:From /usr/local/lib/python3.6/dist-packages/tensorflow/python/ops/math_ops.py:3066: to_int32 (from tensorflow.python.ops.math_ops) is deprecated and will be removed in a future version.\n",
      "Instructions for updating:\n",
      "Use tf.cast instead.\n",
      "\n",
      "Training Duration = 3:25:25.833914\n"
     ]
    }
   ],
   "source": [
    "t1 = pytz.timezone(\"utc\").localize(datetime.datetime.now()).astimezone(pytz.timezone(\"Singapore\"))\n",
    "print('Training start time = %s' %  t1)\n",
    "history = model.fit(X_train, y_train,\n",
    "                    batch_size=128,  epochs=1500, verbose=0,\n",
    "                    validation_data=(X_val, y_val), shuffle=True)\n",
    "t2 = pytz.timezone(\"utc\").localize(datetime.datetime.now()).astimezone(pytz.timezone(\"Singapore\"))\n",
    "print('\\nTraining Duration = %s' % (t2-t1))"
   ]
  },
  {
   "cell_type": "code",
   "execution_count": 0,
   "metadata": {
    "id": "5QnzvXZ8UG3z",
    "colab_type": "code",
    "colab": {}
   },
   "outputs": [],
   "source": [
    "# histories = []  # only for first training session\n",
    "histories.append(history.history)"
   ]
  },
  {
   "cell_type": "code",
   "execution_count": 0,
   "metadata": {
    "id": "R8vERQ8NUG0D",
    "colab_type": "code",
    "outputId": "b77c6e28-2b7b-43ea-a21b-828e031f596d",
    "executionInfo": {
     "status": "ok",
     "timestamp": 1.549966373345E12,
     "user_tz": -480.0,
     "elapsed": 2156.0,
     "user": {
      "displayName": "kok keng Tan",
      "photoUrl": "",
      "userId": "05110360950881985443"
     }
    },
    "colab": {
     "base_uri": "https://localhost:8080/",
     "height": 403.0
    }
   },
   "outputs": [
    {
     "data": {
      "image/png": "[encoded data removed]",
      "text/plain": [
       "<Figure size 1152x432 with 2 Axes>"
      ]
     },
     "metadata": {
      "tags": []
     },
     "output_type": "display_data"
    }
   ],
   "source": [
    "train_loss = []\n",
    "val_loss = []\n",
    "train_acc = []\n",
    "val_acc = []\n",
    "\n",
    "for history in histories:\n",
    "    for a_loss in history['loss']:\n",
    "        train_loss.append(a_loss)\n",
    "    for a_loss in history['val_loss']:\n",
    "        val_loss.append(a_loss)\n",
    "    for a_acc in history['acc']:\n",
    "        train_acc.append(a_acc)\n",
    "    for a_val_acc in history['val_acc']:\n",
    "        val_acc.append(a_val_acc)\n",
    "\n",
    "epochs = range(1, len(train_loss) + 1)\n",
    "plt.figure(figsize=(16, 6))\n",
    "plt.subplot(121)\n",
    "plt.plot(epochs, train_loss, 'g', label='Training Loss')\n",
    "plt.plot(epochs, val_loss, 'b', label='Validation Loss')\n",
    "plt.title('Base 2x16-node RNN with Dropouts (0.1/0.1)\\nTraining and Validation Loss')\n",
    "plt.legend()\n",
    "plt.subplot(122)\n",
    "plt.plot(epochs, train_acc, 'g', label='Training Accuracy')\n",
    "plt.plot(epochs, val_acc, 'b', label='Validation Accuracy')\n",
    "plt.title('Base 2x16-node RNN with Dropouts (0.1/0.1)\\nTraining and Validation Accuracy')\n",
    "plt.legend()\n",
    "plt.show()"
   ]
  },
  {
   "cell_type": "code",
   "execution_count": 0,
   "metadata": {
    "id": "eY6catguUGwY",
    "colab_type": "code",
    "outputId": "6c581ca5-eee6-4ad9-d89d-0e5526ebaa3e",
    "executionInfo": {
     "status": "ok",
     "timestamp": 1.549966412387E12,
     "user_tz": -480.0,
     "elapsed": 1574.0,
     "user": {
      "displayName": "kok keng Tan",
      "photoUrl": "",
      "userId": "05110360950881985443"
     }
    },
    "colab": {
     "base_uri": "https://localhost:8080/",
     "height": 51.0
    }
   },
   "outputs": [
    {
     "name": "stdout",
     "output_type": "stream",
     "text": [
      "validation loss =   0.52 at epoch =  395\n",
      "validation accuracy =  75.51% at epoch =  191\n"
     ]
    }
   ],
   "source": [
    "print('validation loss = {:6.2f} at epoch = {:4d}'.format(min(val_loss), val_loss.index(min(val_loss))))\n",
    "print('validation accuracy = {:6.2f}% at epoch = {:4d}'.format(max(val_acc) * 100, val_acc.index(max(val_acc))))"
   ]
  },
  {
   "cell_type": "code",
   "execution_count": 0,
   "metadata": {
    "id": "xJ5zb0VhUGsi",
    "colab_type": "code",
    "colab": {}
   },
   "outputs": [],
   "source": [
    "with open('/content/gdrive/My Drive/models-enhancer/base-2x16gru-dropout0101-histories.pkl', 'wb') as outfile:\n",
    "    pickle.dump(histories, outfile)"
   ]
  },
  {
   "cell_type": "code",
   "execution_count": 0,
   "metadata": {
    "id": "-TDoi-g2UGhl",
    "colab_type": "code",
    "colab": {}
   },
   "outputs": [],
   "source": [
    "model.save('/content/gdrive/My Drive/models-enhancer/base-2x16gru-dropout0101.h5')"
   ]
  },
  {
   "cell_type": "markdown",
   "metadata": {
    "id": "4HNopo1lHU3S",
    "colab_type": "text"
   },
   "source": [
    "#### Apply dropout regularization (.15/.15) to the base model to reduce overfitting / achieve a higher accuracy"
   ]
  },
  {
   "cell_type": "code",
   "execution_count": 0,
   "metadata": {
    "id": "o3ki9OGdHT9E",
    "colab_type": "code",
    "colab": {}
   },
   "outputs": [],
   "source": [
    "from numpy.random import seed\n",
    "seed(123)\n",
    "from tensorflow import set_random_seed\n",
    "set_random_seed(456)"
   ]
  },
  {
   "cell_type": "code",
   "execution_count": 0,
   "metadata": {
    "id": "PMFx5lASHgje",
    "colab_type": "code",
    "outputId": "59da06d7-531a-47b6-969e-474d00f9d73b",
    "executionInfo": {
     "status": "ok",
     "timestamp": 1.550021366119E12,
     "user_tz": -480.0,
     "elapsed": 1566.0,
     "user": {
      "displayName": "kok keng Tan",
      "photoUrl": "",
      "userId": "05110360950881985443"
     }
    },
    "colab": {
     "base_uri": "https://localhost:8080/",
     "height": 139.0
    }
   },
   "outputs": [
    {
     "name": "stdout",
     "output_type": "stream",
     "text": [
      "WARNING:tensorflow:From /usr/local/lib/python3.6/dist-packages/tensorflow/python/framework/op_def_library.py:263: colocate_with (from tensorflow.python.framework.ops) is deprecated and will be removed in a future version.\n",
      "Instructions for updating:\n",
      "Colocations handled automatically by placer.\n",
      "WARNING:tensorflow:From /usr/local/lib/python3.6/dist-packages/keras/backend/tensorflow_backend.py:3445: calling dropout (from tensorflow.python.ops.nn_ops) with keep_prob is deprecated and will be removed in a future version.\n",
      "Instructions for updating:\n",
      "Please use `rate` instead of `keep_prob`. Rate should be set to `rate = 1 - keep_prob`.\n"
     ]
    }
   ],
   "source": [
    "model = Sequential()\n",
    "model.add(layers.GRU(16, recurrent_activation='sigmoid', dropout=0.15, recurrent_dropout=0.15, reset_after=True, return_sequences=True, input_shape=(None, X_train.shape[-1])))\n",
    "model.add(layers.GRU(16, recurrent_activation='sigmoid', dropout=0.15, recurrent_dropout=0.15, reset_after=True))\n",
    "model.add(layers.Dense(1, activation='sigmoid'))\n",
    "model.compile(optimizer=RMSprop(), loss='binary_crossentropy', metrics=['acc'])"
   ]
  },
  {
   "cell_type": "code",
   "execution_count": 0,
   "metadata": {
    "id": "KUbUeoltHgWc",
    "colab_type": "code",
    "colab": {}
   },
   "outputs": [],
   "source": [
    "# Temporary - to remove after training is completed\n",
    "# Load previous history\n",
    "with open('/content/gdrive/My Drive/models-enhancer/base-2x16gru-dropout0101-histories-epch1500.pkl', 'rb') as infile:\n",
    "    histories = pickle.load(infile)\n",
    "# Load previous model\n",
    "from keras.models import load_model\n",
    "model = load_model('/content/gdrive/My Drive/models-enhancer/base-2x16gru-dropout0101-epch1500.h5')\n",
    "model.summary()"
   ]
  },
  {
   "cell_type": "code",
   "execution_count": 0,
   "metadata": {
    "id": "CEWTglWtHgG6",
    "colab_type": "code",
    "outputId": "ef9de143-517b-4327-c5c6-befb6c92bb2e",
    "executionInfo": {
     "status": "ok",
     "timestamp": 1.550034431839E12,
     "user_tz": -480.0,
     "elapsed": 1.1831845E7,
     "user": {
      "displayName": "kok keng Tan",
      "photoUrl": "",
      "userId": "05110360950881985443"
     }
    },
    "colab": {
     "base_uri": "https://localhost:8080/",
     "height": 139.0
    }
   },
   "outputs": [
    {
     "name": "stdout",
     "output_type": "stream",
     "text": [
      "Training start time = 2019-02-13 09:30:29.155650+08:00\n",
      "WARNING:tensorflow:From /usr/local/lib/python3.6/dist-packages/tensorflow/python/ops/math_ops.py:3066: to_int32 (from tensorflow.python.ops.math_ops) is deprecated and will be removed in a future version.\n",
      "Instructions for updating:\n",
      "Use tf.cast instead.\n",
      "\n",
      "Training Duration = 3:36:42.055821\n"
     ]
    }
   ],
   "source": [
    "t1 = pytz.timezone(\"utc\").localize(datetime.datetime.now()).astimezone(pytz.timezone(\"Singapore\"))\n",
    "print('Training start time = %s' %  t1)\n",
    "history = model.fit(X_train, y_train,\n",
    "                    batch_size=128,  epochs=1500, verbose=0,\n",
    "                    validation_data=(X_val, y_val), shuffle=True)\n",
    "t2 = pytz.timezone(\"utc\").localize(datetime.datetime.now()).astimezone(pytz.timezone(\"Singapore\"))\n",
    "print('\\nTraining Duration = %s' % (t2-t1))"
   ]
  },
  {
   "cell_type": "code",
   "execution_count": 0,
   "metadata": {
    "id": "Y7HIVnfpHf4q",
    "colab_type": "code",
    "colab": {}
   },
   "outputs": [],
   "source": [
    "histories = []  # only for first training session\n",
    "histories.append(history.history)"
   ]
  },
  {
   "cell_type": "code",
   "execution_count": 0,
   "metadata": {
    "id": "w3_VViX-Hfng",
    "colab_type": "code",
    "outputId": "2ae318e7-c0a0-4949-c38c-8574d4afa00f",
    "executionInfo": {
     "status": "ok",
     "timestamp": 1.550034433459E12,
     "user_tz": -480.0,
     "elapsed": 1621.0,
     "user": {
      "displayName": "kok keng Tan",
      "photoUrl": "",
      "userId": "05110360950881985443"
     }
    },
    "colab": {
     "base_uri": "https://localhost:8080/",
     "height": 789.0
    }
   },
   "outputs": [
    {
     "data": {
      "image/png": "[encoded data removed]",
      "text/plain": [
       "<Figure size 1152x432 with 2 Axes>"
      ]
     },
     "metadata": {
      "tags": []
     },
     "output_type": "display_data"
    },
    {
     "data": {
      "image/png": "[encoded data removed]",
      "text/plain": [
       "<Figure size 1152x432 with 2 Axes>"
      ]
     },
     "metadata": {
      "tags": []
     },
     "output_type": "display_data"
    }
   ],
   "source": [
    "train_loss = []\n",
    "val_loss = []\n",
    "train_acc = []\n",
    "val_acc = []\n",
    "\n",
    "for history in histories:\n",
    "    for a_loss in history['loss']:\n",
    "        train_loss.append(a_loss)\n",
    "    for a_loss in history['val_loss']:\n",
    "        val_loss.append(a_loss)\n",
    "    for a_acc in history['acc']:\n",
    "        train_acc.append(a_acc)\n",
    "    for a_val_acc in history['val_acc']:\n",
    "        val_acc.append(a_val_acc)\n",
    "\n",
    "epochs = range(1, len(train_loss) + 1)\n",
    "plt.figure(figsize=(16, 6))\n",
    "plt.subplot(121)\n",
    "plt.plot(epochs, train_loss, 'g', label='Training Loss')\n",
    "plt.plot(epochs, val_loss, 'b', label='Validation Loss')\n",
    "plt.title('Base 2x16-node RNN with Dropouts (0.15/0.15)\\nTraining and Validation Loss')\n",
    "plt.legend()\n",
    "plt.subplot(122)\n",
    "plt.plot(epochs, train_acc, 'g', label='Training Accuracy')\n",
    "plt.plot(epochs, val_acc, 'b', label='Validation Accuracy')\n",
    "plt.title('Base 2x16-node RNN with Dropouts (0.15/0.15)\\nTraining and Validation Accuracy')\n",
    "plt.legend()\n",
    "plt.show()"
   ]
  },
  {
   "cell_type": "code",
   "execution_count": 0,
   "metadata": {
    "id": "EU12tlf7JFgN",
    "colab_type": "code",
    "outputId": "8eaf6f4a-2eee-428a-b94c-8b35d21483f1",
    "executionInfo": {
     "status": "ok",
     "timestamp": 1.550043216699E12,
     "user_tz": -480.0,
     "elapsed": 29.0,
     "user": {
      "displayName": "kok keng Tan",
      "photoUrl": "",
      "userId": "05110360950881985443"
     }
    },
    "colab": {
     "base_uri": "https://localhost:8080/",
     "height": 51.0
    }
   },
   "outputs": [
    {
     "name": "stdout",
     "output_type": "stream",
     "text": [
      "validation loss =   0.53 at epoch =  523\n",
      "validation accuracy =  74.08% at epoch =  221\n"
     ]
    }
   ],
   "source": [
    "print('validation loss = {:6.2f} at epoch = {:4d}'.format(min(val_loss), val_loss.index(min(val_loss))))\n",
    "print('validation accuracy = {:6.2f}% at epoch = {:4d}'.format(max(val_acc) * 100, val_acc.index(max(val_acc))))"
   ]
  },
  {
   "cell_type": "code",
   "execution_count": 0,
   "metadata": {
    "id": "PL2vp82zJFTx",
    "colab_type": "code",
    "colab": {}
   },
   "outputs": [],
   "source": [
    "with open('/content/gdrive/My Drive/models-enhancer/base-2x16gru-dropout015015-histories.pkl', 'wb') as outfile:\n",
    "    pickle.dump(histories, outfile)"
   ]
  },
  {
   "cell_type": "code",
   "execution_count": 0,
   "metadata": {
    "id": "7ui8xgKQJFEn",
    "colab_type": "code",
    "colab": {}
   },
   "outputs": [],
   "source": [
    "model.save('/content/gdrive/My Drive/models-enhancer/base-2x16gru-dropout015015.h5')"
   ]
  }
 ],
 "metadata": {
  "colab": {
   "name": "model3-colab.ipynb",
   "version": "0.3.2",
   "provenance": [],
   "collapsed_sections": []
  },
  "kernelspec": {
   "name": "python3",
   "display_name": "Python 3"
  },
  "accelerator": "GPU"
 },
 "nbformat": 4,
 "nbformat_minor": 0
}
