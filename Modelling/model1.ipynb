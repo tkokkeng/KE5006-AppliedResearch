{
 "cells": [
  {
   "cell_type": "markdown",
   "metadata": {
    "collapsed": true
   },
   "source": [
    "# KE5006 Applied Research\n",
    "\n",
    "### Identifying enhancers and their strength with deep neural networks\n",
    "\n",
    "# Preliminary Layer 1 Model"
   ]
  },
  {
   "cell_type": "markdown",
   "metadata": {},
   "source": [
    "## Summary of Findings\n",
    "* Base model of 1x16 GRU, batch size 128\n",
    "\t* Overfits with a maximum validation accuracy of 75.82% at 591th epoch on 2:1 split and 74.93% on a 5-fold cross validation with early stopping.\n",
    "\t* Regularisation using dropouts (.2 input /.2 recurrent) gives a validation accuracy of 75.61% at 2,383th on 2:1 split\n",
    "* Base model of 1x16 GRU, batch size 1\n",
    "\t* Overfits with a maximum validation accuracy of 75.51% at 77th epoch on 2:1 split\n",
    "\t* Regularisation using dropouts (.2 input /.2 recurrent) takes to long to train at 4 mins per epoch\n",
    "* Base model of 1x16 GRU, batch size 64\n",
    "\t* Overfits with a maximum validation accuracy of 75.61% at 616th epoch on 2:1 split\n",
    "\t* Loss converges faster compared to batch size 128; training time is longer per epoch (x2)\n"
   ]
  },
  {
   "cell_type": "markdown",
   "metadata": {},
   "source": [
    "## Load libraries"
   ]
  },
  {
   "cell_type": "code",
   "execution_count": 1,
   "metadata": {},
   "outputs": [
    {
     "data": {
      "text/plain": [
       "'/home/tkokkeng/Documents/KE5006-AppliedResearch/enhancer'"
      ]
     },
     "execution_count": 1,
     "metadata": {},
     "output_type": "execute_result"
    }
   ],
   "source": [
    "# Set the working directory (which contains the directories source, data, etc.)\n",
    "import os\n",
    "os.chdir(os.path.join(os.path.sep, 'home', 'tkokkeng', 'Documents', 'KE5006-AppliedResearch', 'enhancer'))\n",
    "os.getcwd()"
   ]
  },
  {
   "cell_type": "code",
   "execution_count": 2,
   "metadata": {},
   "outputs": [
    {
     "data": {
      "text/plain": [
       "['/home/tkokkeng/Documents/KE5006-AppliedResearch/enhancer',\n '',\n '/home/tkokkeng/python/python367/tsfvenv/lib/python3.6/site-packages',\n '/home/tkokkeng/Documents/KE5006-AppliedResearch/enhancer/source',\n '/home/tkokkeng/python/python367/tsfvenv/lib/python36.zip',\n '/home/tkokkeng/python/python367/tsfvenv/lib/python3.6',\n '/home/tkokkeng/python/python367/tsfvenv/lib/python3.6/lib-dynload',\n '/usr/lib/python3.6',\n '/home/tkokkeng/.local/lib/python3.6/site-packages',\n '/usr/local/lib/python3.6/dist-packages',\n '/usr/lib/python3/dist-packages',\n '/home/tkokkeng/python/python367/tsfvenv/lib/python3.6/site-packages/IPython/extensions',\n '/home/tkokkeng/.ipython']"
      ]
     },
     "execution_count": 2,
     "metadata": {},
     "output_type": "execute_result"
    }
   ],
   "source": [
    "# Check if the directory containing the source files are in the path.\n",
    "import sys\n",
    "if os.path.join(os.getcwd(), 'source') not in sys.path:\n",
    "    sys.path.append(os.path.join(os.getcwd(), 'source'))\n",
    "sys.path"
   ]
  },
  {
   "cell_type": "code",
   "execution_count": 3,
   "metadata": {},
   "outputs": [
    {
     "name": "stderr",
     "output_type": "stream",
     "text": [
      "Using TensorFlow backend.\n"
     ]
    }
   ],
   "source": [
    "%matplotlib inline\n",
    "\n",
    "import matplotlib.pyplot as plt\n",
    "import pandas as pd\n",
    "import numpy as np\n",
    "import datetime\n",
    "import pickle\n",
    "\n",
    "import myUtilities as mu\n",
    "\n",
    "from sklearn.metrics import classification_report, confusion_matrix, matthews_corrcoef, make_scorer, recall_score, roc_auc_score, roc_curve \n",
    "from sklearn.pipeline import Pipeline\n",
    "from sklearn.base import BaseEstimator, TransformerMixin\n",
    "from sklearn.model_selection import train_test_split, StratifiedKFold, cross_validate\n",
    "\n",
    "\n",
    "from keras.preprocessing.text import Tokenizer\n",
    "from keras.models import Sequential\n",
    "from keras import layers\n",
    "from keras.optimizers import RMSprop\n",
    "from keras.wrappers.scikit_learn import KerasClassifier\n",
    "from keras.callbacks import EarlyStopping"
   ]
  },
  {
   "cell_type": "markdown",
   "metadata": {},
   "source": [
    "## Load data"
   ]
  },
  {
   "cell_type": "code",
   "execution_count": 4,
   "metadata": {},
   "outputs": [
    {
     "name": "stdout",
     "output_type": "stream",
     "text": [
      "<class 'pandas.core.frame.DataFrame'>\nRangeIndex: 1484 entries, 0 to 1483\nData columns (total 2 columns):\nid          1484 non-null object\nsequence    1484 non-null object\ndtypes: object(2)\nmemory usage: 23.3+ KB\n"
     ]
    }
   ],
   "source": [
    "enhancer_df = pd.read_csv(os.path.join('data', 'enhancer.csv'))\n",
    "enhancer_df.info()"
   ]
  },
  {
   "cell_type": "code",
   "execution_count": 5,
   "metadata": {},
   "outputs": [],
   "source": [
    "enhancer_df['enhancer'] = np.ones((len(enhancer_df),))"
   ]
  },
  {
   "cell_type": "code",
   "execution_count": 6,
   "metadata": {},
   "outputs": [
    {
     "data": {
      "text/html": [
       "<div>\n",
       "<style scoped>\n",
       "    .dataframe tbody tr th:only-of-type {\n",
       "        vertical-align: middle;\n",
       "    }\n",
       "\n",
       "    .dataframe tbody tr th {\n",
       "        vertical-align: top;\n",
       "    }\n",
       "\n",
       "    .dataframe thead th {\n",
       "        text-align: right;\n",
       "    }\n",
       "</style>\n",
       "<table border=\"1\" class=\"dataframe\">\n",
       "  <thead>\n",
       "    <tr style=\"text-align: right;\">\n",
       "      <th></th>\n",
       "      <th>id</th>\n",
       "      <th>sequence</th>\n",
       "      <th>enhancer</th>\n",
       "    </tr>\n",
       "  </thead>\n",
       "  <tbody>\n",
       "    <tr>\n",
       "      <th>0</th>\n",
       "      <td>CHRX_48897056_48897256</td>\n",
       "      <td>CACAATGTAGAAGCAGAGACACAGGAACCAGGCTTGGTGATGGCTC...</td>\n",
       "      <td>1.0</td>\n",
       "    </tr>\n",
       "    <tr>\n",
       "      <th>1</th>\n",
       "      <td>CHR12_6444339_6444539</td>\n",
       "      <td>GCCCTCACATTCCCTGGCCCATCCCCTCCACCTCAAAATTTACAAA...</td>\n",
       "      <td>1.0</td>\n",
       "    </tr>\n",
       "    <tr>\n",
       "      <th>2</th>\n",
       "      <td>CHR12_6444939_6445139</td>\n",
       "      <td>GAGCAGGAGGCCAGTCACCCTGAGTCAGCCACGGGGAGACGCTGCA...</td>\n",
       "      <td>1.0</td>\n",
       "    </tr>\n",
       "    <tr>\n",
       "      <th>3</th>\n",
       "      <td>CHR12_6445139_6445339</td>\n",
       "      <td>CCTCTGCTGAGAACAGGACTGGGGCTTCCAGGGCAACAGGAAGGGT...</td>\n",
       "      <td>1.0</td>\n",
       "    </tr>\n",
       "    <tr>\n",
       "      <th>4</th>\n",
       "      <td>CHR12_6445339_6445539</td>\n",
       "      <td>ACAGCCTTAAAGGGAGCTTTTCAGGGACCTCTGGCCAGTGGGGGAT...</td>\n",
       "      <td>1.0</td>\n",
       "    </tr>\n",
       "  </tbody>\n",
       "</table>\n",
       "</div>"
      ],
      "text/plain": [
       "<div>\n",
       "<style scoped>\n",
       "    .dataframe tbody tr th:only-of-type {\n",
       "        vertical-align: middle;\n",
       "    }\n",
       "\n",
       "    .dataframe tbody tr th {\n",
       "        vertical-align: top;\n",
       "    }\n",
       "\n",
       "    .dataframe thead th {\n",
       "        text-align: right;\n",
       "    }\n",
       "</style>\n",
       "<table border=\"1\" class=\"dataframe\">\n",
       "  <thead>\n",
       "    <tr style=\"text-align: right;\">\n",
       "      <th></th>\n",
       "      <th>id</th>\n",
       "      <th>sequence</th>\n",
       "      <th>enhancer</th>\n",
       "    </tr>\n",
       "  </thead>\n",
       "  <tbody>\n",
       "    <tr>\n",
       "      <th>0</th>\n",
       "      <td>CHRX_48897056_48897256</td>\n",
       "      <td>CACAATGTAGAAGCAGAGACACAGGAACCAGGCTTGGTGATGGCTC...</td>\n",
       "      <td>1.0</td>\n",
       "    </tr>\n",
       "    <tr>\n",
       "      <th>1</th>\n",
       "      <td>CHR12_6444339_6444539</td>\n",
       "      <td>GCCCTCACATTCCCTGGCCCATCCCCTCCACCTCAAAATTTACAAA...</td>\n",
       "      <td>1.0</td>\n",
       "    </tr>\n",
       "    <tr>\n",
       "      <th>2</th>\n",
       "      <td>CHR12_6444939_6445139</td>\n",
       "      <td>GAGCAGGAGGCCAGTCACCCTGAGTCAGCCACGGGGAGACGCTGCA...</td>\n",
       "      <td>1.0</td>\n",
       "    </tr>\n",
       "    <tr>\n",
       "      <th>3</th>\n",
       "      <td>CHR12_6445139_6445339</td>\n",
       "      <td>CCTCTGCTGAGAACAGGACTGGGGCTTCCAGGGCAACAGGAAGGGT...</td>\n",
       "      <td>1.0</td>\n",
       "    </tr>\n",
       "    <tr>\n",
       "      <th>4</th>\n",
       "      <td>CHR12_6445339_6445539</td>\n",
       "      <td>ACAGCCTTAAAGGGAGCTTTTCAGGGACCTCTGGCCAGTGGGGGAT...</td>\n",
       "      <td>1.0</td>\n",
       "    </tr>\n",
       "  </tbody>\n",
       "</table>\n",
       "</div>"
      ]
     },
     "execution_count": 6,
     "metadata": {},
     "output_type": "execute_result"
    }
   ],
   "source": [
    "enhancer_df.head()"
   ]
  },
  {
   "cell_type": "code",
   "execution_count": 7,
   "metadata": {},
   "outputs": [
    {
     "name": "stdout",
     "output_type": "stream",
     "text": [
      "<class 'pandas.core.frame.DataFrame'>\nRangeIndex: 1484 entries, 0 to 1483\nData columns (total 2 columns):\nid          1484 non-null object\nsequence    1484 non-null object\ndtypes: object(2)\nmemory usage: 23.3+ KB\n"
     ]
    }
   ],
   "source": [
    "non_enhancer_df = pd.read_csv(os.path.join('data', 'non_enhancer.csv'))\n",
    "non_enhancer_df.info()"
   ]
  },
  {
   "cell_type": "code",
   "execution_count": 8,
   "metadata": {},
   "outputs": [],
   "source": [
    "non_enhancer_df['enhancer'] = np.zeros((len(non_enhancer_df),))"
   ]
  },
  {
   "cell_type": "code",
   "execution_count": 9,
   "metadata": {},
   "outputs": [
    {
     "data": {
      "text/html": [
       "<div>\n",
       "<style scoped>\n",
       "    .dataframe tbody tr th:only-of-type {\n",
       "        vertical-align: middle;\n",
       "    }\n",
       "\n",
       "    .dataframe tbody tr th {\n",
       "        vertical-align: top;\n",
       "    }\n",
       "\n",
       "    .dataframe thead th {\n",
       "        text-align: right;\n",
       "    }\n",
       "</style>\n",
       "<table border=\"1\" class=\"dataframe\">\n",
       "  <thead>\n",
       "    <tr style=\"text-align: right;\">\n",
       "      <th></th>\n",
       "      <th>id</th>\n",
       "      <th>sequence</th>\n",
       "      <th>enhancer</th>\n",
       "    </tr>\n",
       "  </thead>\n",
       "  <tbody>\n",
       "    <tr>\n",
       "      <th>0</th>\n",
       "      <td>CHRX_2970600_2970800</td>\n",
       "      <td>CAGTCACATCTGTAATCACAATACGTTGGGAGGCTGAGGCAGGAGG...</td>\n",
       "      <td>0.0</td>\n",
       "    </tr>\n",
       "    <tr>\n",
       "      <th>1</th>\n",
       "      <td>CHRX_6179400_6179600</td>\n",
       "      <td>ACTTTGAAGAAGTCAGTCATCAAGATGAGAGACCCAACTGTCAAGC...</td>\n",
       "      <td>0.0</td>\n",
       "    </tr>\n",
       "    <tr>\n",
       "      <th>2</th>\n",
       "      <td>CHRX_11003079_11003279</td>\n",
       "      <td>TCGGCCTCCCAAAGTGCTGGGATTATAGGCATGAGCTACTGCACCC...</td>\n",
       "      <td>0.0</td>\n",
       "    </tr>\n",
       "    <tr>\n",
       "      <th>3</th>\n",
       "      <td>CHRX_22042679_22042879</td>\n",
       "      <td>TGGGAGCTGTATCAATCATGTTTTTTATTTTCTATATTTTATGATG...</td>\n",
       "      <td>0.0</td>\n",
       "    </tr>\n",
       "    <tr>\n",
       "      <th>4</th>\n",
       "      <td>CHRX_23280479_23280679</td>\n",
       "      <td>TACAGCAAATAGCCTTGGCAGATACAGTGTTTCCCTCCAGAGCAAA...</td>\n",
       "      <td>0.0</td>\n",
       "    </tr>\n",
       "  </tbody>\n",
       "</table>\n",
       "</div>"
      ],
      "text/plain": [
       "<div>\n",
       "<style scoped>\n",
       "    .dataframe tbody tr th:only-of-type {\n",
       "        vertical-align: middle;\n",
       "    }\n",
       "\n",
       "    .dataframe tbody tr th {\n",
       "        vertical-align: top;\n",
       "    }\n",
       "\n",
       "    .dataframe thead th {\n",
       "        text-align: right;\n",
       "    }\n",
       "</style>\n",
       "<table border=\"1\" class=\"dataframe\">\n",
       "  <thead>\n",
       "    <tr style=\"text-align: right;\">\n",
       "      <th></th>\n",
       "      <th>id</th>\n",
       "      <th>sequence</th>\n",
       "      <th>enhancer</th>\n",
       "    </tr>\n",
       "  </thead>\n",
       "  <tbody>\n",
       "    <tr>\n",
       "      <th>0</th>\n",
       "      <td>CHRX_2970600_2970800</td>\n",
       "      <td>CAGTCACATCTGTAATCACAATACGTTGGGAGGCTGAGGCAGGAGG...</td>\n",
       "      <td>0.0</td>\n",
       "    </tr>\n",
       "    <tr>\n",
       "      <th>1</th>\n",
       "      <td>CHRX_6179400_6179600</td>\n",
       "      <td>ACTTTGAAGAAGTCAGTCATCAAGATGAGAGACCCAACTGTCAAGC...</td>\n",
       "      <td>0.0</td>\n",
       "    </tr>\n",
       "    <tr>\n",
       "      <th>2</th>\n",
       "      <td>CHRX_11003079_11003279</td>\n",
       "      <td>TCGGCCTCCCAAAGTGCTGGGATTATAGGCATGAGCTACTGCACCC...</td>\n",
       "      <td>0.0</td>\n",
       "    </tr>\n",
       "    <tr>\n",
       "      <th>3</th>\n",
       "      <td>CHRX_22042679_22042879</td>\n",
       "      <td>TGGGAGCTGTATCAATCATGTTTTTTATTTTCTATATTTTATGATG...</td>\n",
       "      <td>0.0</td>\n",
       "    </tr>\n",
       "    <tr>\n",
       "      <th>4</th>\n",
       "      <td>CHRX_23280479_23280679</td>\n",
       "      <td>TACAGCAAATAGCCTTGGCAGATACAGTGTTTCCCTCCAGAGCAAA...</td>\n",
       "      <td>0.0</td>\n",
       "    </tr>\n",
       "  </tbody>\n",
       "</table>\n",
       "</div>"
      ]
     },
     "execution_count": 9,
     "metadata": {},
     "output_type": "execute_result"
    }
   ],
   "source": [
    "non_enhancer_df.head()"
   ]
  },
  {
   "cell_type": "markdown",
   "metadata": {},
   "source": [
    "## Combine the data frames to form a single dataset"
   ]
  },
  {
   "cell_type": "code",
   "execution_count": 10,
   "metadata": {},
   "outputs": [
    {
     "name": "stdout",
     "output_type": "stream",
     "text": [
      "<class 'pandas.core.frame.DataFrame'>\nRangeIndex: 2968 entries, 0 to 2967\nData columns (total 3 columns):\nid          2968 non-null object\nsequence    2968 non-null object\nenhancer    2968 non-null float64\ndtypes: float64(1), object(2)\nmemory usage: 69.6+ KB\n"
     ]
    }
   ],
   "source": [
    "all_data_df = pd.concat([enhancer_df, non_enhancer_df])\n",
    "all_data_df.reset_index(drop=True, inplace=True)\n",
    "all_data_df.info()"
   ]
  },
  {
   "cell_type": "code",
   "execution_count": 11,
   "metadata": {},
   "outputs": [
    {
     "data": {
      "text/html": [
       "<div>\n",
       "<style scoped>\n",
       "    .dataframe tbody tr th:only-of-type {\n",
       "        vertical-align: middle;\n",
       "    }\n",
       "\n",
       "    .dataframe tbody tr th {\n",
       "        vertical-align: top;\n",
       "    }\n",
       "\n",
       "    .dataframe thead th {\n",
       "        text-align: right;\n",
       "    }\n",
       "</style>\n",
       "<table border=\"1\" class=\"dataframe\">\n",
       "  <thead>\n",
       "    <tr style=\"text-align: right;\">\n",
       "      <th></th>\n",
       "      <th>id</th>\n",
       "      <th>sequence</th>\n",
       "      <th>enhancer</th>\n",
       "    </tr>\n",
       "  </thead>\n",
       "  <tbody>\n",
       "    <tr>\n",
       "      <th>0</th>\n",
       "      <td>CHRX_48897056_48897256</td>\n",
       "      <td>CACAATGTAGAAGCAGAGACACAGGAACCAGGCTTGGTGATGGCTC...</td>\n",
       "      <td>1.0</td>\n",
       "    </tr>\n",
       "    <tr>\n",
       "      <th>1</th>\n",
       "      <td>CHR12_6444339_6444539</td>\n",
       "      <td>GCCCTCACATTCCCTGGCCCATCCCCTCCACCTCAAAATTTACAAA...</td>\n",
       "      <td>1.0</td>\n",
       "    </tr>\n",
       "    <tr>\n",
       "      <th>2</th>\n",
       "      <td>CHR12_6444939_6445139</td>\n",
       "      <td>GAGCAGGAGGCCAGTCACCCTGAGTCAGCCACGGGGAGACGCTGCA...</td>\n",
       "      <td>1.0</td>\n",
       "    </tr>\n",
       "    <tr>\n",
       "      <th>3</th>\n",
       "      <td>CHR12_6445139_6445339</td>\n",
       "      <td>CCTCTGCTGAGAACAGGACTGGGGCTTCCAGGGCAACAGGAAGGGT...</td>\n",
       "      <td>1.0</td>\n",
       "    </tr>\n",
       "    <tr>\n",
       "      <th>4</th>\n",
       "      <td>CHR12_6445339_6445539</td>\n",
       "      <td>ACAGCCTTAAAGGGAGCTTTTCAGGGACCTCTGGCCAGTGGGGGAT...</td>\n",
       "      <td>1.0</td>\n",
       "    </tr>\n",
       "  </tbody>\n",
       "</table>\n",
       "</div>"
      ],
      "text/plain": [
       "<div>\n",
       "<style scoped>\n",
       "    .dataframe tbody tr th:only-of-type {\n",
       "        vertical-align: middle;\n",
       "    }\n",
       "\n",
       "    .dataframe tbody tr th {\n",
       "        vertical-align: top;\n",
       "    }\n",
       "\n",
       "    .dataframe thead th {\n",
       "        text-align: right;\n",
       "    }\n",
       "</style>\n",
       "<table border=\"1\" class=\"dataframe\">\n",
       "  <thead>\n",
       "    <tr style=\"text-align: right;\">\n",
       "      <th></th>\n",
       "      <th>id</th>\n",
       "      <th>sequence</th>\n",
       "      <th>enhancer</th>\n",
       "    </tr>\n",
       "  </thead>\n",
       "  <tbody>\n",
       "    <tr>\n",
       "      <th>0</th>\n",
       "      <td>CHRX_48897056_48897256</td>\n",
       "      <td>CACAATGTAGAAGCAGAGACACAGGAACCAGGCTTGGTGATGGCTC...</td>\n",
       "      <td>1.0</td>\n",
       "    </tr>\n",
       "    <tr>\n",
       "      <th>1</th>\n",
       "      <td>CHR12_6444339_6444539</td>\n",
       "      <td>GCCCTCACATTCCCTGGCCCATCCCCTCCACCTCAAAATTTACAAA...</td>\n",
       "      <td>1.0</td>\n",
       "    </tr>\n",
       "    <tr>\n",
       "      <th>2</th>\n",
       "      <td>CHR12_6444939_6445139</td>\n",
       "      <td>GAGCAGGAGGCCAGTCACCCTGAGTCAGCCACGGGGAGACGCTGCA...</td>\n",
       "      <td>1.0</td>\n",
       "    </tr>\n",
       "    <tr>\n",
       "      <th>3</th>\n",
       "      <td>CHR12_6445139_6445339</td>\n",
       "      <td>CCTCTGCTGAGAACAGGACTGGGGCTTCCAGGGCAACAGGAAGGGT...</td>\n",
       "      <td>1.0</td>\n",
       "    </tr>\n",
       "    <tr>\n",
       "      <th>4</th>\n",
       "      <td>CHR12_6445339_6445539</td>\n",
       "      <td>ACAGCCTTAAAGGGAGCTTTTCAGGGACCTCTGGCCAGTGGGGGAT...</td>\n",
       "      <td>1.0</td>\n",
       "    </tr>\n",
       "  </tbody>\n",
       "</table>\n",
       "</div>"
      ]
     },
     "execution_count": 11,
     "metadata": {},
     "output_type": "execute_result"
    }
   ],
   "source": [
    "all_data_df.head()"
   ]
  },
  {
   "cell_type": "markdown",
   "metadata": {},
   "source": [
    "All the sequences are of length 200 characters."
   ]
  },
  {
   "cell_type": "code",
   "execution_count": 12,
   "metadata": {},
   "outputs": [
    {
     "data": {
      "text/plain": [
       "200    2968\nName: sequence, dtype: int64"
      ]
     },
     "execution_count": 12,
     "metadata": {},
     "output_type": "execute_result"
    }
   ],
   "source": [
    "all_data_df['sequence'].map(lambda x: len(x)).value_counts()"
   ]
  },
  {
   "cell_type": "markdown",
   "metadata": {},
   "source": [
    "## Prepare the sequence data for modelling"
   ]
  },
  {
   "cell_type": "markdown",
   "metadata": {},
   "source": [
    "Initialise the keras tokenizer"
   ]
  },
  {
   "cell_type": "code",
   "execution_count": 13,
   "metadata": {},
   "outputs": [],
   "source": [
    "tokenizer =  Tokenizer(num_words=4, lower=False, char_level=True)"
   ]
  },
  {
   "cell_type": "code",
   "execution_count": 14,
   "metadata": {},
   "outputs": [],
   "source": [
    "tokenizer.fit_on_texts(all_data_df['sequence'][0])"
   ]
  },
  {
   "cell_type": "code",
   "execution_count": 15,
   "metadata": {},
   "outputs": [
    {
     "data": {
      "text/plain": [
       "{'G': 1, 'T': 2, 'A': 3, 'C': 4}"
      ]
     },
     "execution_count": 15,
     "metadata": {},
     "output_type": "execute_result"
    }
   ],
   "source": [
    "tokenizer.word_index"
   ]
  },
  {
   "cell_type": "code",
   "execution_count": 16,
   "metadata": {},
   "outputs": [
    {
     "data": {
      "text/plain": [
       "{1: 'G', 2: 'T', 3: 'A', 4: 'C'}"
      ]
     },
     "execution_count": 16,
     "metadata": {},
     "output_type": "execute_result"
    }
   ],
   "source": [
    "tokenizer.index_word"
   ]
  },
  {
   "cell_type": "markdown",
   "metadata": {},
   "source": [
    "Test the tokenizer on the first sequence"
   ]
  },
  {
   "cell_type": "code",
   "execution_count": 17,
   "metadata": {},
   "outputs": [
    {
     "data": {
      "text/plain": [
       "'CACAATGTAG'"
      ]
     },
     "execution_count": 17,
     "metadata": {},
     "output_type": "execute_result"
    }
   ],
   "source": [
    "all_data_df['sequence'][0][:10]"
   ]
  },
  {
   "cell_type": "code",
   "execution_count": 18,
   "metadata": {},
   "outputs": [
    {
     "data": {
      "text/plain": [
       "array([[0., 0., 0., 0.],\n       [0., 0., 0., 1.],\n       [0., 0., 0., 0.],\n       [0., 0., 0., 1.],\n       [0., 0., 0., 1.],\n       [0., 0., 1., 0.],\n       [0., 1., 0., 0.],\n       [0., 0., 1., 0.],\n       [0., 0., 0., 1.],\n       [0., 1., 0., 0.]])"
      ]
     },
     "execution_count": 18,
     "metadata": {},
     "output_type": "execute_result"
    }
   ],
   "source": [
    "tokenizer.texts_to_matrix(all_data_df['sequence'][0], mode='binary')[:10]"
   ]
  },
  {
   "cell_type": "markdown",
   "metadata": {},
   "source": [
    "Create a transformation pipleline to prepare the training dataset for RNN."
   ]
  },
  {
   "cell_type": "code",
   "execution_count": 19,
   "metadata": {},
   "outputs": [],
   "source": [
    "# This class selects the desired attributes and drops the rest.\n",
    "class DataFrameSelector(BaseEstimator, TransformerMixin):\n",
    "\n",
    "    def __init__(self, attribute_names):\n",
    "        self.attribute_names = attribute_names\n",
    "\n",
    "    def fit(self, X, y=None):\n",
    "        return self\n",
    "\n",
    "    def transform(self, X):\n",
    "        return X[self.attribute_names]"
   ]
  },
  {
   "cell_type": "code",
   "execution_count": 20,
   "metadata": {},
   "outputs": [],
   "source": [
    "# This class converts a nucleotide base (A, C, G, T) to one-hot-encoding.\n",
    "class one_hot_encoder(BaseEstimator, TransformerMixin):\n",
    "\n",
    "    def __init__(self):\n",
    "        self.tokenizer = Tokenizer(num_words=4, lower=False, char_level=True)\n",
    "\n",
    "    def fit(self, X, y=None):\n",
    "        # Note that X is a data frame.\n",
    "        # Fit the tokenizer on the 1st sequence in the dataset.\n",
    "        self.tokenizer.fit_on_texts(X.iloc[0, 0])\n",
    "        self.len_sequence = len(X.iloc[0, 0])\n",
    "        return self\n",
    "\n",
    "    def transform(self, X):\n",
    "        # Note that X is a data frame.\n",
    "        one_hot_X = X.iloc[:, 0].map(lambda x: tokenizer.texts_to_matrix(x, mode='binary')).values\n",
    "        one_hot_X = np.concatenate(one_hot_X)\n",
    "        one_hot_X = np.reshape(one_hot_X, (-1, self.len_sequence, 4))\n",
    "        return one_hot_X"
   ]
  },
  {
   "cell_type": "code",
   "execution_count": 21,
   "metadata": {},
   "outputs": [],
   "source": [
    "attrbs = ['sequence']\n",
    "my_pipeline = Pipeline([\n",
    "    ('selector', DataFrameSelector(attrbs)),\n",
    "    ('one_hot_encoder', one_hot_encoder())\n",
    "])"
   ]
  },
  {
   "cell_type": "code",
   "execution_count": 22,
   "metadata": {},
   "outputs": [
    {
     "data": {
      "text/plain": [
       "(2968, 200, 4)"
      ]
     },
     "execution_count": 22,
     "metadata": {},
     "output_type": "execute_result"
    }
   ],
   "source": [
    "X = my_pipeline.fit_transform(all_data_df)\n",
    "X.shape"
   ]
  },
  {
   "cell_type": "markdown",
   "metadata": {},
   "source": [
    "Check the 1st sequence is correctly encoded."
   ]
  },
  {
   "cell_type": "code",
   "execution_count": 23,
   "metadata": {},
   "outputs": [
    {
     "data": {
      "text/plain": [
       "array([[0., 0., 0., 0.],\n       [0., 0., 0., 1.],\n       [0., 0., 0., 0.],\n       [0., 0., 0., 1.],\n       [0., 0., 0., 1.],\n       [0., 0., 1., 0.],\n       [0., 1., 0., 0.],\n       [0., 0., 1., 0.],\n       [0., 0., 0., 1.],\n       [0., 1., 0., 0.]])"
      ]
     },
     "execution_count": 23,
     "metadata": {},
     "output_type": "execute_result"
    }
   ],
   "source": [
    "X[0, :10, :]"
   ]
  },
  {
   "cell_type": "code",
   "execution_count": 24,
   "metadata": {},
   "outputs": [
    {
     "data": {
      "text/plain": [
       "(2968,)"
      ]
     },
     "execution_count": 24,
     "metadata": {},
     "output_type": "execute_result"
    }
   ],
   "source": [
    "y = all_data_df['enhancer'].values\n",
    "y.shape"
   ]
  },
  {
   "cell_type": "code",
   "execution_count": 25,
   "metadata": {},
   "outputs": [
    {
     "data": {
      "text/plain": [
       "array([1., 1., 1., 1., 1., 1., 1., 1., 1., 1.])"
      ]
     },
     "execution_count": 25,
     "metadata": {},
     "output_type": "execute_result"
    }
   ],
   "source": [
    "y[:10]"
   ]
  },
  {
   "cell_type": "markdown",
   "metadata": {},
   "source": [
    "## Split the dataset into train / validation sets\n",
    "\n",
    "For the initial base model, we will use a simple train / validation split. 5-fold cross-validation will be used during model fine-tuning to obtain the final model."
   ]
  },
  {
   "cell_type": "code",
   "execution_count": 26,
   "metadata": {},
   "outputs": [],
   "source": [
    "X_train, X_val, y_train, y_val = train_test_split(X, y, test_size=0.33, random_state=123)"
   ]
  },
  {
   "cell_type": "code",
   "execution_count": 27,
   "metadata": {},
   "outputs": [
    {
     "data": {
      "text/plain": [
       "(1988, 200, 4)"
      ]
     },
     "execution_count": 27,
     "metadata": {},
     "output_type": "execute_result"
    }
   ],
   "source": [
    "X_train.shape"
   ]
  },
  {
   "cell_type": "code",
   "execution_count": 28,
   "metadata": {},
   "outputs": [
    {
     "data": {
      "text/plain": [
       "array([[0., 0., 0., 0.],\n       [0., 0., 1., 0.],\n       [0., 0., 0., 1.],\n       [0., 0., 0., 0.],\n       [0., 0., 0., 0.],\n       [0., 0., 0., 1.],\n       [0., 0., 0., 1.],\n       [0., 0., 1., 0.],\n       [0., 0., 1., 0.],\n       [0., 0., 0., 0.]])"
      ]
     },
     "execution_count": 28,
     "metadata": {},
     "output_type": "execute_result"
    }
   ],
   "source": [
    "X_train[0][:10]"
   ]
  },
  {
   "cell_type": "code",
   "execution_count": 29,
   "metadata": {},
   "outputs": [
    {
     "data": {
      "text/plain": [
       "(1988,)"
      ]
     },
     "execution_count": 29,
     "metadata": {},
     "output_type": "execute_result"
    }
   ],
   "source": [
    "y_train.shape"
   ]
  },
  {
   "cell_type": "code",
   "execution_count": 30,
   "metadata": {},
   "outputs": [
    {
     "data": {
      "text/plain": [
       "1.0"
      ]
     },
     "execution_count": 30,
     "metadata": {},
     "output_type": "execute_result"
    }
   ],
   "source": [
    "y_train[0]"
   ]
  },
  {
   "cell_type": "markdown",
   "metadata": {},
   "source": [
    "## Train a base RNN model\n",
    "\n",
    "In this training phase, the aim is to find a base model with statistical power which overfits. Interatively, this base model will be scaled up first to overfit, to be followed by regularization, to improve the validation accuracy.\n",
    "\n",
    "In the next phase, cross-validation will be applied to obtain better estimates of validation accuracy. Grid-search can be applied to fine-tune the parameters, hyper-parameters to further improve the validation accuracy."
   ]
  },
  {
   "cell_type": "code",
   "execution_count": 31,
   "metadata": {},
   "outputs": [],
   "source": [
    "from numpy.random import seed\n",
    "seed(123)\n",
    "from tensorflow import set_random_seed\n",
    "set_random_seed(456)"
   ]
  },
  {
   "cell_type": "code",
   "execution_count": 32,
   "metadata": {},
   "outputs": [],
   "source": [
    "model = Sequential()\n",
    "model.add(layers.CuDNNGRU(16, input_shape=(None, X_train.shape[-1])))\n",
    "model.add(layers.Dense(1, activation='sigmoid'))\n",
    "model.compile(optimizer=RMSprop(), loss='binary_crossentropy', metrics=['acc'])"
   ]
  },
  {
   "cell_type": "code",
   "execution_count": 33,
   "metadata": {},
   "outputs": [
    {
     "name": "stdout",
     "output_type": "stream",
     "text": [
      "Training start time = 2019-02-10 22:27:30.828320\n"
     ]
    },
    {
     "name": "stdout",
     "output_type": "stream",
     "text": [
      "\nTraining Duration = 0:02:19.127074\n"
     ]
    }
   ],
   "source": [
    "t1 = datetime.datetime.now()\n",
    "print('Training start time = %s' %  t1)\n",
    "history = model.fit(X_train, y_train,\n",
    "                    batch_size=128,  epochs=1000, verbose=0,\n",
    "                    validation_data=(X_val, y_val), shuffle=True)\n",
    "print('\\nTraining Duration = %s' % (datetime.datetime.now()-t1))"
   ]
  },
  {
   "cell_type": "code",
   "execution_count": 34,
   "metadata": {},
   "outputs": [
    {
     "data": {
      "image/png": "[encoded data removed]",
      "text/plain": [
       "<Figure size 1008x360 with 2 Axes>"
      ]
     },
     "metadata": {},
     "output_type": "display_data"
    }
   ],
   "source": [
    "train_loss = history.history['loss']\n",
    "val_loss = history.history['val_loss']\n",
    "train_acc = history.history['acc']\n",
    "val_acc = history.history['val_acc']\n",
    "epochs = range(1, len(train_loss) + 1)\n",
    "plt.figure(figsize=(14, 5))\n",
    "plt.subplot(121)\n",
    "plt.plot(epochs, train_loss, 'g', label='Training Loss')\n",
    "plt.plot(epochs, val_loss, 'b', label='Validation Loss')\n",
    "plt.title('Base 16-node RNN\\nBatch Size 128\\nTraining and Validation Loss')\n",
    "plt.legend()\n",
    "plt.subplot(122)\n",
    "plt.plot(epochs, train_acc, 'g', label='Training Accuracy')\n",
    "plt.plot(epochs, val_acc, 'b', label='Validation Accuracy')\n",
    "plt.title('Base 16-node RNN\\nBatch Size 128\\nTraining and Validation Accuracy')\n",
    "plt.legend()\n",
    "plt.show()"
   ]
  },
  {
   "cell_type": "markdown",
   "metadata": {},
   "source": [
    "The model overfits before ~20 training epochs. Maximum validation accuracy on this simple base model is **75.82**%, achieved at ~600 epochs. We need to regularize the model to get a better accuracy."
   ]
  },
  {
   "cell_type": "code",
   "execution_count": 35,
   "metadata": {},
   "outputs": [
    {
     "name": "stdout",
     "output_type": "stream",
     "text": [
      "validation loss =   0.50 at epoch =  621\nvalidation accuracy =  75.82% at epoch =  591\n"
     ]
    }
   ],
   "source": [
    "print('validation loss = {:6.2f} at epoch = {:4d}'.format(min(val_loss), val_loss.index(min(val_loss))))\n",
    "print('validation accuracy = {:6.2f}% at epoch = {:4d}'.format(max(val_acc) * 100, val_acc.index(max(val_acc))))"
   ]
  },
  {
   "cell_type": "code",
   "execution_count": 34,
   "metadata": {
    "collapsed": true
   },
   "outputs": [
    {
     "name": "stdout",
     "output_type": "stream",
     "text": [
      "\r 32/980 [..............................] - ETA: 0s"
     ]
    },
    {
     "name": "stdout",
     "output_type": "stream",
     "text": [
      "\b\b\b\b\b\b\b\b\b\b\b\b\b\b\b\b\b\b\b\b\b\b\b\b\b\b\b\b\b\b\b\b\b\b\b\b\b\b\b\b\b\b\b\b\b\b\b\b\b\b\r480/980 [=============>................] - ETA: 0s"
     ]
    },
    {
     "name": "stdout",
     "output_type": "stream",
     "text": [
      "\b\b\b\b\b\b\b\b\b\b\b\b\b\b\b\b\b\b\b\b\b\b\b\b\b\b\b\b\b\b\b\b\b\b\b\b\b\b\b\b\b\b\b\b\b\b\b\b\b\b\r980/980 [==============================] - 0s 107us/step\n"
     ]
    },
    {
     "data": {
      "text/plain": [
       "[0.5348502852478806, 0.7306122453845277]"
      ]
     },
     "execution_count": 34,
     "metadata": {},
     "output_type": "execute_result"
    }
   ],
   "source": [
    "# model.evaluate(X_val, y_val)"
   ]
  },
  {
   "cell_type": "markdown",
   "metadata": {},
   "source": [
    "### Train the model with early stopping"
   ]
  },
  {
   "cell_type": "code",
   "execution_count": 32,
   "metadata": {},
   "outputs": [],
   "source": [
    "from numpy.random import seed\n",
    "seed(123)\n",
    "from tensorflow import set_random_seed\n",
    "set_random_seed(456)"
   ]
  },
  {
   "cell_type": "code",
   "execution_count": 55,
   "metadata": {},
   "outputs": [],
   "source": [
    "model = Sequential()\n",
    "model.add(layers.CuDNNGRU(16, input_shape=(None, X_train.shape[-1])))\n",
    "model.add(layers.Dense(1, activation='sigmoid'))\n",
    "model.compile(optimizer=RMSprop(), loss='binary_crossentropy', metrics=['acc'])"
   ]
  },
  {
   "cell_type": "code",
   "execution_count": 56,
   "metadata": {},
   "outputs": [],
   "source": [
    "callbacks_list = [\n",
    "    EarlyStopping(monitor='val_acc', patience=20, restore_best_weights=True)\n",
    "]"
   ]
  },
  {
   "cell_type": "code",
   "execution_count": 57,
   "metadata": {},
   "outputs": [
    {
     "name": "stdout",
     "output_type": "stream",
     "text": [
      "Training start time = 2019-01-27 23:07:32.714040\n"
     ]
    },
    {
     "name": "stdout",
     "output_type": "stream",
     "text": [
      "\nTraining Duration = 0:00:15.731143\n"
     ]
    }
   ],
   "source": [
    "t1 = datetime.datetime.now()\n",
    "print('Training start time = %s' %  t1)\n",
    "history = model.fit(X_train, y_train,\n",
    "                    batch_size=128,  epochs=1000, verbose=0,\n",
    "                    callbacks=callbacks_list, validation_data=(X_val, y_val), shuffle=True)\n",
    "print('\\nTraining Duration = %s' % (datetime.datetime.now()-t1))"
   ]
  },
  {
   "cell_type": "code",
   "execution_count": 73,
   "metadata": {},
   "outputs": [
    {
     "name": "stdout",
     "output_type": "stream",
     "text": [
      "Early stopping occurred after epoch \u001b[1m107\u001b[0m\n"
     ]
    }
   ],
   "source": [
    "print('Early stopping occurred after epoch \\033[1m{:d}\\033[0m'.format(callbacks_list[0].stopped_epoch))"
   ]
  },
  {
   "cell_type": "code",
   "execution_count": 74,
   "metadata": {},
   "outputs": [
    {
     "data": {
      "image/png": "[encoded data removed]",
      "text/plain": [
       "<Figure size 1008x360 with 2 Axes>"
      ]
     },
     "metadata": {},
     "output_type": "display_data"
    }
   ],
   "source": [
    "train_loss = history.history['loss']\n",
    "val_loss = history.history['val_loss']\n",
    "train_acc = history.history['acc']\n",
    "val_acc = history.history['val_acc']\n",
    "epochs = range(1, len(train_loss) + 1)\n",
    "plt.figure(figsize=(14, 5))\n",
    "plt.subplot(121)\n",
    "plt.plot(epochs, train_loss, 'g', label='Training Loss')\n",
    "plt.plot(epochs, val_loss, 'b', label='Validation Loss')\n",
    "plt.title('Base 16-node RNN Training and Validation Loss')\n",
    "plt.legend()\n",
    "plt.subplot(122)\n",
    "plt.plot(epochs, train_acc, 'g', label='Training Accuracy')\n",
    "plt.plot(epochs, val_acc, 'b', label='Validation Accuracy')\n",
    "plt.title('Base 16-node RNN Training and Validation Accuracy')\n",
    "plt.legend()\n",
    "plt.show()"
   ]
  },
  {
   "cell_type": "code",
   "execution_count": 60,
   "metadata": {},
   "outputs": [],
   "source": [
    "y_train_pred = model.predict_classes(X_train)\n",
    "y_val_pred = model.predict_classes(X_val)"
   ]
  },
  {
   "cell_type": "code",
   "execution_count": 61,
   "metadata": {},
   "outputs": [
    {
     "name": "stdout",
     "output_type": "stream",
     "text": [
      "train preds = (1988, 1)\nvalidation preds = (980, 1)\n"
     ]
    }
   ],
   "source": [
    "print('train preds = %s\\nvalidation preds = %s' % (y_train_pred.shape, y_val_pred.shape))"
   ]
  },
  {
   "cell_type": "code",
   "execution_count": 62,
   "metadata": {},
   "outputs": [
    {
     "data": {
      "text/plain": [
       "array([[1],\n       [1],\n       [0],\n       [1],\n       [1],\n       [0],\n       [0],\n       [0],\n       [0],\n       [0]], dtype=int32)"
      ]
     },
     "execution_count": 62,
     "metadata": {},
     "output_type": "execute_result"
    }
   ],
   "source": [
    "y_train_pred[:10]"
   ]
  },
  {
   "cell_type": "code",
   "execution_count": 63,
   "metadata": {},
   "outputs": [
    {
     "data": {
      "text/plain": [
       "array([[798, 207],\n       [261, 722]])"
      ]
     },
     "execution_count": 63,
     "metadata": {},
     "output_type": "execute_result"
    }
   ],
   "source": [
    "cf_matrix_train = confusion_matrix(y_train, y_train_pred)\n",
    "cf_matrix_train"
   ]
  },
  {
   "cell_type": "code",
   "execution_count": 64,
   "metadata": {},
   "outputs": [
    {
     "data": {
      "text/plain": [
       "array([[372, 107],\n       [142, 359]])"
      ]
     },
     "execution_count": 64,
     "metadata": {},
     "output_type": "execute_result"
    }
   ],
   "source": [
    "cf_matrix_val = confusion_matrix(y_val, y_val_pred)\n",
    "cf_matrix_val"
   ]
  },
  {
   "cell_type": "code",
   "execution_count": 65,
   "metadata": {},
   "outputs": [
    {
     "data": {
      "image/png": "[encoded data removed]",
      "text/plain": [
       "<Figure size 864x432 with 4 Axes>"
      ]
     },
     "metadata": {},
     "output_type": "display_data"
    }
   ],
   "source": [
    "plt.figure(figsize=(12, 6))\n",
    "plt.subplot(121)\n",
    "mu.plot_confusion_matrix(cf_matrix_train, classes= ['Non-enhancer', 'Enhancer'], title='Train Confusion Matrix')\n",
    "plt.subplot(122)\n",
    "mu.plot_confusion_matrix(cf_matrix_val, classes= ['Non-enhancer', 'Enhancer'], title='Validation Confusion Matrix')\n",
    "plt.show()"
   ]
  },
  {
   "cell_type": "code",
   "execution_count": 67,
   "metadata": {},
   "outputs": [
    {
     "name": "stdout",
     "output_type": "stream",
     "text": [
      "              precision    recall  f1-score   support\n\nNon-enhancer       0.75      0.79      0.77      1005\n    Enhancer       0.78      0.73      0.76       983\n\n   micro avg       0.76      0.76      0.76      1988\n   macro avg       0.77      0.76      0.76      1988\nweighted avg       0.77      0.76      0.76      1988\n\n"
     ]
    }
   ],
   "source": [
    "print(classification_report(y_train, y_train_pred, target_names=['Non-enhancer', 'Enhancer']))"
   ]
  },
  {
   "cell_type": "markdown",
   "metadata": {},
   "source": [
    "### Try out 5-fold Stratified Cross-validation"
   ]
  },
  {
   "cell_type": "code",
   "execution_count": 41,
   "metadata": {},
   "outputs": [],
   "source": [
    "# Function to create model, required for KerasClassifier\n",
    "def create_model():\n",
    "    \n",
    "    # create model\n",
    "    model = Sequential()\n",
    "    model.add(layers.CuDNNGRU(16, input_shape=(None, X_train.shape[-1])))\n",
    "    model.add(layers.Dense(1, activation='sigmoid'))\n",
    "    model.compile(optimizer=RMSprop(), loss='binary_crossentropy', metrics=['acc'])\n",
    "   \n",
    "    return model"
   ]
  },
  {
   "cell_type": "code",
   "execution_count": 42,
   "metadata": {},
   "outputs": [],
   "source": [
    "from numpy.random import seed\n",
    "seed(123)\n",
    "from tensorflow import set_random_seed\n",
    "set_random_seed(456)"
   ]
  },
  {
   "cell_type": "code",
   "execution_count": 43,
   "metadata": {},
   "outputs": [],
   "source": [
    "# note that the monitored metric is acc (not val_acc) because there is no 'validation set'; the validation fold in X-validation is for scoring after training.\n",
    "callbacks_list = [\n",
    "    EarlyStopping(monitor='acc', patience=20, restore_best_weights=True)\n",
    "]"
   ]
  },
  {
   "cell_type": "code",
   "execution_count": 44,
   "metadata": {},
   "outputs": [],
   "source": [
    "# Create model; we set max 800 epochs based on the early training session. \n",
    "model = KerasClassifier(build_fn=create_model, epochs=800, batch_size=128, verbose=0)"
   ]
  },
  {
   "cell_type": "code",
   "execution_count": 45,
   "metadata": {},
   "outputs": [],
   "source": [
    "skf = StratifiedKFold(n_splits=5, shuffle=True, random_state=123)  # random_state only used when shuffle == True"
   ]
  },
  {
   "cell_type": "code",
   "execution_count": 46,
   "metadata": {},
   "outputs": [],
   "source": [
    "# customer scorer function for specificity\n",
    "def specificity(y, y_pred):\n",
    "    # print(y_pred)\n",
    "    tn, fp = 0, 0\n",
    "    for idx, a_pred in enumerate(y_pred):\n",
    "        if a_pred and not(y[idx]):\n",
    "            fp += 1\n",
    "        elif not(a_pred) and not(y[idx]):\n",
    "            tn += 1\n",
    "    return tn/(tn+fp)"
   ]
  },
  {
   "cell_type": "code",
   "execution_count": 47,
   "metadata": {},
   "outputs": [],
   "source": [
    "scoring = {'accuracy':'accuracy',\n",
    "           'sensitivity':'recall',\n",
    "           'specificity':make_scorer(specificity),\n",
    "           'mcc':make_scorer(matthews_corrcoef),\n",
    "           'auc':'roc_auc'}"
   ]
  },
  {
   "cell_type": "code",
   "execution_count": 48,
   "metadata": {},
   "outputs": [
    {
     "name": "stdout",
     "output_type": "stream",
     "text": [
      "Training start time = 2019-01-28 00:03:56.063151\n"
     ]
    },
    {
     "name": "stdout",
     "output_type": "stream",
     "text": [
      "Training duration = 0:00:56.725499\n"
     ]
    }
   ],
   "source": [
    "t1 = datetime.datetime.now()\n",
    "print('Training start time = {}'.format(t1))\n",
    "scores = cross_validate(model, X=X, y=y, scoring=scoring, cv=skf, n_jobs=None, verbose=0, return_train_score=True, fit_params={'callbacks':callbacks_list})  #, return_estimator=True)\n",
    "t2 = datetime.datetime.now()\n",
    "print('Training duration = {}'.format(t2 - t1))"
   ]
  },
  {
   "cell_type": "code",
   "execution_count": 49,
   "metadata": {},
   "outputs": [
    {
     "data": {
      "text/plain": [
       "{'fit_time': array([11.10198593, 14.62846208,  9.06343579,  9.54099512, 10.28102303]),\n 'score_time': array([0.11169457, 0.1225841 , 0.13033438, 0.14405155, 0.15876365]),\n 'test_accuracy': array([0.72895623, 0.73063973, 0.78619529, 0.75589226, 0.74493243]),\n 'train_accuracy': array([0.7556866 , 0.74304971, 0.73967987, 0.75442291, 0.73021886]),\n 'test_sensitivity': array([0.71380471, 0.81144781, 0.73063973, 0.73063973, 0.84121622]),\n 'train_sensitivity': array([0.75737152, 0.83909014, 0.65627633, 0.72283067, 0.82575758]),\n 'test_specificity': array([0.74410774, 0.64983165, 0.84175084, 0.78114478, 0.64864865]),\n 'train_specificity': array([0.75400168, 0.64700927, 0.8230834 , 0.78601516, 0.63468013]),\n 'test_mcc': array([0.45812285, 0.46742436, 0.5759569 , 0.51243848, 0.49920819]),\n 'train_mcc': array([0.51137611, 0.49532277, 0.48617121, 0.50986461, 0.46908054]),\n 'test_auc': array([0.80234443, 0.82244442, 0.85563831, 0.80995137, 0.82219001]),\n 'train_auc': array([0.82826521, 0.83080323, 0.81851623, 0.82941924, 0.80612593])}"
      ]
     },
     "execution_count": 49,
     "metadata": {},
     "output_type": "execute_result"
    }
   ],
   "source": [
    "scores"
   ]
  },
  {
   "cell_type": "code",
   "execution_count": 50,
   "metadata": {},
   "outputs": [
    {
     "name": "stdout",
     "output_type": "stream",
     "text": [
      "Validation Accuracy = 74.93 (+/- 4.10)%\n"
     ]
    }
   ],
   "source": [
    "# 95% of the area of a normal distribution is within 1.96 standard deviations of the mean\n",
    "print(\"Validation Accuracy = {:0.2f} (+/- {:0.2f})%\".format(scores['test_accuracy'].mean() * 100.0, scores['test_accuracy'].std() * 196.0))"
   ]
  },
  {
   "cell_type": "code",
   "execution_count": 53,
   "metadata": {},
   "outputs": [
    {
     "data": {
      "text/html": [
       "<div>\n",
       "<style scoped>\n",
       "    .dataframe tbody tr th:only-of-type {\n",
       "        vertical-align: middle;\n",
       "    }\n",
       "\n",
       "    .dataframe tbody tr th {\n",
       "        vertical-align: top;\n",
       "    }\n",
       "\n",
       "    .dataframe thead th {\n",
       "        text-align: right;\n",
       "    }\n",
       "</style>\n",
       "<table border=\"1\" class=\"dataframe\">\n",
       "  <thead>\n",
       "    <tr style=\"text-align: right;\">\n",
       "      <th></th>\n",
       "      <th>mean</th>\n",
       "      <th>std</th>\n",
       "    </tr>\n",
       "  </thead>\n",
       "  <tbody>\n",
       "    <tr>\n",
       "      <th>test_accuracy</th>\n",
       "      <td>0.7493</td>\n",
       "      <td>0.0410</td>\n",
       "    </tr>\n",
       "    <tr>\n",
       "      <th>test_sensitivity</th>\n",
       "      <td>0.7655</td>\n",
       "      <td>0.0997</td>\n",
       "    </tr>\n",
       "    <tr>\n",
       "      <th>test_specificity</th>\n",
       "      <td>0.7331</td>\n",
       "      <td>0.1475</td>\n",
       "    </tr>\n",
       "    <tr>\n",
       "      <th>test_mcc</th>\n",
       "      <td>0.5026</td>\n",
       "      <td>0.0818</td>\n",
       "    </tr>\n",
       "    <tr>\n",
       "      <th>test_auc</th>\n",
       "      <td>0.8225</td>\n",
       "      <td>0.0357</td>\n",
       "    </tr>\n",
       "  </tbody>\n",
       "</table>\n",
       "</div>"
      ],
      "text/plain": [
       "<div>\n",
       "<style scoped>\n",
       "    .dataframe tbody tr th:only-of-type {\n",
       "        vertical-align: middle;\n",
       "    }\n",
       "\n",
       "    .dataframe tbody tr th {\n",
       "        vertical-align: top;\n",
       "    }\n",
       "\n",
       "    .dataframe thead th {\n",
       "        text-align: right;\n",
       "    }\n",
       "</style>\n",
       "<table border=\"1\" class=\"dataframe\">\n",
       "  <thead>\n",
       "    <tr style=\"text-align: right;\">\n",
       "      <th></th>\n",
       "      <th>mean</th>\n",
       "      <th>std</th>\n",
       "    </tr>\n",
       "  </thead>\n",
       "  <tbody>\n",
       "    <tr>\n",
       "      <th>test_accuracy</th>\n",
       "      <td>0.7493</td>\n",
       "      <td>0.0410</td>\n",
       "    </tr>\n",
       "    <tr>\n",
       "      <th>test_sensitivity</th>\n",
       "      <td>0.7655</td>\n",
       "      <td>0.0997</td>\n",
       "    </tr>\n",
       "    <tr>\n",
       "      <th>test_specificity</th>\n",
       "      <td>0.7331</td>\n",
       "      <td>0.1475</td>\n",
       "    </tr>\n",
       "    <tr>\n",
       "      <th>test_mcc</th>\n",
       "      <td>0.5026</td>\n",
       "      <td>0.0818</td>\n",
       "    </tr>\n",
       "    <tr>\n",
       "      <th>test_auc</th>\n",
       "      <td>0.8225</td>\n",
       "      <td>0.0357</td>\n",
       "    </tr>\n",
       "  </tbody>\n",
       "</table>\n",
       "</div>"
      ]
     },
     "execution_count": 53,
     "metadata": {},
     "output_type": "execute_result"
    }
   ],
   "source": [
    "results_dict = {}\n",
    "for i in ['test_accuracy', 'test_sensitivity', 'test_specificity', 'test_mcc', 'test_auc']:\n",
    "    results_dict[i] = [round(scores[i].mean(), 4), round(scores[i].std() * 1.96, 4)]\n",
    "results_df = pd.DataFrame.from_dict(results_dict, orient='index')\n",
    "results_df.columns = ['mean', 'std']\n",
    "results_df"
   ]
  },
  {
   "cell_type": "markdown",
   "metadata": {},
   "source": [
    "Cross-validation accuracy of 74.93% is greater than the accuracy from the validation split of (372 + 359) / 980 = 74.59%. The achieved accuracy metrics are approximately equal."
   ]
  },
  {
   "cell_type": "markdown",
   "metadata": {},
   "source": [
    "### Apply regularization to the base model to reduce overfitting / achieve a higher accuracy"
   ]
  },
  {
   "cell_type": "markdown",
   "metadata": {},
   "source": [
    "### Apply dropouts"
   ]
  },
  {
   "cell_type": "code",
   "execution_count": 31,
   "metadata": {},
   "outputs": [],
   "source": [
    "from numpy.random import seed\n",
    "seed(123)\n",
    "from tensorflow import set_random_seed\n",
    "set_random_seed(456)"
   ]
  },
  {
   "cell_type": "code",
   "execution_count": 33,
   "metadata": {},
   "outputs": [
    {
     "name": "stdout",
     "output_type": "stream",
     "text": [
      "_________________________________________________________________\nLayer (type)                 Output Shape              Param #   \n=================================================================\ngru_2 (GRU)                  (None, 16)                1056      \n_________________________________________________________________\ndense_2 (Dense)              (None, 1)                 17        \n=================================================================\nTotal params: 1,073\nTrainable params: 1,073\nNon-trainable params: 0\n_________________________________________________________________\n"
     ]
    }
   ],
   "source": [
    "model = Sequential()\n",
    "model.add(layers.GRU(16, recurrent_activation='sigmoid', dropout=0.2, recurrent_dropout=0.2, reset_after=True, input_shape=(None, X_train.shape[-1])))\n",
    "model.add(layers.Dense(1, activation='sigmoid'))\n",
    "model.compile(optimizer=RMSprop(), loss='binary_crossentropy', metrics=['acc'])\n",
    "model.summary()"
   ]
  },
  {
   "cell_type": "code",
   "execution_count": 32,
   "metadata": {},
   "outputs": [
    {
     "name": "stdout",
     "output_type": "stream",
     "text": [
      "_________________________________________________________________\nLayer (type)                 Output Shape              Param #   \n=================================================================\ngru_2 (GRU)                  (None, 16)                1056      \n_________________________________________________________________\ndense_2 (Dense)              (None, 1)                 17        \n=================================================================\nTotal params: 1,073\nTrainable params: 1,073\nNon-trainable params: 0\n_________________________________________________________________\n"
     ]
    }
   ],
   "source": [
    "# Temporary - to remove after training is completed\n",
    "# Load previous history\n",
    "with open(os.path.join('models', 'base-1x16gru-dropout0202-histories-epch3000.pkl'), 'rb') as infile:\n",
    "    histories = pickle.load(infile)\n",
    "# Load previous model\n",
    "from keras.models import load_model\n",
    "model = load_model(os.path.join('models', 'base-1x16gru-dropout0202-epch3000.h5'))\n",
    "model.summary()"
   ]
  },
  {
   "cell_type": "code",
   "execution_count": 41,
   "metadata": {},
   "outputs": [
    {
     "name": "stdout",
     "output_type": "stream",
     "text": [
      "Training start time = 2019-02-10 23:40:00.126197\n"
     ]
    },
    {
     "name": "stdout",
     "output_type": "stream",
     "text": [
      "\nTraining Duration = 0:16:33.847830\n"
     ]
    }
   ],
   "source": [
    "t1 = datetime.datetime.now()\n",
    "print('Training start time = %s' %  t1)\n",
    "history = model.fit(X_train, y_train,\n",
    "                    batch_size=128,  epochs=500, verbose=0,\n",
    "                    validation_data=(X_val, y_val), shuffle=True)\n",
    "print('\\nTraining Duration = %s' % (datetime.datetime.now()-t1))"
   ]
  },
  {
   "cell_type": "code",
   "execution_count": 42,
   "metadata": {},
   "outputs": [],
   "source": [
    "# histories = []  # only for first training session\n",
    "histories.append(history.history)"
   ]
  },
  {
   "cell_type": "code",
   "execution_count": 43,
   "metadata": {},
   "outputs": [
    {
     "data": {
      "image/png": "[encoded data removed]",
      "text/plain": [
       "<Figure size 1152x432 with 2 Axes>"
      ]
     },
     "metadata": {},
     "output_type": "display_data"
    }
   ],
   "source": [
    "train_loss = []\n",
    "val_loss = []\n",
    "train_acc = []\n",
    "val_acc = []\n",
    "\n",
    "for history in histories:\n",
    "    for a_loss in history['loss']:\n",
    "        train_loss.append(a_loss)\n",
    "    for a_loss in history['val_loss']:\n",
    "        val_loss.append(a_loss)\n",
    "    for a_acc in history['acc']:\n",
    "        train_acc.append(a_acc)\n",
    "    for a_val_acc in history['val_acc']:\n",
    "        val_acc.append(a_val_acc)\n",
    "\n",
    "epochs = range(1, len(train_loss) + 1)\n",
    "plt.figure(figsize=(16, 6))\n",
    "plt.subplot(121)\n",
    "plt.plot(epochs, train_loss, 'g', label='Training Loss')\n",
    "plt.plot(epochs, val_loss, 'b', label='Validation Loss')\n",
    "plt.title('Base 16-node RNN with Dropouts (0.2/0.2)\\nTraining and Validation Loss')\n",
    "plt.legend()\n",
    "plt.subplot(122)\n",
    "plt.plot(epochs, train_acc, 'g', label='Training Accuracy')\n",
    "plt.plot(epochs, val_acc, 'b', label='Validation Accuracy')\n",
    "plt.title('Base 16-node RNN with Dropouts (0.2/0.2)\\nTraining and Validation Accuracy')\n",
    "plt.legend()\n",
    "plt.show()"
   ]
  },
  {
   "cell_type": "code",
   "execution_count": 44,
   "metadata": {},
   "outputs": [
    {
     "name": "stdout",
     "output_type": "stream",
     "text": [
      "validation loss =   0.52 at epoch = 2406\nvalidation accuracy =  75.61% at epoch = 2383\n"
     ]
    }
   ],
   "source": [
    "print('validation loss = {:6.2f} at epoch = {:4d}'.format(min(val_loss), val_loss.index(min(val_loss))))\n",
    "print('validation accuracy = {:6.2f}% at epoch = {:4d}'.format(max(val_acc) * 100, val_acc.index(max(val_acc))))"
   ]
  },
  {
   "cell_type": "code",
   "execution_count": 45,
   "metadata": {},
   "outputs": [],
   "source": [
    "with open(os.path.join('models', 'base-1x16gru-dropout0202-histories.pkl'), 'wb') as outfile:\n",
    "    pickle.dump(histories, outfile)"
   ]
  },
  {
   "cell_type": "code",
   "execution_count": 46,
   "metadata": {},
   "outputs": [],
   "source": [
    "model.save(os.path.join('models', 'base-1x16gru-dropout0202.h5'))"
   ]
  },
  {
   "cell_type": "markdown",
   "metadata": {},
   "source": [
    "## Try a training mini-batch size of 1"
   ]
  },
  {
   "cell_type": "code",
   "execution_count": 31,
   "metadata": {},
   "outputs": [],
   "source": [
    "from numpy.random import seed\n",
    "seed(123)\n",
    "from tensorflow import set_random_seed\n",
    "set_random_seed(456)"
   ]
  },
  {
   "cell_type": "code",
   "execution_count": 32,
   "metadata": {},
   "outputs": [],
   "source": [
    "model = Sequential()\n",
    "model.add(layers.CuDNNGRU(16, input_shape=(None, X_train.shape[-1])))\n",
    "model.add(layers.Dense(1, activation='sigmoid'))\n",
    "model.compile(optimizer=RMSprop(), loss='binary_crossentropy', metrics=['acc'])"
   ]
  },
  {
   "cell_type": "code",
   "execution_count": 33,
   "metadata": {},
   "outputs": [
    {
     "name": "stdout",
     "output_type": "stream",
     "text": [
      "Training start time = 2019-02-10 18:04:23.042125\n"
     ]
    },
    {
     "name": "stdout",
     "output_type": "stream",
     "text": [
      "\nTraining Duration = 0:45:40.100281\n"
     ]
    }
   ],
   "source": [
    "t1 = datetime.datetime.now()\n",
    "print('Training start time = %s' %  t1)\n",
    "history = model.fit(X_train, y_train,\n",
    "                    batch_size=1,  epochs=200, verbose=0,\n",
    "                    validation_data=(X_val, y_val), shuffle=True)\n",
    "print('\\nTraining Duration = %s' % (datetime.datetime.now()-t1))"
   ]
  },
  {
   "cell_type": "code",
   "execution_count": 36,
   "metadata": {},
   "outputs": [
    {
     "data": {
      "image/png": "[encoded data removed]",
      "text/plain": [
       "<Figure size 1008x360 with 2 Axes>"
      ]
     },
     "metadata": {},
     "output_type": "display_data"
    }
   ],
   "source": [
    "train_loss = history.history['loss']\n",
    "val_loss = history.history['val_loss']\n",
    "train_acc = history.history['acc']\n",
    "val_acc = history.history['val_acc']\n",
    "epochs = range(1, len(train_loss) + 1)\n",
    "plt.figure(figsize=(14, 5))\n",
    "plt.subplot(121)\n",
    "plt.plot(epochs, train_loss, 'g', label='Training Loss')\n",
    "plt.plot(epochs, val_loss, 'b', label='Validation Loss')\n",
    "plt.title('Base 16-node RNN\\nBatch Size 1\\nTraining and Validation Loss')\n",
    "plt.legend()\n",
    "plt.subplot(122)\n",
    "plt.plot(epochs, train_acc, 'g', label='Training Accuracy')\n",
    "plt.plot(epochs, val_acc, 'b', label='Validation Accuracy')\n",
    "plt.title('Base 16-node RNN\\nBatch Size 1\\nTraining and Validation Accuracy')\n",
    "plt.legend()\n",
    "plt.show()"
   ]
  },
  {
   "cell_type": "code",
   "execution_count": 35,
   "metadata": {},
   "outputs": [
    {
     "name": "stdout",
     "output_type": "stream",
     "text": [
      "validation accuracy =  75.51%\nepoch =   77\n"
     ]
    }
   ],
   "source": [
    "print('validation accuracy = {:6.2f}%\\nepoch = {:4d}'.format(max(val_acc) * 100, val_acc.index(max(val_acc))))"
   ]
  },
  {
   "cell_type": "markdown",
   "metadata": {},
   "source": [
    "### Apply dropouts"
   ]
  },
  {
   "cell_type": "code",
   "execution_count": 31,
   "metadata": {},
   "outputs": [],
   "source": [
    "from numpy.random import seed\n",
    "seed(123)\n",
    "from tensorflow import set_random_seed\n",
    "set_random_seed(456)"
   ]
  },
  {
   "cell_type": "code",
   "execution_count": 32,
   "metadata": {},
   "outputs": [
    {
     "name": "stdout",
     "output_type": "stream",
     "text": [
      "_________________________________________________________________\nLayer (type)                 Output Shape              Param #   \n=================================================================\ngru_1 (GRU)                  (None, 16)                1056      \n_________________________________________________________________\ndense_1 (Dense)              (None, 1)                 17        \n=================================================================\nTotal params: 1,073\nTrainable params: 1,073\nNon-trainable params: 0\n_________________________________________________________________\n"
     ]
    }
   ],
   "source": [
    "model = Sequential()\n",
    "model.add(layers.GRU(16, recurrent_activation='sigmoid', dropout=0.2, recurrent_dropout=0.2, reset_after=True, input_shape=(None, X_train.shape[-1])))\n",
    "model.add(layers.Dense(1, activation='sigmoid'))\n",
    "model.compile(optimizer=RMSprop(), loss='binary_crossentropy', metrics=['acc'])\n",
    "model.summary()"
   ]
  },
  {
   "cell_type": "code",
   "execution_count": 33,
   "metadata": {},
   "outputs": [
    {
     "name": "stdout",
     "output_type": "stream",
     "text": [
      "Training start time = 2019-02-10 19:12:58.307103\n"
     ]
    },
    {
     "name": "stdout",
     "output_type": "stream",
     "text": [
      "Train on 1988 samples, validate on 980 samples\nEpoch 1/1\n"
     ]
    },
    {
     "name": "stdout",
     "output_type": "stream",
     "text": [
      " - 238s - loss: 0.6829 - acc: 0.5629 - val_loss: 0.6495 - val_acc: 0.6153\n"
     ]
    },
    {
     "name": "stdout",
     "output_type": "stream",
     "text": [
      "\nTraining Duration = 0:03:58.586263\n"
     ]
    }
   ],
   "source": [
    "t1 = datetime.datetime.now()\n",
    "print('Training start time = %s' %  t1)\n",
    "history = model.fit(X_train, y_train,\n",
    "                    batch_size=1,  epochs=1, verbose=2,\n",
    "                    validation_data=(X_val, y_val), shuffle=True)\n",
    "print('\\nTraining Duration = %s' % (datetime.datetime.now()-t1))"
   ]
  },
  {
   "cell_type": "markdown",
   "metadata": {},
   "source": [
    "4 minutes per epoch is too long for training; 1000 epochs will need more than 60 hours."
   ]
  },
  {
   "cell_type": "markdown",
   "metadata": {},
   "source": [
    "## Try a training mini-batch size of 64"
   ]
  },
  {
   "cell_type": "code",
   "execution_count": 32,
   "metadata": {},
   "outputs": [],
   "source": [
    "from numpy.random import seed\n",
    "seed(123)\n",
    "from tensorflow import set_random_seed\n",
    "set_random_seed(456)"
   ]
  },
  {
   "cell_type": "code",
   "execution_count": 33,
   "metadata": {},
   "outputs": [],
   "source": [
    "model = Sequential()\n",
    "model.add(layers.CuDNNGRU(16, input_shape=(None, X_train.shape[-1])))\n",
    "model.add(layers.Dense(1, activation='sigmoid'))\n",
    "model.compile(optimizer=RMSprop(), loss='binary_crossentropy', metrics=['acc'])"
   ]
  },
  {
   "cell_type": "code",
   "execution_count": 34,
   "metadata": {},
   "outputs": [
    {
     "name": "stdout",
     "output_type": "stream",
     "text": [
      "Training start time = 2019-02-10 22:10:37.500579\n"
     ]
    },
    {
     "name": "stdout",
     "output_type": "stream",
     "text": [
      "\nTraining Duration = 0:04:23.765801\n"
     ]
    }
   ],
   "source": [
    "t1 = datetime.datetime.now()\n",
    "print('Training start time = %s' %  t1)\n",
    "history = model.fit(X_train, y_train,\n",
    "                    batch_size=64,  epochs=1000, verbose=0,\n",
    "                    validation_data=(X_val, y_val), shuffle=True)\n",
    "print('\\nTraining Duration = %s' % (datetime.datetime.now()-t1))"
   ]
  },
  {
   "cell_type": "code",
   "execution_count": 35,
   "metadata": {},
   "outputs": [
    {
     "data": {
      "image/png": "[encoded data removed]",
      "text/plain": [
       "<Figure size 1008x360 with 2 Axes>"
      ]
     },
     "metadata": {},
     "output_type": "display_data"
    }
   ],
   "source": [
    "train_loss = history.history['loss']\n",
    "val_loss = history.history['val_loss']\n",
    "train_acc = history.history['acc']\n",
    "val_acc = history.history['val_acc']\n",
    "epochs = range(1, len(train_loss) + 1)\n",
    "plt.figure(figsize=(14, 5))\n",
    "plt.subplot(121)\n",
    "plt.plot(epochs, train_loss, 'g', label='Training Loss')\n",
    "plt.plot(epochs, val_loss, 'b', label='Validation Loss')\n",
    "plt.title('Base 16-node RNN\\nBatch Size 64\\nTraining and Validation Loss')\n",
    "plt.legend()\n",
    "plt.subplot(122)\n",
    "plt.plot(epochs, train_acc, 'g', label='Training Accuracy')\n",
    "plt.plot(epochs, val_acc, 'b', label='Validation Accuracy')\n",
    "plt.title('Base 16-node RNN\\nBatch Size 64\\nTraining and Validation Accuracy')\n",
    "plt.legend()\n",
    "plt.show()"
   ]
  },
  {
   "cell_type": "code",
   "execution_count": 42,
   "metadata": {},
   "outputs": [
    {
     "name": "stdout",
     "output_type": "stream",
     "text": [
      "validation loss =   0.51 at epoch =  484\nvalidation accuracy =  75.61% at epoch =  616\n"
     ]
    }
   ],
   "source": [
    "print('validation loss = {:6.2f} at epoch = {:4d}'.format(min(val_loss), val_loss.index(min(val_loss))))\n",
    "print('validation accuracy = {:6.2f}% at epoch = {:4d}'.format(max(val_acc) * 100, val_acc.index(max(val_acc))))"
   ]
  },
  {
   "cell_type": "markdown",
   "metadata": {},
   "source": [
    "Loss converges faster at batch size of 64 compared to batch size of 128."
   ]
  },
  {
   "cell_type": "code",
   "execution_count": null,
   "metadata": {},
   "outputs": [],
   "source": []
  }
 ],
 "metadata": {
  "kernelspec": {
   "display_name": "Python 2",
   "language": "python",
   "name": "python2"
  },
  "language_info": {
   "codemirror_mode": {
    "name": "ipython",
    "version": 2
   },
   "file_extension": ".py",
   "mimetype": "text/x-python",
   "name": "python",
   "nbconvert_exporter": "python",
   "pygments_lexer": "ipython2",
   "version": "2.7.6"
  }
 },
 "nbformat": 4,
 "nbformat_minor": 0
}
