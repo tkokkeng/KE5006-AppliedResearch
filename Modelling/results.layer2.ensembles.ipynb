{
 "cells": [
  {
   "cell_type": "markdown",
   "metadata": {
    "collapsed": true
   },
   "source": [
    "# KE5006 Applied Research\n",
    "\n",
    "### Identifying enhancers and their strength with deep neural networks\n",
    "\n",
    "## Layer 2 Model with Physiochemical Property Features - Results"
   ]
  },
  {
   "cell_type": "markdown",
   "metadata": {},
   "source": [
    "## Summary of Findings\n",
    "\n",
    "## To be updated\n",
    "\n",
    "* Validation Accuracy :\n",
    "    * Ensemble of models of 2x16 GRU, 1x16 Dense\n",
    "        * The best model ensemble of 5 models (around the best model) has an accuracy of 77.449%. The model ensemble beats the best single model accuracy of 76.735% from the same training run.\n",
    "    * Ensemble of models of 1x16 conv1D, 2x16 GRU bidirectional, 1x8 Dense\n",
    "        * The best model ensemble of 3 models (around the best model) has an accuracy of 76.429%. The model ensemble beats the best single model accuracy of 76.224% from the same training run.\n",
    "* Test Accuracy :\n",
    "    * Both ensembles achieved higher accuracy of **75.25%** and **75.50%** than the best single models of 74.00% and 73.75%. The single models were from training runs without warm restarts. "
   ]
  },
  {
   "cell_type": "markdown",
   "metadata": {},
   "source": [
    "## Load libraries"
   ]
  },
  {
   "cell_type": "code",
   "execution_count": 1,
   "metadata": {},
   "outputs": [
    {
     "data": {
      "text/plain": [
       "'/home/tkokkeng/Documents/KE5006-AppliedResearch/enhancer'"
      ]
     },
     "execution_count": 1,
     "metadata": {},
     "output_type": "execute_result"
    }
   ],
   "source": [
    "# Set the working directory (which contains the directories source, data, etc.)\n",
    "import os\n",
    "os.chdir(os.path.join(os.path.sep, 'home', 'tkokkeng', 'Documents', 'KE5006-AppliedResearch', 'enhancer'))\n",
    "os.getcwd()"
   ]
  },
  {
   "cell_type": "code",
   "execution_count": 2,
   "metadata": {},
   "outputs": [
    {
     "data": {
      "text/plain": [
       "['/home/tkokkeng/python/python367/tsfvenv/lib/python36.zip',\n",
       " '/home/tkokkeng/python/python367/tsfvenv/lib/python3.6',\n",
       " '/home/tkokkeng/python/python367/tsfvenv/lib/python3.6/lib-dynload',\n",
       " '/usr/lib/python3.6',\n",
       " '',\n",
       " '/home/tkokkeng/python/python367/tsfvenv/lib/python3.6/site-packages',\n",
       " '/home/tkokkeng/.local/lib/python3.6/site-packages',\n",
       " '/usr/local/lib/python3.6/dist-packages',\n",
       " '/usr/lib/python3/dist-packages',\n",
       " '/home/tkokkeng/python/python367/tsfvenv/lib/python3.6/site-packages/IPython/extensions',\n",
       " '/home/tkokkeng/.ipython',\n",
       " '/home/tkokkeng/Documents/KE5006-AppliedResearch/enhancer/source']"
      ]
     },
     "execution_count": 2,
     "metadata": {},
     "output_type": "execute_result"
    }
   ],
   "source": [
    "# Check if the directory containing the source files are in the path.\n",
    "import sys\n",
    "if os.path.join(os.getcwd(), 'source') not in sys.path:\n",
    "    sys.path.append(os.path.join(os.getcwd(), 'source'))\n",
    "sys.path"
   ]
  },
  {
   "cell_type": "code",
   "execution_count": 3,
   "metadata": {},
   "outputs": [
    {
     "name": "stderr",
     "output_type": "stream",
     "text": [
      "Using TensorFlow backend.\n"
     ]
    }
   ],
   "source": [
    "%matplotlib inline\n",
    "\n",
    "import matplotlib.pyplot as plt\n",
    "import pandas as pd\n",
    "import numpy as np\n",
    "import datetime\n",
    "import pickle\n",
    "\n",
    "import myUtilities as mu\n",
    "\n",
    "from sklearn.metrics import classification_report, confusion_matrix, matthews_corrcoef, make_scorer\n",
    "from sklearn.metrics import recall_score, roc_auc_score, roc_curve, accuracy_score\n",
    "from sklearn.pipeline import Pipeline, FeatureUnion\n",
    "from sklearn.base import BaseEstimator, TransformerMixin\n",
    "from sklearn.model_selection import train_test_split, StratifiedKFold, cross_validate\n",
    "from sklearn.preprocessing import MinMaxScaler\n",
    "\n",
    "from keras.preprocessing.text import Tokenizer\n",
    "from keras.models import Sequential, load_model\n",
    "from keras import layers\n",
    "from keras.optimizers import RMSprop\n",
    "from keras.wrappers.scikit_learn import KerasClassifier\n",
    "from keras.callbacks import EarlyStopping, ModelCheckpoint, TensorBoard"
   ]
  },
  {
   "cell_type": "code",
   "execution_count": 4,
   "metadata": {},
   "outputs": [],
   "source": [
    "pd.set_option('precision', 3)"
   ]
  },
  {
   "cell_type": "markdown",
   "metadata": {},
   "source": [
    "## Load data"
   ]
  },
  {
   "cell_type": "code",
   "execution_count": 5,
   "metadata": {},
   "outputs": [
    {
     "name": "stdout",
     "output_type": "stream",
     "text": [
      "<class 'pandas.core.frame.DataFrame'>\n",
      "RangeIndex: 742 entries, 0 to 741\n",
      "Data columns (total 2 columns):\n",
      "id          742 non-null object\n",
      "sequence    742 non-null object\n",
      "dtypes: object(2)\n",
      "memory usage: 11.7+ KB\n"
     ]
    }
   ],
   "source": [
    "strong_df = pd.read_csv(os.path.join('data', 'strong.csv'))\n",
    "strong_df.info()"
   ]
  },
  {
   "cell_type": "code",
   "execution_count": 6,
   "metadata": {},
   "outputs": [],
   "source": [
    "strong_df['strong'] = np.ones((len(strong_df),))"
   ]
  },
  {
   "cell_type": "code",
   "execution_count": 7,
   "metadata": {},
   "outputs": [
    {
     "data": {
      "text/html": [
       "<div>\n",
       "<style scoped>\n",
       "    .dataframe tbody tr th:only-of-type {\n",
       "        vertical-align: middle;\n",
       "    }\n",
       "\n",
       "    .dataframe tbody tr th {\n",
       "        vertical-align: top;\n",
       "    }\n",
       "\n",
       "    .dataframe thead th {\n",
       "        text-align: right;\n",
       "    }\n",
       "</style>\n",
       "<table border=\"1\" class=\"dataframe\">\n",
       "  <thead>\n",
       "    <tr style=\"text-align: right;\">\n",
       "      <th></th>\n",
       "      <th>id</th>\n",
       "      <th>sequence</th>\n",
       "      <th>strong</th>\n",
       "    </tr>\n",
       "  </thead>\n",
       "  <tbody>\n",
       "    <tr>\n",
       "      <th>0</th>\n",
       "      <td>CHRX_48897056_48897256</td>\n",
       "      <td>CACAATGTAGAAGCAGAGACACAGGAACCAGGCTTGGTGATGGCTC...</td>\n",
       "      <td>1.0</td>\n",
       "    </tr>\n",
       "    <tr>\n",
       "      <th>1</th>\n",
       "      <td>CHR12_6444339_6444539</td>\n",
       "      <td>GCCCTCACATTCCCTGGCCCATCCCCTCCACCTCAAAATTTACAAA...</td>\n",
       "      <td>1.0</td>\n",
       "    </tr>\n",
       "    <tr>\n",
       "      <th>2</th>\n",
       "      <td>CHR12_6444939_6445139</td>\n",
       "      <td>GAGCAGGAGGCCAGTCACCCTGAGTCAGCCACGGGGAGACGCTGCA...</td>\n",
       "      <td>1.0</td>\n",
       "    </tr>\n",
       "    <tr>\n",
       "      <th>3</th>\n",
       "      <td>CHR12_6445139_6445339</td>\n",
       "      <td>CCTCTGCTGAGAACAGGACTGGGGCTTCCAGGGCAACAGGAAGGGT...</td>\n",
       "      <td>1.0</td>\n",
       "    </tr>\n",
       "    <tr>\n",
       "      <th>4</th>\n",
       "      <td>CHR12_6445339_6445539</td>\n",
       "      <td>ACAGCCTTAAAGGGAGCTTTTCAGGGACCTCTGGCCAGTGGGGGAT...</td>\n",
       "      <td>1.0</td>\n",
       "    </tr>\n",
       "  </tbody>\n",
       "</table>\n",
       "</div>"
      ],
      "text/plain": [
       "                       id                                           sequence  \\\n",
       "0  CHRX_48897056_48897256  CACAATGTAGAAGCAGAGACACAGGAACCAGGCTTGGTGATGGCTC...   \n",
       "1   CHR12_6444339_6444539  GCCCTCACATTCCCTGGCCCATCCCCTCCACCTCAAAATTTACAAA...   \n",
       "2   CHR12_6444939_6445139  GAGCAGGAGGCCAGTCACCCTGAGTCAGCCACGGGGAGACGCTGCA...   \n",
       "3   CHR12_6445139_6445339  CCTCTGCTGAGAACAGGACTGGGGCTTCCAGGGCAACAGGAAGGGT...   \n",
       "4   CHR12_6445339_6445539  ACAGCCTTAAAGGGAGCTTTTCAGGGACCTCTGGCCAGTGGGGGAT...   \n",
       "\n",
       "   strong  \n",
       "0     1.0  \n",
       "1     1.0  \n",
       "2     1.0  \n",
       "3     1.0  \n",
       "4     1.0  "
      ]
     },
     "execution_count": 7,
     "metadata": {},
     "output_type": "execute_result"
    }
   ],
   "source": [
    "strong_df.head()"
   ]
  },
  {
   "cell_type": "code",
   "execution_count": 8,
   "metadata": {},
   "outputs": [
    {
     "name": "stdout",
     "output_type": "stream",
     "text": [
      "<class 'pandas.core.frame.DataFrame'>\n",
      "RangeIndex: 742 entries, 0 to 741\n",
      "Data columns (total 2 columns):\n",
      "id          742 non-null object\n",
      "sequence    742 non-null object\n",
      "dtypes: object(2)\n",
      "memory usage: 11.7+ KB\n"
     ]
    }
   ],
   "source": [
    "weak_df = pd.read_csv(os.path.join('data', 'weak.csv'))\n",
    "weak_df.info()"
   ]
  },
  {
   "cell_type": "code",
   "execution_count": 9,
   "metadata": {},
   "outputs": [],
   "source": [
    "weak_df['strong'] = np.zeros((len(weak_df),))"
   ]
  },
  {
   "cell_type": "code",
   "execution_count": 10,
   "metadata": {},
   "outputs": [
    {
     "data": {
      "text/html": [
       "<div>\n",
       "<style scoped>\n",
       "    .dataframe tbody tr th:only-of-type {\n",
       "        vertical-align: middle;\n",
       "    }\n",
       "\n",
       "    .dataframe tbody tr th {\n",
       "        vertical-align: top;\n",
       "    }\n",
       "\n",
       "    .dataframe thead th {\n",
       "        text-align: right;\n",
       "    }\n",
       "</style>\n",
       "<table border=\"1\" class=\"dataframe\">\n",
       "  <thead>\n",
       "    <tr style=\"text-align: right;\">\n",
       "      <th></th>\n",
       "      <th>id</th>\n",
       "      <th>sequence</th>\n",
       "      <th>strong</th>\n",
       "    </tr>\n",
       "  </thead>\n",
       "  <tbody>\n",
       "    <tr>\n",
       "      <th>0</th>\n",
       "      <td>CHR2_87930085_87930285</td>\n",
       "      <td>AAACAAACAAAAAAGAAGGTAATCAGTGTGGATGAGGATGTGGAAA...</td>\n",
       "      <td>0.0</td>\n",
       "    </tr>\n",
       "    <tr>\n",
       "      <th>1</th>\n",
       "      <td>CHR2_88301085_88301285</td>\n",
       "      <td>ATTCAAAATAAAATAATGAGTACACGTTTTGGAATAACGTCCTATT...</td>\n",
       "      <td>0.0</td>\n",
       "    </tr>\n",
       "    <tr>\n",
       "      <th>2</th>\n",
       "      <td>CHR3_126780310_126780510</td>\n",
       "      <td>ACATCCTTGCCAGCATTTGGTGTTTTTTTTTTTTTAATTAGCATAC...</td>\n",
       "      <td>0.0</td>\n",
       "    </tr>\n",
       "    <tr>\n",
       "      <th>3</th>\n",
       "      <td>CHR3_171979306_171979506</td>\n",
       "      <td>TGGCTTTTATTTTAAATTTAATTTGCTCAACCAGACACACAGTGTA...</td>\n",
       "      <td>0.0</td>\n",
       "    </tr>\n",
       "    <tr>\n",
       "      <th>4</th>\n",
       "      <td>CHR3_176244106_176244306</td>\n",
       "      <td>GCCTCTTTCTTGGATCAAGTTCATGATGCCAGATACTTTTCTCTTT...</td>\n",
       "      <td>0.0</td>\n",
       "    </tr>\n",
       "  </tbody>\n",
       "</table>\n",
       "</div>"
      ],
      "text/plain": [
       "                         id  \\\n",
       "0    CHR2_87930085_87930285   \n",
       "1    CHR2_88301085_88301285   \n",
       "2  CHR3_126780310_126780510   \n",
       "3  CHR3_171979306_171979506   \n",
       "4  CHR3_176244106_176244306   \n",
       "\n",
       "                                            sequence  strong  \n",
       "0  AAACAAACAAAAAAGAAGGTAATCAGTGTGGATGAGGATGTGGAAA...     0.0  \n",
       "1  ATTCAAAATAAAATAATGAGTACACGTTTTGGAATAACGTCCTATT...     0.0  \n",
       "2  ACATCCTTGCCAGCATTTGGTGTTTTTTTTTTTTTAATTAGCATAC...     0.0  \n",
       "3  TGGCTTTTATTTTAAATTTAATTTGCTCAACCAGACACACAGTGTA...     0.0  \n",
       "4  GCCTCTTTCTTGGATCAAGTTCATGATGCCAGATACTTTTCTCTTT...     0.0  "
      ]
     },
     "execution_count": 10,
     "metadata": {},
     "output_type": "execute_result"
    }
   ],
   "source": [
    "weak_df.head()"
   ]
  },
  {
   "cell_type": "markdown",
   "metadata": {},
   "source": [
    "## Combine the data frames to form a single dataset"
   ]
  },
  {
   "cell_type": "code",
   "execution_count": 11,
   "metadata": {},
   "outputs": [
    {
     "name": "stdout",
     "output_type": "stream",
     "text": [
      "<class 'pandas.core.frame.DataFrame'>\n",
      "RangeIndex: 1484 entries, 0 to 1483\n",
      "Data columns (total 3 columns):\n",
      "id          1484 non-null object\n",
      "sequence    1484 non-null object\n",
      "strong      1484 non-null float64\n",
      "dtypes: float64(1), object(2)\n",
      "memory usage: 34.9+ KB\n"
     ]
    }
   ],
   "source": [
    "all_data_df = pd.concat([strong_df, weak_df])\n",
    "all_data_df.reset_index(drop=True, inplace=True)\n",
    "all_data_df.info()"
   ]
  },
  {
   "cell_type": "code",
   "execution_count": 12,
   "metadata": {},
   "outputs": [
    {
     "data": {
      "text/html": [
       "<div>\n",
       "<style scoped>\n",
       "    .dataframe tbody tr th:only-of-type {\n",
       "        vertical-align: middle;\n",
       "    }\n",
       "\n",
       "    .dataframe tbody tr th {\n",
       "        vertical-align: top;\n",
       "    }\n",
       "\n",
       "    .dataframe thead th {\n",
       "        text-align: right;\n",
       "    }\n",
       "</style>\n",
       "<table border=\"1\" class=\"dataframe\">\n",
       "  <thead>\n",
       "    <tr style=\"text-align: right;\">\n",
       "      <th></th>\n",
       "      <th>id</th>\n",
       "      <th>sequence</th>\n",
       "      <th>strong</th>\n",
       "    </tr>\n",
       "  </thead>\n",
       "  <tbody>\n",
       "    <tr>\n",
       "      <th>0</th>\n",
       "      <td>CHRX_48897056_48897256</td>\n",
       "      <td>CACAATGTAGAAGCAGAGACACAGGAACCAGGCTTGGTGATGGCTC...</td>\n",
       "      <td>1.0</td>\n",
       "    </tr>\n",
       "    <tr>\n",
       "      <th>1</th>\n",
       "      <td>CHR12_6444339_6444539</td>\n",
       "      <td>GCCCTCACATTCCCTGGCCCATCCCCTCCACCTCAAAATTTACAAA...</td>\n",
       "      <td>1.0</td>\n",
       "    </tr>\n",
       "    <tr>\n",
       "      <th>2</th>\n",
       "      <td>CHR12_6444939_6445139</td>\n",
       "      <td>GAGCAGGAGGCCAGTCACCCTGAGTCAGCCACGGGGAGACGCTGCA...</td>\n",
       "      <td>1.0</td>\n",
       "    </tr>\n",
       "    <tr>\n",
       "      <th>3</th>\n",
       "      <td>CHR12_6445139_6445339</td>\n",
       "      <td>CCTCTGCTGAGAACAGGACTGGGGCTTCCAGGGCAACAGGAAGGGT...</td>\n",
       "      <td>1.0</td>\n",
       "    </tr>\n",
       "    <tr>\n",
       "      <th>4</th>\n",
       "      <td>CHR12_6445339_6445539</td>\n",
       "      <td>ACAGCCTTAAAGGGAGCTTTTCAGGGACCTCTGGCCAGTGGGGGAT...</td>\n",
       "      <td>1.0</td>\n",
       "    </tr>\n",
       "  </tbody>\n",
       "</table>\n",
       "</div>"
      ],
      "text/plain": [
       "                       id                                           sequence  \\\n",
       "0  CHRX_48897056_48897256  CACAATGTAGAAGCAGAGACACAGGAACCAGGCTTGGTGATGGCTC...   \n",
       "1   CHR12_6444339_6444539  GCCCTCACATTCCCTGGCCCATCCCCTCCACCTCAAAATTTACAAA...   \n",
       "2   CHR12_6444939_6445139  GAGCAGGAGGCCAGTCACCCTGAGTCAGCCACGGGGAGACGCTGCA...   \n",
       "3   CHR12_6445139_6445339  CCTCTGCTGAGAACAGGACTGGGGCTTCCAGGGCAACAGGAAGGGT...   \n",
       "4   CHR12_6445339_6445539  ACAGCCTTAAAGGGAGCTTTTCAGGGACCTCTGGCCAGTGGGGGAT...   \n",
       "\n",
       "   strong  \n",
       "0     1.0  \n",
       "1     1.0  \n",
       "2     1.0  \n",
       "3     1.0  \n",
       "4     1.0  "
      ]
     },
     "execution_count": 12,
     "metadata": {},
     "output_type": "execute_result"
    }
   ],
   "source": [
    "all_data_df.head()"
   ]
  },
  {
   "cell_type": "markdown",
   "metadata": {},
   "source": [
    "All the sequences are of length 200 characters."
   ]
  },
  {
   "cell_type": "code",
   "execution_count": 13,
   "metadata": {},
   "outputs": [
    {
     "data": {
      "text/plain": [
       "200    1484\n",
       "Name: sequence, dtype: int64"
      ]
     },
     "execution_count": 13,
     "metadata": {},
     "output_type": "execute_result"
    }
   ],
   "source": [
    "all_data_df['sequence'].map(lambda x: len(x)).value_counts()"
   ]
  },
  {
   "cell_type": "markdown",
   "metadata": {},
   "source": [
    "## Load the physiochemical property data"
   ]
  },
  {
   "cell_type": "code",
   "execution_count": 14,
   "metadata": {},
   "outputs": [
    {
     "name": "stdout",
     "output_type": "stream",
     "text": [
      "<class 'pandas.core.frame.DataFrame'>\n",
      "Index: 16 entries, AA to TT\n",
      "Data columns (total 6 columns):\n",
      "Rise     16 non-null float64\n",
      "Roll     16 non-null float64\n",
      "Shift    16 non-null float64\n",
      "Slide    16 non-null float64\n",
      "Tilt     16 non-null float64\n",
      "Twist    16 non-null float64\n",
      "dtypes: float64(6)\n",
      "memory usage: 896.0+ bytes\n"
     ]
    }
   ],
   "source": [
    "pcp_df = pd.read_csv(os.path.join('data', 'S2.csv'), index_col=0)\n",
    "pcp_df.info()"
   ]
  },
  {
   "cell_type": "code",
   "execution_count": 15,
   "metadata": {},
   "outputs": [
    {
     "data": {
      "text/html": [
       "<div>\n",
       "<style scoped>\n",
       "    .dataframe tbody tr th:only-of-type {\n",
       "        vertical-align: middle;\n",
       "    }\n",
       "\n",
       "    .dataframe tbody tr th {\n",
       "        vertical-align: top;\n",
       "    }\n",
       "\n",
       "    .dataframe thead th {\n",
       "        text-align: right;\n",
       "    }\n",
       "</style>\n",
       "<table border=\"1\" class=\"dataframe\">\n",
       "  <thead>\n",
       "    <tr style=\"text-align: right;\">\n",
       "      <th></th>\n",
       "      <th>Rise</th>\n",
       "      <th>Roll</th>\n",
       "      <th>Shift</th>\n",
       "      <th>Slide</th>\n",
       "      <th>Tilt</th>\n",
       "      <th>Twist</th>\n",
       "    </tr>\n",
       "  </thead>\n",
       "  <tbody>\n",
       "    <tr>\n",
       "      <th>AA</th>\n",
       "      <td>0.430</td>\n",
       "      <td>0.403</td>\n",
       "      <td>1.000</td>\n",
       "      <td>0.545</td>\n",
       "      <td>0.4</td>\n",
       "      <td>0.833</td>\n",
       "    </tr>\n",
       "    <tr>\n",
       "      <th>AC</th>\n",
       "      <td>0.818</td>\n",
       "      <td>0.696</td>\n",
       "      <td>0.619</td>\n",
       "      <td>1.000</td>\n",
       "      <td>0.7</td>\n",
       "      <td>0.833</td>\n",
       "    </tr>\n",
       "    <tr>\n",
       "      <th>AG</th>\n",
       "      <td>0.258</td>\n",
       "      <td>0.316</td>\n",
       "      <td>0.763</td>\n",
       "      <td>0.773</td>\n",
       "      <td>0.3</td>\n",
       "      <td>0.792</td>\n",
       "    </tr>\n",
       "    <tr>\n",
       "      <th>AT</th>\n",
       "      <td>0.861</td>\n",
       "      <td>1.000</td>\n",
       "      <td>0.320</td>\n",
       "      <td>0.864</td>\n",
       "      <td>0.6</td>\n",
       "      <td>0.750</td>\n",
       "    </tr>\n",
       "    <tr>\n",
       "      <th>CA</th>\n",
       "      <td>0.045</td>\n",
       "      <td>0.221</td>\n",
       "      <td>0.361</td>\n",
       "      <td>0.091</td>\n",
       "      <td>0.1</td>\n",
       "      <td>0.292</td>\n",
       "    </tr>\n",
       "    <tr>\n",
       "      <th>CC</th>\n",
       "      <td>0.548</td>\n",
       "      <td>0.171</td>\n",
       "      <td>0.732</td>\n",
       "      <td>0.545</td>\n",
       "      <td>0.3</td>\n",
       "      <td>1.000</td>\n",
       "    </tr>\n",
       "    <tr>\n",
       "      <th>CG</th>\n",
       "      <td>0.000</td>\n",
       "      <td>0.304</td>\n",
       "      <td>0.371</td>\n",
       "      <td>0.000</td>\n",
       "      <td>0.0</td>\n",
       "      <td>0.333</td>\n",
       "    </tr>\n",
       "    <tr>\n",
       "      <th>CT</th>\n",
       "      <td>0.258</td>\n",
       "      <td>0.316</td>\n",
       "      <td>0.763</td>\n",
       "      <td>0.773</td>\n",
       "      <td>0.3</td>\n",
       "      <td>0.792</td>\n",
       "    </tr>\n",
       "    <tr>\n",
       "      <th>GA</th>\n",
       "      <td>0.706</td>\n",
       "      <td>0.278</td>\n",
       "      <td>0.619</td>\n",
       "      <td>0.500</td>\n",
       "      <td>0.4</td>\n",
       "      <td>0.833</td>\n",
       "    </tr>\n",
       "    <tr>\n",
       "      <th>GC</th>\n",
       "      <td>1.000</td>\n",
       "      <td>0.536</td>\n",
       "      <td>0.495</td>\n",
       "      <td>0.500</td>\n",
       "      <td>1.0</td>\n",
       "      <td>0.750</td>\n",
       "    </tr>\n",
       "    <tr>\n",
       "      <th>GG</th>\n",
       "      <td>0.548</td>\n",
       "      <td>0.171</td>\n",
       "      <td>0.732</td>\n",
       "      <td>0.545</td>\n",
       "      <td>0.3</td>\n",
       "      <td>1.000</td>\n",
       "    </tr>\n",
       "    <tr>\n",
       "      <th>GT</th>\n",
       "      <td>0.818</td>\n",
       "      <td>0.696</td>\n",
       "      <td>0.619</td>\n",
       "      <td>1.000</td>\n",
       "      <td>0.7</td>\n",
       "      <td>0.833</td>\n",
       "    </tr>\n",
       "    <tr>\n",
       "      <th>TA</th>\n",
       "      <td>0.000</td>\n",
       "      <td>0.000</td>\n",
       "      <td>0.000</td>\n",
       "      <td>0.136</td>\n",
       "      <td>0.0</td>\n",
       "      <td>0.000</td>\n",
       "    </tr>\n",
       "    <tr>\n",
       "      <th>TC</th>\n",
       "      <td>0.706</td>\n",
       "      <td>0.278</td>\n",
       "      <td>0.619</td>\n",
       "      <td>0.500</td>\n",
       "      <td>0.4</td>\n",
       "      <td>0.833</td>\n",
       "    </tr>\n",
       "    <tr>\n",
       "      <th>TG</th>\n",
       "      <td>0.045</td>\n",
       "      <td>0.221</td>\n",
       "      <td>0.361</td>\n",
       "      <td>0.091</td>\n",
       "      <td>0.1</td>\n",
       "      <td>0.292</td>\n",
       "    </tr>\n",
       "    <tr>\n",
       "      <th>TT</th>\n",
       "      <td>0.430</td>\n",
       "      <td>0.403</td>\n",
       "      <td>1.000</td>\n",
       "      <td>0.545</td>\n",
       "      <td>0.4</td>\n",
       "      <td>0.833</td>\n",
       "    </tr>\n",
       "  </tbody>\n",
       "</table>\n",
       "</div>"
      ],
      "text/plain": [
       "     Rise   Roll  Shift  Slide  Tilt  Twist\n",
       "AA  0.430  0.403  1.000  0.545   0.4  0.833\n",
       "AC  0.818  0.696  0.619  1.000   0.7  0.833\n",
       "AG  0.258  0.316  0.763  0.773   0.3  0.792\n",
       "AT  0.861  1.000  0.320  0.864   0.6  0.750\n",
       "CA  0.045  0.221  0.361  0.091   0.1  0.292\n",
       "CC  0.548  0.171  0.732  0.545   0.3  1.000\n",
       "CG  0.000  0.304  0.371  0.000   0.0  0.333\n",
       "CT  0.258  0.316  0.763  0.773   0.3  0.792\n",
       "GA  0.706  0.278  0.619  0.500   0.4  0.833\n",
       "GC  1.000  0.536  0.495  0.500   1.0  0.750\n",
       "GG  0.548  0.171  0.732  0.545   0.3  1.000\n",
       "GT  0.818  0.696  0.619  1.000   0.7  0.833\n",
       "TA  0.000  0.000  0.000  0.136   0.0  0.000\n",
       "TC  0.706  0.278  0.619  0.500   0.4  0.833\n",
       "TG  0.045  0.221  0.361  0.091   0.1  0.292\n",
       "TT  0.430  0.403  1.000  0.545   0.4  0.833"
      ]
     },
     "execution_count": 15,
     "metadata": {},
     "output_type": "execute_result"
    }
   ],
   "source": [
    "scaler = MinMaxScaler()\n",
    "pcp_df.loc[:, :] = scaler.fit_transform(pcp_df.values)\n",
    "pcp_df"
   ]
  },
  {
   "cell_type": "markdown",
   "metadata": {},
   "source": [
    "## Prepare the sequence data for modelling"
   ]
  },
  {
   "cell_type": "markdown",
   "metadata": {},
   "source": [
    "Create a transformation pipleline to prepare the training dataset for RNN."
   ]
  },
  {
   "cell_type": "code",
   "execution_count": 16,
   "metadata": {},
   "outputs": [],
   "source": [
    "# This class selects the desired attributes and drops the rest.\n",
    "class DataFrameSelector(BaseEstimator, TransformerMixin):\n",
    "\n",
    "    def __init__(self, attribute_names):\n",
    "        self.attribute_names = attribute_names\n",
    "\n",
    "    def fit(self, X, y=None):\n",
    "        return self\n",
    "\n",
    "    def transform(self, X):\n",
    "        return X[self.attribute_names]"
   ]
  },
  {
   "cell_type": "code",
   "execution_count": 17,
   "metadata": {},
   "outputs": [],
   "source": [
    "# This class converts a nucleotide base (A, C, G, T) to one-hot-encoding.\n",
    "class one_hot_encoder(BaseEstimator, TransformerMixin):\n",
    "\n",
    "    def __init__(self):\n",
    "        self.tokenizer = Tokenizer(num_words=4, lower=False, char_level=True)\n",
    "\n",
    "    def fit(self, X, y=None):\n",
    "        # Note that X is a data frame.\n",
    "        # Fit the tokenizer on the 1st sequence in the dataset.\n",
    "        self.tokenizer.fit_on_texts(X.iloc[0, 0])\n",
    "        self.len_sequence = len(X.iloc[0, 0])\n",
    "        return self\n",
    "\n",
    "    def transform(self, X):\n",
    "        # Note that X is a data frame.\n",
    "        one_hot_X = X.iloc[:, 0].map(lambda x: self.tokenizer.texts_to_matrix(x, mode='binary')).values\n",
    "        one_hot_X = np.concatenate(one_hot_X)\n",
    "        one_hot_X = np.reshape(one_hot_X, (-1, self.len_sequence, 4))\n",
    "        return one_hot_X"
   ]
  },
  {
   "cell_type": "code",
   "execution_count": 18,
   "metadata": {},
   "outputs": [],
   "source": [
    "# This class converts a sequence of nucleotide bases (A, C, G, T) to a sequence of dinucleotides and then to a sequence of pysiochemical properties of each dinucleotide.\n",
    "class pcp_encoder(BaseEstimator, TransformerMixin):\n",
    "\n",
    "    def __init__(self, pcp_df):\n",
    "        self.pcp_df = pcp_df\n",
    "\n",
    "    def fit(self, X, y=None):\n",
    "        return self\n",
    "\n",
    "    def transform(self, X):\n",
    "        # Note that X is a data frame.\n",
    "        dinuc_seq = X.iloc[:, 0].map(lambda x: [ x[i:i+2] for i in range(len(x) - 1) ])\n",
    "        pcp_seq = dinuc_seq.map(lambda x: [ pcp_df[j][i] for i in x for j in pcp_df.columns.tolist() ])\n",
    "        # Pad with -1 for last element of sequence; it does not have an associated di-nucleotide\n",
    "        pcp_seq = pcp_seq.map(lambda x: np.array(x + [-1. for i in range(len(pcp_df.columns))]).reshape((len(X.iloc[0, 0]), len(pcp_df.columns)))).values\n",
    "        # pandas values returns a 1-D array of objects; use numpy stack to reshape it to a multi-dimensional array\n",
    "        return np.stack(pcp_seq)"
   ]
  },
  {
   "cell_type": "code",
   "execution_count": 19,
   "metadata": {},
   "outputs": [],
   "source": [
    "# This class shapes a numpy array.\n",
    "class Array_Shaper(BaseEstimator, TransformerMixin):\n",
    "    \n",
    "    def __init__(self, shape):\n",
    "        self.shape = shape\n",
    "    \n",
    "    def fit(self, X, y=None):\n",
    "        return self\n",
    "    \n",
    "    def transform(self, X):\n",
    "        return X.reshape(self.shape)"
   ]
  },
  {
   "cell_type": "code",
   "execution_count": 20,
   "metadata": {},
   "outputs": [],
   "source": [
    "attrbs = ['sequence']\n",
    "num_bases = 4  # number of nucleotide bases\n",
    "num_pcp = 6  # number of di-nucleotide physiochemical properties\n",
    "len_seq = len(all_data_df['sequence'][0])\n",
    "one_hot_pipeline = Pipeline([\n",
    "    ('selector', DataFrameSelector(attrbs)),\n",
    "    ('one_hot_encoder', one_hot_encoder()),\n",
    "    ('array_shaper2D', Array_Shaper((-1, num_bases)))\n",
    "])\n",
    "pcp_pipeline = Pipeline([\n",
    "    ('selector', DataFrameSelector(attrbs)),\n",
    "    ('pcp_encoder', pcp_encoder(pcp_df)),\n",
    "    ('array_shaper2D', Array_Shaper((-1, num_pcp)))\n",
    "])\n",
    "union_pipeline = FeatureUnion(transformer_list=[\n",
    "    (\"one_hot_pipeline\", one_hot_pipeline),\n",
    "    (\"pcp_pipeline\", pcp_pipeline)\n",
    "])\n",
    "my_pipeline = Pipeline([\n",
    "    ('feature_combiner', union_pipeline),\n",
    "    ('array_shaper3D', Array_Shaper((-1, len_seq, num_bases + num_pcp)))\n",
    "])"
   ]
  },
  {
   "cell_type": "code",
   "execution_count": 21,
   "metadata": {},
   "outputs": [
    {
     "data": {
      "text/plain": [
       "(1484, 200, 10)"
      ]
     },
     "execution_count": 21,
     "metadata": {},
     "output_type": "execute_result"
    }
   ],
   "source": [
    "X = my_pipeline.fit_transform(all_data_df)\n",
    "X.shape"
   ]
  },
  {
   "cell_type": "markdown",
   "metadata": {},
   "source": [
    "Check the 1st sequence is correctly encoded."
   ]
  },
  {
   "cell_type": "code",
   "execution_count": 22,
   "metadata": {},
   "outputs": [
    {
     "data": {
      "text/plain": [
       "array([[0.        , 0.        , 0.        , 0.        , 0.04545455,\n",
       "        0.22053232, 0.36082474, 0.09090909, 0.1       , 0.29166667],\n",
       "       [0.        , 0.        , 0.        , 1.        , 0.81818182,\n",
       "        0.69581749, 0.6185567 , 1.        , 0.7       , 0.83333333],\n",
       "       [0.        , 0.        , 0.        , 0.        , 0.04545455,\n",
       "        0.22053232, 0.36082474, 0.09090909, 0.1       , 0.29166667],\n",
       "       [0.        , 0.        , 0.        , 1.        , 0.43030303,\n",
       "        0.40304183, 1.        , 0.54545455, 0.4       , 0.83333333],\n",
       "       [0.        , 0.        , 0.        , 1.        , 0.86060606,\n",
       "        1.        , 0.31958763, 0.86363636, 0.6       , 0.75      ],\n",
       "       [0.        , 0.        , 1.        , 0.        , 0.04545455,\n",
       "        0.22053232, 0.36082474, 0.09090909, 0.1       , 0.29166667],\n",
       "       [0.        , 1.        , 0.        , 0.        , 0.81818182,\n",
       "        0.69581749, 0.6185567 , 1.        , 0.7       , 0.83333333],\n",
       "       [0.        , 0.        , 1.        , 0.        , 0.        ,\n",
       "        0.        , 0.        , 0.13636364, 0.        , 0.        ],\n",
       "       [0.        , 0.        , 0.        , 1.        , 0.25757576,\n",
       "        0.31558935, 0.7628866 , 0.77272727, 0.3       , 0.79166667],\n",
       "       [0.        , 1.        , 0.        , 0.        , 0.70606061,\n",
       "        0.27756654, 0.6185567 , 0.5       , 0.4       , 0.83333333]])"
      ]
     },
     "execution_count": 22,
     "metadata": {},
     "output_type": "execute_result"
    }
   ],
   "source": [
    "X[0, :10, :]"
   ]
  },
  {
   "cell_type": "code",
   "execution_count": 23,
   "metadata": {},
   "outputs": [
    {
     "data": {
      "text/plain": [
       "array([[ 0.        ,  0.        ,  1.        ,  0.        ,  0.43030303,\n",
       "         0.40304183,  1.        ,  0.54545455,  0.4       ,  0.83333333],\n",
       "       [ 0.        ,  0.        ,  1.        ,  0.        ,  0.04545455,\n",
       "         0.22053232,  0.36082474,  0.09090909,  0.1       ,  0.29166667],\n",
       "       [ 0.        ,  1.        ,  0.        ,  0.        ,  0.81818182,\n",
       "         0.69581749,  0.6185567 ,  1.        ,  0.7       ,  0.83333333],\n",
       "       [ 0.        ,  0.        ,  1.        ,  0.        ,  0.70606061,\n",
       "         0.27756654,  0.6185567 ,  0.5       ,  0.4       ,  0.83333333],\n",
       "       [ 0.        ,  0.        ,  0.        ,  0.        ,  0.54848485,\n",
       "         0.17110266,  0.73195876,  0.54545455,  0.3       ,  1.        ],\n",
       "       [ 0.        ,  0.        ,  0.        ,  0.        ,  0.25757576,\n",
       "         0.31558935,  0.7628866 ,  0.77272727,  0.3       ,  0.79166667],\n",
       "       [ 0.        ,  0.        ,  1.        ,  0.        ,  0.        ,\n",
       "         0.        ,  0.        ,  0.13636364,  0.        ,  0.        ],\n",
       "       [ 0.        ,  0.        ,  0.        ,  1.        ,  0.86060606,\n",
       "         1.        ,  0.31958763,  0.86363636,  0.6       ,  0.75      ],\n",
       "       [ 0.        ,  0.        ,  1.        ,  0.        ,  0.43030303,\n",
       "         0.40304183,  1.        ,  0.54545455,  0.4       ,  0.83333333],\n",
       "       [ 0.        ,  0.        ,  1.        ,  0.        , -1.        ,\n",
       "        -1.        , -1.        , -1.        , -1.        , -1.        ]])"
      ]
     },
     "execution_count": 23,
     "metadata": {},
     "output_type": "execute_result"
    }
   ],
   "source": [
    "X[0, -10:, :]"
   ]
  },
  {
   "cell_type": "code",
   "execution_count": 24,
   "metadata": {},
   "outputs": [
    {
     "data": {
      "text/plain": [
       "(1484,)"
      ]
     },
     "execution_count": 24,
     "metadata": {},
     "output_type": "execute_result"
    }
   ],
   "source": [
    "y = all_data_df['strong'].values\n",
    "y.shape"
   ]
  },
  {
   "cell_type": "code",
   "execution_count": 25,
   "metadata": {},
   "outputs": [
    {
     "data": {
      "text/plain": [
       "array([1., 1., 1., 1., 1., 1., 1., 1., 1., 1.])"
      ]
     },
     "execution_count": 25,
     "metadata": {},
     "output_type": "execute_result"
    }
   ],
   "source": [
    "y[:10]"
   ]
  },
  {
   "cell_type": "markdown",
   "metadata": {},
   "source": [
    "## Split the dataset into train / validation sets\n",
    "\n",
    "For the initial base model, we will use a simple train / validation split. 5-fold cross-validation will be used during model fine-tuning to obtain the final model."
   ]
  },
  {
   "cell_type": "code",
   "execution_count": 26,
   "metadata": {},
   "outputs": [],
   "source": [
    "X_train, X_val, y_train, y_val = train_test_split(X, y, test_size=0.2, random_state=123)"
   ]
  },
  {
   "cell_type": "code",
   "execution_count": 27,
   "metadata": {},
   "outputs": [
    {
     "data": {
      "text/plain": [
       "(1187, 200, 10)"
      ]
     },
     "execution_count": 27,
     "metadata": {},
     "output_type": "execute_result"
    }
   ],
   "source": [
    "X_train.shape"
   ]
  },
  {
   "cell_type": "code",
   "execution_count": 28,
   "metadata": {},
   "outputs": [
    {
     "data": {
      "text/plain": [
       "array([[0.        , 0.        , 1.        , 0.        , 0.70606061,\n",
       "        0.27756654, 0.6185567 , 0.5       , 0.4       , 0.83333333],\n",
       "       [0.        , 0.        , 0.        , 0.        , 0.25757576,\n",
       "        0.31558935, 0.7628866 , 0.77272727, 0.3       , 0.79166667],\n",
       "       [0.        , 0.        , 1.        , 0.        , 0.        ,\n",
       "        0.        , 0.        , 0.13636364, 0.        , 0.        ],\n",
       "       [0.        , 0.        , 0.        , 1.        , 0.25757576,\n",
       "        0.31558935, 0.7628866 , 0.77272727, 0.3       , 0.79166667],\n",
       "       [0.        , 1.        , 0.        , 0.        , 0.70606061,\n",
       "        0.27756654, 0.6185567 , 0.5       , 0.4       , 0.83333333],\n",
       "       [0.        , 0.        , 0.        , 1.        , 0.81818182,\n",
       "        0.69581749, 0.6185567 , 1.        , 0.7       , 0.83333333],\n",
       "       [0.        , 0.        , 0.        , 0.        , 0.25757576,\n",
       "        0.31558935, 0.7628866 , 0.77272727, 0.3       , 0.79166667],\n",
       "       [0.        , 0.        , 1.        , 0.        , 0.        ,\n",
       "        0.        , 0.        , 0.13636364, 0.        , 0.        ],\n",
       "       [0.        , 0.        , 0.        , 1.        , 0.43030303,\n",
       "        0.40304183, 1.        , 0.54545455, 0.4       , 0.83333333],\n",
       "       [0.        , 0.        , 0.        , 1.        , 0.43030303,\n",
       "        0.40304183, 1.        , 0.54545455, 0.4       , 0.83333333]])"
      ]
     },
     "execution_count": 28,
     "metadata": {},
     "output_type": "execute_result"
    }
   ],
   "source": [
    "X_train[0][:10]"
   ]
  },
  {
   "cell_type": "code",
   "execution_count": 29,
   "metadata": {},
   "outputs": [
    {
     "data": {
      "text/plain": [
       "(1187,)"
      ]
     },
     "execution_count": 29,
     "metadata": {},
     "output_type": "execute_result"
    }
   ],
   "source": [
    "y_train.shape"
   ]
  },
  {
   "cell_type": "code",
   "execution_count": 30,
   "metadata": {},
   "outputs": [
    {
     "data": {
      "text/plain": [
       "1.0"
      ]
     },
     "execution_count": 30,
     "metadata": {},
     "output_type": "execute_result"
    }
   ],
   "source": [
    "y_train[0]"
   ]
  },
  {
   "cell_type": "markdown",
   "metadata": {},
   "source": [
    "## Load models"
   ]
  },
  {
   "cell_type": "markdown",
   "metadata": {},
   "source": [
    "### Ensemble of models of 2x16 GRU, 1x16 Dense\n",
    "* Dropouts (.1/.1/.1)\n",
    "* Warm restarts cycle = 200, lr=0.003\n",
    "* Saved models are best in each cycle"
   ]
  },
  {
   "cell_type": "code",
   "execution_count": 31,
   "metadata": {},
   "outputs": [],
   "source": [
    "from numpy.random import seed\n",
    "seed(123)\n",
    "from tensorflow import set_random_seed\n",
    "set_random_seed(456)"
   ]
  },
  {
   "cell_type": "code",
   "execution_count": 32,
   "metadata": {},
   "outputs": [
    {
     "name": "stdout",
     "output_type": "stream",
     "text": [
      "_________________________________________________________________\n",
      "Layer (type)                 Output Shape              Param #   \n",
      "=================================================================\n",
      "gru_1 (GRU)                  (None, None, 16)          1344      \n",
      "_________________________________________________________________\n",
      "gru_2 (GRU)                  (None, 16)                1632      \n",
      "_________________________________________________________________\n",
      "dropout_1 (Dropout)          (None, 16)                0         \n",
      "_________________________________________________________________\n",
      "dense_1 (Dense)              (None, 16)                272       \n",
      "_________________________________________________________________\n",
      "dropout_2 (Dropout)          (None, 16)                0         \n",
      "_________________________________________________________________\n",
      "dense_2 (Dense)              (None, 1)                 17        \n",
      "=================================================================\n",
      "Total params: 3,265\n",
      "Trainable params: 3,265\n",
      "Non-trainable params: 0\n",
      "_________________________________________________________________\n"
     ]
    }
   ],
   "source": [
    "# Best model\n",
    "model = load_model(os.path.join('models-layer2',\n",
    "                                'layer2-2x16gru1x16dense-dropout010101-wr01.best-epch228.h5'))\n",
    "model.summary()"
   ]
  },
  {
   "cell_type": "code",
   "execution_count": 33,
   "metadata": {},
   "outputs": [],
   "source": [
    "results_df = pd.DataFrame()"
   ]
  },
  {
   "cell_type": "code",
   "execution_count": 34,
   "metadata": {},
   "outputs": [
    {
     "name": "stdout",
     "output_type": "stream",
     "text": [
      "297/297 [==============================] - 0s 1ms/step\n"
     ]
    }
   ],
   "source": [
    "results_df['best'] = pd.Series(model.predict_classes(X_val, batch_size=128, verbose=1).flatten())"
   ]
  },
  {
   "cell_type": "code",
   "execution_count": 35,
   "metadata": {},
   "outputs": [
    {
     "data": {
      "text/plain": [
       "'63.300'"
      ]
     },
     "execution_count": 35,
     "metadata": {},
     "output_type": "execute_result"
    }
   ],
   "source": [
    "best_acc = 100. * (len(y_val) - (np.abs(results_df['best'].values - y_val)).sum()) / len(y_val)\n",
    "'{:06.3f}'.format(best_acc)"
   ]
  },
  {
   "cell_type": "markdown",
   "metadata": {},
   "source": [
    "The best model from training was saved separately from the models saved in each of the cycles below. It will be the same as one of the best models from the cycles. The best model from the first cycle (1-200 epoch) is not used as the loss had not converged to a minimum."
   ]
  },
  {
   "cell_type": "code",
   "execution_count": 36,
   "metadata": {},
   "outputs": [
    {
     "data": {
      "text/plain": [
       "['models-layer2/layer2-2x16gru1x16dense-dropout010101-wr01-weights/model_wgts_cyc0400.h5',\n",
       " 'models-layer2/layer2-2x16gru1x16dense-dropout010101-wr01-weights/model_wgts_cyc0600.h5',\n",
       " 'models-layer2/layer2-2x16gru1x16dense-dropout010101-wr01-weights/model_wgts_cyc0800.h5',\n",
       " 'models-layer2/layer2-2x16gru1x16dense-dropout010101-wr01-weights/model_wgts_cyc1000.h5',\n",
       " 'models-layer2/layer2-2x16gru1x16dense-dropout010101-wr01-weights/model_wgts_cyc1200.h5',\n",
       " 'models-layer2/layer2-2x16gru1x16dense-dropout010101-wr01-weights/model_wgts_cyc1400.h5',\n",
       " 'models-layer2/layer2-2x16gru1x16dense-dropout010101-wr01-weights/model_wgts_cyc1600.h5',\n",
       " 'models-layer2/layer2-2x16gru1x16dense-dropout010101-wr01-weights/model_wgts_cyc1800.h5',\n",
       " 'models-layer2/layer2-2x16gru1x16dense-dropout010101-wr01-weights/model_wgts_cyc2000.h5',\n",
       " 'models-layer2/layer2-2x16gru1x16dense-dropout010101-wr01-weights/model_wgts_cyc2200.h5',\n",
       " 'models-layer2/layer2-2x16gru1x16dense-dropout010101-wr01-weights/model_wgts_cyc2400.h5',\n",
       " 'models-layer2/layer2-2x16gru1x16dense-dropout010101-wr01-weights/model_wgts_cyc2600.h5',\n",
       " 'models-layer2/layer2-2x16gru1x16dense-dropout010101-wr01-weights/model_wgts_cyc2800.h5',\n",
       " 'models-layer2/layer2-2x16gru1x16dense-dropout010101-wr01-weights/model_wgts_cyc3000.h5']"
      ]
     },
     "execution_count": 36,
     "metadata": {},
     "output_type": "execute_result"
    }
   ],
   "source": [
    "# Path to the weights saved for the best model in each cycle\n",
    "path = [os.path.join('models-layer2', 'layer2-2x16gru1x16dense-dropout010101-wr01-weights', i)\n",
    "        for i in ['model_wgts_cyc0400.h5', 'model_wgts_cyc0600.h5', 'model_wgts_cyc0800.h5', 'model_wgts_cyc1000.h5', 'model_wgts_cyc1200.h5', 'model_wgts_cyc1400.h5', 'model_wgts_cyc1600.h5',\n",
    "                 'model_wgts_cyc1800.h5', 'model_wgts_cyc2000.h5', 'model_wgts_cyc2200.h5', 'model_wgts_cyc2400.h5', 'model_wgts_cyc2600.h5', 'model_wgts_cyc2800.h5', 'model_wgts_cyc3000.h5']]\n",
    "path"
   ]
  },
  {
   "cell_type": "code",
   "execution_count": 37,
   "metadata": {},
   "outputs": [
    {
     "name": "stdout",
     "output_type": "stream",
     "text": [
      "297/297 [==============================] - 0s 651us/step\n",
      "297/297 [==============================] - 0s 655us/step\n",
      "297/297 [==============================] - 0s 639us/step\n",
      "297/297 [==============================] - 0s 697us/step\n",
      "297/297 [==============================] - 0s 627us/step\n",
      "297/297 [==============================] - 0s 626us/step\n",
      "297/297 [==============================] - 0s 632us/step\n",
      "297/297 [==============================] - 0s 628us/step\n",
      "297/297 [==============================] - 0s 643us/step\n",
      "297/297 [==============================] - 0s 671us/step\n",
      "297/297 [==============================] - 0s 638us/step\n",
      "297/297 [==============================] - 0s 626us/step\n",
      "297/297 [==============================] - 0s 655us/step\n",
      "297/297 [==============================] - 0s 634us/step\n"
     ]
    }
   ],
   "source": [
    "# Calculate the predictions for the best models in each cycle.\n",
    "for idx, a_file in enumerate(path):\n",
    "    model.load_weights(filepath=a_file, by_name=False)\n",
    "    results_df['model' + str(idx)] = model.predict_classes(X_val, batch_size=128, verbose=1)"
   ]
  },
  {
   "cell_type": "code",
   "execution_count": 38,
   "metadata": {
    "scrolled": true
   },
   "outputs": [
    {
     "name": "stdout",
     "output_type": "stream",
     "text": [
      "0\n",
      "69\n",
      "41\n",
      "112\n",
      "68\n",
      "97\n",
      "113\n",
      "105\n",
      "102\n",
      "98\n",
      "104\n",
      "109\n",
      "107\n",
      "104\n"
     ]
    }
   ],
   "source": [
    "# Compare the predictions of each cycle's best model with the overall best model.\n",
    "# Count the number of different predictions.\n",
    "for i in range(14):\n",
    "    print((results_df['best'] - results_df['model' + str(i)]).abs().sum())"
   ]
  },
  {
   "cell_type": "code",
   "execution_count": 39,
   "metadata": {
    "scrolled": true
   },
   "outputs": [
    {
     "name": "stdout",
     "output_type": "stream",
     "text": [
      "model0 = 63.300%\n",
      "model1 = 62.963%\n",
      "model2 = 62.290%\n",
      "model3 = 59.259%\n",
      "model4 = 59.933%\n",
      "model5 = 59.596%\n",
      "model6 = 60.943%\n",
      "model7 = 60.269%\n",
      "model8 = 60.606%\n",
      "model9 = 59.259%\n",
      "model10 = 58.586%\n",
      "model11 = 59.596%\n",
      "model12 = 59.596%\n",
      "model13 = 59.933%\n"
     ]
    }
   ],
   "source": [
    "# calculate the accuracy for each model\n",
    "for i in range(14):\n",
    "    acc = 100. * (len(y_val) - (np.abs(results_df['model' + str(i)].values - y_val)).sum()) / len(y_val)\n",
    "    print('model' + str(i) + ' = {:06.3f}%'.format(acc))"
   ]
  },
  {
   "cell_type": "markdown",
   "metadata": {},
   "source": [
    "#### Evalute the Model Ensembles\n",
    "#### Use models 0-12 (13 models)"
   ]
  },
  {
   "cell_type": "code",
   "execution_count": 40,
   "metadata": {},
   "outputs": [],
   "source": [
    "acc_list = []"
   ]
  },
  {
   "cell_type": "code",
   "execution_count": 41,
   "metadata": {},
   "outputs": [
    {
     "name": "stdout",
     "output_type": "stream",
     "text": [
      "threshold = 6\n"
     ]
    }
   ],
   "source": [
    "cols = results_df.columns.tolist()\n",
    "cols.remove('best')\n",
    "cols.remove('model13')\n",
    "\n",
    "# Decision threshold for majority voting\n",
    "threshold = len(cols) // 2\n",
    "print('threshold = {}'.format(threshold))"
   ]
  },
  {
   "cell_type": "code",
   "execution_count": 42,
   "metadata": {},
   "outputs": [
    {
     "data": {
      "text/html": [
       "<div>\n",
       "<style scoped>\n",
       "    .dataframe tbody tr th:only-of-type {\n",
       "        vertical-align: middle;\n",
       "    }\n",
       "\n",
       "    .dataframe tbody tr th {\n",
       "        vertical-align: top;\n",
       "    }\n",
       "\n",
       "    .dataframe thead th {\n",
       "        text-align: right;\n",
       "    }\n",
       "</style>\n",
       "<table border=\"1\" class=\"dataframe\">\n",
       "  <thead>\n",
       "    <tr style=\"text-align: right;\">\n",
       "      <th></th>\n",
       "      <th>best</th>\n",
       "      <th>model0</th>\n",
       "      <th>model1</th>\n",
       "      <th>model2</th>\n",
       "      <th>model3</th>\n",
       "      <th>model4</th>\n",
       "      <th>model5</th>\n",
       "      <th>model6</th>\n",
       "      <th>model7</th>\n",
       "      <th>model8</th>\n",
       "      <th>model9</th>\n",
       "      <th>model10</th>\n",
       "      <th>model11</th>\n",
       "      <th>model12</th>\n",
       "      <th>model13</th>\n",
       "      <th>ensemble</th>\n",
       "    </tr>\n",
       "  </thead>\n",
       "  <tbody>\n",
       "    <tr>\n",
       "      <th>0</th>\n",
       "      <td>1</td>\n",
       "      <td>1</td>\n",
       "      <td>1</td>\n",
       "      <td>1</td>\n",
       "      <td>1</td>\n",
       "      <td>1</td>\n",
       "      <td>1</td>\n",
       "      <td>1</td>\n",
       "      <td>1</td>\n",
       "      <td>1</td>\n",
       "      <td>1</td>\n",
       "      <td>0</td>\n",
       "      <td>1</td>\n",
       "      <td>1</td>\n",
       "      <td>1</td>\n",
       "      <td>1</td>\n",
       "    </tr>\n",
       "    <tr>\n",
       "      <th>1</th>\n",
       "      <td>1</td>\n",
       "      <td>1</td>\n",
       "      <td>1</td>\n",
       "      <td>1</td>\n",
       "      <td>1</td>\n",
       "      <td>1</td>\n",
       "      <td>1</td>\n",
       "      <td>1</td>\n",
       "      <td>1</td>\n",
       "      <td>1</td>\n",
       "      <td>1</td>\n",
       "      <td>1</td>\n",
       "      <td>1</td>\n",
       "      <td>1</td>\n",
       "      <td>1</td>\n",
       "      <td>1</td>\n",
       "    </tr>\n",
       "    <tr>\n",
       "      <th>2</th>\n",
       "      <td>0</td>\n",
       "      <td>0</td>\n",
       "      <td>0</td>\n",
       "      <td>0</td>\n",
       "      <td>0</td>\n",
       "      <td>0</td>\n",
       "      <td>0</td>\n",
       "      <td>0</td>\n",
       "      <td>0</td>\n",
       "      <td>0</td>\n",
       "      <td>0</td>\n",
       "      <td>0</td>\n",
       "      <td>0</td>\n",
       "      <td>0</td>\n",
       "      <td>0</td>\n",
       "      <td>0</td>\n",
       "    </tr>\n",
       "    <tr>\n",
       "      <th>3</th>\n",
       "      <td>0</td>\n",
       "      <td>0</td>\n",
       "      <td>0</td>\n",
       "      <td>0</td>\n",
       "      <td>0</td>\n",
       "      <td>0</td>\n",
       "      <td>0</td>\n",
       "      <td>0</td>\n",
       "      <td>0</td>\n",
       "      <td>0</td>\n",
       "      <td>0</td>\n",
       "      <td>0</td>\n",
       "      <td>0</td>\n",
       "      <td>0</td>\n",
       "      <td>0</td>\n",
       "      <td>0</td>\n",
       "    </tr>\n",
       "    <tr>\n",
       "      <th>4</th>\n",
       "      <td>0</td>\n",
       "      <td>0</td>\n",
       "      <td>0</td>\n",
       "      <td>0</td>\n",
       "      <td>0</td>\n",
       "      <td>0</td>\n",
       "      <td>0</td>\n",
       "      <td>0</td>\n",
       "      <td>0</td>\n",
       "      <td>0</td>\n",
       "      <td>0</td>\n",
       "      <td>1</td>\n",
       "      <td>1</td>\n",
       "      <td>0</td>\n",
       "      <td>1</td>\n",
       "      <td>0</td>\n",
       "    </tr>\n",
       "  </tbody>\n",
       "</table>\n",
       "</div>"
      ],
      "text/plain": [
       "   best  model0  model1  model2  model3  model4  model5  model6  model7  \\\n",
       "0     1       1       1       1       1       1       1       1       1   \n",
       "1     1       1       1       1       1       1       1       1       1   \n",
       "2     0       0       0       0       0       0       0       0       0   \n",
       "3     0       0       0       0       0       0       0       0       0   \n",
       "4     0       0       0       0       0       0       0       0       0   \n",
       "\n",
       "   model8  model9  model10  model11  model12  model13  ensemble  \n",
       "0       1       1        0        1        1        1         1  \n",
       "1       1       1        1        1        1        1         1  \n",
       "2       0       0        0        0        0        0         0  \n",
       "3       0       0        0        0        0        0         0  \n",
       "4       0       0        1        1        0        1         0  "
      ]
     },
     "execution_count": 42,
     "metadata": {},
     "output_type": "execute_result"
    }
   ],
   "source": [
    "# Calculate the ensemble prediction\n",
    "results_df['ensemble'] = results_df.loc[:, cols].apply(lambda x: 1 if x.sum() > threshold else 0, axis=1)\n",
    "results_df.head()"
   ]
  },
  {
   "cell_type": "code",
   "execution_count": 43,
   "metadata": {},
   "outputs": [
    {
     "name": "stdout",
     "output_type": "stream",
     "text": [
      "model ensemble accuracy = 62.290%\n"
     ]
    }
   ],
   "source": [
    "# Calculate the model ensemble accuracy \n",
    "acc = 100. * (len(y_val) - (np.abs(results_df['ensemble'].values - y_val)).sum()) / len(y_val)\n",
    "print('model ensemble accuracy = {:06.3f}%'.format(acc))\n",
    "acc_list.append(('0-12', 13, acc))"
   ]
  },
  {
   "cell_type": "markdown",
   "metadata": {},
   "source": [
    "#### Use models 0-10 (11 models)"
   ]
  },
  {
   "cell_type": "code",
   "execution_count": 44,
   "metadata": {},
   "outputs": [
    {
     "name": "stdout",
     "output_type": "stream",
     "text": [
      "threshold = 5\n"
     ]
    },
    {
     "data": {
      "text/html": [
       "<div>\n",
       "<style scoped>\n",
       "    .dataframe tbody tr th:only-of-type {\n",
       "        vertical-align: middle;\n",
       "    }\n",
       "\n",
       "    .dataframe tbody tr th {\n",
       "        vertical-align: top;\n",
       "    }\n",
       "\n",
       "    .dataframe thead th {\n",
       "        text-align: right;\n",
       "    }\n",
       "</style>\n",
       "<table border=\"1\" class=\"dataframe\">\n",
       "  <thead>\n",
       "    <tr style=\"text-align: right;\">\n",
       "      <th></th>\n",
       "      <th>best</th>\n",
       "      <th>model0</th>\n",
       "      <th>model1</th>\n",
       "      <th>model2</th>\n",
       "      <th>model3</th>\n",
       "      <th>model4</th>\n",
       "      <th>model5</th>\n",
       "      <th>model6</th>\n",
       "      <th>model7</th>\n",
       "      <th>model8</th>\n",
       "      <th>model9</th>\n",
       "      <th>model10</th>\n",
       "      <th>model11</th>\n",
       "      <th>model12</th>\n",
       "      <th>model13</th>\n",
       "      <th>ensemble</th>\n",
       "    </tr>\n",
       "  </thead>\n",
       "  <tbody>\n",
       "    <tr>\n",
       "      <th>0</th>\n",
       "      <td>1</td>\n",
       "      <td>1</td>\n",
       "      <td>1</td>\n",
       "      <td>1</td>\n",
       "      <td>1</td>\n",
       "      <td>1</td>\n",
       "      <td>1</td>\n",
       "      <td>1</td>\n",
       "      <td>1</td>\n",
       "      <td>1</td>\n",
       "      <td>1</td>\n",
       "      <td>0</td>\n",
       "      <td>1</td>\n",
       "      <td>1</td>\n",
       "      <td>1</td>\n",
       "      <td>1</td>\n",
       "    </tr>\n",
       "    <tr>\n",
       "      <th>1</th>\n",
       "      <td>1</td>\n",
       "      <td>1</td>\n",
       "      <td>1</td>\n",
       "      <td>1</td>\n",
       "      <td>1</td>\n",
       "      <td>1</td>\n",
       "      <td>1</td>\n",
       "      <td>1</td>\n",
       "      <td>1</td>\n",
       "      <td>1</td>\n",
       "      <td>1</td>\n",
       "      <td>1</td>\n",
       "      <td>1</td>\n",
       "      <td>1</td>\n",
       "      <td>1</td>\n",
       "      <td>1</td>\n",
       "    </tr>\n",
       "    <tr>\n",
       "      <th>2</th>\n",
       "      <td>0</td>\n",
       "      <td>0</td>\n",
       "      <td>0</td>\n",
       "      <td>0</td>\n",
       "      <td>0</td>\n",
       "      <td>0</td>\n",
       "      <td>0</td>\n",
       "      <td>0</td>\n",
       "      <td>0</td>\n",
       "      <td>0</td>\n",
       "      <td>0</td>\n",
       "      <td>0</td>\n",
       "      <td>0</td>\n",
       "      <td>0</td>\n",
       "      <td>0</td>\n",
       "      <td>0</td>\n",
       "    </tr>\n",
       "    <tr>\n",
       "      <th>3</th>\n",
       "      <td>0</td>\n",
       "      <td>0</td>\n",
       "      <td>0</td>\n",
       "      <td>0</td>\n",
       "      <td>0</td>\n",
       "      <td>0</td>\n",
       "      <td>0</td>\n",
       "      <td>0</td>\n",
       "      <td>0</td>\n",
       "      <td>0</td>\n",
       "      <td>0</td>\n",
       "      <td>0</td>\n",
       "      <td>0</td>\n",
       "      <td>0</td>\n",
       "      <td>0</td>\n",
       "      <td>0</td>\n",
       "    </tr>\n",
       "    <tr>\n",
       "      <th>4</th>\n",
       "      <td>0</td>\n",
       "      <td>0</td>\n",
       "      <td>0</td>\n",
       "      <td>0</td>\n",
       "      <td>0</td>\n",
       "      <td>0</td>\n",
       "      <td>0</td>\n",
       "      <td>0</td>\n",
       "      <td>0</td>\n",
       "      <td>0</td>\n",
       "      <td>0</td>\n",
       "      <td>1</td>\n",
       "      <td>1</td>\n",
       "      <td>0</td>\n",
       "      <td>1</td>\n",
       "      <td>0</td>\n",
       "    </tr>\n",
       "  </tbody>\n",
       "</table>\n",
       "</div>"
      ],
      "text/plain": [
       "   best  model0  model1  model2  model3  model4  model5  model6  model7  \\\n",
       "0     1       1       1       1       1       1       1       1       1   \n",
       "1     1       1       1       1       1       1       1       1       1   \n",
       "2     0       0       0       0       0       0       0       0       0   \n",
       "3     0       0       0       0       0       0       0       0       0   \n",
       "4     0       0       0       0       0       0       0       0       0   \n",
       "\n",
       "   model8  model9  model10  model11  model12  model13  ensemble  \n",
       "0       1       1        0        1        1        1         1  \n",
       "1       1       1        1        1        1        1         1  \n",
       "2       0       0        0        0        0        0         0  \n",
       "3       0       0        0        0        0        0         0  \n",
       "4       0       0        1        1        0        1         0  "
      ]
     },
     "execution_count": 44,
     "metadata": {},
     "output_type": "execute_result"
    }
   ],
   "source": [
    "cols = results_df.columns.tolist()\n",
    "for i in ['best', 'model11', 'model12', 'model13', 'ensemble']:\n",
    "    cols.remove(i)\n",
    "threshold = len(cols) // 2\n",
    "print('threshold = {}'.format(threshold))\n",
    "results_df['ensemble'] = results_df.loc[:, cols].apply(lambda x: 1 if x.sum() > threshold else 0, axis=1)\n",
    "results_df.head()"
   ]
  },
  {
   "cell_type": "code",
   "execution_count": 45,
   "metadata": {},
   "outputs": [
    {
     "name": "stdout",
     "output_type": "stream",
     "text": [
      "model ensemble accuracy = 62.290%\n"
     ]
    }
   ],
   "source": [
    "acc = 100. * (len(y_val) - (np.abs(results_df['ensemble'].values - y_val)).sum()) / len(y_val)\n",
    "print('model ensemble accuracy = {:06.3f}%'.format(acc))\n",
    "acc_list.append(('0-10', 11, acc))"
   ]
  },
  {
   "cell_type": "markdown",
   "metadata": {},
   "source": [
    "#### Use models 0-8 (9 models)"
   ]
  },
  {
   "cell_type": "code",
   "execution_count": 46,
   "metadata": {},
   "outputs": [
    {
     "name": "stdout",
     "output_type": "stream",
     "text": [
      "threshold = 4\n"
     ]
    },
    {
     "data": {
      "text/html": [
       "<div>\n",
       "<style scoped>\n",
       "    .dataframe tbody tr th:only-of-type {\n",
       "        vertical-align: middle;\n",
       "    }\n",
       "\n",
       "    .dataframe tbody tr th {\n",
       "        vertical-align: top;\n",
       "    }\n",
       "\n",
       "    .dataframe thead th {\n",
       "        text-align: right;\n",
       "    }\n",
       "</style>\n",
       "<table border=\"1\" class=\"dataframe\">\n",
       "  <thead>\n",
       "    <tr style=\"text-align: right;\">\n",
       "      <th></th>\n",
       "      <th>best</th>\n",
       "      <th>model0</th>\n",
       "      <th>model1</th>\n",
       "      <th>model2</th>\n",
       "      <th>model3</th>\n",
       "      <th>model4</th>\n",
       "      <th>model5</th>\n",
       "      <th>model6</th>\n",
       "      <th>model7</th>\n",
       "      <th>model8</th>\n",
       "      <th>model9</th>\n",
       "      <th>model10</th>\n",
       "      <th>model11</th>\n",
       "      <th>model12</th>\n",
       "      <th>model13</th>\n",
       "      <th>ensemble</th>\n",
       "    </tr>\n",
       "  </thead>\n",
       "  <tbody>\n",
       "    <tr>\n",
       "      <th>0</th>\n",
       "      <td>1</td>\n",
       "      <td>1</td>\n",
       "      <td>1</td>\n",
       "      <td>1</td>\n",
       "      <td>1</td>\n",
       "      <td>1</td>\n",
       "      <td>1</td>\n",
       "      <td>1</td>\n",
       "      <td>1</td>\n",
       "      <td>1</td>\n",
       "      <td>1</td>\n",
       "      <td>0</td>\n",
       "      <td>1</td>\n",
       "      <td>1</td>\n",
       "      <td>1</td>\n",
       "      <td>1</td>\n",
       "    </tr>\n",
       "    <tr>\n",
       "      <th>1</th>\n",
       "      <td>1</td>\n",
       "      <td>1</td>\n",
       "      <td>1</td>\n",
       "      <td>1</td>\n",
       "      <td>1</td>\n",
       "      <td>1</td>\n",
       "      <td>1</td>\n",
       "      <td>1</td>\n",
       "      <td>1</td>\n",
       "      <td>1</td>\n",
       "      <td>1</td>\n",
       "      <td>1</td>\n",
       "      <td>1</td>\n",
       "      <td>1</td>\n",
       "      <td>1</td>\n",
       "      <td>1</td>\n",
       "    </tr>\n",
       "    <tr>\n",
       "      <th>2</th>\n",
       "      <td>0</td>\n",
       "      <td>0</td>\n",
       "      <td>0</td>\n",
       "      <td>0</td>\n",
       "      <td>0</td>\n",
       "      <td>0</td>\n",
       "      <td>0</td>\n",
       "      <td>0</td>\n",
       "      <td>0</td>\n",
       "      <td>0</td>\n",
       "      <td>0</td>\n",
       "      <td>0</td>\n",
       "      <td>0</td>\n",
       "      <td>0</td>\n",
       "      <td>0</td>\n",
       "      <td>0</td>\n",
       "    </tr>\n",
       "    <tr>\n",
       "      <th>3</th>\n",
       "      <td>0</td>\n",
       "      <td>0</td>\n",
       "      <td>0</td>\n",
       "      <td>0</td>\n",
       "      <td>0</td>\n",
       "      <td>0</td>\n",
       "      <td>0</td>\n",
       "      <td>0</td>\n",
       "      <td>0</td>\n",
       "      <td>0</td>\n",
       "      <td>0</td>\n",
       "      <td>0</td>\n",
       "      <td>0</td>\n",
       "      <td>0</td>\n",
       "      <td>0</td>\n",
       "      <td>0</td>\n",
       "    </tr>\n",
       "    <tr>\n",
       "      <th>4</th>\n",
       "      <td>0</td>\n",
       "      <td>0</td>\n",
       "      <td>0</td>\n",
       "      <td>0</td>\n",
       "      <td>0</td>\n",
       "      <td>0</td>\n",
       "      <td>0</td>\n",
       "      <td>0</td>\n",
       "      <td>0</td>\n",
       "      <td>0</td>\n",
       "      <td>0</td>\n",
       "      <td>1</td>\n",
       "      <td>1</td>\n",
       "      <td>0</td>\n",
       "      <td>1</td>\n",
       "      <td>0</td>\n",
       "    </tr>\n",
       "  </tbody>\n",
       "</table>\n",
       "</div>"
      ],
      "text/plain": [
       "   best  model0  model1  model2  model3  model4  model5  model6  model7  \\\n",
       "0     1       1       1       1       1       1       1       1       1   \n",
       "1     1       1       1       1       1       1       1       1       1   \n",
       "2     0       0       0       0       0       0       0       0       0   \n",
       "3     0       0       0       0       0       0       0       0       0   \n",
       "4     0       0       0       0       0       0       0       0       0   \n",
       "\n",
       "   model8  model9  model10  model11  model12  model13  ensemble  \n",
       "0       1       1        0        1        1        1         1  \n",
       "1       1       1        1        1        1        1         1  \n",
       "2       0       0        0        0        0        0         0  \n",
       "3       0       0        0        0        0        0         0  \n",
       "4       0       0        1        1        0        1         0  "
      ]
     },
     "execution_count": 46,
     "metadata": {},
     "output_type": "execute_result"
    }
   ],
   "source": [
    "cols = results_df.columns.tolist()\n",
    "for i in ['best', 'model9', 'model10', 'model11', 'model12', 'model13', 'ensemble']:\n",
    "    cols.remove(i)\n",
    "threshold = len(cols) // 2\n",
    "print('threshold = {}'.format(threshold))\n",
    "results_df['ensemble'] = results_df.loc[:, cols].apply(lambda x: 1 if x.sum() > threshold else 0, axis=1)\n",
    "results_df.head()"
   ]
  },
  {
   "cell_type": "code",
   "execution_count": 47,
   "metadata": {
    "scrolled": true
   },
   "outputs": [
    {
     "name": "stdout",
     "output_type": "stream",
     "text": [
      "model ensemble accuracy = 60.606%\n"
     ]
    }
   ],
   "source": [
    "acc = 100. * (len(y_val) - (np.abs(results_df['ensemble'].values - y_val)).sum()) / len(y_val)\n",
    "print('model ensemble accuracy = {:06.3f}%'.format(acc))\n",
    "acc_list.append(('0-8', 9, acc))"
   ]
  },
  {
   "cell_type": "markdown",
   "metadata": {},
   "source": [
    "#### Use models 0-6 (7 models)"
   ]
  },
  {
   "cell_type": "code",
   "execution_count": 48,
   "metadata": {},
   "outputs": [
    {
     "name": "stdout",
     "output_type": "stream",
     "text": [
      "threshold = 3\n"
     ]
    },
    {
     "data": {
      "text/html": [
       "<div>\n",
       "<style scoped>\n",
       "    .dataframe tbody tr th:only-of-type {\n",
       "        vertical-align: middle;\n",
       "    }\n",
       "\n",
       "    .dataframe tbody tr th {\n",
       "        vertical-align: top;\n",
       "    }\n",
       "\n",
       "    .dataframe thead th {\n",
       "        text-align: right;\n",
       "    }\n",
       "</style>\n",
       "<table border=\"1\" class=\"dataframe\">\n",
       "  <thead>\n",
       "    <tr style=\"text-align: right;\">\n",
       "      <th></th>\n",
       "      <th>best</th>\n",
       "      <th>model0</th>\n",
       "      <th>model1</th>\n",
       "      <th>model2</th>\n",
       "      <th>model3</th>\n",
       "      <th>model4</th>\n",
       "      <th>model5</th>\n",
       "      <th>model6</th>\n",
       "      <th>model7</th>\n",
       "      <th>model8</th>\n",
       "      <th>model9</th>\n",
       "      <th>model10</th>\n",
       "      <th>model11</th>\n",
       "      <th>model12</th>\n",
       "      <th>model13</th>\n",
       "      <th>ensemble</th>\n",
       "    </tr>\n",
       "  </thead>\n",
       "  <tbody>\n",
       "    <tr>\n",
       "      <th>0</th>\n",
       "      <td>1</td>\n",
       "      <td>1</td>\n",
       "      <td>1</td>\n",
       "      <td>1</td>\n",
       "      <td>1</td>\n",
       "      <td>1</td>\n",
       "      <td>1</td>\n",
       "      <td>1</td>\n",
       "      <td>1</td>\n",
       "      <td>1</td>\n",
       "      <td>1</td>\n",
       "      <td>0</td>\n",
       "      <td>1</td>\n",
       "      <td>1</td>\n",
       "      <td>1</td>\n",
       "      <td>1</td>\n",
       "    </tr>\n",
       "    <tr>\n",
       "      <th>1</th>\n",
       "      <td>1</td>\n",
       "      <td>1</td>\n",
       "      <td>1</td>\n",
       "      <td>1</td>\n",
       "      <td>1</td>\n",
       "      <td>1</td>\n",
       "      <td>1</td>\n",
       "      <td>1</td>\n",
       "      <td>1</td>\n",
       "      <td>1</td>\n",
       "      <td>1</td>\n",
       "      <td>1</td>\n",
       "      <td>1</td>\n",
       "      <td>1</td>\n",
       "      <td>1</td>\n",
       "      <td>1</td>\n",
       "    </tr>\n",
       "    <tr>\n",
       "      <th>2</th>\n",
       "      <td>0</td>\n",
       "      <td>0</td>\n",
       "      <td>0</td>\n",
       "      <td>0</td>\n",
       "      <td>0</td>\n",
       "      <td>0</td>\n",
       "      <td>0</td>\n",
       "      <td>0</td>\n",
       "      <td>0</td>\n",
       "      <td>0</td>\n",
       "      <td>0</td>\n",
       "      <td>0</td>\n",
       "      <td>0</td>\n",
       "      <td>0</td>\n",
       "      <td>0</td>\n",
       "      <td>0</td>\n",
       "    </tr>\n",
       "    <tr>\n",
       "      <th>3</th>\n",
       "      <td>0</td>\n",
       "      <td>0</td>\n",
       "      <td>0</td>\n",
       "      <td>0</td>\n",
       "      <td>0</td>\n",
       "      <td>0</td>\n",
       "      <td>0</td>\n",
       "      <td>0</td>\n",
       "      <td>0</td>\n",
       "      <td>0</td>\n",
       "      <td>0</td>\n",
       "      <td>0</td>\n",
       "      <td>0</td>\n",
       "      <td>0</td>\n",
       "      <td>0</td>\n",
       "      <td>0</td>\n",
       "    </tr>\n",
       "    <tr>\n",
       "      <th>4</th>\n",
       "      <td>0</td>\n",
       "      <td>0</td>\n",
       "      <td>0</td>\n",
       "      <td>0</td>\n",
       "      <td>0</td>\n",
       "      <td>0</td>\n",
       "      <td>0</td>\n",
       "      <td>0</td>\n",
       "      <td>0</td>\n",
       "      <td>0</td>\n",
       "      <td>0</td>\n",
       "      <td>1</td>\n",
       "      <td>1</td>\n",
       "      <td>0</td>\n",
       "      <td>1</td>\n",
       "      <td>0</td>\n",
       "    </tr>\n",
       "  </tbody>\n",
       "</table>\n",
       "</div>"
      ],
      "text/plain": [
       "   best  model0  model1  model2  model3  model4  model5  model6  model7  \\\n",
       "0     1       1       1       1       1       1       1       1       1   \n",
       "1     1       1       1       1       1       1       1       1       1   \n",
       "2     0       0       0       0       0       0       0       0       0   \n",
       "3     0       0       0       0       0       0       0       0       0   \n",
       "4     0       0       0       0       0       0       0       0       0   \n",
       "\n",
       "   model8  model9  model10  model11  model12  model13  ensemble  \n",
       "0       1       1        0        1        1        1         1  \n",
       "1       1       1        1        1        1        1         1  \n",
       "2       0       0        0        0        0        0         0  \n",
       "3       0       0        0        0        0        0         0  \n",
       "4       0       0        1        1        0        1         0  "
      ]
     },
     "execution_count": 48,
     "metadata": {},
     "output_type": "execute_result"
    }
   ],
   "source": [
    "cols = results_df.columns.tolist()\n",
    "for i in ['best', 'model7', 'model8', 'model9', 'model10', 'model11', 'model12', 'model13', 'ensemble']:\n",
    "    cols.remove(i)\n",
    "threshold = len(cols) // 2\n",
    "print('threshold = {}'.format(threshold))\n",
    "results_df['ensemble'] = results_df.loc[:, cols].apply(lambda x: 1 if x.sum() > threshold else 0, axis=1)\n",
    "results_df.head()"
   ]
  },
  {
   "cell_type": "code",
   "execution_count": 49,
   "metadata": {
    "scrolled": true
   },
   "outputs": [
    {
     "name": "stdout",
     "output_type": "stream",
     "text": [
      "model ensemble accuracy = 59.259%\n"
     ]
    }
   ],
   "source": [
    "acc = 100. * (len(y_val) - (np.abs(results_df['ensemble'].values - y_val)).sum()) / len(y_val)\n",
    "print('model ensemble accuracy = {:06.3f}%'.format(acc))\n",
    "acc_list.append(('0-6', 7, acc))"
   ]
  },
  {
   "cell_type": "markdown",
   "metadata": {},
   "source": [
    "#### Use models 0-4 (5 models)"
   ]
  },
  {
   "cell_type": "code",
   "execution_count": 50,
   "metadata": {},
   "outputs": [
    {
     "name": "stdout",
     "output_type": "stream",
     "text": [
      "threshold = 2\n"
     ]
    },
    {
     "data": {
      "text/html": [
       "<div>\n",
       "<style scoped>\n",
       "    .dataframe tbody tr th:only-of-type {\n",
       "        vertical-align: middle;\n",
       "    }\n",
       "\n",
       "    .dataframe tbody tr th {\n",
       "        vertical-align: top;\n",
       "    }\n",
       "\n",
       "    .dataframe thead th {\n",
       "        text-align: right;\n",
       "    }\n",
       "</style>\n",
       "<table border=\"1\" class=\"dataframe\">\n",
       "  <thead>\n",
       "    <tr style=\"text-align: right;\">\n",
       "      <th></th>\n",
       "      <th>best</th>\n",
       "      <th>model0</th>\n",
       "      <th>model1</th>\n",
       "      <th>model2</th>\n",
       "      <th>model3</th>\n",
       "      <th>model4</th>\n",
       "      <th>model5</th>\n",
       "      <th>model6</th>\n",
       "      <th>model7</th>\n",
       "      <th>model8</th>\n",
       "      <th>model9</th>\n",
       "      <th>model10</th>\n",
       "      <th>model11</th>\n",
       "      <th>model12</th>\n",
       "      <th>model13</th>\n",
       "      <th>ensemble</th>\n",
       "    </tr>\n",
       "  </thead>\n",
       "  <tbody>\n",
       "    <tr>\n",
       "      <th>0</th>\n",
       "      <td>1</td>\n",
       "      <td>1</td>\n",
       "      <td>1</td>\n",
       "      <td>1</td>\n",
       "      <td>1</td>\n",
       "      <td>1</td>\n",
       "      <td>1</td>\n",
       "      <td>1</td>\n",
       "      <td>1</td>\n",
       "      <td>1</td>\n",
       "      <td>1</td>\n",
       "      <td>0</td>\n",
       "      <td>1</td>\n",
       "      <td>1</td>\n",
       "      <td>1</td>\n",
       "      <td>1</td>\n",
       "    </tr>\n",
       "    <tr>\n",
       "      <th>1</th>\n",
       "      <td>1</td>\n",
       "      <td>1</td>\n",
       "      <td>1</td>\n",
       "      <td>1</td>\n",
       "      <td>1</td>\n",
       "      <td>1</td>\n",
       "      <td>1</td>\n",
       "      <td>1</td>\n",
       "      <td>1</td>\n",
       "      <td>1</td>\n",
       "      <td>1</td>\n",
       "      <td>1</td>\n",
       "      <td>1</td>\n",
       "      <td>1</td>\n",
       "      <td>1</td>\n",
       "      <td>1</td>\n",
       "    </tr>\n",
       "    <tr>\n",
       "      <th>2</th>\n",
       "      <td>0</td>\n",
       "      <td>0</td>\n",
       "      <td>0</td>\n",
       "      <td>0</td>\n",
       "      <td>0</td>\n",
       "      <td>0</td>\n",
       "      <td>0</td>\n",
       "      <td>0</td>\n",
       "      <td>0</td>\n",
       "      <td>0</td>\n",
       "      <td>0</td>\n",
       "      <td>0</td>\n",
       "      <td>0</td>\n",
       "      <td>0</td>\n",
       "      <td>0</td>\n",
       "      <td>0</td>\n",
       "    </tr>\n",
       "    <tr>\n",
       "      <th>3</th>\n",
       "      <td>0</td>\n",
       "      <td>0</td>\n",
       "      <td>0</td>\n",
       "      <td>0</td>\n",
       "      <td>0</td>\n",
       "      <td>0</td>\n",
       "      <td>0</td>\n",
       "      <td>0</td>\n",
       "      <td>0</td>\n",
       "      <td>0</td>\n",
       "      <td>0</td>\n",
       "      <td>0</td>\n",
       "      <td>0</td>\n",
       "      <td>0</td>\n",
       "      <td>0</td>\n",
       "      <td>0</td>\n",
       "    </tr>\n",
       "    <tr>\n",
       "      <th>4</th>\n",
       "      <td>0</td>\n",
       "      <td>0</td>\n",
       "      <td>0</td>\n",
       "      <td>0</td>\n",
       "      <td>0</td>\n",
       "      <td>0</td>\n",
       "      <td>0</td>\n",
       "      <td>0</td>\n",
       "      <td>0</td>\n",
       "      <td>0</td>\n",
       "      <td>0</td>\n",
       "      <td>1</td>\n",
       "      <td>1</td>\n",
       "      <td>0</td>\n",
       "      <td>1</td>\n",
       "      <td>0</td>\n",
       "    </tr>\n",
       "  </tbody>\n",
       "</table>\n",
       "</div>"
      ],
      "text/plain": [
       "   best  model0  model1  model2  model3  model4  model5  model6  model7  \\\n",
       "0     1       1       1       1       1       1       1       1       1   \n",
       "1     1       1       1       1       1       1       1       1       1   \n",
       "2     0       0       0       0       0       0       0       0       0   \n",
       "3     0       0       0       0       0       0       0       0       0   \n",
       "4     0       0       0       0       0       0       0       0       0   \n",
       "\n",
       "   model8  model9  model10  model11  model12  model13  ensemble  \n",
       "0       1       1        0        1        1        1         1  \n",
       "1       1       1        1        1        1        1         1  \n",
       "2       0       0        0        0        0        0         0  \n",
       "3       0       0        0        0        0        0         0  \n",
       "4       0       0        1        1        0        1         0  "
      ]
     },
     "execution_count": 50,
     "metadata": {},
     "output_type": "execute_result"
    }
   ],
   "source": [
    "cols = results_df.columns.tolist()\n",
    "for i in ['best', 'model5', 'model6', 'model7', 'model8', 'model9', 'model10', 'model11', 'model12', 'model13', 'ensemble']:\n",
    "    cols.remove(i)\n",
    "threshold = len(cols) // 2\n",
    "print('threshold = {}'.format(threshold))\n",
    "results_df['ensemble'] = results_df.loc[:, cols].apply(lambda x: 1 if x.sum() > threshold else 0, axis=1)\n",
    "results_df.head()"
   ]
  },
  {
   "cell_type": "code",
   "execution_count": 51,
   "metadata": {},
   "outputs": [
    {
     "name": "stdout",
     "output_type": "stream",
     "text": [
      "model ensemble accuracy = 61.279%\n"
     ]
    }
   ],
   "source": [
    "acc = 100. * (len(y_val) - (np.abs(results_df['ensemble'].values - y_val)).sum()) / len(y_val)\n",
    "print('model ensemble accuracy = {:06.3f}%'.format(acc))\n",
    "acc_list.append(('0-4', 5, acc))"
   ]
  },
  {
   "cell_type": "markdown",
   "metadata": {},
   "source": [
    "#### Use models 0, 1, 2 (3 models)"
   ]
  },
  {
   "cell_type": "code",
   "execution_count": 52,
   "metadata": {},
   "outputs": [
    {
     "name": "stdout",
     "output_type": "stream",
     "text": [
      "threshold = 1\n",
      "model ensemble accuracy = 63.636%\n"
     ]
    }
   ],
   "source": [
    "cols = ['model0', 'model1', 'model2']\n",
    "threshold = len(cols) // 2\n",
    "print('threshold = {}'.format(threshold))\n",
    "results_df['ensemble'] = results_df.loc[:, cols].apply(lambda x: 1 if x.sum() > threshold else 0, axis=1)\n",
    "acc = 100. * (len(y_val) - (np.abs(results_df['ensemble'].values - y_val)).sum()) / len(y_val)\n",
    "print('model ensemble accuracy = {:06.3f}%'.format(acc))\n",
    "acc_list.append(('0, 1, 2', 3, acc))"
   ]
  },
  {
   "cell_type": "code",
   "execution_count": 53,
   "metadata": {},
   "outputs": [
    {
     "data": {
      "text/html": [
       "<div>\n",
       "<style scoped>\n",
       "    .dataframe tbody tr th:only-of-type {\n",
       "        vertical-align: middle;\n",
       "    }\n",
       "\n",
       "    .dataframe tbody tr th {\n",
       "        vertical-align: top;\n",
       "    }\n",
       "\n",
       "    .dataframe thead th {\n",
       "        text-align: right;\n",
       "    }\n",
       "</style>\n",
       "<table border=\"1\" class=\"dataframe\">\n",
       "  <thead>\n",
       "    <tr style=\"text-align: right;\">\n",
       "      <th></th>\n",
       "      <th>Models</th>\n",
       "      <th>Number of models</th>\n",
       "      <th>Accuracy</th>\n",
       "    </tr>\n",
       "  </thead>\n",
       "  <tbody>\n",
       "    <tr>\n",
       "      <th>0</th>\n",
       "      <td>0-12</td>\n",
       "      <td>13</td>\n",
       "      <td>62.290</td>\n",
       "    </tr>\n",
       "    <tr>\n",
       "      <th>1</th>\n",
       "      <td>0-10</td>\n",
       "      <td>11</td>\n",
       "      <td>62.290</td>\n",
       "    </tr>\n",
       "    <tr>\n",
       "      <th>2</th>\n",
       "      <td>0-8</td>\n",
       "      <td>9</td>\n",
       "      <td>60.606</td>\n",
       "    </tr>\n",
       "    <tr>\n",
       "      <th>3</th>\n",
       "      <td>0-6</td>\n",
       "      <td>7</td>\n",
       "      <td>59.259</td>\n",
       "    </tr>\n",
       "    <tr>\n",
       "      <th>4</th>\n",
       "      <td>0-4</td>\n",
       "      <td>5</td>\n",
       "      <td>61.279</td>\n",
       "    </tr>\n",
       "    <tr>\n",
       "      <th>5</th>\n",
       "      <td>0, 1, 2</td>\n",
       "      <td>3</td>\n",
       "      <td>63.636</td>\n",
       "    </tr>\n",
       "  </tbody>\n",
       "</table>\n",
       "</div>"
      ],
      "text/plain": [
       "    Models  Number of models  Accuracy\n",
       "0     0-12                13    62.290\n",
       "1     0-10                11    62.290\n",
       "2      0-8                 9    60.606\n",
       "3      0-6                 7    59.259\n",
       "4      0-4                 5    61.279\n",
       "5  0, 1, 2                 3    63.636"
      ]
     },
     "execution_count": 53,
     "metadata": {},
     "output_type": "execute_result"
    }
   ],
   "source": [
    "acc_df = pd.DataFrame(acc_list, columns=['Models', 'Number of models', 'Accuracy'])\n",
    "acc_df"
   ]
  },
  {
   "cell_type": "markdown",
   "metadata": {},
   "source": [
    "**Model ensemble 5** has the best accuracy. The model ensemble beats the best single model accuracy of 63.30%."
   ]
  },
  {
   "cell_type": "markdown",
   "metadata": {},
   "source": [
    "### Ensemble of models of 1x16 conv1D, 2x16 GRU bidirectional, 1x8 Dense\n",
    "* Dropouts (.6/.6/.6)\n",
    "* Warm restarts cycle = 200, max_lr=.001\n",
    "* Saved model are best in each cycle"
   ]
  },
  {
   "cell_type": "code",
   "execution_count": 54,
   "metadata": {},
   "outputs": [],
   "source": [
    "from numpy.random import seed\n",
    "seed(123)\n",
    "from tensorflow import set_random_seed\n",
    "set_random_seed(456)"
   ]
  },
  {
   "cell_type": "code",
   "execution_count": 55,
   "metadata": {},
   "outputs": [
    {
     "name": "stdout",
     "output_type": "stream",
     "text": [
      "_________________________________________________________________\n",
      "Layer (type)                 Output Shape              Param #   \n",
      "=================================================================\n",
      "conv1d_1 (Conv1D)            (None, 192, 16)           1456      \n",
      "_________________________________________________________________\n",
      "batch_normalization_1 (Batch (None, 192, 16)           64        \n",
      "_________________________________________________________________\n",
      "max_pooling1d_1 (MaxPooling1 (None, 96, 16)            0         \n",
      "_________________________________________________________________\n",
      "bidirectional_1 (Bidirection (None, 96, 32)            3264      \n",
      "_________________________________________________________________\n",
      "bidirectional_2 (Bidirection (None, 32)                4800      \n",
      "_________________________________________________________________\n",
      "dropout_1 (Dropout)          (None, 32)                0         \n",
      "_________________________________________________________________\n",
      "dense_1 (Dense)              (None, 8)                 264       \n",
      "_________________________________________________________________\n",
      "dropout_2 (Dropout)          (None, 8)                 0         \n",
      "_________________________________________________________________\n",
      "dense_2 (Dense)              (None, 1)                 9         \n",
      "=================================================================\n",
      "Total params: 9,857\n",
      "Trainable params: 9,825\n",
      "Non-trainable params: 32\n",
      "_________________________________________________________________\n"
     ]
    }
   ],
   "source": [
    "# Best model\n",
    "model = load_model(os.path.join('models-layer2', 'layer2-1x16cv-2x16gruB-1x8d-dropout060606-wr01.best-epch1224.h5'))\n",
    "model.summary()"
   ]
  },
  {
   "cell_type": "code",
   "execution_count": 56,
   "metadata": {},
   "outputs": [],
   "source": [
    "results_df = pd.DataFrame()"
   ]
  },
  {
   "cell_type": "code",
   "execution_count": 57,
   "metadata": {},
   "outputs": [
    {
     "name": "stdout",
     "output_type": "stream",
     "text": [
      "297/297 [==============================] - 1s 4ms/step\n"
     ]
    }
   ],
   "source": [
    "results_df['best'] = pd.Series(model.predict_classes(X_val, batch_size=128, verbose=1).flatten())"
   ]
  },
  {
   "cell_type": "code",
   "execution_count": 58,
   "metadata": {},
   "outputs": [
    {
     "data": {
      "text/plain": [
       "'59.596%'"
      ]
     },
     "execution_count": 58,
     "metadata": {},
     "output_type": "execute_result"
    }
   ],
   "source": [
    "best_acc = 100. * (len(y_val) - (np.abs(results_df['best'].values - y_val)).sum()) / len(y_val)\n",
    "'{:06.3f}%'.format(best_acc)"
   ]
  },
  {
   "cell_type": "code",
   "execution_count": 59,
   "metadata": {},
   "outputs": [
    {
     "data": {
      "text/plain": [
       "['models-layer2/layer2-1x16cv-2x16gruB-1x8d-dropout060606-wr01-weights/model_wgts_cyc0200.h5',\n",
       " 'models-layer2/layer2-1x16cv-2x16gruB-1x8d-dropout060606-wr01-weights/model_wgts_cyc0400.h5',\n",
       " 'models-layer2/layer2-1x16cv-2x16gruB-1x8d-dropout060606-wr01-weights/model_wgts_cyc0600.h5',\n",
       " 'models-layer2/layer2-1x16cv-2x16gruB-1x8d-dropout060606-wr01-weights/model_wgts_cyc0800.h5',\n",
       " 'models-layer2/layer2-1x16cv-2x16gruB-1x8d-dropout060606-wr01-weights/model_wgts_cyc1000.h5',\n",
       " 'models-layer2/layer2-1x16cv-2x16gruB-1x8d-dropout060606-wr01-weights/model_wgts_cyc1200.h5',\n",
       " 'models-layer2/layer2-1x16cv-2x16gruB-1x8d-dropout060606-wr01-weights/model_wgts_cyc1400.h5',\n",
       " 'models-layer2/layer2-1x16cv-2x16gruB-1x8d-dropout060606-wr01-weights/model_wgts_cyc1600.h5',\n",
       " 'models-layer2/layer2-1x16cv-2x16gruB-1x8d-dropout060606-wr01-weights/model_wgts_cyc1800.h5',\n",
       " 'models-layer2/layer2-1x16cv-2x16gruB-1x8d-dropout060606-wr01-weights/model_wgts_cyc2000.h5']"
      ]
     },
     "execution_count": 59,
     "metadata": {},
     "output_type": "execute_result"
    }
   ],
   "source": [
    "path = [os.path.join('models-layer2', 'layer2-1x16cv-2x16gruB-1x8d-dropout060606-wr01-weights', i)\n",
    "        for i in ['model_wgts_cyc0200.h5', 'model_wgts_cyc0400.h5', 'model_wgts_cyc0600.h5',\n",
    "                  'model_wgts_cyc0800.h5', 'model_wgts_cyc1000.h5', 'model_wgts_cyc1200.h5',\n",
    "                  'model_wgts_cyc1400.h5', 'model_wgts_cyc1600.h5',\n",
    "                  'model_wgts_cyc1800.h5', 'model_wgts_cyc2000.h5']]\n",
    "path"
   ]
  },
  {
   "cell_type": "code",
   "execution_count": 60,
   "metadata": {},
   "outputs": [
    {
     "name": "stdout",
     "output_type": "stream",
     "text": [
      "297/297 [==============================] - 0s 938us/step\n",
      "297/297 [==============================] - 0s 949us/step\n",
      "297/297 [==============================] - 0s 974us/step\n",
      "297/297 [==============================] - 0s 1ms/step\n",
      "297/297 [==============================] - 0s 955us/step\n",
      "297/297 [==============================] - 0s 967us/step\n",
      "297/297 [==============================] - 0s 929us/step\n",
      "297/297 [==============================] - 0s 847us/step\n",
      "297/297 [==============================] - 0s 930us/step\n",
      "297/297 [==============================] - 0s 913us/step\n"
     ]
    }
   ],
   "source": [
    "for idx, a_file in enumerate(path):\n",
    "    model.load_weights(filepath=a_file, by_name=False)\n",
    "    results_df['model' + str(idx)] = model.predict_classes(X_val, batch_size=128, verbose=1)"
   ]
  },
  {
   "cell_type": "code",
   "execution_count": 61,
   "metadata": {},
   "outputs": [
    {
     "name": "stdout",
     "output_type": "stream",
     "text": [
      "120\n",
      "91\n",
      "86\n",
      "55\n",
      "36\n",
      "24\n",
      "0\n",
      "19\n",
      "24\n",
      "23\n"
     ]
    }
   ],
   "source": [
    "for i in range(10):\n",
    "    print((results_df['best'] - results_df['model' + str(i)]).abs().sum())"
   ]
  },
  {
   "cell_type": "code",
   "execution_count": 62,
   "metadata": {
    "scrolled": false
   },
   "outputs": [
    {
     "name": "stdout",
     "output_type": "stream",
     "text": [
      "model0 = 54.209%\n",
      "model1 = 57.912%\n",
      "model2 = 57.576%\n",
      "model3 = 57.239%\n",
      "model4 = 57.576%\n",
      "model5 = 58.923%\n",
      "model6 = 59.596%\n",
      "model7 = 58.586%\n",
      "model8 = 57.576%\n",
      "model9 = 57.239%\n"
     ]
    }
   ],
   "source": [
    "for i in range(10):\n",
    "    acc = 100. * (len(y_val) - (np.abs(results_df['model' + str(i)].values - y_val)).sum()) / len(y_val)\n",
    "    print('model' + str(i) + ' = {:06.3f}%'.format(acc))"
   ]
  },
  {
   "cell_type": "code",
   "execution_count": 63,
   "metadata": {},
   "outputs": [],
   "source": [
    "acc_list = []"
   ]
  },
  {
   "cell_type": "markdown",
   "metadata": {},
   "source": [
    "#### Use models 1-9 (9 models)"
   ]
  },
  {
   "cell_type": "code",
   "execution_count": 64,
   "metadata": {},
   "outputs": [
    {
     "name": "stdout",
     "output_type": "stream",
     "text": [
      "threshold = 4\n"
     ]
    },
    {
     "data": {
      "text/html": [
       "<div>\n",
       "<style scoped>\n",
       "    .dataframe tbody tr th:only-of-type {\n",
       "        vertical-align: middle;\n",
       "    }\n",
       "\n",
       "    .dataframe tbody tr th {\n",
       "        vertical-align: top;\n",
       "    }\n",
       "\n",
       "    .dataframe thead th {\n",
       "        text-align: right;\n",
       "    }\n",
       "</style>\n",
       "<table border=\"1\" class=\"dataframe\">\n",
       "  <thead>\n",
       "    <tr style=\"text-align: right;\">\n",
       "      <th></th>\n",
       "      <th>best</th>\n",
       "      <th>model0</th>\n",
       "      <th>model1</th>\n",
       "      <th>model2</th>\n",
       "      <th>model3</th>\n",
       "      <th>model4</th>\n",
       "      <th>model5</th>\n",
       "      <th>model6</th>\n",
       "      <th>model7</th>\n",
       "      <th>model8</th>\n",
       "      <th>model9</th>\n",
       "      <th>ensemble</th>\n",
       "    </tr>\n",
       "  </thead>\n",
       "  <tbody>\n",
       "    <tr>\n",
       "      <th>0</th>\n",
       "      <td>1</td>\n",
       "      <td>0</td>\n",
       "      <td>1</td>\n",
       "      <td>1</td>\n",
       "      <td>1</td>\n",
       "      <td>1</td>\n",
       "      <td>1</td>\n",
       "      <td>1</td>\n",
       "      <td>1</td>\n",
       "      <td>1</td>\n",
       "      <td>1</td>\n",
       "      <td>1</td>\n",
       "    </tr>\n",
       "    <tr>\n",
       "      <th>1</th>\n",
       "      <td>1</td>\n",
       "      <td>0</td>\n",
       "      <td>1</td>\n",
       "      <td>1</td>\n",
       "      <td>1</td>\n",
       "      <td>1</td>\n",
       "      <td>0</td>\n",
       "      <td>1</td>\n",
       "      <td>1</td>\n",
       "      <td>0</td>\n",
       "      <td>0</td>\n",
       "      <td>1</td>\n",
       "    </tr>\n",
       "    <tr>\n",
       "      <th>2</th>\n",
       "      <td>0</td>\n",
       "      <td>0</td>\n",
       "      <td>0</td>\n",
       "      <td>0</td>\n",
       "      <td>0</td>\n",
       "      <td>0</td>\n",
       "      <td>0</td>\n",
       "      <td>0</td>\n",
       "      <td>0</td>\n",
       "      <td>0</td>\n",
       "      <td>0</td>\n",
       "      <td>0</td>\n",
       "    </tr>\n",
       "    <tr>\n",
       "      <th>3</th>\n",
       "      <td>0</td>\n",
       "      <td>0</td>\n",
       "      <td>0</td>\n",
       "      <td>0</td>\n",
       "      <td>0</td>\n",
       "      <td>0</td>\n",
       "      <td>0</td>\n",
       "      <td>0</td>\n",
       "      <td>0</td>\n",
       "      <td>0</td>\n",
       "      <td>0</td>\n",
       "      <td>0</td>\n",
       "    </tr>\n",
       "    <tr>\n",
       "      <th>4</th>\n",
       "      <td>0</td>\n",
       "      <td>0</td>\n",
       "      <td>1</td>\n",
       "      <td>1</td>\n",
       "      <td>0</td>\n",
       "      <td>0</td>\n",
       "      <td>0</td>\n",
       "      <td>0</td>\n",
       "      <td>0</td>\n",
       "      <td>0</td>\n",
       "      <td>0</td>\n",
       "      <td>0</td>\n",
       "    </tr>\n",
       "  </tbody>\n",
       "</table>\n",
       "</div>"
      ],
      "text/plain": [
       "   best  model0  model1  model2  model3  model4  model5  model6  model7  \\\n",
       "0     1       0       1       1       1       1       1       1       1   \n",
       "1     1       0       1       1       1       1       0       1       1   \n",
       "2     0       0       0       0       0       0       0       0       0   \n",
       "3     0       0       0       0       0       0       0       0       0   \n",
       "4     0       0       1       1       0       0       0       0       0   \n",
       "\n",
       "   model8  model9  ensemble  \n",
       "0       1       1         1  \n",
       "1       0       0         1  \n",
       "2       0       0         0  \n",
       "3       0       0         0  \n",
       "4       0       0         0  "
      ]
     },
     "execution_count": 64,
     "metadata": {},
     "output_type": "execute_result"
    }
   ],
   "source": [
    "cols = results_df.columns.tolist()\n",
    "cols.remove('best')\n",
    "cols.remove('model0')\n",
    "threshold = len(cols) // 2\n",
    "print('threshold = {}'.format(threshold))\n",
    "results_df['ensemble'] = results_df.loc[:, cols].apply(lambda x: 1 if x.sum() > threshold else 0, axis=1)\n",
    "results_df.head()"
   ]
  },
  {
   "cell_type": "code",
   "execution_count": 65,
   "metadata": {},
   "outputs": [
    {
     "name": "stdout",
     "output_type": "stream",
     "text": [
      "model ensemble accuracy = 58.249%\n"
     ]
    }
   ],
   "source": [
    "acc = 100. * (len(y_val) - (np.abs(results_df['ensemble'].values - y_val)).sum()) / len(y_val)\n",
    "print('model ensemble accuracy = {:06.3f}%'.format(acc))\n",
    "acc_list.append(('1-9', 9, acc))"
   ]
  },
  {
   "cell_type": "markdown",
   "metadata": {},
   "source": [
    "#### Use models 3-9 (7 models)"
   ]
  },
  {
   "cell_type": "code",
   "execution_count": 66,
   "metadata": {},
   "outputs": [
    {
     "name": "stdout",
     "output_type": "stream",
     "text": [
      "threshold = 3\n"
     ]
    },
    {
     "data": {
      "text/html": [
       "<div>\n",
       "<style scoped>\n",
       "    .dataframe tbody tr th:only-of-type {\n",
       "        vertical-align: middle;\n",
       "    }\n",
       "\n",
       "    .dataframe tbody tr th {\n",
       "        vertical-align: top;\n",
       "    }\n",
       "\n",
       "    .dataframe thead th {\n",
       "        text-align: right;\n",
       "    }\n",
       "</style>\n",
       "<table border=\"1\" class=\"dataframe\">\n",
       "  <thead>\n",
       "    <tr style=\"text-align: right;\">\n",
       "      <th></th>\n",
       "      <th>best</th>\n",
       "      <th>model0</th>\n",
       "      <th>model1</th>\n",
       "      <th>model2</th>\n",
       "      <th>model3</th>\n",
       "      <th>model4</th>\n",
       "      <th>model5</th>\n",
       "      <th>model6</th>\n",
       "      <th>model7</th>\n",
       "      <th>model8</th>\n",
       "      <th>model9</th>\n",
       "      <th>ensemble</th>\n",
       "    </tr>\n",
       "  </thead>\n",
       "  <tbody>\n",
       "    <tr>\n",
       "      <th>0</th>\n",
       "      <td>1</td>\n",
       "      <td>0</td>\n",
       "      <td>1</td>\n",
       "      <td>1</td>\n",
       "      <td>1</td>\n",
       "      <td>1</td>\n",
       "      <td>1</td>\n",
       "      <td>1</td>\n",
       "      <td>1</td>\n",
       "      <td>1</td>\n",
       "      <td>1</td>\n",
       "      <td>1</td>\n",
       "    </tr>\n",
       "    <tr>\n",
       "      <th>1</th>\n",
       "      <td>1</td>\n",
       "      <td>0</td>\n",
       "      <td>1</td>\n",
       "      <td>1</td>\n",
       "      <td>1</td>\n",
       "      <td>1</td>\n",
       "      <td>0</td>\n",
       "      <td>1</td>\n",
       "      <td>1</td>\n",
       "      <td>0</td>\n",
       "      <td>0</td>\n",
       "      <td>1</td>\n",
       "    </tr>\n",
       "    <tr>\n",
       "      <th>2</th>\n",
       "      <td>0</td>\n",
       "      <td>0</td>\n",
       "      <td>0</td>\n",
       "      <td>0</td>\n",
       "      <td>0</td>\n",
       "      <td>0</td>\n",
       "      <td>0</td>\n",
       "      <td>0</td>\n",
       "      <td>0</td>\n",
       "      <td>0</td>\n",
       "      <td>0</td>\n",
       "      <td>0</td>\n",
       "    </tr>\n",
       "    <tr>\n",
       "      <th>3</th>\n",
       "      <td>0</td>\n",
       "      <td>0</td>\n",
       "      <td>0</td>\n",
       "      <td>0</td>\n",
       "      <td>0</td>\n",
       "      <td>0</td>\n",
       "      <td>0</td>\n",
       "      <td>0</td>\n",
       "      <td>0</td>\n",
       "      <td>0</td>\n",
       "      <td>0</td>\n",
       "      <td>0</td>\n",
       "    </tr>\n",
       "    <tr>\n",
       "      <th>4</th>\n",
       "      <td>0</td>\n",
       "      <td>0</td>\n",
       "      <td>1</td>\n",
       "      <td>1</td>\n",
       "      <td>0</td>\n",
       "      <td>0</td>\n",
       "      <td>0</td>\n",
       "      <td>0</td>\n",
       "      <td>0</td>\n",
       "      <td>0</td>\n",
       "      <td>0</td>\n",
       "      <td>0</td>\n",
       "    </tr>\n",
       "  </tbody>\n",
       "</table>\n",
       "</div>"
      ],
      "text/plain": [
       "   best  model0  model1  model2  model3  model4  model5  model6  model7  \\\n",
       "0     1       0       1       1       1       1       1       1       1   \n",
       "1     1       0       1       1       1       1       0       1       1   \n",
       "2     0       0       0       0       0       0       0       0       0   \n",
       "3     0       0       0       0       0       0       0       0       0   \n",
       "4     0       0       1       1       0       0       0       0       0   \n",
       "\n",
       "   model8  model9  ensemble  \n",
       "0       1       1         1  \n",
       "1       0       0         1  \n",
       "2       0       0         0  \n",
       "3       0       0         0  \n",
       "4       0       0         0  "
      ]
     },
     "execution_count": 66,
     "metadata": {},
     "output_type": "execute_result"
    }
   ],
   "source": [
    "cols = results_df.columns.tolist()\n",
    "for i in ['best', 'model0', 'model1', 'model2', 'ensemble']:\n",
    "    cols.remove(i)\n",
    "threshold = len(cols) // 2\n",
    "print('threshold = {}'.format(threshold))\n",
    "results_df['ensemble'] = results_df.loc[:, cols].apply(lambda x: 1 if x.sum() > threshold else 0, axis=1)\n",
    "results_df.head()"
   ]
  },
  {
   "cell_type": "code",
   "execution_count": 67,
   "metadata": {},
   "outputs": [
    {
     "name": "stdout",
     "output_type": "stream",
     "text": [
      "model ensemble accuracy = 58.249%\n"
     ]
    }
   ],
   "source": [
    "acc = 100. * (len(y_val) - (np.abs(results_df['ensemble'].values - y_val)).sum()) / len(y_val)\n",
    "print('model ensemble accuracy = {:06.3f}%'.format(acc))\n",
    "acc_list.append(('3-9', 7, acc))"
   ]
  },
  {
   "cell_type": "markdown",
   "metadata": {},
   "source": [
    "#### Use models 4-8 (5 models)"
   ]
  },
  {
   "cell_type": "code",
   "execution_count": 68,
   "metadata": {},
   "outputs": [
    {
     "name": "stdout",
     "output_type": "stream",
     "text": [
      "threshold = 2\n"
     ]
    },
    {
     "data": {
      "text/html": [
       "<div>\n",
       "<style scoped>\n",
       "    .dataframe tbody tr th:only-of-type {\n",
       "        vertical-align: middle;\n",
       "    }\n",
       "\n",
       "    .dataframe tbody tr th {\n",
       "        vertical-align: top;\n",
       "    }\n",
       "\n",
       "    .dataframe thead th {\n",
       "        text-align: right;\n",
       "    }\n",
       "</style>\n",
       "<table border=\"1\" class=\"dataframe\">\n",
       "  <thead>\n",
       "    <tr style=\"text-align: right;\">\n",
       "      <th></th>\n",
       "      <th>best</th>\n",
       "      <th>model0</th>\n",
       "      <th>model1</th>\n",
       "      <th>model2</th>\n",
       "      <th>model3</th>\n",
       "      <th>model4</th>\n",
       "      <th>model5</th>\n",
       "      <th>model6</th>\n",
       "      <th>model7</th>\n",
       "      <th>model8</th>\n",
       "      <th>model9</th>\n",
       "      <th>ensemble</th>\n",
       "    </tr>\n",
       "  </thead>\n",
       "  <tbody>\n",
       "    <tr>\n",
       "      <th>0</th>\n",
       "      <td>1</td>\n",
       "      <td>0</td>\n",
       "      <td>1</td>\n",
       "      <td>1</td>\n",
       "      <td>1</td>\n",
       "      <td>1</td>\n",
       "      <td>1</td>\n",
       "      <td>1</td>\n",
       "      <td>1</td>\n",
       "      <td>1</td>\n",
       "      <td>1</td>\n",
       "      <td>1</td>\n",
       "    </tr>\n",
       "    <tr>\n",
       "      <th>1</th>\n",
       "      <td>1</td>\n",
       "      <td>0</td>\n",
       "      <td>1</td>\n",
       "      <td>1</td>\n",
       "      <td>1</td>\n",
       "      <td>1</td>\n",
       "      <td>0</td>\n",
       "      <td>1</td>\n",
       "      <td>1</td>\n",
       "      <td>0</td>\n",
       "      <td>0</td>\n",
       "      <td>1</td>\n",
       "    </tr>\n",
       "    <tr>\n",
       "      <th>2</th>\n",
       "      <td>0</td>\n",
       "      <td>0</td>\n",
       "      <td>0</td>\n",
       "      <td>0</td>\n",
       "      <td>0</td>\n",
       "      <td>0</td>\n",
       "      <td>0</td>\n",
       "      <td>0</td>\n",
       "      <td>0</td>\n",
       "      <td>0</td>\n",
       "      <td>0</td>\n",
       "      <td>0</td>\n",
       "    </tr>\n",
       "    <tr>\n",
       "      <th>3</th>\n",
       "      <td>0</td>\n",
       "      <td>0</td>\n",
       "      <td>0</td>\n",
       "      <td>0</td>\n",
       "      <td>0</td>\n",
       "      <td>0</td>\n",
       "      <td>0</td>\n",
       "      <td>0</td>\n",
       "      <td>0</td>\n",
       "      <td>0</td>\n",
       "      <td>0</td>\n",
       "      <td>0</td>\n",
       "    </tr>\n",
       "    <tr>\n",
       "      <th>4</th>\n",
       "      <td>0</td>\n",
       "      <td>0</td>\n",
       "      <td>1</td>\n",
       "      <td>1</td>\n",
       "      <td>0</td>\n",
       "      <td>0</td>\n",
       "      <td>0</td>\n",
       "      <td>0</td>\n",
       "      <td>0</td>\n",
       "      <td>0</td>\n",
       "      <td>0</td>\n",
       "      <td>0</td>\n",
       "    </tr>\n",
       "  </tbody>\n",
       "</table>\n",
       "</div>"
      ],
      "text/plain": [
       "   best  model0  model1  model2  model3  model4  model5  model6  model7  \\\n",
       "0     1       0       1       1       1       1       1       1       1   \n",
       "1     1       0       1       1       1       1       0       1       1   \n",
       "2     0       0       0       0       0       0       0       0       0   \n",
       "3     0       0       0       0       0       0       0       0       0   \n",
       "4     0       0       1       1       0       0       0       0       0   \n",
       "\n",
       "   model8  model9  ensemble  \n",
       "0       1       1         1  \n",
       "1       0       0         1  \n",
       "2       0       0         0  \n",
       "3       0       0         0  \n",
       "4       0       0         0  "
      ]
     },
     "execution_count": 68,
     "metadata": {},
     "output_type": "execute_result"
    }
   ],
   "source": [
    "cols = results_df.columns.tolist()\n",
    "for i in ['best', 'model0', 'model1', 'model2', 'model3', 'model9', 'ensemble']:\n",
    "    cols.remove(i)\n",
    "threshold = len(cols) // 2\n",
    "print('threshold = {}'.format(threshold))\n",
    "results_df['ensemble'] = results_df.loc[:, cols].apply(lambda x: 1 if x.sum() > threshold else 0, axis=1)\n",
    "results_df.head()"
   ]
  },
  {
   "cell_type": "code",
   "execution_count": 69,
   "metadata": {},
   "outputs": [
    {
     "name": "stdout",
     "output_type": "stream",
     "text": [
      "model ensemble accuracy = 58.923%\n"
     ]
    }
   ],
   "source": [
    "acc = 100. * (len(y_val) - (np.abs(results_df['ensemble'].values - y_val)).sum()) / len(y_val)\n",
    "print('model ensemble accuracy = {:06.3f}%'.format(acc))\n",
    "acc_list.append(('4-8', 5, acc))"
   ]
  },
  {
   "cell_type": "markdown",
   "metadata": {},
   "source": [
    "#### Use models 5-7 (3 models)"
   ]
  },
  {
   "cell_type": "code",
   "execution_count": 70,
   "metadata": {},
   "outputs": [
    {
     "name": "stdout",
     "output_type": "stream",
     "text": [
      "threshold = 1\n"
     ]
    },
    {
     "data": {
      "text/html": [
       "<div>\n",
       "<style scoped>\n",
       "    .dataframe tbody tr th:only-of-type {\n",
       "        vertical-align: middle;\n",
       "    }\n",
       "\n",
       "    .dataframe tbody tr th {\n",
       "        vertical-align: top;\n",
       "    }\n",
       "\n",
       "    .dataframe thead th {\n",
       "        text-align: right;\n",
       "    }\n",
       "</style>\n",
       "<table border=\"1\" class=\"dataframe\">\n",
       "  <thead>\n",
       "    <tr style=\"text-align: right;\">\n",
       "      <th></th>\n",
       "      <th>best</th>\n",
       "      <th>model0</th>\n",
       "      <th>model1</th>\n",
       "      <th>model2</th>\n",
       "      <th>model3</th>\n",
       "      <th>model4</th>\n",
       "      <th>model5</th>\n",
       "      <th>model6</th>\n",
       "      <th>model7</th>\n",
       "      <th>model8</th>\n",
       "      <th>model9</th>\n",
       "      <th>ensemble</th>\n",
       "    </tr>\n",
       "  </thead>\n",
       "  <tbody>\n",
       "    <tr>\n",
       "      <th>0</th>\n",
       "      <td>1</td>\n",
       "      <td>0</td>\n",
       "      <td>1</td>\n",
       "      <td>1</td>\n",
       "      <td>1</td>\n",
       "      <td>1</td>\n",
       "      <td>1</td>\n",
       "      <td>1</td>\n",
       "      <td>1</td>\n",
       "      <td>1</td>\n",
       "      <td>1</td>\n",
       "      <td>1</td>\n",
       "    </tr>\n",
       "    <tr>\n",
       "      <th>1</th>\n",
       "      <td>1</td>\n",
       "      <td>0</td>\n",
       "      <td>1</td>\n",
       "      <td>1</td>\n",
       "      <td>1</td>\n",
       "      <td>1</td>\n",
       "      <td>0</td>\n",
       "      <td>1</td>\n",
       "      <td>1</td>\n",
       "      <td>0</td>\n",
       "      <td>0</td>\n",
       "      <td>1</td>\n",
       "    </tr>\n",
       "    <tr>\n",
       "      <th>2</th>\n",
       "      <td>0</td>\n",
       "      <td>0</td>\n",
       "      <td>0</td>\n",
       "      <td>0</td>\n",
       "      <td>0</td>\n",
       "      <td>0</td>\n",
       "      <td>0</td>\n",
       "      <td>0</td>\n",
       "      <td>0</td>\n",
       "      <td>0</td>\n",
       "      <td>0</td>\n",
       "      <td>0</td>\n",
       "    </tr>\n",
       "    <tr>\n",
       "      <th>3</th>\n",
       "      <td>0</td>\n",
       "      <td>0</td>\n",
       "      <td>0</td>\n",
       "      <td>0</td>\n",
       "      <td>0</td>\n",
       "      <td>0</td>\n",
       "      <td>0</td>\n",
       "      <td>0</td>\n",
       "      <td>0</td>\n",
       "      <td>0</td>\n",
       "      <td>0</td>\n",
       "      <td>0</td>\n",
       "    </tr>\n",
       "    <tr>\n",
       "      <th>4</th>\n",
       "      <td>0</td>\n",
       "      <td>0</td>\n",
       "      <td>1</td>\n",
       "      <td>1</td>\n",
       "      <td>0</td>\n",
       "      <td>0</td>\n",
       "      <td>0</td>\n",
       "      <td>0</td>\n",
       "      <td>0</td>\n",
       "      <td>0</td>\n",
       "      <td>0</td>\n",
       "      <td>0</td>\n",
       "    </tr>\n",
       "  </tbody>\n",
       "</table>\n",
       "</div>"
      ],
      "text/plain": [
       "   best  model0  model1  model2  model3  model4  model5  model6  model7  \\\n",
       "0     1       0       1       1       1       1       1       1       1   \n",
       "1     1       0       1       1       1       1       0       1       1   \n",
       "2     0       0       0       0       0       0       0       0       0   \n",
       "3     0       0       0       0       0       0       0       0       0   \n",
       "4     0       0       1       1       0       0       0       0       0   \n",
       "\n",
       "   model8  model9  ensemble  \n",
       "0       1       1         1  \n",
       "1       0       0         1  \n",
       "2       0       0         0  \n",
       "3       0       0         0  \n",
       "4       0       0         0  "
      ]
     },
     "execution_count": 70,
     "metadata": {},
     "output_type": "execute_result"
    }
   ],
   "source": [
    "cols = ['model5', 'model6', 'model7']\n",
    "threshold = len(cols) // 2\n",
    "print('threshold = {}'.format(threshold))\n",
    "results_df['ensemble'] = results_df.loc[:, cols].apply(lambda x: 1 if x.sum() > threshold else 0, axis=1)\n",
    "results_df.head()"
   ]
  },
  {
   "cell_type": "code",
   "execution_count": 71,
   "metadata": {},
   "outputs": [
    {
     "name": "stdout",
     "output_type": "stream",
     "text": [
      "model ensemble accuracy = 59.596%\n"
     ]
    }
   ],
   "source": [
    "acc = 100. * (len(y_val) - (np.abs(results_df['ensemble'].values - y_val)).sum()) / len(y_val)\n",
    "print('model ensemble accuracy = {:06.3f}%'.format(acc))\n",
    "acc_list.append(('5-7', 3, acc))"
   ]
  },
  {
   "cell_type": "markdown",
   "metadata": {},
   "source": [
    "#### Use models 4, 6, 8 (3 models)"
   ]
  },
  {
   "cell_type": "code",
   "execution_count": 72,
   "metadata": {},
   "outputs": [
    {
     "name": "stdout",
     "output_type": "stream",
     "text": [
      "threshold = 1\n",
      "model ensemble accuracy = 58.923%\n"
     ]
    }
   ],
   "source": [
    "cols = ['model4', 'model6', 'model8']\n",
    "threshold = len(cols) // 2\n",
    "print('threshold = {}'.format(threshold))\n",
    "results_df['ensemble'] = results_df.loc[:, cols].apply(lambda x: 1 if x.sum() > threshold else 0, axis=1)\n",
    "acc = 100. * (len(y_val) - (np.abs(results_df['ensemble'].values - y_val)).sum()) / len(y_val)\n",
    "print('model ensemble accuracy = {:06.3f}%'.format(acc))\n",
    "acc_list.append(('4, 6, 8', 3, acc))"
   ]
  },
  {
   "cell_type": "markdown",
   "metadata": {},
   "source": [
    "#### Use models 3, 6, 9"
   ]
  },
  {
   "cell_type": "code",
   "execution_count": 73,
   "metadata": {},
   "outputs": [
    {
     "name": "stdout",
     "output_type": "stream",
     "text": [
      "threshold = 1\n",
      "model ensemble accuracy = 58.586%\n"
     ]
    }
   ],
   "source": [
    "cols = ['model3', 'model6', 'model9']\n",
    "threshold = len(cols) // 2\n",
    "print('threshold = {}'.format(threshold))\n",
    "results_df['ensemble'] = results_df.loc[:, cols].apply(lambda x: 1 if x.sum() > threshold else 0, axis=1)\n",
    "acc = 100. * (len(y_val) - (np.abs(results_df['ensemble'].values - y_val)).sum()) / len(y_val)\n",
    "print('model ensemble accuracy = {:06.3f}%'.format(acc))\n",
    "acc_list.append(('3, 6, 9', 3, acc))"
   ]
  },
  {
   "cell_type": "code",
   "execution_count": 74,
   "metadata": {},
   "outputs": [
    {
     "data": {
      "text/html": [
       "<div>\n",
       "<style scoped>\n",
       "    .dataframe tbody tr th:only-of-type {\n",
       "        vertical-align: middle;\n",
       "    }\n",
       "\n",
       "    .dataframe tbody tr th {\n",
       "        vertical-align: top;\n",
       "    }\n",
       "\n",
       "    .dataframe thead th {\n",
       "        text-align: right;\n",
       "    }\n",
       "</style>\n",
       "<table border=\"1\" class=\"dataframe\">\n",
       "  <thead>\n",
       "    <tr style=\"text-align: right;\">\n",
       "      <th></th>\n",
       "      <th>Models</th>\n",
       "      <th>Number of models</th>\n",
       "      <th>Accuracy</th>\n",
       "    </tr>\n",
       "  </thead>\n",
       "  <tbody>\n",
       "    <tr>\n",
       "      <th>0</th>\n",
       "      <td>1-9</td>\n",
       "      <td>9</td>\n",
       "      <td>58.249</td>\n",
       "    </tr>\n",
       "    <tr>\n",
       "      <th>1</th>\n",
       "      <td>3-9</td>\n",
       "      <td>7</td>\n",
       "      <td>58.249</td>\n",
       "    </tr>\n",
       "    <tr>\n",
       "      <th>2</th>\n",
       "      <td>4-8</td>\n",
       "      <td>5</td>\n",
       "      <td>58.923</td>\n",
       "    </tr>\n",
       "    <tr>\n",
       "      <th>3</th>\n",
       "      <td>5-7</td>\n",
       "      <td>3</td>\n",
       "      <td>59.596</td>\n",
       "    </tr>\n",
       "    <tr>\n",
       "      <th>4</th>\n",
       "      <td>4, 6, 8</td>\n",
       "      <td>3</td>\n",
       "      <td>58.923</td>\n",
       "    </tr>\n",
       "    <tr>\n",
       "      <th>5</th>\n",
       "      <td>3, 6, 9</td>\n",
       "      <td>3</td>\n",
       "      <td>58.586</td>\n",
       "    </tr>\n",
       "  </tbody>\n",
       "</table>\n",
       "</div>"
      ],
      "text/plain": [
       "    Models  Number of models  Accuracy\n",
       "0      1-9                 9    58.249\n",
       "1      3-9                 7    58.249\n",
       "2      4-8                 5    58.923\n",
       "3      5-7                 3    59.596\n",
       "4  4, 6, 8                 3    58.923\n",
       "5  3, 6, 9                 3    58.586"
      ]
     },
     "execution_count": 74,
     "metadata": {},
     "output_type": "execute_result"
    }
   ],
   "source": [
    "acc_df = pd.DataFrame(acc_list, columns=['Models', 'Number of models', 'Accuracy'])\n",
    "acc_df"
   ]
  },
  {
   "cell_type": "markdown",
   "metadata": {},
   "source": [
    "**Model ensemble 3** has the best accuracy which is equivalent to the best model accuracy of 59.60%"
   ]
  },
  {
   "cell_type": "markdown",
   "metadata": {},
   "source": [
    " ## Evaluate model ensembles, best single models on the test set"
   ]
  },
  {
   "cell_type": "code",
   "execution_count": 75,
   "metadata": {},
   "outputs": [
    {
     "name": "stdout",
     "output_type": "stream",
     "text": [
      "<class 'pandas.core.frame.DataFrame'>\n",
      "RangeIndex: 400 entries, 0 to 399\n",
      "Data columns (total 3 columns):\n",
      "id          400 non-null object\n",
      "type        400 non-null object\n",
      "sequence    400 non-null object\n",
      "dtypes: object(3)\n",
      "memory usage: 9.5+ KB\n"
     ]
    }
   ],
   "source": [
    "test_df = pd.read_csv(os.path.join('data', 'independent.csv'))\n",
    "test_df.info()"
   ]
  },
  {
   "cell_type": "code",
   "execution_count": 76,
   "metadata": {},
   "outputs": [
    {
     "data": {
      "text/html": [
       "<div>\n",
       "<style scoped>\n",
       "    .dataframe tbody tr th:only-of-type {\n",
       "        vertical-align: middle;\n",
       "    }\n",
       "\n",
       "    .dataframe tbody tr th {\n",
       "        vertical-align: top;\n",
       "    }\n",
       "\n",
       "    .dataframe thead th {\n",
       "        text-align: right;\n",
       "    }\n",
       "</style>\n",
       "<table border=\"1\" class=\"dataframe\">\n",
       "  <thead>\n",
       "    <tr style=\"text-align: right;\">\n",
       "      <th></th>\n",
       "      <th>id</th>\n",
       "      <th>type</th>\n",
       "      <th>sequence</th>\n",
       "    </tr>\n",
       "  </thead>\n",
       "  <tbody>\n",
       "    <tr>\n",
       "      <th>0</th>\n",
       "      <td>Chr11_6627824_6628024</td>\n",
       "      <td>strong</td>\n",
       "      <td>ATGCTGCCAGAAGGAAAAGGGGTGGAATTAATGAAACTGGAAGGTT...</td>\n",
       "    </tr>\n",
       "    <tr>\n",
       "      <th>1</th>\n",
       "      <td>Chr11_9587224_9587424</td>\n",
       "      <td>strong</td>\n",
       "      <td>GGCATTTTTTAACCTGTGTTTCATTTTCATCTGTGAAATGTGAATA...</td>\n",
       "    </tr>\n",
       "    <tr>\n",
       "      <th>2</th>\n",
       "      <td>Chr11_65187024_65187224</td>\n",
       "      <td>strong</td>\n",
       "      <td>GAAACCACAGAGCTGACCTGGCTTCAGAACAAGATGTGGGGCTCCA...</td>\n",
       "    </tr>\n",
       "    <tr>\n",
       "      <th>3</th>\n",
       "      <td>Chr10_74014594_74014794</td>\n",
       "      <td>strong</td>\n",
       "      <td>TTTGCATAGGGGCATTACCACTGGACTTGGGCTCAGAGCAAGTGTT...</td>\n",
       "    </tr>\n",
       "    <tr>\n",
       "      <th>4</th>\n",
       "      <td>Chr10_105667810_105668010</td>\n",
       "      <td>strong</td>\n",
       "      <td>CGGGAGGCGGGGGTTGCAGTGAGCCAAGATCACACCACTGCACTCC...</td>\n",
       "    </tr>\n",
       "  </tbody>\n",
       "</table>\n",
       "</div>"
      ],
      "text/plain": [
       "                          id    type  \\\n",
       "0      Chr11_6627824_6628024  strong   \n",
       "1      Chr11_9587224_9587424  strong   \n",
       "2    Chr11_65187024_65187224  strong   \n",
       "3    Chr10_74014594_74014794  strong   \n",
       "4  Chr10_105667810_105668010  strong   \n",
       "\n",
       "                                            sequence  \n",
       "0  ATGCTGCCAGAAGGAAAAGGGGTGGAATTAATGAAACTGGAAGGTT...  \n",
       "1  GGCATTTTTTAACCTGTGTTTCATTTTCATCTGTGAAATGTGAATA...  \n",
       "2  GAAACCACAGAGCTGACCTGGCTTCAGAACAAGATGTGGGGCTCCA...  \n",
       "3  TTTGCATAGGGGCATTACCACTGGACTTGGGCTCAGAGCAAGTGTT...  \n",
       "4  CGGGAGGCGGGGGTTGCAGTGAGCCAAGATCACACCACTGCACTCC...  "
      ]
     },
     "execution_count": 76,
     "metadata": {},
     "output_type": "execute_result"
    }
   ],
   "source": [
    "test_df.head()"
   ]
  },
  {
   "cell_type": "code",
   "execution_count": 77,
   "metadata": {},
   "outputs": [
    {
     "data": {
      "text/plain": [
       "non-enhancer    200\n",
       "strong          100\n",
       "weak            100\n",
       "Name: type, dtype: int64"
      ]
     },
     "execution_count": 77,
     "metadata": {},
     "output_type": "execute_result"
    }
   ],
   "source": [
    "test_df['type'].value_counts()"
   ]
  },
  {
   "cell_type": "code",
   "execution_count": 78,
   "metadata": {},
   "outputs": [],
   "source": [
    "test_df['enhancer'] = test_df['type'].map(lambda x: 0.0 if x == 'non-enhancer' else 1.0)"
   ]
  },
  {
   "cell_type": "code",
   "execution_count": 79,
   "metadata": {},
   "outputs": [
    {
     "data": {
      "text/html": [
       "<div>\n",
       "<style scoped>\n",
       "    .dataframe tbody tr th:only-of-type {\n",
       "        vertical-align: middle;\n",
       "    }\n",
       "\n",
       "    .dataframe tbody tr th {\n",
       "        vertical-align: top;\n",
       "    }\n",
       "\n",
       "    .dataframe thead th {\n",
       "        text-align: right;\n",
       "    }\n",
       "</style>\n",
       "<table border=\"1\" class=\"dataframe\">\n",
       "  <thead>\n",
       "    <tr style=\"text-align: right;\">\n",
       "      <th></th>\n",
       "      <th>id</th>\n",
       "      <th>type</th>\n",
       "      <th>sequence</th>\n",
       "      <th>enhancer</th>\n",
       "    </tr>\n",
       "  </thead>\n",
       "  <tbody>\n",
       "    <tr>\n",
       "      <th>0</th>\n",
       "      <td>Chr11_6627824_6628024</td>\n",
       "      <td>strong</td>\n",
       "      <td>ATGCTGCCAGAAGGAAAAGGGGTGGAATTAATGAAACTGGAAGGTT...</td>\n",
       "      <td>1.0</td>\n",
       "    </tr>\n",
       "    <tr>\n",
       "      <th>1</th>\n",
       "      <td>Chr11_9587224_9587424</td>\n",
       "      <td>strong</td>\n",
       "      <td>GGCATTTTTTAACCTGTGTTTCATTTTCATCTGTGAAATGTGAATA...</td>\n",
       "      <td>1.0</td>\n",
       "    </tr>\n",
       "    <tr>\n",
       "      <th>2</th>\n",
       "      <td>Chr11_65187024_65187224</td>\n",
       "      <td>strong</td>\n",
       "      <td>GAAACCACAGAGCTGACCTGGCTTCAGAACAAGATGTGGGGCTCCA...</td>\n",
       "      <td>1.0</td>\n",
       "    </tr>\n",
       "    <tr>\n",
       "      <th>3</th>\n",
       "      <td>Chr10_74014594_74014794</td>\n",
       "      <td>strong</td>\n",
       "      <td>TTTGCATAGGGGCATTACCACTGGACTTGGGCTCAGAGCAAGTGTT...</td>\n",
       "      <td>1.0</td>\n",
       "    </tr>\n",
       "    <tr>\n",
       "      <th>4</th>\n",
       "      <td>Chr10_105667810_105668010</td>\n",
       "      <td>strong</td>\n",
       "      <td>CGGGAGGCGGGGGTTGCAGTGAGCCAAGATCACACCACTGCACTCC...</td>\n",
       "      <td>1.0</td>\n",
       "    </tr>\n",
       "  </tbody>\n",
       "</table>\n",
       "</div>"
      ],
      "text/plain": [
       "                          id    type  \\\n",
       "0      Chr11_6627824_6628024  strong   \n",
       "1      Chr11_9587224_9587424  strong   \n",
       "2    Chr11_65187024_65187224  strong   \n",
       "3    Chr10_74014594_74014794  strong   \n",
       "4  Chr10_105667810_105668010  strong   \n",
       "\n",
       "                                            sequence  enhancer  \n",
       "0  ATGCTGCCAGAAGGAAAAGGGGTGGAATTAATGAAACTGGAAGGTT...       1.0  \n",
       "1  GGCATTTTTTAACCTGTGTTTCATTTTCATCTGTGAAATGTGAATA...       1.0  \n",
       "2  GAAACCACAGAGCTGACCTGGCTTCAGAACAAGATGTGGGGCTCCA...       1.0  \n",
       "3  TTTGCATAGGGGCATTACCACTGGACTTGGGCTCAGAGCAAGTGTT...       1.0  \n",
       "4  CGGGAGGCGGGGGTTGCAGTGAGCCAAGATCACACCACTGCACTCC...       1.0  "
      ]
     },
     "execution_count": 79,
     "metadata": {},
     "output_type": "execute_result"
    }
   ],
   "source": [
    "test_df.head()"
   ]
  },
  {
   "cell_type": "code",
   "execution_count": 80,
   "metadata": {},
   "outputs": [
    {
     "data": {
      "text/html": [
       "<div>\n",
       "<style scoped>\n",
       "    .dataframe tbody tr th:only-of-type {\n",
       "        vertical-align: middle;\n",
       "    }\n",
       "\n",
       "    .dataframe tbody tr th {\n",
       "        vertical-align: top;\n",
       "    }\n",
       "\n",
       "    .dataframe thead th {\n",
       "        text-align: right;\n",
       "    }\n",
       "</style>\n",
       "<table border=\"1\" class=\"dataframe\">\n",
       "  <thead>\n",
       "    <tr style=\"text-align: right;\">\n",
       "      <th></th>\n",
       "      <th>id</th>\n",
       "      <th>type</th>\n",
       "      <th>sequence</th>\n",
       "      <th>enhancer</th>\n",
       "    </tr>\n",
       "  </thead>\n",
       "  <tbody>\n",
       "    <tr>\n",
       "      <th>100</th>\n",
       "      <td>hg19_ct_UserTrack_3545_11005</td>\n",
       "      <td>weak</td>\n",
       "      <td>TTATGGTCACCTTCGACCCCAGAAATAATGGTCTCTGTTGTCAGAT...</td>\n",
       "      <td>1.0</td>\n",
       "    </tr>\n",
       "    <tr>\n",
       "      <th>101</th>\n",
       "      <td>hg19_ct_UserTrack_3545_8529</td>\n",
       "      <td>weak</td>\n",
       "      <td>CATCCAGGCTTGGTCCTGGTTGTTCCTTGCTGTTATACCAGCCTGG...</td>\n",
       "      <td>1.0</td>\n",
       "    </tr>\n",
       "    <tr>\n",
       "      <th>102</th>\n",
       "      <td>hg19_ct_UserTrack_3545_7245</td>\n",
       "      <td>weak</td>\n",
       "      <td>TTGTTTTTTTCTGTTTTGAGACGGAGTTTCGCTCTTGTTGCCCAGG...</td>\n",
       "      <td>1.0</td>\n",
       "    </tr>\n",
       "    <tr>\n",
       "      <th>103</th>\n",
       "      <td>hg19_ct_UserTrack_3545_12669</td>\n",
       "      <td>weak</td>\n",
       "      <td>ACTGTTAAATAGCAAAAATTATTGAGCTCAAACCATCTAACCAGGT...</td>\n",
       "      <td>1.0</td>\n",
       "    </tr>\n",
       "    <tr>\n",
       "      <th>104</th>\n",
       "      <td>hg19_ct_UserTrack_3545_5404</td>\n",
       "      <td>weak</td>\n",
       "      <td>GAGAATTAAGTTTGTATTAAGTTGGAGACCAGGGCAGATGGAAAGA...</td>\n",
       "      <td>1.0</td>\n",
       "    </tr>\n",
       "  </tbody>\n",
       "</table>\n",
       "</div>"
      ],
      "text/plain": [
       "                               id  type  \\\n",
       "100  hg19_ct_UserTrack_3545_11005  weak   \n",
       "101   hg19_ct_UserTrack_3545_8529  weak   \n",
       "102   hg19_ct_UserTrack_3545_7245  weak   \n",
       "103  hg19_ct_UserTrack_3545_12669  weak   \n",
       "104   hg19_ct_UserTrack_3545_5404  weak   \n",
       "\n",
       "                                              sequence  enhancer  \n",
       "100  TTATGGTCACCTTCGACCCCAGAAATAATGGTCTCTGTTGTCAGAT...       1.0  \n",
       "101  CATCCAGGCTTGGTCCTGGTTGTTCCTTGCTGTTATACCAGCCTGG...       1.0  \n",
       "102  TTGTTTTTTTCTGTTTTGAGACGGAGTTTCGCTCTTGTTGCCCAGG...       1.0  \n",
       "103  ACTGTTAAATAGCAAAAATTATTGAGCTCAAACCATCTAACCAGGT...       1.0  \n",
       "104  GAGAATTAAGTTTGTATTAAGTTGGAGACCAGGGCAGATGGAAAGA...       1.0  "
      ]
     },
     "execution_count": 80,
     "metadata": {},
     "output_type": "execute_result"
    }
   ],
   "source": [
    "test_df.loc[test_df['type'] == 'weak', :][:5]"
   ]
  },
  {
   "cell_type": "code",
   "execution_count": 81,
   "metadata": {},
   "outputs": [
    {
     "data": {
      "text/html": [
       "<div>\n",
       "<style scoped>\n",
       "    .dataframe tbody tr th:only-of-type {\n",
       "        vertical-align: middle;\n",
       "    }\n",
       "\n",
       "    .dataframe tbody tr th {\n",
       "        vertical-align: top;\n",
       "    }\n",
       "\n",
       "    .dataframe thead th {\n",
       "        text-align: right;\n",
       "    }\n",
       "</style>\n",
       "<table border=\"1\" class=\"dataframe\">\n",
       "  <thead>\n",
       "    <tr style=\"text-align: right;\">\n",
       "      <th></th>\n",
       "      <th>id</th>\n",
       "      <th>type</th>\n",
       "      <th>sequence</th>\n",
       "      <th>enhancer</th>\n",
       "    </tr>\n",
       "  </thead>\n",
       "  <tbody>\n",
       "    <tr>\n",
       "      <th>200</th>\n",
       "      <td>hg19_ct_UserTrack_3545_158</td>\n",
       "      <td>non-enhancer</td>\n",
       "      <td>AATTTTCTCATTTTCTCATAAAGTTTAACAGTTGTTTATTTGAGTC...</td>\n",
       "      <td>0.0</td>\n",
       "    </tr>\n",
       "    <tr>\n",
       "      <th>201</th>\n",
       "      <td>hg19_ct_UserTrack_3545_57</td>\n",
       "      <td>non-enhancer</td>\n",
       "      <td>ACTGGTTATCTTTTAGGACTAGTTAATATAACCCATTCTCTAACCA...</td>\n",
       "      <td>0.0</td>\n",
       "    </tr>\n",
       "    <tr>\n",
       "      <th>202</th>\n",
       "      <td>hg19_ct_UserTrack_3545_762</td>\n",
       "      <td>non-enhancer</td>\n",
       "      <td>ATGCATATGTTCTTCAGTAAACAGAGCAGCCACTGGTACCACAGGA...</td>\n",
       "      <td>0.0</td>\n",
       "    </tr>\n",
       "    <tr>\n",
       "      <th>203</th>\n",
       "      <td>hg19_ct_UserTrack_3545_78</td>\n",
       "      <td>non-enhancer</td>\n",
       "      <td>CTGCTCTCCTCGCTCTATAAAAGTCAGAGTGCCTAAGCTGTTAATT...</td>\n",
       "      <td>0.0</td>\n",
       "    </tr>\n",
       "    <tr>\n",
       "      <th>204</th>\n",
       "      <td>hg19_ct_UserTrack_3545_9</td>\n",
       "      <td>non-enhancer</td>\n",
       "      <td>GCTTGGGTATATATTGTCCAATATAGCAGGCCTCATGTGCTCCTTA...</td>\n",
       "      <td>0.0</td>\n",
       "    </tr>\n",
       "  </tbody>\n",
       "</table>\n",
       "</div>"
      ],
      "text/plain": [
       "                             id          type  \\\n",
       "200  hg19_ct_UserTrack_3545_158  non-enhancer   \n",
       "201   hg19_ct_UserTrack_3545_57  non-enhancer   \n",
       "202  hg19_ct_UserTrack_3545_762  non-enhancer   \n",
       "203   hg19_ct_UserTrack_3545_78  non-enhancer   \n",
       "204    hg19_ct_UserTrack_3545_9  non-enhancer   \n",
       "\n",
       "                                              sequence  enhancer  \n",
       "200  AATTTTCTCATTTTCTCATAAAGTTTAACAGTTGTTTATTTGAGTC...       0.0  \n",
       "201  ACTGGTTATCTTTTAGGACTAGTTAATATAACCCATTCTCTAACCA...       0.0  \n",
       "202  ATGCATATGTTCTTCAGTAAACAGAGCAGCCACTGGTACCACAGGA...       0.0  \n",
       "203  CTGCTCTCCTCGCTCTATAAAAGTCAGAGTGCCTAAGCTGTTAATT...       0.0  \n",
       "204  GCTTGGGTATATATTGTCCAATATAGCAGGCCTCATGTGCTCCTTA...       0.0  "
      ]
     },
     "execution_count": 81,
     "metadata": {},
     "output_type": "execute_result"
    }
   ],
   "source": [
    "test_df.loc[test_df['type'] == 'non-enhancer', :][:5]"
   ]
  },
  {
   "cell_type": "code",
   "execution_count": 82,
   "metadata": {},
   "outputs": [
    {
     "data": {
      "text/plain": [
       "(400, 200, 10)"
      ]
     },
     "execution_count": 82,
     "metadata": {},
     "output_type": "execute_result"
    }
   ],
   "source": [
    "# X_test = my_pipeline.fit_transform(test_df)  # wrong!\n",
    "X_test = my_pipeline.transform(test_df)\n",
    "X_test.shape"
   ]
  },
  {
   "cell_type": "code",
   "execution_count": 83,
   "metadata": {},
   "outputs": [
    {
     "data": {
      "text/plain": [
       "array([[0.        , 0.        , 0.        , 1.        , 0.86060606,\n",
       "        1.        , 0.31958763, 0.86363636, 0.6       , 0.75      ],\n",
       "       [0.        , 0.        , 1.        , 0.        , 0.04545455,\n",
       "        0.22053232, 0.36082474, 0.09090909, 0.1       , 0.29166667],\n",
       "       [0.        , 1.        , 0.        , 0.        , 1.        ,\n",
       "        0.53612167, 0.49484536, 0.5       , 1.        , 0.75      ],\n",
       "       [0.        , 0.        , 0.        , 0.        , 0.25757576,\n",
       "        0.31558935, 0.7628866 , 0.77272727, 0.3       , 0.79166667],\n",
       "       [0.        , 0.        , 1.        , 0.        , 0.04545455,\n",
       "        0.22053232, 0.36082474, 0.09090909, 0.1       , 0.29166667],\n",
       "       [0.        , 1.        , 0.        , 0.        , 1.        ,\n",
       "        0.53612167, 0.49484536, 0.5       , 1.        , 0.75      ],\n",
       "       [0.        , 0.        , 0.        , 0.        , 0.54848485,\n",
       "        0.17110266, 0.73195876, 0.54545455, 0.3       , 1.        ],\n",
       "       [0.        , 0.        , 0.        , 0.        , 0.04545455,\n",
       "        0.22053232, 0.36082474, 0.09090909, 0.1       , 0.29166667],\n",
       "       [0.        , 0.        , 0.        , 1.        , 0.25757576,\n",
       "        0.31558935, 0.7628866 , 0.77272727, 0.3       , 0.79166667],\n",
       "       [0.        , 1.        , 0.        , 0.        , 0.70606061,\n",
       "        0.27756654, 0.6185567 , 0.5       , 0.4       , 0.83333333]])"
      ]
     },
     "execution_count": 83,
     "metadata": {},
     "output_type": "execute_result"
    }
   ],
   "source": [
    "X_test[0, :10, :]"
   ]
  },
  {
   "cell_type": "code",
   "execution_count": 84,
   "metadata": {},
   "outputs": [
    {
     "data": {
      "text/plain": [
       "(400,)"
      ]
     },
     "execution_count": 84,
     "metadata": {},
     "output_type": "execute_result"
    }
   ],
   "source": [
    "y_test = test_df['enhancer'].values\n",
    "y_test.shape"
   ]
  },
  {
   "cell_type": "code",
   "execution_count": 85,
   "metadata": {
    "scrolled": false
   },
   "outputs": [
    {
     "data": {
      "text/plain": [
       "array([1., 1., 1., 1., 1., 1., 1., 1., 1., 1.])"
      ]
     },
     "execution_count": 85,
     "metadata": {},
     "output_type": "execute_result"
    }
   ],
   "source": [
    "y_test[:10]"
   ]
  },
  {
   "cell_type": "markdown",
   "metadata": {},
   "source": [
    "### Use the best ensemble layer 1 classifier predictions as Input for the Layer 2 Classifier"
   ]
  },
  {
   "cell_type": "code",
   "execution_count": 86,
   "metadata": {
    "scrolled": true
   },
   "outputs": [
    {
     "name": "stdout",
     "output_type": "stream",
     "text": [
      "_________________________________________________________________\n",
      "Layer (type)                 Output Shape              Param #   \n",
      "=================================================================\n",
      "gru_1 (GRU)                  (None, None, 16)          1344      \n",
      "_________________________________________________________________\n",
      "gru_2 (GRU)                  (None, 16)                1632      \n",
      "_________________________________________________________________\n",
      "dropout_1 (Dropout)          (None, 16)                0         \n",
      "_________________________________________________________________\n",
      "dense_1 (Dense)              (None, 16)                272       \n",
      "_________________________________________________________________\n",
      "dropout_2 (Dropout)          (None, 16)                0         \n",
      "_________________________________________________________________\n",
      "dense_2 (Dense)              (None, 1)                 17        \n",
      "=================================================================\n",
      "Total params: 3,265\n",
      "Trainable params: 3,265\n",
      "Non-trainable params: 0\n",
      "_________________________________________________________________\n"
     ]
    }
   ],
   "source": [
    "# Best model. Use this model to load the saved weights for the model ensemble.\n",
    "model = load_model(os.path.join('models', 'pcp-2x16gru1x16dense-dropout010101-wr41.best-epch1283.h5'))\n",
    "model.summary()"
   ]
  },
  {
   "cell_type": "code",
   "execution_count": 87,
   "metadata": {},
   "outputs": [],
   "source": [
    "results_df = pd.DataFrame()"
   ]
  },
  {
   "cell_type": "code",
   "execution_count": 88,
   "metadata": {},
   "outputs": [
    {
     "data": {
      "text/plain": [
       "['models/pcp-2x16gru1x16dense-dropout010101-wr41-weights/model_wgts_cyc1000.h5',\n",
       " 'models/pcp-2x16gru1x16dense-dropout010101-wr41-weights/model_wgts_cyc1200.h5',\n",
       " 'models/pcp-2x16gru1x16dense-dropout010101-wr41-weights/model_wgts_cyc1400.h5',\n",
       " 'models/pcp-2x16gru1x16dense-dropout010101-wr41-weights/model_wgts_cyc1600.h5',\n",
       " 'models/pcp-2x16gru1x16dense-dropout010101-wr41-weights/model_wgts_cyc1800.h5']"
      ]
     },
     "execution_count": 88,
     "metadata": {},
     "output_type": "execute_result"
    }
   ],
   "source": [
    "path = [os.path.join('models', 'pcp-2x16gru1x16dense-dropout010101-wr41-weights', i)\n",
    "        for i in ['model_wgts_cyc1000.h5', 'model_wgts_cyc1200.h5', 'model_wgts_cyc1400.h5',\n",
    "                  'model_wgts_cyc1600.h5', 'model_wgts_cyc1800.h5']]\n",
    "path"
   ]
  },
  {
   "cell_type": "code",
   "execution_count": 89,
   "metadata": {
    "scrolled": true
   },
   "outputs": [
    {
     "name": "stdout",
     "output_type": "stream",
     "text": [
      "400/400 [==============================] - 1s 1ms/step\n",
      "400/400 [==============================] - 0s 635us/step\n",
      "400/400 [==============================] - 0s 639us/step\n",
      "400/400 [==============================] - 0s 639us/step\n",
      "400/400 [==============================] - 0s 696us/step\n"
     ]
    }
   ],
   "source": [
    "for idx, a_file in enumerate(path):\n",
    "    model.load_weights(filepath=a_file, by_name=False)\n",
    "    results_df['model' + str(idx)] = pd.Series(model.predict_classes(X_test, batch_size=128, verbose=1).flatten())"
   ]
  },
  {
   "cell_type": "code",
   "execution_count": 90,
   "metadata": {},
   "outputs": [
    {
     "name": "stdout",
     "output_type": "stream",
     "text": [
      "threshold = 2\n"
     ]
    }
   ],
   "source": [
    "threshold = len(results_df.columns) // 2\n",
    "print('threshold = {}'.format(threshold))\n",
    "test_df['layer1_pred'] = results_df.apply(lambda x: 1 if x.sum() > threshold else 0, axis=1)"
   ]
  },
  {
   "cell_type": "code",
   "execution_count": 91,
   "metadata": {},
   "outputs": [
    {
     "data": {
      "text/plain": [
       "54"
      ]
     },
     "execution_count": 91,
     "metadata": {},
     "output_type": "execute_result"
    }
   ],
   "source": [
    "# Count the number of false negatives in the layer 1 predictions\n",
    "len(test_df.loc[(test_df['enhancer'] == 1.0) & (test_df['layer1_pred'] == 0.0), :]) "
   ]
  },
  {
   "cell_type": "code",
   "execution_count": 92,
   "metadata": {},
   "outputs": [
    {
     "data": {
      "text/plain": [
       "(146, 200, 10)"
      ]
     },
     "execution_count": 92,
     "metadata": {},
     "output_type": "execute_result"
    }
   ],
   "source": [
    "# Get the correctly predicted samples.\n",
    "layer2_df = test_df.loc[(test_df['enhancer'] == 1.0) & (test_df['layer1_pred'] == 1.0), :]\n",
    "#X_layer2_test = my_pipeline.fit_transform(layer2_df)\n",
    "X_layer2_test = my_pipeline.transform(layer2_df)\n",
    "X_layer2_test.shape"
   ]
  },
  {
   "cell_type": "markdown",
   "metadata": {},
   "source": [
    "If samples wrongly identified as 'enhancers' are included in X_layer2_test above, there will be 'non-enhancers' in the column 'type' below. This will cause problems for computing recall and specificity (becomes a multilabel problem)."
   ]
  },
  {
   "cell_type": "code",
   "execution_count": 93,
   "metadata": {},
   "outputs": [
    {
     "data": {
      "text/plain": [
       "strong    89\n",
       "weak      57\n",
       "Name: type, dtype: int64"
      ]
     },
     "execution_count": 93,
     "metadata": {},
     "output_type": "execute_result"
    }
   ],
   "source": [
    "layer2_df['type'].value_counts()"
   ]
  },
  {
   "cell_type": "code",
   "execution_count": 94,
   "metadata": {},
   "outputs": [
    {
     "data": {
      "text/plain": [
       "(146,)"
      ]
     },
     "execution_count": 94,
     "metadata": {},
     "output_type": "execute_result"
    }
   ],
   "source": [
    "y_layer2_test = layer2_df['type'].map(lambda x: 1.0 if x == 'strong' else 0.0).values\n",
    "y_layer2_test.shape"
   ]
  },
  {
   "cell_type": "markdown",
   "metadata": {},
   "source": [
    "### Parameters, Functions for Scoring"
   ]
  },
  {
   "cell_type": "code",
   "execution_count": 95,
   "metadata": {},
   "outputs": [],
   "source": [
    "acc_list = []"
   ]
  },
  {
   "cell_type": "code",
   "execution_count": 96,
   "metadata": {},
   "outputs": [],
   "source": [
    "# customer scorer function for specificity\n",
    "def specificity(y, y_pred):\n",
    "    # print(y_pred)\n",
    "    tn, fp = 0, 0\n",
    "    for idx, a_pred in enumerate(y_pred):\n",
    "        if a_pred and not(y[idx]):\n",
    "            fp += 1\n",
    "        elif not(a_pred) and not(y[idx]):\n",
    "            tn += 1\n",
    "    return tn/(tn+fp)"
   ]
  },
  {
   "cell_type": "code",
   "execution_count": 97,
   "metadata": {},
   "outputs": [],
   "source": [
    "# function for all scores\n",
    "def all_scores(y, y_pred, y_pred_proba):\n",
    "    acc = accuracy_score(y, y_pred) * 100.\n",
    "    recall = recall_score(y, y_pred) * 100.\n",
    "    spec = specificity(y, y_pred) * 100.\n",
    "    auc = roc_auc_score(y, y_pred_proba) * 100.\n",
    "    mcc = matthews_corrcoef(y, y_pred)\n",
    "    return (acc, mcc, recall, spec, auc)"
   ]
  },
  {
   "cell_type": "markdown",
   "metadata": {},
   "source": [
    "### 2x16 GRU, 1x16 Dense Best Single Model\n",
    "* Dropout 0.1\n",
    "* Best accuracy @epoch 865"
   ]
  },
  {
   "cell_type": "code",
   "execution_count": 98,
   "metadata": {},
   "outputs": [
    {
     "name": "stdout",
     "output_type": "stream",
     "text": [
      "_________________________________________________________________\n",
      "Layer (type)                 Output Shape              Param #   \n",
      "=================================================================\n",
      "gru_1 (GRU)                  (None, None, 16)          1344      \n",
      "_________________________________________________________________\n",
      "gru_2 (GRU)                  (None, 16)                1632      \n",
      "_________________________________________________________________\n",
      "dropout_1 (Dropout)          (None, 16)                0         \n",
      "_________________________________________________________________\n",
      "dense_1 (Dense)              (None, 16)                272       \n",
      "_________________________________________________________________\n",
      "dropout_2 (Dropout)          (None, 16)                0         \n",
      "_________________________________________________________________\n",
      "dense_2 (Dense)              (None, 1)                 17        \n",
      "=================================================================\n",
      "Total params: 3,265\n",
      "Trainable params: 3,265\n",
      "Non-trainable params: 0\n",
      "_________________________________________________________________\n"
     ]
    }
   ],
   "source": [
    "# Best model\n",
    "model = load_model(os.path.join('models-layer2', 'layer2-2x16gru1x16dense-dropout0101.best-epch547.h5'))\n",
    "model.summary()"
   ]
  },
  {
   "cell_type": "code",
   "execution_count": 99,
   "metadata": {},
   "outputs": [
    {
     "name": "stdout",
     "output_type": "stream",
     "text": [
      "146/146 [==============================] - 1s 5ms/step\n"
     ]
    }
   ],
   "source": [
    "y_pred = model.predict_classes(X_layer2_test, batch_size=None, verbose=1)"
   ]
  },
  {
   "cell_type": "code",
   "execution_count": 100,
   "metadata": {},
   "outputs": [
    {
     "name": "stdout",
     "output_type": "stream",
     "text": [
      "146/146 [==============================] - 0s 2ms/step\n"
     ]
    }
   ],
   "source": [
    "y_pred_proba = model.predict_proba(X_layer2_test, batch_size=None, verbose=1)"
   ]
  },
  {
   "cell_type": "code",
   "execution_count": 101,
   "metadata": {},
   "outputs": [],
   "source": [
    "acc_list.append(('2x16GRU 1x16D', 'single') + all_scores(y_layer2_test, y_pred, y_pred_proba))"
   ]
  },
  {
   "cell_type": "code",
   "execution_count": 102,
   "metadata": {},
   "outputs": [],
   "source": [
    "fpr0, tpr0, threshold0 = roc_curve(y_layer2_test, y_pred_proba)"
   ]
  },
  {
   "cell_type": "markdown",
   "metadata": {},
   "source": [
    "### 1x16 Conv1D, 2x16 GRU Bidirectional, 1x8 Dense Best Single Model\n",
    "* Dropout 0.6\n",
    "* Best accuracy @epoch 693"
   ]
  },
  {
   "cell_type": "code",
   "execution_count": 103,
   "metadata": {},
   "outputs": [
    {
     "name": "stdout",
     "output_type": "stream",
     "text": [
      "_________________________________________________________________\n",
      "Layer (type)                 Output Shape              Param #   \n",
      "=================================================================\n",
      "conv1d_1 (Conv1D)            (None, 192, 16)           1456      \n",
      "_________________________________________________________________\n",
      "batch_normalization_1 (Batch (None, 192, 16)           64        \n",
      "_________________________________________________________________\n",
      "max_pooling1d_1 (MaxPooling1 (None, 96, 16)            0         \n",
      "_________________________________________________________________\n",
      "bidirectional_1 (Bidirection (None, 96, 32)            3264      \n",
      "_________________________________________________________________\n",
      "bidirectional_2 (Bidirection (None, 32)                4800      \n",
      "_________________________________________________________________\n",
      "dropout_1 (Dropout)          (None, 32)                0         \n",
      "_________________________________________________________________\n",
      "dense_1 (Dense)              (None, 8)                 264       \n",
      "_________________________________________________________________\n",
      "dropout_2 (Dropout)          (None, 8)                 0         \n",
      "_________________________________________________________________\n",
      "dense_2 (Dense)              (None, 1)                 9         \n",
      "=================================================================\n",
      "Total params: 9,857\n",
      "Trainable params: 9,825\n",
      "Non-trainable params: 32\n",
      "_________________________________________________________________\n"
     ]
    }
   ],
   "source": [
    "# Best model\n",
    "model = load_model(os.path.join('models-layer2', 'layer2-1x16cv-2x16gruB-1x8d-dropout060606.best-epch2081.h5'))\n",
    "model.summary()"
   ]
  },
  {
   "cell_type": "code",
   "execution_count": 104,
   "metadata": {},
   "outputs": [
    {
     "name": "stdout",
     "output_type": "stream",
     "text": [
      "146/146 [==============================] - 1s 8ms/step\n"
     ]
    }
   ],
   "source": [
    "y_pred = model.predict_classes(X_layer2_test, batch_size=None, verbose=1)"
   ]
  },
  {
   "cell_type": "code",
   "execution_count": 105,
   "metadata": {},
   "outputs": [
    {
     "name": "stdout",
     "output_type": "stream",
     "text": [
      "146/146 [==============================] - 1s 3ms/step\n"
     ]
    }
   ],
   "source": [
    "y_pred_proba = model.predict_proba(X_layer2_test, batch_size=None, verbose=1)"
   ]
  },
  {
   "cell_type": "code",
   "execution_count": 106,
   "metadata": {},
   "outputs": [],
   "source": [
    "acc_list.append(('1x16 Conv1D 2x16 GRU-B 1x8 Dense', 'single') + all_scores(y_layer2_test, y_pred, y_pred_proba))"
   ]
  },
  {
   "cell_type": "code",
   "execution_count": 107,
   "metadata": {},
   "outputs": [],
   "source": [
    "fpr1, tpr1, threshold1 = roc_curve(y_layer2_test, y_pred_proba)"
   ]
  },
  {
   "cell_type": "markdown",
   "metadata": {},
   "source": [
    "### Model Ensemble of 2x16 GRU, 1x16 Dense using 3 models\n",
    "* Dropouts 0.1\n",
    "* Warm restarts cycle = 200, lr=0.003\n",
    "* Using models 0-2 out of 0-10"
   ]
  },
  {
   "cell_type": "code",
   "execution_count": 108,
   "metadata": {},
   "outputs": [
    {
     "name": "stdout",
     "output_type": "stream",
     "text": [
      "_________________________________________________________________\n",
      "Layer (type)                 Output Shape              Param #   \n",
      "=================================================================\n",
      "gru_1 (GRU)                  (None, None, 16)          1344      \n",
      "_________________________________________________________________\n",
      "gru_2 (GRU)                  (None, 16)                1632      \n",
      "_________________________________________________________________\n",
      "dropout_1 (Dropout)          (None, 16)                0         \n",
      "_________________________________________________________________\n",
      "dense_1 (Dense)              (None, 16)                272       \n",
      "_________________________________________________________________\n",
      "dropout_2 (Dropout)          (None, 16)                0         \n",
      "_________________________________________________________________\n",
      "dense_2 (Dense)              (None, 1)                 17        \n",
      "=================================================================\n",
      "Total params: 3,265\n",
      "Trainable params: 3,265\n",
      "Non-trainable params: 0\n",
      "_________________________________________________________________\n"
     ]
    }
   ],
   "source": [
    "# Best model. Use this model to load the saved weights for the model ensemble.\n",
    "model = load_model(os.path.join('models-layer2', 'layer2-2x16gru1x16dense-dropout010101-wr01.best-epch228.h5'))\n",
    "model.summary()"
   ]
  },
  {
   "cell_type": "code",
   "execution_count": 109,
   "metadata": {},
   "outputs": [],
   "source": [
    "results_df = pd.DataFrame()"
   ]
  },
  {
   "cell_type": "code",
   "execution_count": 110,
   "metadata": {},
   "outputs": [
    {
     "data": {
      "text/plain": [
       "['models-layer2/layer2-2x16gru1x16dense-dropout010101-wr01-weights/model_wgts_cyc0400.h5',\n",
       " 'models-layer2/layer2-2x16gru1x16dense-dropout010101-wr01-weights/model_wgts_cyc0600.h5',\n",
       " 'models-layer2/layer2-2x16gru1x16dense-dropout010101-wr01-weights/model_wgts_cyc0800.h5']"
      ]
     },
     "execution_count": 110,
     "metadata": {},
     "output_type": "execute_result"
    }
   ],
   "source": [
    "path = [os.path.join('models-layer2', 'layer2-2x16gru1x16dense-dropout010101-wr01-weights', i)\n",
    "        for i in ['model_wgts_cyc0400.h5', 'model_wgts_cyc0600.h5', 'model_wgts_cyc0800.h5']]\n",
    "path"
   ]
  },
  {
   "cell_type": "code",
   "execution_count": 111,
   "metadata": {},
   "outputs": [
    {
     "name": "stdout",
     "output_type": "stream",
     "text": [
      "146/146 [==============================] - 1s 5ms/step\n",
      "146/146 [==============================] - 0s 884us/step\n",
      "146/146 [==============================] - 0s 882us/step\n"
     ]
    }
   ],
   "source": [
    "for idx, a_file in enumerate(path):\n",
    "    model.load_weights(filepath=a_file, by_name=False)\n",
    "    results_df['model' + str(idx)] = pd.Series(model.predict_classes(X_layer2_test, batch_size=128, verbose=1).flatten())"
   ]
  },
  {
   "cell_type": "code",
   "execution_count": 112,
   "metadata": {},
   "outputs": [
    {
     "data": {
      "text/html": [
       "<div>\n",
       "<style scoped>\n",
       "    .dataframe tbody tr th:only-of-type {\n",
       "        vertical-align: middle;\n",
       "    }\n",
       "\n",
       "    .dataframe tbody tr th {\n",
       "        vertical-align: top;\n",
       "    }\n",
       "\n",
       "    .dataframe thead th {\n",
       "        text-align: right;\n",
       "    }\n",
       "</style>\n",
       "<table border=\"1\" class=\"dataframe\">\n",
       "  <thead>\n",
       "    <tr style=\"text-align: right;\">\n",
       "      <th></th>\n",
       "      <th>model0</th>\n",
       "      <th>model1</th>\n",
       "      <th>model2</th>\n",
       "    </tr>\n",
       "  </thead>\n",
       "  <tbody>\n",
       "    <tr>\n",
       "      <th>0</th>\n",
       "      <td>0</td>\n",
       "      <td>1</td>\n",
       "      <td>1</td>\n",
       "    </tr>\n",
       "    <tr>\n",
       "      <th>1</th>\n",
       "      <td>1</td>\n",
       "      <td>1</td>\n",
       "      <td>1</td>\n",
       "    </tr>\n",
       "    <tr>\n",
       "      <th>2</th>\n",
       "      <td>1</td>\n",
       "      <td>1</td>\n",
       "      <td>1</td>\n",
       "    </tr>\n",
       "    <tr>\n",
       "      <th>3</th>\n",
       "      <td>0</td>\n",
       "      <td>1</td>\n",
       "      <td>1</td>\n",
       "    </tr>\n",
       "    <tr>\n",
       "      <th>4</th>\n",
       "      <td>0</td>\n",
       "      <td>1</td>\n",
       "      <td>1</td>\n",
       "    </tr>\n",
       "  </tbody>\n",
       "</table>\n",
       "</div>"
      ],
      "text/plain": [
       "   model0  model1  model2\n",
       "0       0       1       1\n",
       "1       1       1       1\n",
       "2       1       1       1\n",
       "3       0       1       1\n",
       "4       0       1       1"
      ]
     },
     "execution_count": 112,
     "metadata": {},
     "output_type": "execute_result"
    }
   ],
   "source": [
    "results_df.head()"
   ]
  },
  {
   "cell_type": "code",
   "execution_count": 113,
   "metadata": {},
   "outputs": [
    {
     "name": "stdout",
     "output_type": "stream",
     "text": [
      "threshold = 1\n"
     ]
    },
    {
     "data": {
      "text/html": [
       "<div>\n",
       "<style scoped>\n",
       "    .dataframe tbody tr th:only-of-type {\n",
       "        vertical-align: middle;\n",
       "    }\n",
       "\n",
       "    .dataframe tbody tr th {\n",
       "        vertical-align: top;\n",
       "    }\n",
       "\n",
       "    .dataframe thead th {\n",
       "        text-align: right;\n",
       "    }\n",
       "</style>\n",
       "<table border=\"1\" class=\"dataframe\">\n",
       "  <thead>\n",
       "    <tr style=\"text-align: right;\">\n",
       "      <th></th>\n",
       "      <th>model0</th>\n",
       "      <th>model1</th>\n",
       "      <th>model2</th>\n",
       "      <th>ensemble</th>\n",
       "      <th>ensemble_proba</th>\n",
       "    </tr>\n",
       "  </thead>\n",
       "  <tbody>\n",
       "    <tr>\n",
       "      <th>0</th>\n",
       "      <td>0</td>\n",
       "      <td>1</td>\n",
       "      <td>1</td>\n",
       "      <td>1</td>\n",
       "      <td>0.667</td>\n",
       "    </tr>\n",
       "    <tr>\n",
       "      <th>1</th>\n",
       "      <td>1</td>\n",
       "      <td>1</td>\n",
       "      <td>1</td>\n",
       "      <td>1</td>\n",
       "      <td>1.000</td>\n",
       "    </tr>\n",
       "    <tr>\n",
       "      <th>2</th>\n",
       "      <td>1</td>\n",
       "      <td>1</td>\n",
       "      <td>1</td>\n",
       "      <td>1</td>\n",
       "      <td>1.000</td>\n",
       "    </tr>\n",
       "    <tr>\n",
       "      <th>3</th>\n",
       "      <td>0</td>\n",
       "      <td>1</td>\n",
       "      <td>1</td>\n",
       "      <td>1</td>\n",
       "      <td>0.667</td>\n",
       "    </tr>\n",
       "    <tr>\n",
       "      <th>4</th>\n",
       "      <td>0</td>\n",
       "      <td>1</td>\n",
       "      <td>1</td>\n",
       "      <td>1</td>\n",
       "      <td>0.667</td>\n",
       "    </tr>\n",
       "  </tbody>\n",
       "</table>\n",
       "</div>"
      ],
      "text/plain": [
       "   model0  model1  model2  ensemble  ensemble_proba\n",
       "0       0       1       1         1           0.667\n",
       "1       1       1       1         1           1.000\n",
       "2       1       1       1         1           1.000\n",
       "3       0       1       1         1           0.667\n",
       "4       0       1       1         1           0.667"
      ]
     },
     "execution_count": 113,
     "metadata": {},
     "output_type": "execute_result"
    }
   ],
   "source": [
    "threshold = len(results_df.columns) // 2\n",
    "ensemble_size = len(results_df.columns)\n",
    "print('threshold = {}'.format(threshold))\n",
    "results_df['ensemble'] = results_df.apply(lambda x: 1 if x.sum() > threshold else 0, axis=1)\n",
    "results_df['ensemble_proba'] = results_df.iloc[:, :ensemble_size].apply(lambda x: x.sum() / ensemble_size, axis=1)\n",
    "results_df.head()"
   ]
  },
  {
   "cell_type": "code",
   "execution_count": 114,
   "metadata": {},
   "outputs": [
    {
     "data": {
      "text/plain": [
       "1.000    82\n",
       "0.667    31\n",
       "0.000    18\n",
       "0.333    15\n",
       "Name: ensemble_proba, dtype: int64"
      ]
     },
     "execution_count": 114,
     "metadata": {},
     "output_type": "execute_result"
    }
   ],
   "source": [
    "results_df['ensemble_proba'].value_counts()"
   ]
  },
  {
   "cell_type": "code",
   "execution_count": 115,
   "metadata": {},
   "outputs": [],
   "source": [
    "acc_list.append(('2x16GRU 1x16D', 'ensemble') +\n",
    "                all_scores(y_layer2_test, results_df['ensemble'].values, results_df['ensemble_proba'].values))"
   ]
  },
  {
   "cell_type": "code",
   "execution_count": 116,
   "metadata": {},
   "outputs": [],
   "source": [
    "fpr2, tpr2, threshold2 = roc_curve(y_layer2_test, results_df['ensemble_proba'].values)"
   ]
  },
  {
   "cell_type": "markdown",
   "metadata": {},
   "source": [
    "#### Model Ensemble for base learner 1x16cv, 2x16gruB, 1x8d, dropout 060606 using 3 models (1, 4 and 7) \n",
    "\n",
    "### Model Ensemble of 1x16 Conv1D, 2x16 GRU Bidirectional, 1x8 Dense using 3 models\n",
    "* Dropouts (.6/.6/.6)\n",
    "* Warm restarts cycle = 200, max_lr=.001\n",
    "* Using models 5-7 out of 0-9"
   ]
  },
  {
   "cell_type": "code",
   "execution_count": 117,
   "metadata": {},
   "outputs": [
    {
     "name": "stdout",
     "output_type": "stream",
     "text": [
      "_________________________________________________________________\n",
      "Layer (type)                 Output Shape              Param #   \n",
      "=================================================================\n",
      "conv1d_1 (Conv1D)            (None, 192, 16)           1456      \n",
      "_________________________________________________________________\n",
      "batch_normalization_1 (Batch (None, 192, 16)           64        \n",
      "_________________________________________________________________\n",
      "max_pooling1d_1 (MaxPooling1 (None, 96, 16)            0         \n",
      "_________________________________________________________________\n",
      "bidirectional_1 (Bidirection (None, 96, 32)            3264      \n",
      "_________________________________________________________________\n",
      "bidirectional_2 (Bidirection (None, 32)                4800      \n",
      "_________________________________________________________________\n",
      "dropout_1 (Dropout)          (None, 32)                0         \n",
      "_________________________________________________________________\n",
      "dense_1 (Dense)              (None, 8)                 264       \n",
      "_________________________________________________________________\n",
      "dropout_2 (Dropout)          (None, 8)                 0         \n",
      "_________________________________________________________________\n",
      "dense_2 (Dense)              (None, 1)                 9         \n",
      "=================================================================\n",
      "Total params: 9,857\n",
      "Trainable params: 9,825\n",
      "Non-trainable params: 32\n",
      "_________________________________________________________________\n"
     ]
    }
   ],
   "source": [
    "# Best model\n",
    "model = load_model(os.path.join('models-layer2', 'layer2-1x16cv-2x16gruB-1x8d-dropout060606-wr01.best-epch1224.h5'))\n",
    "model.summary()"
   ]
  },
  {
   "cell_type": "code",
   "execution_count": 118,
   "metadata": {},
   "outputs": [],
   "source": [
    "results_df = pd.DataFrame()"
   ]
  },
  {
   "cell_type": "code",
   "execution_count": 119,
   "metadata": {},
   "outputs": [
    {
     "data": {
      "text/plain": [
       "['models-layer2/layer2-1x16cv-2x16gruB-1x8d-dropout060606-wr01-weights/model_wgts_cyc1200.h5',\n",
       " 'models-layer2/layer2-1x16cv-2x16gruB-1x8d-dropout060606-wr01-weights/model_wgts_cyc1400.h5',\n",
       " 'models-layer2/layer2-1x16cv-2x16gruB-1x8d-dropout060606-wr01-weights/model_wgts_cyc1600.h5']"
      ]
     },
     "execution_count": 119,
     "metadata": {},
     "output_type": "execute_result"
    }
   ],
   "source": [
    "path = [os.path.join('models-layer2', 'layer2-1x16cv-2x16gruB-1x8d-dropout060606-wr01-weights', i)\n",
    "        for i in ['model_wgts_cyc1200.h5', 'model_wgts_cyc1400.h5', 'model_wgts_cyc1600.h5']]\n",
    "path"
   ]
  },
  {
   "cell_type": "code",
   "execution_count": 120,
   "metadata": {},
   "outputs": [
    {
     "name": "stdout",
     "output_type": "stream",
     "text": [
      "146/146 [==============================] - 1s 7ms/step\n",
      "146/146 [==============================] - 0s 1ms/step\n",
      "146/146 [==============================] - 0s 1ms/step\n"
     ]
    }
   ],
   "source": [
    "for idx, a_file in enumerate(path):\n",
    "    model.load_weights(filepath=a_file, by_name=False)\n",
    "    results_df['model' + str(idx)] = pd.Series(model.predict_classes(X_layer2_test, batch_size=128, verbose=1).flatten())"
   ]
  },
  {
   "cell_type": "code",
   "execution_count": 121,
   "metadata": {},
   "outputs": [
    {
     "data": {
      "text/html": [
       "<div>\n",
       "<style scoped>\n",
       "    .dataframe tbody tr th:only-of-type {\n",
       "        vertical-align: middle;\n",
       "    }\n",
       "\n",
       "    .dataframe tbody tr th {\n",
       "        vertical-align: top;\n",
       "    }\n",
       "\n",
       "    .dataframe thead th {\n",
       "        text-align: right;\n",
       "    }\n",
       "</style>\n",
       "<table border=\"1\" class=\"dataframe\">\n",
       "  <thead>\n",
       "    <tr style=\"text-align: right;\">\n",
       "      <th></th>\n",
       "      <th>model0</th>\n",
       "      <th>model1</th>\n",
       "      <th>model2</th>\n",
       "    </tr>\n",
       "  </thead>\n",
       "  <tbody>\n",
       "    <tr>\n",
       "      <th>0</th>\n",
       "      <td>1</td>\n",
       "      <td>1</td>\n",
       "      <td>1</td>\n",
       "    </tr>\n",
       "    <tr>\n",
       "      <th>1</th>\n",
       "      <td>1</td>\n",
       "      <td>1</td>\n",
       "      <td>1</td>\n",
       "    </tr>\n",
       "    <tr>\n",
       "      <th>2</th>\n",
       "      <td>1</td>\n",
       "      <td>1</td>\n",
       "      <td>1</td>\n",
       "    </tr>\n",
       "    <tr>\n",
       "      <th>3</th>\n",
       "      <td>1</td>\n",
       "      <td>1</td>\n",
       "      <td>1</td>\n",
       "    </tr>\n",
       "    <tr>\n",
       "      <th>4</th>\n",
       "      <td>0</td>\n",
       "      <td>0</td>\n",
       "      <td>0</td>\n",
       "    </tr>\n",
       "  </tbody>\n",
       "</table>\n",
       "</div>"
      ],
      "text/plain": [
       "   model0  model1  model2\n",
       "0       1       1       1\n",
       "1       1       1       1\n",
       "2       1       1       1\n",
       "3       1       1       1\n",
       "4       0       0       0"
      ]
     },
     "execution_count": 121,
     "metadata": {},
     "output_type": "execute_result"
    }
   ],
   "source": [
    "results_df.head()"
   ]
  },
  {
   "cell_type": "code",
   "execution_count": 122,
   "metadata": {},
   "outputs": [
    {
     "name": "stdout",
     "output_type": "stream",
     "text": [
      "threshold = 1\n"
     ]
    },
    {
     "data": {
      "text/html": [
       "<div>\n",
       "<style scoped>\n",
       "    .dataframe tbody tr th:only-of-type {\n",
       "        vertical-align: middle;\n",
       "    }\n",
       "\n",
       "    .dataframe tbody tr th {\n",
       "        vertical-align: top;\n",
       "    }\n",
       "\n",
       "    .dataframe thead th {\n",
       "        text-align: right;\n",
       "    }\n",
       "</style>\n",
       "<table border=\"1\" class=\"dataframe\">\n",
       "  <thead>\n",
       "    <tr style=\"text-align: right;\">\n",
       "      <th></th>\n",
       "      <th>model0</th>\n",
       "      <th>model1</th>\n",
       "      <th>model2</th>\n",
       "      <th>ensemble</th>\n",
       "      <th>ensemble_proba</th>\n",
       "    </tr>\n",
       "  </thead>\n",
       "  <tbody>\n",
       "    <tr>\n",
       "      <th>0</th>\n",
       "      <td>1</td>\n",
       "      <td>1</td>\n",
       "      <td>1</td>\n",
       "      <td>1</td>\n",
       "      <td>1.0</td>\n",
       "    </tr>\n",
       "    <tr>\n",
       "      <th>1</th>\n",
       "      <td>1</td>\n",
       "      <td>1</td>\n",
       "      <td>1</td>\n",
       "      <td>1</td>\n",
       "      <td>1.0</td>\n",
       "    </tr>\n",
       "    <tr>\n",
       "      <th>2</th>\n",
       "      <td>1</td>\n",
       "      <td>1</td>\n",
       "      <td>1</td>\n",
       "      <td>1</td>\n",
       "      <td>1.0</td>\n",
       "    </tr>\n",
       "    <tr>\n",
       "      <th>3</th>\n",
       "      <td>1</td>\n",
       "      <td>1</td>\n",
       "      <td>1</td>\n",
       "      <td>1</td>\n",
       "      <td>1.0</td>\n",
       "    </tr>\n",
       "    <tr>\n",
       "      <th>4</th>\n",
       "      <td>0</td>\n",
       "      <td>0</td>\n",
       "      <td>0</td>\n",
       "      <td>0</td>\n",
       "      <td>0.0</td>\n",
       "    </tr>\n",
       "  </tbody>\n",
       "</table>\n",
       "</div>"
      ],
      "text/plain": [
       "   model0  model1  model2  ensemble  ensemble_proba\n",
       "0       1       1       1         1             1.0\n",
       "1       1       1       1         1             1.0\n",
       "2       1       1       1         1             1.0\n",
       "3       1       1       1         1             1.0\n",
       "4       0       0       0         0             0.0"
      ]
     },
     "execution_count": 122,
     "metadata": {},
     "output_type": "execute_result"
    }
   ],
   "source": [
    "threshold = len(results_df.columns) // 2\n",
    "ensemble_size = len(results_df.columns)\n",
    "print('threshold = {}'.format(threshold))\n",
    "results_df['ensemble'] = results_df.apply(lambda x: 1 if x.sum() > threshold else 0, axis=1)\n",
    "results_df['ensemble_proba'] = results_df.iloc[:, :ensemble_size].apply(lambda x: x.sum() / ensemble_size, axis=1)\n",
    "results_df.head()"
   ]
  },
  {
   "cell_type": "code",
   "execution_count": 123,
   "metadata": {},
   "outputs": [
    {
     "data": {
      "text/plain": [
       "1.000    75\n",
       "0.000    44\n",
       "0.667    17\n",
       "0.333    10\n",
       "Name: ensemble_proba, dtype: int64"
      ]
     },
     "execution_count": 123,
     "metadata": {},
     "output_type": "execute_result"
    }
   ],
   "source": [
    "results_df['ensemble_proba'].value_counts()"
   ]
  },
  {
   "cell_type": "code",
   "execution_count": 124,
   "metadata": {},
   "outputs": [],
   "source": [
    "acc_list.append(('1x16 Conv1D 2x16 GRU-B 1x8 Dense', 'ensemble')\n",
    "                + all_scores(y_layer2_test, results_df['ensemble'].values, results_df['ensemble_proba'].values))"
   ]
  },
  {
   "cell_type": "code",
   "execution_count": 125,
   "metadata": {},
   "outputs": [],
   "source": [
    "fpr3, tpr3, threshold3 = roc_curve(y_layer2_test, results_df['ensemble_proba'].values)"
   ]
  },
  {
   "cell_type": "markdown",
   "metadata": {},
   "source": [
    "### Summary of Results"
   ]
  },
  {
   "cell_type": "code",
   "execution_count": 126,
   "metadata": {
    "scrolled": true
   },
   "outputs": [
    {
     "data": {
      "text/html": [
       "<div>\n",
       "<style scoped>\n",
       "    .dataframe tbody tr th:only-of-type {\n",
       "        vertical-align: middle;\n",
       "    }\n",
       "\n",
       "    .dataframe tbody tr th {\n",
       "        vertical-align: top;\n",
       "    }\n",
       "\n",
       "    .dataframe thead th {\n",
       "        text-align: right;\n",
       "    }\n",
       "</style>\n",
       "<table border=\"1\" class=\"dataframe\">\n",
       "  <thead>\n",
       "    <tr style=\"text-align: right;\">\n",
       "      <th></th>\n",
       "      <th>Model</th>\n",
       "      <th>Type</th>\n",
       "      <th>Accuracy(%)</th>\n",
       "      <th>MCC</th>\n",
       "      <th>Recall(%)</th>\n",
       "      <th>Specificity(%)</th>\n",
       "      <th>AUC(%)</th>\n",
       "    </tr>\n",
       "  </thead>\n",
       "  <tbody>\n",
       "    <tr>\n",
       "      <th>0</th>\n",
       "      <td>2x16GRU 1x16D</td>\n",
       "      <td>single</td>\n",
       "      <td>60.959</td>\n",
       "      <td>0.100</td>\n",
       "      <td>86.517</td>\n",
       "      <td>21.053</td>\n",
       "      <td>58.565</td>\n",
       "    </tr>\n",
       "    <tr>\n",
       "      <th>1</th>\n",
       "      <td>1x16 Conv1D 2x16 GRU-B 1x8 Dense</td>\n",
       "      <td>single</td>\n",
       "      <td>68.493</td>\n",
       "      <td>0.312</td>\n",
       "      <td>83.146</td>\n",
       "      <td>45.614</td>\n",
       "      <td>67.140</td>\n",
       "    </tr>\n",
       "    <tr>\n",
       "      <th>2</th>\n",
       "      <td>2x16GRU 1x16D</td>\n",
       "      <td>ensemble</td>\n",
       "      <td>58.904</td>\n",
       "      <td>0.071</td>\n",
       "      <td>79.775</td>\n",
       "      <td>26.316</td>\n",
       "      <td>53.193</td>\n",
       "    </tr>\n",
       "    <tr>\n",
       "      <th>3</th>\n",
       "      <td>1x16 Conv1D 2x16 GRU-B 1x8 Dense</td>\n",
       "      <td>ensemble</td>\n",
       "      <td>62.329</td>\n",
       "      <td>0.201</td>\n",
       "      <td>70.787</td>\n",
       "      <td>49.123</td>\n",
       "      <td>60.477</td>\n",
       "    </tr>\n",
       "  </tbody>\n",
       "</table>\n",
       "</div>"
      ],
      "text/plain": [
       "                              Model      Type  Accuracy(%)    MCC  Recall(%)  \\\n",
       "0                     2x16GRU 1x16D    single       60.959  0.100     86.517   \n",
       "1  1x16 Conv1D 2x16 GRU-B 1x8 Dense    single       68.493  0.312     83.146   \n",
       "2                     2x16GRU 1x16D  ensemble       58.904  0.071     79.775   \n",
       "3  1x16 Conv1D 2x16 GRU-B 1x8 Dense  ensemble       62.329  0.201     70.787   \n",
       "\n",
       "   Specificity(%)  AUC(%)  \n",
       "0          21.053  58.565  \n",
       "1          45.614  67.140  \n",
       "2          26.316  53.193  \n",
       "3          49.123  60.477  "
      ]
     },
     "execution_count": 126,
     "metadata": {},
     "output_type": "execute_result"
    }
   ],
   "source": [
    "acc_df = pd.DataFrame(acc_list, columns=['Model', 'Type', 'Accuracy(%)', 'MCC', 'Recall(%)', 'Specificity(%)',\n",
    "                                         'AUC(%)'])\n",
    "acc_df"
   ]
  },
  {
   "cell_type": "markdown",
   "metadata": {},
   "source": [
    "### ROC for Best Model"
   ]
  },
  {
   "cell_type": "code",
   "execution_count": 127,
   "metadata": {},
   "outputs": [
    {
     "data": {
      "image/png": "[encoded data removed]",
      "text/plain": [
       "<Figure size 432x288 with 1 Axes>"
      ]
     },
     "metadata": {
      "needs_background": "light"
     },
     "output_type": "display_data"
    }
   ],
   "source": [
    "plt.plot(fpr0, tpr0, linewidth=2)\n",
    "plt.plot([0, 1], [0, 1], 'k--')\n",
    "plt.axis([0, 1, 0, 1])\n",
    "plt.xlabel('False Positive Rate')\n",
    "plt.ylabel('True Positive Rate')\n",
    "plt.title('Single Model 2x16 GRU, 1x16 Dense\\nReceiver Operating Characteristic (ROC) Curve')\n",
    "plt.savefig('roc_gru_layer2.svg')"
   ]
  },
  {
   "cell_type": "code",
   "execution_count": 128,
   "metadata": {},
   "outputs": [
    {
     "data": {
      "text/plain": [
       "array([0.        , 0.        , 0.01754386, 0.01754386, 0.03508772,\n",
       "       0.03508772, 0.05263158, 0.05263158, 0.0877193 , 0.0877193 ,\n",
       "       0.12280702, 0.12280702, 0.14035088, 0.14035088, 0.15789474,\n",
       "       0.15789474, 0.1754386 , 0.1754386 , 0.19298246, 0.19298246,\n",
       "       0.22807018, 0.22807018, 0.24561404, 0.24561404, 0.26315789,\n",
       "       0.26315789, 0.33333333, 0.33333333, 0.35087719, 0.35087719,\n",
       "       0.36842105, 0.36842105, 0.38596491, 0.38596491, 0.40350877,\n",
       "       0.40350877, 0.43859649, 0.43859649, 0.45614035, 0.45614035,\n",
       "       0.49122807, 0.49122807, 0.54385965, 0.54385965, 0.56140351,\n",
       "       0.56140351, 0.63157895, 0.63157895, 0.66666667, 0.66666667,\n",
       "       0.68421053, 0.68421053, 0.73684211, 0.73684211, 0.80701754,\n",
       "       0.80701754, 0.9122807 , 0.9122807 , 0.92982456, 0.92982456,\n",
       "       0.94736842, 0.94736842, 0.96491228, 0.96491228, 0.98245614,\n",
       "       0.98245614, 1.        , 1.        ])"
      ]
     },
     "execution_count": 128,
     "metadata": {},
     "output_type": "execute_result"
    }
   ],
   "source": [
    "fpr0"
   ]
  },
  {
   "cell_type": "code",
   "execution_count": 129,
   "metadata": {},
   "outputs": [
    {
     "data": {
      "text/plain": [
       "array([1.829302  , 0.82930195, 0.8280385 , 0.7836997 , 0.7780448 ,\n",
       "       0.7689248 , 0.76543546, 0.75114113, 0.74953294, 0.74856627,\n",
       "       0.7390752 , 0.7322848 , 0.7308641 , 0.7263147 , 0.7246027 ,\n",
       "       0.711618  , 0.7101799 , 0.70867014, 0.70631766, 0.69134176,\n",
       "       0.67852306, 0.67398643, 0.6720605 , 0.66687423, 0.6611936 ,\n",
       "       0.6317731 , 0.6203727 , 0.61712754, 0.6164315 , 0.61267453,\n",
       "       0.611032  , 0.60573786, 0.60508215, 0.60151535, 0.59941447,\n",
       "       0.59808123, 0.59348553, 0.5910386 , 0.5893435 , 0.5846491 ,\n",
       "       0.5827373 , 0.57861257, 0.5735011 , 0.57229686, 0.5698449 ,\n",
       "       0.5690804 , 0.5652091 , 0.5650176 , 0.5588742 , 0.52576834,\n",
       "       0.52482045, 0.5229969 , 0.51975375, 0.5131642 , 0.4919139 ,\n",
       "       0.48756072, 0.41677824, 0.41438413, 0.40460262, 0.39838597,\n",
       "       0.3955195 , 0.38186774, 0.3697683 , 0.35113814, 0.35110924,\n",
       "       0.32778215, 0.29363054, 0.16216433], dtype=float32)"
      ]
     },
     "execution_count": 129,
     "metadata": {},
     "output_type": "execute_result"
    }
   ],
   "source": [
    "threshold0"
   ]
  },
  {
   "cell_type": "code",
   "execution_count": 130,
   "metadata": {},
   "outputs": [
    {
     "data": {
      "text/plain": [
       "array([0.        , 0.01123596, 0.01123596, 0.04494382, 0.04494382,\n",
       "       0.06741573, 0.06741573, 0.13483146, 0.13483146, 0.14606742,\n",
       "       0.14606742, 0.15730337, 0.15730337, 0.17977528, 0.17977528,\n",
       "       0.23595506, 0.23595506, 0.24719101, 0.24719101, 0.26966292,\n",
       "       0.26966292, 0.29213483, 0.29213483, 0.31460674, 0.31460674,\n",
       "       0.43820225, 0.43820225, 0.46067416, 0.46067416, 0.50561798,\n",
       "       0.50561798, 0.53932584, 0.53932584, 0.56179775, 0.56179775,\n",
       "       0.58426966, 0.58426966, 0.61797753, 0.61797753, 0.68539326,\n",
       "       0.68539326, 0.69662921, 0.69662921, 0.70786517, 0.70786517,\n",
       "       0.71910112, 0.71910112, 0.73033708, 0.73033708, 0.82022472,\n",
       "       0.82022472, 0.83146067, 0.83146067, 0.86516854, 0.86516854,\n",
       "       0.87640449, 0.87640449, 0.88764045, 0.88764045, 0.8988764 ,\n",
       "       0.8988764 , 0.92134831, 0.92134831, 0.93258427, 0.93258427,\n",
       "       0.94382022, 0.94382022, 1.        ])"
      ]
     },
     "execution_count": 130,
     "metadata": {},
     "output_type": "execute_result"
    }
   ],
   "source": [
    "tpr0"
   ]
  },
  {
   "cell_type": "code",
   "execution_count": 131,
   "metadata": {},
   "outputs": [
    {
     "data": {
      "image/png": "[encoded data removed]",
      "text/plain": [
       "<Figure size 432x288 with 1 Axes>"
      ]
     },
     "metadata": {
      "needs_background": "light"
     },
     "output_type": "display_data"
    }
   ],
   "source": [
    "plt.plot(fpr1, tpr1, linewidth=2)\n",
    "plt.plot([0, 1], [0, 1], 'k--')\n",
    "plt.axis([0, 1, 0, 1])\n",
    "plt.xlabel('False Positive Rate')\n",
    "plt.ylabel('True Positive Rate')\n",
    "plt.title('Single Model 21x16 Conv1D, 2x16 GRU Bidirectional, 1x8 Dense\\nReceiver Operating Characteristic (ROC) Curve')\n",
    "plt.savefig('roc_conv1d_layer2.svg')"
   ]
  },
  {
   "cell_type": "code",
   "execution_count": 132,
   "metadata": {},
   "outputs": [
    {
     "data": {
      "text/plain": [
       "array([0.        , 0.        , 0.        , 0.01754386, 0.01754386,\n",
       "       0.03508772, 0.03508772, 0.0877193 , 0.0877193 , 0.10526316,\n",
       "       0.10526316, 0.12280702, 0.12280702, 0.14035088, 0.14035088,\n",
       "       0.19298246, 0.19298246, 0.21052632, 0.21052632, 0.22807018,\n",
       "       0.22807018, 0.24561404, 0.24561404, 0.28070175, 0.28070175,\n",
       "       0.33333333, 0.33333333, 0.35087719, 0.35087719, 0.36842105,\n",
       "       0.36842105, 0.38596491, 0.38596491, 0.40350877, 0.40350877,\n",
       "       0.42105263, 0.42105263, 0.43859649, 0.43859649, 0.47368421,\n",
       "       0.47368421, 0.49122807, 0.49122807, 0.50877193, 0.50877193,\n",
       "       0.52631579, 0.52631579, 0.54385965, 0.54385965, 0.57894737,\n",
       "       0.57894737, 0.61403509, 0.61403509, 0.70175439, 0.70175439,\n",
       "       0.71929825, 0.71929825, 0.78947368, 0.78947368, 0.80701754,\n",
       "       0.80701754, 0.84210526, 0.84210526, 0.92982456, 0.92982456,\n",
       "       0.94736842, 0.94736842, 0.96491228, 0.96491228, 1.        ])"
      ]
     },
     "execution_count": 132,
     "metadata": {},
     "output_type": "execute_result"
    }
   ],
   "source": [
    "fpr1"
   ]
  },
  {
   "cell_type": "code",
   "execution_count": 133,
   "metadata": {},
   "outputs": [
    {
     "data": {
      "text/plain": [
       "array([1.9085555 , 0.90855557, 0.89454114, 0.8928177 , 0.885816  ,\n",
       "       0.8851483 , 0.85714734, 0.8519318 , 0.8064475 , 0.805963  ,\n",
       "       0.7725344 , 0.7690766 , 0.758803  , 0.7558017 , 0.7520821 ,\n",
       "       0.7482409 , 0.7407632 , 0.73715734, 0.71295   , 0.7053485 ,\n",
       "       0.68295103, 0.67223024, 0.6716502 , 0.6669695 , 0.6649866 ,\n",
       "       0.6532818 , 0.6502151 , 0.64835286, 0.61618334, 0.61423504,\n",
       "       0.614102  , 0.6136639 , 0.6088065 , 0.59804374, 0.58008105,\n",
       "       0.575762  , 0.5685295 , 0.566518  , 0.55558246, 0.548906  ,\n",
       "       0.54029363, 0.5360832 , 0.5295486 , 0.5286123 , 0.5272514 ,\n",
       "       0.5160178 , 0.5148024 , 0.51089495, 0.50190425, 0.4842528 ,\n",
       "       0.479109  , 0.4490355 , 0.4466728 , 0.38111278, 0.3688635 ,\n",
       "       0.36851293, 0.35265854, 0.26063856, 0.21564479, 0.18188465,\n",
       "       0.17670514, 0.160373  , 0.15749297, 0.08388452, 0.08218454,\n",
       "       0.07313151, 0.05825245, 0.05728605, 0.05258109, 0.0160343 ],\n",
       "      dtype=float32)"
      ]
     },
     "execution_count": 133,
     "metadata": {},
     "output_type": "execute_result"
    }
   ],
   "source": [
    "threshold1"
   ]
  },
  {
   "cell_type": "code",
   "execution_count": 134,
   "metadata": {},
   "outputs": [
    {
     "data": {
      "text/plain": [
       "array([0.        , 0.01123596, 0.02247191, 0.02247191, 0.04494382,\n",
       "       0.04494382, 0.1011236 , 0.1011236 , 0.20224719, 0.20224719,\n",
       "       0.29213483, 0.29213483, 0.30337079, 0.30337079, 0.31460674,\n",
       "       0.31460674, 0.33707865, 0.33707865, 0.38202247, 0.38202247,\n",
       "       0.50561798, 0.50561798, 0.51685393, 0.51685393, 0.52808989,\n",
       "       0.52808989, 0.53932584, 0.53932584, 0.60674157, 0.60674157,\n",
       "       0.61797753, 0.61797753, 0.64044944, 0.64044944, 0.70786517,\n",
       "       0.70786517, 0.71910112, 0.71910112, 0.7752809 , 0.7752809 ,\n",
       "       0.78651685, 0.78651685, 0.79775281, 0.79775281, 0.80898876,\n",
       "       0.80898876, 0.82022472, 0.82022472, 0.83146067, 0.83146067,\n",
       "       0.84269663, 0.84269663, 0.85393258, 0.85393258, 0.86516854,\n",
       "       0.86516854, 0.8988764 , 0.8988764 , 0.93258427, 0.93258427,\n",
       "       0.95505618, 0.95505618, 0.96629213, 0.96629213, 0.97752809,\n",
       "       0.97752809, 0.98876404, 0.98876404, 1.        , 1.        ])"
      ]
     },
     "execution_count": 134,
     "metadata": {},
     "output_type": "execute_result"
    }
   ],
   "source": [
    "tpr1"
   ]
  },
  {
   "cell_type": "code",
   "execution_count": 135,
   "metadata": {},
   "outputs": [
    {
     "data": {
      "image/png": "[encoded data removed]",
      "text/plain": [
       "<Figure size 432x288 with 1 Axes>"
      ]
     },
     "metadata": {
      "needs_background": "light"
     },
     "output_type": "display_data"
    }
   ],
   "source": [
    "plt.plot(fpr2, tpr2, linewidth=2)\n",
    "plt.plot([0, 1], [0, 1], 'k--')\n",
    "plt.axis([0, 1, 0, 1])\n",
    "plt.xlabel('False Positive Rate')\n",
    "plt.ylabel('True Positive Rate')\n",
    "plt.title('Model Ensemble of 2x16 GRU, 1x16 Dense using 5 models\\nReceiver Operating Characteristic (ROC) Curve')\n",
    "plt.savefig('roc_ensmbl_gru_layer2.svg')"
   ]
  },
  {
   "cell_type": "code",
   "execution_count": 136,
   "metadata": {},
   "outputs": [
    {
     "data": {
      "text/plain": [
       "array([0.        , 0.52631579, 0.73684211, 0.87719298, 1.        ])"
      ]
     },
     "execution_count": 136,
     "metadata": {},
     "output_type": "execute_result"
    }
   ],
   "source": [
    "fpr2"
   ]
  },
  {
   "cell_type": "code",
   "execution_count": 137,
   "metadata": {},
   "outputs": [
    {
     "data": {
      "text/plain": [
       "array([2.        , 1.        , 0.66666667, 0.33333333, 0.        ])"
      ]
     },
     "execution_count": 137,
     "metadata": {},
     "output_type": "execute_result"
    }
   ],
   "source": [
    "threshold2"
   ]
  },
  {
   "cell_type": "code",
   "execution_count": 138,
   "metadata": {},
   "outputs": [
    {
     "data": {
      "text/plain": [
       "array([0.        , 0.58426966, 0.79775281, 0.87640449, 1.        ])"
      ]
     },
     "execution_count": 138,
     "metadata": {},
     "output_type": "execute_result"
    }
   ],
   "source": [
    "tpr2"
   ]
  },
  {
   "cell_type": "code",
   "execution_count": 139,
   "metadata": {},
   "outputs": [
    {
     "data": {
      "image/png": "[encoded data removed]",
      "text/plain": [
       "<Figure size 432x288 with 1 Axes>"
      ]
     },
     "metadata": {
      "needs_background": "light"
     },
     "output_type": "display_data"
    }
   ],
   "source": [
    "plt.plot(fpr3, tpr3, linewidth=2)\n",
    "plt.plot([0, 1], [0, 1], 'k--')\n",
    "plt.axis([0, 1, 0, 1])\n",
    "plt.xlabel('False Positive Rate')\n",
    "plt.ylabel('True Positive Rate')\n",
    "plt.title('Model Ensemble of 1x16 Conv1D, 2x16 GRU Bidirectional, 1x8 Dense using 3 models\\nReceiver Operating Characteristic (ROC) Curve')\n",
    "plt.savefig('roc_ensmbl_conv1d_layer2.svg')"
   ]
  },
  {
   "cell_type": "code",
   "execution_count": 140,
   "metadata": {},
   "outputs": [
    {
     "data": {
      "text/plain": [
       "array([0.        , 0.38596491, 0.50877193, 0.63157895, 1.        ])"
      ]
     },
     "execution_count": 140,
     "metadata": {},
     "output_type": "execute_result"
    }
   ],
   "source": [
    "fpr3"
   ]
  },
  {
   "cell_type": "code",
   "execution_count": 141,
   "metadata": {},
   "outputs": [
    {
     "data": {
      "text/plain": [
       "array([2.        , 1.        , 0.66666667, 0.33333333, 0.        ])"
      ]
     },
     "execution_count": 141,
     "metadata": {},
     "output_type": "execute_result"
    }
   ],
   "source": [
    "threshold3"
   ]
  },
  {
   "cell_type": "code",
   "execution_count": 142,
   "metadata": {},
   "outputs": [
    {
     "data": {
      "text/plain": [
       "array([0.        , 0.59550562, 0.70786517, 0.74157303, 1.        ])"
      ]
     },
     "execution_count": 142,
     "metadata": {},
     "output_type": "execute_result"
    }
   ],
   "source": [
    "tpr3"
   ]
  },
  {
   "cell_type": "code",
   "execution_count": 143,
   "metadata": {},
   "outputs": [
    {
     "data": {
      "image/png": "[encoded data removed]",
      "text/plain": [
       "<Figure size 720x504 with 1 Axes>"
      ]
     },
     "metadata": {
      "needs_background": "light"
     },
     "output_type": "display_data"
    }
   ],
   "source": [
    "plt.figure(figsize=(10, 7))\n",
    "plt.plot(fpr0, tpr0, linewidth=1, label='Single Model 2x16 GRU 1x16 Dense')\n",
    "plt.plot(fpr1, tpr1, linewidth=1, label='Single Model 1x16Conv1D 2x16 GRU-B 1x8 Dense')\n",
    "plt.plot(fpr2, tpr2, linewidth=1, label='Model Ensemble 2x16 GRU 1x16 Dense')\n",
    "plt.plot(fpr3, tpr3, linewidth=1, label='Model Ensemble 1x16Conv1D 2x16 GRU-B 1x8 Dense')\n",
    "plt.plot([0, 1], [0, 1], 'k--')\n",
    "plt.axis([0, 1, 0, 1])\n",
    "plt.xlabel('False Positive Rate')\n",
    "plt.ylabel('True Positive Rate')\n",
    "plt.title('Receiver Operating Characteristic (ROC) Curve for All Layer 2 Models')\n",
    "plt.legend()\n",
    "plt.savefig('roc_all_layer2.svg')"
   ]
  }
 ],
 "metadata": {
  "kernelspec": {
   "display_name": "tsfvenv",
   "language": "python",
   "name": "tsfvenv"
  },
  "language_info": {
   "codemirror_mode": {
    "name": "ipython",
    "version": 3
   },
   "file_extension": ".py",
   "mimetype": "text/x-python",
   "name": "python",
   "nbconvert_exporter": "python",
   "pygments_lexer": "ipython3",
   "version": "3.6.7"
  }
 },
 "nbformat": 4,
 "nbformat_minor": 1
}
