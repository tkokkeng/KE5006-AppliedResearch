{
 "cells": [
  {
   "cell_type": "markdown",
   "metadata": {
    "collapsed": true
   },
   "source": [
    "# KE5006 Applied Research\n",
    "\n",
    "### Identifying enhancers and their strength with deep neural networks\n",
    "\n",
    "## Layer 2 Model with Physiochemical Property Features - Results"
   ]
  },
  {
   "cell_type": "markdown",
   "metadata": {},
   "source": [
    "## Summary of Findings\n",
    "\n",
    "## To be updated\n",
    "\n",
    "* Validation Accuracy :\n",
    "    * Ensemble of models of 2x16 GRU, 1x16 Dense\n",
    "        * The best model ensemble of 5 models (around the best model) has an accuracy of 77.449%. The model ensemble beats the best single model accuracy of 76.735% from the same training run.\n",
    "    * Ensemble of models of 1x16 conv1D, 2x16 GRU bidirectional, 1x8 Dense\n",
    "        * The best model ensemble of 3 models (around the best model) has an accuracy of 76.429%. The model ensemble beats the best single model accuracy of 76.224% from the same training run.\n",
    "* Test Accuracy :\n",
    "    * Both ensembles achieved higher accuracy of **75.25%** and **75.50%** than the best single models of 74.00% and 73.75%. The single models were from training runs without warm restarts. "
   ]
  },
  {
   "cell_type": "markdown",
   "metadata": {},
   "source": [
    "## Load libraries"
   ]
  },
  {
   "cell_type": "code",
   "execution_count": 1,
   "metadata": {},
   "outputs": [
    {
     "data": {
      "text/plain": [
       "'/home/tkokkeng/Documents/KE5006-AppliedResearch/enhancer'"
      ]
     },
     "execution_count": 1,
     "metadata": {},
     "output_type": "execute_result"
    }
   ],
   "source": [
    "# Set the working directory (which contains the directories source, data, etc.)\n",
    "import os\n",
    "os.chdir(os.path.join(os.path.sep, 'home', 'tkokkeng', 'Documents', 'KE5006-AppliedResearch', 'enhancer'))\n",
    "os.getcwd()"
   ]
  },
  {
   "cell_type": "code",
   "execution_count": 2,
   "metadata": {},
   "outputs": [
    {
     "data": {
      "text/plain": [
       "['/home/tkokkeng/python/python367/tsfvenv/lib/python36.zip',\n",
       " '/home/tkokkeng/python/python367/tsfvenv/lib/python3.6',\n",
       " '/home/tkokkeng/python/python367/tsfvenv/lib/python3.6/lib-dynload',\n",
       " '/usr/lib/python3.6',\n",
       " '',\n",
       " '/home/tkokkeng/python/python367/tsfvenv/lib/python3.6/site-packages',\n",
       " '/home/tkokkeng/.local/lib/python3.6/site-packages',\n",
       " '/usr/local/lib/python3.6/dist-packages',\n",
       " '/usr/lib/python3/dist-packages',\n",
       " '/home/tkokkeng/python/python367/tsfvenv/lib/python3.6/site-packages/IPython/extensions',\n",
       " '/home/tkokkeng/.ipython',\n",
       " '/home/tkokkeng/Documents/KE5006-AppliedResearch/enhancer/source']"
      ]
     },
     "execution_count": 2,
     "metadata": {},
     "output_type": "execute_result"
    }
   ],
   "source": [
    "# Check if the directory containing the source files are in the path.\n",
    "import sys\n",
    "if os.path.join(os.getcwd(), 'source') not in sys.path:\n",
    "    sys.path.append(os.path.join(os.getcwd(), 'source'))\n",
    "sys.path"
   ]
  },
  {
   "cell_type": "code",
   "execution_count": 3,
   "metadata": {},
   "outputs": [
    {
     "name": "stderr",
     "output_type": "stream",
     "text": [
      "Using TensorFlow backend.\n"
     ]
    }
   ],
   "source": [
    "%matplotlib inline\n",
    "\n",
    "import matplotlib.pyplot as plt\n",
    "import pandas as pd\n",
    "import numpy as np\n",
    "import datetime\n",
    "import pickle\n",
    "\n",
    "import myUtilities as mu\n",
    "\n",
    "from sklearn.metrics import classification_report, confusion_matrix, matthews_corrcoef, make_scorer\n",
    "from sklearn.metrics import recall_score, roc_auc_score, roc_curve, accuracy_score\n",
    "from sklearn.pipeline import Pipeline, FeatureUnion\n",
    "from sklearn.base import BaseEstimator, TransformerMixin\n",
    "from sklearn.model_selection import train_test_split, StratifiedKFold, cross_validate\n",
    "from sklearn.preprocessing import MinMaxScaler\n",
    "\n",
    "from keras.preprocessing.text import Tokenizer\n",
    "from keras.models import Sequential, load_model\n",
    "from keras import layers\n",
    "from keras.optimizers import RMSprop\n",
    "from keras.wrappers.scikit_learn import KerasClassifier\n",
    "from keras.callbacks import EarlyStopping, ModelCheckpoint, TensorBoard"
   ]
  },
  {
   "cell_type": "code",
   "execution_count": 4,
   "metadata": {},
   "outputs": [],
   "source": [
    "pd.set_option('precision', 3)"
   ]
  },
  {
   "cell_type": "markdown",
   "metadata": {},
   "source": [
    "## Load data"
   ]
  },
  {
   "cell_type": "code",
   "execution_count": 5,
   "metadata": {},
   "outputs": [
    {
     "name": "stdout",
     "output_type": "stream",
     "text": [
      "<class 'pandas.core.frame.DataFrame'>\n",
      "RangeIndex: 742 entries, 0 to 741\n",
      "Data columns (total 2 columns):\n",
      "id          742 non-null object\n",
      "sequence    742 non-null object\n",
      "dtypes: object(2)\n",
      "memory usage: 11.7+ KB\n"
     ]
    }
   ],
   "source": [
    "strong_df = pd.read_csv(os.path.join('data', 'strong.csv'))\n",
    "strong_df.info()"
   ]
  },
  {
   "cell_type": "code",
   "execution_count": 6,
   "metadata": {},
   "outputs": [],
   "source": [
    "strong_df['strong'] = np.ones((len(strong_df),))"
   ]
  },
  {
   "cell_type": "code",
   "execution_count": 7,
   "metadata": {},
   "outputs": [
    {
     "data": {
      "text/html": [
       "<div>\n",
       "<style scoped>\n",
       "    .dataframe tbody tr th:only-of-type {\n",
       "        vertical-align: middle;\n",
       "    }\n",
       "\n",
       "    .dataframe tbody tr th {\n",
       "        vertical-align: top;\n",
       "    }\n",
       "\n",
       "    .dataframe thead th {\n",
       "        text-align: right;\n",
       "    }\n",
       "</style>\n",
       "<table border=\"1\" class=\"dataframe\">\n",
       "  <thead>\n",
       "    <tr style=\"text-align: right;\">\n",
       "      <th></th>\n",
       "      <th>id</th>\n",
       "      <th>sequence</th>\n",
       "      <th>strong</th>\n",
       "    </tr>\n",
       "  </thead>\n",
       "  <tbody>\n",
       "    <tr>\n",
       "      <th>0</th>\n",
       "      <td>CHRX_48897056_48897256</td>\n",
       "      <td>CACAATGTAGAAGCAGAGACACAGGAACCAGGCTTGGTGATGGCTC...</td>\n",
       "      <td>1.0</td>\n",
       "    </tr>\n",
       "    <tr>\n",
       "      <th>1</th>\n",
       "      <td>CHR12_6444339_6444539</td>\n",
       "      <td>GCCCTCACATTCCCTGGCCCATCCCCTCCACCTCAAAATTTACAAA...</td>\n",
       "      <td>1.0</td>\n",
       "    </tr>\n",
       "    <tr>\n",
       "      <th>2</th>\n",
       "      <td>CHR12_6444939_6445139</td>\n",
       "      <td>GAGCAGGAGGCCAGTCACCCTGAGTCAGCCACGGGGAGACGCTGCA...</td>\n",
       "      <td>1.0</td>\n",
       "    </tr>\n",
       "    <tr>\n",
       "      <th>3</th>\n",
       "      <td>CHR12_6445139_6445339</td>\n",
       "      <td>CCTCTGCTGAGAACAGGACTGGGGCTTCCAGGGCAACAGGAAGGGT...</td>\n",
       "      <td>1.0</td>\n",
       "    </tr>\n",
       "    <tr>\n",
       "      <th>4</th>\n",
       "      <td>CHR12_6445339_6445539</td>\n",
       "      <td>ACAGCCTTAAAGGGAGCTTTTCAGGGACCTCTGGCCAGTGGGGGAT...</td>\n",
       "      <td>1.0</td>\n",
       "    </tr>\n",
       "  </tbody>\n",
       "</table>\n",
       "</div>"
      ],
      "text/plain": [
       "                       id                                           sequence  \\\n",
       "0  CHRX_48897056_48897256  CACAATGTAGAAGCAGAGACACAGGAACCAGGCTTGGTGATGGCTC...   \n",
       "1   CHR12_6444339_6444539  GCCCTCACATTCCCTGGCCCATCCCCTCCACCTCAAAATTTACAAA...   \n",
       "2   CHR12_6444939_6445139  GAGCAGGAGGCCAGTCACCCTGAGTCAGCCACGGGGAGACGCTGCA...   \n",
       "3   CHR12_6445139_6445339  CCTCTGCTGAGAACAGGACTGGGGCTTCCAGGGCAACAGGAAGGGT...   \n",
       "4   CHR12_6445339_6445539  ACAGCCTTAAAGGGAGCTTTTCAGGGACCTCTGGCCAGTGGGGGAT...   \n",
       "\n",
       "   strong  \n",
       "0     1.0  \n",
       "1     1.0  \n",
       "2     1.0  \n",
       "3     1.0  \n",
       "4     1.0  "
      ]
     },
     "execution_count": 7,
     "metadata": {},
     "output_type": "execute_result"
    }
   ],
   "source": [
    "strong_df.head()"
   ]
  },
  {
   "cell_type": "code",
   "execution_count": 8,
   "metadata": {},
   "outputs": [
    {
     "name": "stdout",
     "output_type": "stream",
     "text": [
      "<class 'pandas.core.frame.DataFrame'>\n",
      "RangeIndex: 742 entries, 0 to 741\n",
      "Data columns (total 2 columns):\n",
      "id          742 non-null object\n",
      "sequence    742 non-null object\n",
      "dtypes: object(2)\n",
      "memory usage: 11.7+ KB\n"
     ]
    }
   ],
   "source": [
    "weak_df = pd.read_csv(os.path.join('data', 'weak.csv'))\n",
    "weak_df.info()"
   ]
  },
  {
   "cell_type": "code",
   "execution_count": 9,
   "metadata": {},
   "outputs": [],
   "source": [
    "weak_df['strong'] = np.zeros((len(weak_df),))"
   ]
  },
  {
   "cell_type": "code",
   "execution_count": 10,
   "metadata": {},
   "outputs": [
    {
     "data": {
      "text/html": [
       "<div>\n",
       "<style scoped>\n",
       "    .dataframe tbody tr th:only-of-type {\n",
       "        vertical-align: middle;\n",
       "    }\n",
       "\n",
       "    .dataframe tbody tr th {\n",
       "        vertical-align: top;\n",
       "    }\n",
       "\n",
       "    .dataframe thead th {\n",
       "        text-align: right;\n",
       "    }\n",
       "</style>\n",
       "<table border=\"1\" class=\"dataframe\">\n",
       "  <thead>\n",
       "    <tr style=\"text-align: right;\">\n",
       "      <th></th>\n",
       "      <th>id</th>\n",
       "      <th>sequence</th>\n",
       "      <th>strong</th>\n",
       "    </tr>\n",
       "  </thead>\n",
       "  <tbody>\n",
       "    <tr>\n",
       "      <th>0</th>\n",
       "      <td>CHR2_87930085_87930285</td>\n",
       "      <td>AAACAAACAAAAAAGAAGGTAATCAGTGTGGATGAGGATGTGGAAA...</td>\n",
       "      <td>0.0</td>\n",
       "    </tr>\n",
       "    <tr>\n",
       "      <th>1</th>\n",
       "      <td>CHR2_88301085_88301285</td>\n",
       "      <td>ATTCAAAATAAAATAATGAGTACACGTTTTGGAATAACGTCCTATT...</td>\n",
       "      <td>0.0</td>\n",
       "    </tr>\n",
       "    <tr>\n",
       "      <th>2</th>\n",
       "      <td>CHR3_126780310_126780510</td>\n",
       "      <td>ACATCCTTGCCAGCATTTGGTGTTTTTTTTTTTTTAATTAGCATAC...</td>\n",
       "      <td>0.0</td>\n",
       "    </tr>\n",
       "    <tr>\n",
       "      <th>3</th>\n",
       "      <td>CHR3_171979306_171979506</td>\n",
       "      <td>TGGCTTTTATTTTAAATTTAATTTGCTCAACCAGACACACAGTGTA...</td>\n",
       "      <td>0.0</td>\n",
       "    </tr>\n",
       "    <tr>\n",
       "      <th>4</th>\n",
       "      <td>CHR3_176244106_176244306</td>\n",
       "      <td>GCCTCTTTCTTGGATCAAGTTCATGATGCCAGATACTTTTCTCTTT...</td>\n",
       "      <td>0.0</td>\n",
       "    </tr>\n",
       "  </tbody>\n",
       "</table>\n",
       "</div>"
      ],
      "text/plain": [
       "                         id  \\\n",
       "0    CHR2_87930085_87930285   \n",
       "1    CHR2_88301085_88301285   \n",
       "2  CHR3_126780310_126780510   \n",
       "3  CHR3_171979306_171979506   \n",
       "4  CHR3_176244106_176244306   \n",
       "\n",
       "                                            sequence  strong  \n",
       "0  AAACAAACAAAAAAGAAGGTAATCAGTGTGGATGAGGATGTGGAAA...     0.0  \n",
       "1  ATTCAAAATAAAATAATGAGTACACGTTTTGGAATAACGTCCTATT...     0.0  \n",
       "2  ACATCCTTGCCAGCATTTGGTGTTTTTTTTTTTTTAATTAGCATAC...     0.0  \n",
       "3  TGGCTTTTATTTTAAATTTAATTTGCTCAACCAGACACACAGTGTA...     0.0  \n",
       "4  GCCTCTTTCTTGGATCAAGTTCATGATGCCAGATACTTTTCTCTTT...     0.0  "
      ]
     },
     "execution_count": 10,
     "metadata": {},
     "output_type": "execute_result"
    }
   ],
   "source": [
    "weak_df.head()"
   ]
  },
  {
   "cell_type": "markdown",
   "metadata": {},
   "source": [
    "## Combine the data frames to form a single dataset"
   ]
  },
  {
   "cell_type": "code",
   "execution_count": 11,
   "metadata": {},
   "outputs": [
    {
     "name": "stdout",
     "output_type": "stream",
     "text": [
      "<class 'pandas.core.frame.DataFrame'>\n",
      "RangeIndex: 1484 entries, 0 to 1483\n",
      "Data columns (total 3 columns):\n",
      "id          1484 non-null object\n",
      "sequence    1484 non-null object\n",
      "strong      1484 non-null float64\n",
      "dtypes: float64(1), object(2)\n",
      "memory usage: 34.9+ KB\n"
     ]
    }
   ],
   "source": [
    "all_data_df = pd.concat([strong_df, weak_df])\n",
    "all_data_df.reset_index(drop=True, inplace=True)\n",
    "all_data_df.info()"
   ]
  },
  {
   "cell_type": "code",
   "execution_count": 12,
   "metadata": {},
   "outputs": [
    {
     "data": {
      "text/html": [
       "<div>\n",
       "<style scoped>\n",
       "    .dataframe tbody tr th:only-of-type {\n",
       "        vertical-align: middle;\n",
       "    }\n",
       "\n",
       "    .dataframe tbody tr th {\n",
       "        vertical-align: top;\n",
       "    }\n",
       "\n",
       "    .dataframe thead th {\n",
       "        text-align: right;\n",
       "    }\n",
       "</style>\n",
       "<table border=\"1\" class=\"dataframe\">\n",
       "  <thead>\n",
       "    <tr style=\"text-align: right;\">\n",
       "      <th></th>\n",
       "      <th>id</th>\n",
       "      <th>sequence</th>\n",
       "      <th>strong</th>\n",
       "    </tr>\n",
       "  </thead>\n",
       "  <tbody>\n",
       "    <tr>\n",
       "      <th>0</th>\n",
       "      <td>CHRX_48897056_48897256</td>\n",
       "      <td>CACAATGTAGAAGCAGAGACACAGGAACCAGGCTTGGTGATGGCTC...</td>\n",
       "      <td>1.0</td>\n",
       "    </tr>\n",
       "    <tr>\n",
       "      <th>1</th>\n",
       "      <td>CHR12_6444339_6444539</td>\n",
       "      <td>GCCCTCACATTCCCTGGCCCATCCCCTCCACCTCAAAATTTACAAA...</td>\n",
       "      <td>1.0</td>\n",
       "    </tr>\n",
       "    <tr>\n",
       "      <th>2</th>\n",
       "      <td>CHR12_6444939_6445139</td>\n",
       "      <td>GAGCAGGAGGCCAGTCACCCTGAGTCAGCCACGGGGAGACGCTGCA...</td>\n",
       "      <td>1.0</td>\n",
       "    </tr>\n",
       "    <tr>\n",
       "      <th>3</th>\n",
       "      <td>CHR12_6445139_6445339</td>\n",
       "      <td>CCTCTGCTGAGAACAGGACTGGGGCTTCCAGGGCAACAGGAAGGGT...</td>\n",
       "      <td>1.0</td>\n",
       "    </tr>\n",
       "    <tr>\n",
       "      <th>4</th>\n",
       "      <td>CHR12_6445339_6445539</td>\n",
       "      <td>ACAGCCTTAAAGGGAGCTTTTCAGGGACCTCTGGCCAGTGGGGGAT...</td>\n",
       "      <td>1.0</td>\n",
       "    </tr>\n",
       "  </tbody>\n",
       "</table>\n",
       "</div>"
      ],
      "text/plain": [
       "                       id                                           sequence  \\\n",
       "0  CHRX_48897056_48897256  CACAATGTAGAAGCAGAGACACAGGAACCAGGCTTGGTGATGGCTC...   \n",
       "1   CHR12_6444339_6444539  GCCCTCACATTCCCTGGCCCATCCCCTCCACCTCAAAATTTACAAA...   \n",
       "2   CHR12_6444939_6445139  GAGCAGGAGGCCAGTCACCCTGAGTCAGCCACGGGGAGACGCTGCA...   \n",
       "3   CHR12_6445139_6445339  CCTCTGCTGAGAACAGGACTGGGGCTTCCAGGGCAACAGGAAGGGT...   \n",
       "4   CHR12_6445339_6445539  ACAGCCTTAAAGGGAGCTTTTCAGGGACCTCTGGCCAGTGGGGGAT...   \n",
       "\n",
       "   strong  \n",
       "0     1.0  \n",
       "1     1.0  \n",
       "2     1.0  \n",
       "3     1.0  \n",
       "4     1.0  "
      ]
     },
     "execution_count": 12,
     "metadata": {},
     "output_type": "execute_result"
    }
   ],
   "source": [
    "all_data_df.head()"
   ]
  },
  {
   "cell_type": "markdown",
   "metadata": {},
   "source": [
    "All the sequences are of length 200 characters."
   ]
  },
  {
   "cell_type": "code",
   "execution_count": 13,
   "metadata": {},
   "outputs": [
    {
     "data": {
      "text/plain": [
       "200    1484\n",
       "Name: sequence, dtype: int64"
      ]
     },
     "execution_count": 13,
     "metadata": {},
     "output_type": "execute_result"
    }
   ],
   "source": [
    "all_data_df['sequence'].map(lambda x: len(x)).value_counts()"
   ]
  },
  {
   "cell_type": "markdown",
   "metadata": {},
   "source": [
    "## Load the physiochemical property data"
   ]
  },
  {
   "cell_type": "code",
   "execution_count": 14,
   "metadata": {},
   "outputs": [
    {
     "name": "stdout",
     "output_type": "stream",
     "text": [
      "<class 'pandas.core.frame.DataFrame'>\n",
      "Index: 16 entries, AA to TT\n",
      "Data columns (total 6 columns):\n",
      "Rise     16 non-null float64\n",
      "Roll     16 non-null float64\n",
      "Shift    16 non-null float64\n",
      "Slide    16 non-null float64\n",
      "Tilt     16 non-null float64\n",
      "Twist    16 non-null float64\n",
      "dtypes: float64(6)\n",
      "memory usage: 896.0+ bytes\n"
     ]
    }
   ],
   "source": [
    "pcp_df = pd.read_csv(os.path.join('data', 'S2.csv'), index_col=0)\n",
    "pcp_df.info()"
   ]
  },
  {
   "cell_type": "code",
   "execution_count": 15,
   "metadata": {},
   "outputs": [
    {
     "data": {
      "text/html": [
       "<div>\n",
       "<style scoped>\n",
       "    .dataframe tbody tr th:only-of-type {\n",
       "        vertical-align: middle;\n",
       "    }\n",
       "\n",
       "    .dataframe tbody tr th {\n",
       "        vertical-align: top;\n",
       "    }\n",
       "\n",
       "    .dataframe thead th {\n",
       "        text-align: right;\n",
       "    }\n",
       "</style>\n",
       "<table border=\"1\" class=\"dataframe\">\n",
       "  <thead>\n",
       "    <tr style=\"text-align: right;\">\n",
       "      <th></th>\n",
       "      <th>Rise</th>\n",
       "      <th>Roll</th>\n",
       "      <th>Shift</th>\n",
       "      <th>Slide</th>\n",
       "      <th>Tilt</th>\n",
       "      <th>Twist</th>\n",
       "    </tr>\n",
       "  </thead>\n",
       "  <tbody>\n",
       "    <tr>\n",
       "      <th>AA</th>\n",
       "      <td>0.430</td>\n",
       "      <td>0.403</td>\n",
       "      <td>1.000</td>\n",
       "      <td>0.545</td>\n",
       "      <td>0.4</td>\n",
       "      <td>0.833</td>\n",
       "    </tr>\n",
       "    <tr>\n",
       "      <th>AC</th>\n",
       "      <td>0.818</td>\n",
       "      <td>0.696</td>\n",
       "      <td>0.619</td>\n",
       "      <td>1.000</td>\n",
       "      <td>0.7</td>\n",
       "      <td>0.833</td>\n",
       "    </tr>\n",
       "    <tr>\n",
       "      <th>AG</th>\n",
       "      <td>0.258</td>\n",
       "      <td>0.316</td>\n",
       "      <td>0.763</td>\n",
       "      <td>0.773</td>\n",
       "      <td>0.3</td>\n",
       "      <td>0.792</td>\n",
       "    </tr>\n",
       "    <tr>\n",
       "      <th>AT</th>\n",
       "      <td>0.861</td>\n",
       "      <td>1.000</td>\n",
       "      <td>0.320</td>\n",
       "      <td>0.864</td>\n",
       "      <td>0.6</td>\n",
       "      <td>0.750</td>\n",
       "    </tr>\n",
       "    <tr>\n",
       "      <th>CA</th>\n",
       "      <td>0.045</td>\n",
       "      <td>0.221</td>\n",
       "      <td>0.361</td>\n",
       "      <td>0.091</td>\n",
       "      <td>0.1</td>\n",
       "      <td>0.292</td>\n",
       "    </tr>\n",
       "    <tr>\n",
       "      <th>CC</th>\n",
       "      <td>0.548</td>\n",
       "      <td>0.171</td>\n",
       "      <td>0.732</td>\n",
       "      <td>0.545</td>\n",
       "      <td>0.3</td>\n",
       "      <td>1.000</td>\n",
       "    </tr>\n",
       "    <tr>\n",
       "      <th>CG</th>\n",
       "      <td>0.000</td>\n",
       "      <td>0.304</td>\n",
       "      <td>0.371</td>\n",
       "      <td>0.000</td>\n",
       "      <td>0.0</td>\n",
       "      <td>0.333</td>\n",
       "    </tr>\n",
       "    <tr>\n",
       "      <th>CT</th>\n",
       "      <td>0.258</td>\n",
       "      <td>0.316</td>\n",
       "      <td>0.763</td>\n",
       "      <td>0.773</td>\n",
       "      <td>0.3</td>\n",
       "      <td>0.792</td>\n",
       "    </tr>\n",
       "    <tr>\n",
       "      <th>GA</th>\n",
       "      <td>0.706</td>\n",
       "      <td>0.278</td>\n",
       "      <td>0.619</td>\n",
       "      <td>0.500</td>\n",
       "      <td>0.4</td>\n",
       "      <td>0.833</td>\n",
       "    </tr>\n",
       "    <tr>\n",
       "      <th>GC</th>\n",
       "      <td>1.000</td>\n",
       "      <td>0.536</td>\n",
       "      <td>0.495</td>\n",
       "      <td>0.500</td>\n",
       "      <td>1.0</td>\n",
       "      <td>0.750</td>\n",
       "    </tr>\n",
       "    <tr>\n",
       "      <th>GG</th>\n",
       "      <td>0.548</td>\n",
       "      <td>0.171</td>\n",
       "      <td>0.732</td>\n",
       "      <td>0.545</td>\n",
       "      <td>0.3</td>\n",
       "      <td>1.000</td>\n",
       "    </tr>\n",
       "    <tr>\n",
       "      <th>GT</th>\n",
       "      <td>0.818</td>\n",
       "      <td>0.696</td>\n",
       "      <td>0.619</td>\n",
       "      <td>1.000</td>\n",
       "      <td>0.7</td>\n",
       "      <td>0.833</td>\n",
       "    </tr>\n",
       "    <tr>\n",
       "      <th>TA</th>\n",
       "      <td>0.000</td>\n",
       "      <td>0.000</td>\n",
       "      <td>0.000</td>\n",
       "      <td>0.136</td>\n",
       "      <td>0.0</td>\n",
       "      <td>0.000</td>\n",
       "    </tr>\n",
       "    <tr>\n",
       "      <th>TC</th>\n",
       "      <td>0.706</td>\n",
       "      <td>0.278</td>\n",
       "      <td>0.619</td>\n",
       "      <td>0.500</td>\n",
       "      <td>0.4</td>\n",
       "      <td>0.833</td>\n",
       "    </tr>\n",
       "    <tr>\n",
       "      <th>TG</th>\n",
       "      <td>0.045</td>\n",
       "      <td>0.221</td>\n",
       "      <td>0.361</td>\n",
       "      <td>0.091</td>\n",
       "      <td>0.1</td>\n",
       "      <td>0.292</td>\n",
       "    </tr>\n",
       "    <tr>\n",
       "      <th>TT</th>\n",
       "      <td>0.430</td>\n",
       "      <td>0.403</td>\n",
       "      <td>1.000</td>\n",
       "      <td>0.545</td>\n",
       "      <td>0.4</td>\n",
       "      <td>0.833</td>\n",
       "    </tr>\n",
       "  </tbody>\n",
       "</table>\n",
       "</div>"
      ],
      "text/plain": [
       "     Rise   Roll  Shift  Slide  Tilt  Twist\n",
       "AA  0.430  0.403  1.000  0.545   0.4  0.833\n",
       "AC  0.818  0.696  0.619  1.000   0.7  0.833\n",
       "AG  0.258  0.316  0.763  0.773   0.3  0.792\n",
       "AT  0.861  1.000  0.320  0.864   0.6  0.750\n",
       "CA  0.045  0.221  0.361  0.091   0.1  0.292\n",
       "CC  0.548  0.171  0.732  0.545   0.3  1.000\n",
       "CG  0.000  0.304  0.371  0.000   0.0  0.333\n",
       "CT  0.258  0.316  0.763  0.773   0.3  0.792\n",
       "GA  0.706  0.278  0.619  0.500   0.4  0.833\n",
       "GC  1.000  0.536  0.495  0.500   1.0  0.750\n",
       "GG  0.548  0.171  0.732  0.545   0.3  1.000\n",
       "GT  0.818  0.696  0.619  1.000   0.7  0.833\n",
       "TA  0.000  0.000  0.000  0.136   0.0  0.000\n",
       "TC  0.706  0.278  0.619  0.500   0.4  0.833\n",
       "TG  0.045  0.221  0.361  0.091   0.1  0.292\n",
       "TT  0.430  0.403  1.000  0.545   0.4  0.833"
      ]
     },
     "execution_count": 15,
     "metadata": {},
     "output_type": "execute_result"
    }
   ],
   "source": [
    "scaler = MinMaxScaler()\n",
    "pcp_df.loc[:, :] = scaler.fit_transform(pcp_df.values)\n",
    "pcp_df"
   ]
  },
  {
   "cell_type": "markdown",
   "metadata": {},
   "source": [
    "## Prepare the sequence data for modelling"
   ]
  },
  {
   "cell_type": "markdown",
   "metadata": {},
   "source": [
    "Create a transformation pipleline to prepare the training dataset for RNN."
   ]
  },
  {
   "cell_type": "code",
   "execution_count": 16,
   "metadata": {},
   "outputs": [],
   "source": [
    "# This class selects the desired attributes and drops the rest.\n",
    "class DataFrameSelector(BaseEstimator, TransformerMixin):\n",
    "\n",
    "    def __init__(self, attribute_names):\n",
    "        self.attribute_names = attribute_names\n",
    "\n",
    "    def fit(self, X, y=None):\n",
    "        return self\n",
    "\n",
    "    def transform(self, X):\n",
    "        return X[self.attribute_names]"
   ]
  },
  {
   "cell_type": "code",
   "execution_count": 17,
   "metadata": {},
   "outputs": [],
   "source": [
    "# This class converts a nucleotide base (A, C, G, T) to one-hot-encoding.\n",
    "class one_hot_encoder(BaseEstimator, TransformerMixin):\n",
    "\n",
    "    def __init__(self):\n",
    "        self.tokenizer = Tokenizer(num_words=4, lower=False, char_level=True)\n",
    "\n",
    "    def fit(self, X, y=None):\n",
    "        # Note that X is a data frame.\n",
    "        # Fit the tokenizer on the 1st sequence in the dataset.\n",
    "        self.tokenizer.fit_on_texts(X.iloc[0, 0])\n",
    "        self.len_sequence = len(X.iloc[0, 0])\n",
    "        return self\n",
    "\n",
    "    def transform(self, X):\n",
    "        # Note that X is a data frame.\n",
    "        one_hot_X = X.iloc[:, 0].map(lambda x: self.tokenizer.texts_to_matrix(x, mode='binary')).values\n",
    "        one_hot_X = np.concatenate(one_hot_X)\n",
    "        one_hot_X = np.reshape(one_hot_X, (-1, self.len_sequence, 4))\n",
    "        return one_hot_X"
   ]
  },
  {
   "cell_type": "code",
   "execution_count": 18,
   "metadata": {},
   "outputs": [],
   "source": [
    "# This class converts a sequence of nucleotide bases (A, C, G, T) to a sequence of dinucleotides and then to a sequence of pysiochemical properties of each dinucleotide.\n",
    "class pcp_encoder(BaseEstimator, TransformerMixin):\n",
    "\n",
    "    def __init__(self, pcp_df):\n",
    "        self.pcp_df = pcp_df\n",
    "\n",
    "    def fit(self, X, y=None):\n",
    "        return self\n",
    "\n",
    "    def transform(self, X):\n",
    "        # Note that X is a data frame.\n",
    "        dinuc_seq = X.iloc[:, 0].map(lambda x: [ x[i:i+2] for i in range(len(x) - 1) ])\n",
    "        pcp_seq = dinuc_seq.map(lambda x: [ pcp_df[j][i] for i in x for j in pcp_df.columns.tolist() ])\n",
    "        # Pad with -1 for last element of sequence; it does not have an associated di-nucleotide\n",
    "        pcp_seq = pcp_seq.map(lambda x: np.array(x + [-1. for i in range(len(pcp_df.columns))]).reshape((len(X.iloc[0, 0]), len(pcp_df.columns)))).values\n",
    "        # pandas values returns a 1-D array of objects; use numpy stack to reshape it to a multi-dimensional array\n",
    "        return np.stack(pcp_seq)"
   ]
  },
  {
   "cell_type": "code",
   "execution_count": 19,
   "metadata": {},
   "outputs": [],
   "source": [
    "# This class shapes a numpy array.\n",
    "class Array_Shaper(BaseEstimator, TransformerMixin):\n",
    "    \n",
    "    def __init__(self, shape):\n",
    "        self.shape = shape\n",
    "    \n",
    "    def fit(self, X, y=None):\n",
    "        return self\n",
    "    \n",
    "    def transform(self, X):\n",
    "        return X.reshape(self.shape)"
   ]
  },
  {
   "cell_type": "code",
   "execution_count": 20,
   "metadata": {},
   "outputs": [],
   "source": [
    "attrbs = ['sequence']\n",
    "num_bases = 4  # number of nucleotide bases\n",
    "num_pcp = 6  # number of di-nucleotide physiochemical properties\n",
    "len_seq = len(all_data_df['sequence'][0])\n",
    "one_hot_pipeline = Pipeline([\n",
    "    ('selector', DataFrameSelector(attrbs)),\n",
    "    ('one_hot_encoder', one_hot_encoder()),\n",
    "    ('array_shaper2D', Array_Shaper((-1, num_bases)))\n",
    "])\n",
    "pcp_pipeline = Pipeline([\n",
    "    ('selector', DataFrameSelector(attrbs)),\n",
    "    ('pcp_encoder', pcp_encoder(pcp_df)),\n",
    "    ('array_shaper2D', Array_Shaper((-1, num_pcp)))\n",
    "])\n",
    "union_pipeline = FeatureUnion(transformer_list=[\n",
    "    (\"one_hot_pipeline\", one_hot_pipeline),\n",
    "    (\"pcp_pipeline\", pcp_pipeline)\n",
    "])\n",
    "my_pipeline = Pipeline([\n",
    "    ('feature_combiner', union_pipeline),\n",
    "    ('array_shaper3D', Array_Shaper((-1, len_seq, num_bases + num_pcp)))\n",
    "])"
   ]
  },
  {
   "cell_type": "code",
   "execution_count": 21,
   "metadata": {},
   "outputs": [
    {
     "data": {
      "text/plain": [
       "(1484, 200, 10)"
      ]
     },
     "execution_count": 21,
     "metadata": {},
     "output_type": "execute_result"
    }
   ],
   "source": [
    "X = my_pipeline.fit_transform(all_data_df)\n",
    "X.shape"
   ]
  },
  {
   "cell_type": "markdown",
   "metadata": {},
   "source": [
    "Check the 1st sequence is correctly encoded."
   ]
  },
  {
   "cell_type": "code",
   "execution_count": 22,
   "metadata": {},
   "outputs": [
    {
     "data": {
      "text/plain": [
       "array([[0.        , 0.        , 0.        , 0.        , 0.04545455,\n",
       "        0.22053232, 0.36082474, 0.09090909, 0.1       , 0.29166667],\n",
       "       [0.        , 0.        , 0.        , 1.        , 0.81818182,\n",
       "        0.69581749, 0.6185567 , 1.        , 0.7       , 0.83333333],\n",
       "       [0.        , 0.        , 0.        , 0.        , 0.04545455,\n",
       "        0.22053232, 0.36082474, 0.09090909, 0.1       , 0.29166667],\n",
       "       [0.        , 0.        , 0.        , 1.        , 0.43030303,\n",
       "        0.40304183, 1.        , 0.54545455, 0.4       , 0.83333333],\n",
       "       [0.        , 0.        , 0.        , 1.        , 0.86060606,\n",
       "        1.        , 0.31958763, 0.86363636, 0.6       , 0.75      ],\n",
       "       [0.        , 0.        , 1.        , 0.        , 0.04545455,\n",
       "        0.22053232, 0.36082474, 0.09090909, 0.1       , 0.29166667],\n",
       "       [0.        , 1.        , 0.        , 0.        , 0.81818182,\n",
       "        0.69581749, 0.6185567 , 1.        , 0.7       , 0.83333333],\n",
       "       [0.        , 0.        , 1.        , 0.        , 0.        ,\n",
       "        0.        , 0.        , 0.13636364, 0.        , 0.        ],\n",
       "       [0.        , 0.        , 0.        , 1.        , 0.25757576,\n",
       "        0.31558935, 0.7628866 , 0.77272727, 0.3       , 0.79166667],\n",
       "       [0.        , 1.        , 0.        , 0.        , 0.70606061,\n",
       "        0.27756654, 0.6185567 , 0.5       , 0.4       , 0.83333333]])"
      ]
     },
     "execution_count": 22,
     "metadata": {},
     "output_type": "execute_result"
    }
   ],
   "source": [
    "X[0, :10, :]"
   ]
  },
  {
   "cell_type": "code",
   "execution_count": 23,
   "metadata": {},
   "outputs": [
    {
     "data": {
      "text/plain": [
       "array([[ 0.        ,  0.        ,  1.        ,  0.        ,  0.43030303,\n",
       "         0.40304183,  1.        ,  0.54545455,  0.4       ,  0.83333333],\n",
       "       [ 0.        ,  0.        ,  1.        ,  0.        ,  0.04545455,\n",
       "         0.22053232,  0.36082474,  0.09090909,  0.1       ,  0.29166667],\n",
       "       [ 0.        ,  1.        ,  0.        ,  0.        ,  0.81818182,\n",
       "         0.69581749,  0.6185567 ,  1.        ,  0.7       ,  0.83333333],\n",
       "       [ 0.        ,  0.        ,  1.        ,  0.        ,  0.70606061,\n",
       "         0.27756654,  0.6185567 ,  0.5       ,  0.4       ,  0.83333333],\n",
       "       [ 0.        ,  0.        ,  0.        ,  0.        ,  0.54848485,\n",
       "         0.17110266,  0.73195876,  0.54545455,  0.3       ,  1.        ],\n",
       "       [ 0.        ,  0.        ,  0.        ,  0.        ,  0.25757576,\n",
       "         0.31558935,  0.7628866 ,  0.77272727,  0.3       ,  0.79166667],\n",
       "       [ 0.        ,  0.        ,  1.        ,  0.        ,  0.        ,\n",
       "         0.        ,  0.        ,  0.13636364,  0.        ,  0.        ],\n",
       "       [ 0.        ,  0.        ,  0.        ,  1.        ,  0.86060606,\n",
       "         1.        ,  0.31958763,  0.86363636,  0.6       ,  0.75      ],\n",
       "       [ 0.        ,  0.        ,  1.        ,  0.        ,  0.43030303,\n",
       "         0.40304183,  1.        ,  0.54545455,  0.4       ,  0.83333333],\n",
       "       [ 0.        ,  0.        ,  1.        ,  0.        , -1.        ,\n",
       "        -1.        , -1.        , -1.        , -1.        , -1.        ]])"
      ]
     },
     "execution_count": 23,
     "metadata": {},
     "output_type": "execute_result"
    }
   ],
   "source": [
    "X[0, -10:, :]"
   ]
  },
  {
   "cell_type": "code",
   "execution_count": 24,
   "metadata": {},
   "outputs": [
    {
     "data": {
      "text/plain": [
       "(1484,)"
      ]
     },
     "execution_count": 24,
     "metadata": {},
     "output_type": "execute_result"
    }
   ],
   "source": [
    "y = all_data_df['strong'].values\n",
    "y.shape"
   ]
  },
  {
   "cell_type": "code",
   "execution_count": 25,
   "metadata": {},
   "outputs": [
    {
     "data": {
      "text/plain": [
       "array([1., 1., 1., 1., 1., 1., 1., 1., 1., 1.])"
      ]
     },
     "execution_count": 25,
     "metadata": {},
     "output_type": "execute_result"
    }
   ],
   "source": [
    "y[:10]"
   ]
  },
  {
   "cell_type": "markdown",
   "metadata": {},
   "source": [
    "## Split the dataset into train / validation sets\n",
    "\n",
    "For the initial base model, we will use a simple train / validation split. 5-fold cross-validation will be used during model fine-tuning to obtain the final model."
   ]
  },
  {
   "cell_type": "code",
   "execution_count": 26,
   "metadata": {},
   "outputs": [],
   "source": [
    "X_train, X_val, y_train, y_val = train_test_split(X, y, test_size=0.2, random_state=123)"
   ]
  },
  {
   "cell_type": "code",
   "execution_count": 27,
   "metadata": {},
   "outputs": [
    {
     "data": {
      "text/plain": [
       "(1187, 200, 10)"
      ]
     },
     "execution_count": 27,
     "metadata": {},
     "output_type": "execute_result"
    }
   ],
   "source": [
    "X_train.shape"
   ]
  },
  {
   "cell_type": "code",
   "execution_count": 28,
   "metadata": {},
   "outputs": [
    {
     "data": {
      "text/plain": [
       "array([[0.        , 0.        , 1.        , 0.        , 0.70606061,\n",
       "        0.27756654, 0.6185567 , 0.5       , 0.4       , 0.83333333],\n",
       "       [0.        , 0.        , 0.        , 0.        , 0.25757576,\n",
       "        0.31558935, 0.7628866 , 0.77272727, 0.3       , 0.79166667],\n",
       "       [0.        , 0.        , 1.        , 0.        , 0.        ,\n",
       "        0.        , 0.        , 0.13636364, 0.        , 0.        ],\n",
       "       [0.        , 0.        , 0.        , 1.        , 0.25757576,\n",
       "        0.31558935, 0.7628866 , 0.77272727, 0.3       , 0.79166667],\n",
       "       [0.        , 1.        , 0.        , 0.        , 0.70606061,\n",
       "        0.27756654, 0.6185567 , 0.5       , 0.4       , 0.83333333],\n",
       "       [0.        , 0.        , 0.        , 1.        , 0.81818182,\n",
       "        0.69581749, 0.6185567 , 1.        , 0.7       , 0.83333333],\n",
       "       [0.        , 0.        , 0.        , 0.        , 0.25757576,\n",
       "        0.31558935, 0.7628866 , 0.77272727, 0.3       , 0.79166667],\n",
       "       [0.        , 0.        , 1.        , 0.        , 0.        ,\n",
       "        0.        , 0.        , 0.13636364, 0.        , 0.        ],\n",
       "       [0.        , 0.        , 0.        , 1.        , 0.43030303,\n",
       "        0.40304183, 1.        , 0.54545455, 0.4       , 0.83333333],\n",
       "       [0.        , 0.        , 0.        , 1.        , 0.43030303,\n",
       "        0.40304183, 1.        , 0.54545455, 0.4       , 0.83333333]])"
      ]
     },
     "execution_count": 28,
     "metadata": {},
     "output_type": "execute_result"
    }
   ],
   "source": [
    "X_train[0][:10]"
   ]
  },
  {
   "cell_type": "code",
   "execution_count": 29,
   "metadata": {},
   "outputs": [
    {
     "data": {
      "text/plain": [
       "(1187,)"
      ]
     },
     "execution_count": 29,
     "metadata": {},
     "output_type": "execute_result"
    }
   ],
   "source": [
    "y_train.shape"
   ]
  },
  {
   "cell_type": "code",
   "execution_count": 30,
   "metadata": {},
   "outputs": [
    {
     "data": {
      "text/plain": [
       "1.0"
      ]
     },
     "execution_count": 30,
     "metadata": {},
     "output_type": "execute_result"
    }
   ],
   "source": [
    "y_train[0]"
   ]
  },
  {
   "cell_type": "markdown",
   "metadata": {},
   "source": [
    "## Load models"
   ]
  },
  {
   "cell_type": "markdown",
   "metadata": {},
   "source": [
    "### Ensemble of models of 2x16 GRU, 1x16 Dense\n",
    "* Dropouts (.1/.1/.1)\n",
    "* Warm restarts cycle = 200, lr=0.003\n",
    "* Saved models are best in each cycle"
   ]
  },
  {
   "cell_type": "code",
   "execution_count": 31,
   "metadata": {},
   "outputs": [],
   "source": [
    "from numpy.random import seed\n",
    "seed(123)\n",
    "from tensorflow import set_random_seed\n",
    "set_random_seed(456)"
   ]
  },
  {
   "cell_type": "code",
   "execution_count": 32,
   "metadata": {},
   "outputs": [
    {
     "name": "stdout",
     "output_type": "stream",
     "text": [
      "_________________________________________________________________\n",
      "Layer (type)                 Output Shape              Param #   \n",
      "=================================================================\n",
      "gru_1 (GRU)                  (None, None, 16)          1344      \n",
      "_________________________________________________________________\n",
      "gru_2 (GRU)                  (None, 16)                1632      \n",
      "_________________________________________________________________\n",
      "dropout_1 (Dropout)          (None, 16)                0         \n",
      "_________________________________________________________________\n",
      "dense_1 (Dense)              (None, 16)                272       \n",
      "_________________________________________________________________\n",
      "dropout_2 (Dropout)          (None, 16)                0         \n",
      "_________________________________________________________________\n",
      "dense_2 (Dense)              (None, 1)                 17        \n",
      "=================================================================\n",
      "Total params: 3,265\n",
      "Trainable params: 3,265\n",
      "Non-trainable params: 0\n",
      "_________________________________________________________________\n"
     ]
    }
   ],
   "source": [
    "# Best model\n",
    "model = load_model(os.path.join('models-layer2',\n",
    "                                'layer2-2x16gru1x16dense-dropout010101-wr01.best-epch228.h5'))\n",
    "model.summary()"
   ]
  },
  {
   "cell_type": "code",
   "execution_count": 33,
   "metadata": {},
   "outputs": [],
   "source": [
    "results_df = pd.DataFrame()"
   ]
  },
  {
   "cell_type": "code",
   "execution_count": 34,
   "metadata": {},
   "outputs": [
    {
     "name": "stdout",
     "output_type": "stream",
     "text": [
      "297/297 [==============================] - 1s 3ms/step\n"
     ]
    }
   ],
   "source": [
    "results_df['best'] = pd.Series(model.predict_classes(X_val, batch_size=128, verbose=1).flatten())"
   ]
  },
  {
   "cell_type": "code",
   "execution_count": 35,
   "metadata": {},
   "outputs": [
    {
     "data": {
      "text/plain": [
       "'63.300'"
      ]
     },
     "execution_count": 35,
     "metadata": {},
     "output_type": "execute_result"
    }
   ],
   "source": [
    "best_acc = 100. * (len(y_val) - (np.abs(results_df['best'].values - y_val)).sum()) / len(y_val)\n",
    "'{:06.3f}'.format(best_acc)"
   ]
  },
  {
   "cell_type": "markdown",
   "metadata": {},
   "source": [
    "The best model from training was saved separately from the models saved in each of the cycles below. It will be the same as one of the best models from the cycles. The best model from the first cycle (1-200 epoch) is not used as the loss had not converged to a minimum."
   ]
  },
  {
   "cell_type": "code",
   "execution_count": 36,
   "metadata": {},
   "outputs": [
    {
     "data": {
      "text/plain": [
       "['models-layer2/layer2-2x16gru1x16dense-dropout010101-wr01-weights/model_wgts_cyc0400.h5',\n",
       " 'models-layer2/layer2-2x16gru1x16dense-dropout010101-wr01-weights/model_wgts_cyc0600.h5',\n",
       " 'models-layer2/layer2-2x16gru1x16dense-dropout010101-wr01-weights/model_wgts_cyc0800.h5',\n",
       " 'models-layer2/layer2-2x16gru1x16dense-dropout010101-wr01-weights/model_wgts_cyc1000.h5',\n",
       " 'models-layer2/layer2-2x16gru1x16dense-dropout010101-wr01-weights/model_wgts_cyc1200.h5',\n",
       " 'models-layer2/layer2-2x16gru1x16dense-dropout010101-wr01-weights/model_wgts_cyc1400.h5',\n",
       " 'models-layer2/layer2-2x16gru1x16dense-dropout010101-wr01-weights/model_wgts_cyc1600.h5',\n",
       " 'models-layer2/layer2-2x16gru1x16dense-dropout010101-wr01-weights/model_wgts_cyc1800.h5',\n",
       " 'models-layer2/layer2-2x16gru1x16dense-dropout010101-wr01-weights/model_wgts_cyc2000.h5',\n",
       " 'models-layer2/layer2-2x16gru1x16dense-dropout010101-wr01-weights/model_wgts_cyc2200.h5',\n",
       " 'models-layer2/layer2-2x16gru1x16dense-dropout010101-wr01-weights/model_wgts_cyc2400.h5',\n",
       " 'models-layer2/layer2-2x16gru1x16dense-dropout010101-wr01-weights/model_wgts_cyc2600.h5',\n",
       " 'models-layer2/layer2-2x16gru1x16dense-dropout010101-wr01-weights/model_wgts_cyc2800.h5',\n",
       " 'models-layer2/layer2-2x16gru1x16dense-dropout010101-wr01-weights/model_wgts_cyc3000.h5']"
      ]
     },
     "execution_count": 36,
     "metadata": {},
     "output_type": "execute_result"
    }
   ],
   "source": [
    "# Path to the weights saved for the best model in each cycle\n",
    "path = [os.path.join('models-layer2', 'layer2-2x16gru1x16dense-dropout010101-wr01-weights', i)\n",
    "        for i in ['model_wgts_cyc0400.h5', 'model_wgts_cyc0600.h5', 'model_wgts_cyc0800.h5', 'model_wgts_cyc1000.h5', 'model_wgts_cyc1200.h5', 'model_wgts_cyc1400.h5', 'model_wgts_cyc1600.h5',\n",
    "                 'model_wgts_cyc1800.h5', 'model_wgts_cyc2000.h5', 'model_wgts_cyc2200.h5', 'model_wgts_cyc2400.h5', 'model_wgts_cyc2600.h5', 'model_wgts_cyc2800.h5', 'model_wgts_cyc3000.h5']]\n",
    "path"
   ]
  },
  {
   "cell_type": "code",
   "execution_count": 37,
   "metadata": {},
   "outputs": [
    {
     "name": "stdout",
     "output_type": "stream",
     "text": [
      "297/297 [==============================] - 0s 715us/step\n",
      "297/297 [==============================] - 0s 744us/step\n",
      "297/297 [==============================] - 0s 663us/step\n",
      "297/297 [==============================] - 0s 621us/step\n",
      "297/297 [==============================] - 0s 635us/step\n",
      "297/297 [==============================] - 0s 651us/step\n",
      "297/297 [==============================] - 0s 622us/step\n",
      "297/297 [==============================] - 0s 622us/step\n",
      "297/297 [==============================] - 0s 636us/step\n",
      "297/297 [==============================] - 0s 636us/step\n",
      "297/297 [==============================] - 0s 764us/step\n",
      "297/297 [==============================] - 0s 620us/step\n",
      "297/297 [==============================] - 0s 693us/step\n",
      "297/297 [==============================] - 0s 633us/step\n"
     ]
    }
   ],
   "source": [
    "# Calculate the predictions for the best models in each cycle.\n",
    "for idx, a_file in enumerate(path):\n",
    "    model.load_weights(filepath=a_file, by_name=False)\n",
    "    results_df['model' + str(idx)] = model.predict_classes(X_val, batch_size=128, verbose=1)"
   ]
  },
  {
   "cell_type": "code",
   "execution_count": 38,
   "metadata": {
    "scrolled": true
   },
   "outputs": [
    {
     "name": "stdout",
     "output_type": "stream",
     "text": [
      "0\n",
      "69\n",
      "41\n",
      "112\n",
      "68\n",
      "97\n",
      "113\n",
      "105\n",
      "102\n",
      "98\n",
      "104\n",
      "109\n",
      "107\n",
      "104\n"
     ]
    }
   ],
   "source": [
    "# Compare the predictions of each cycle's best model with the overall best model.\n",
    "# Count the number of different predictions.\n",
    "for i in range(14):\n",
    "    print((results_df['best'] - results_df['model' + str(i)]).abs().sum())"
   ]
  },
  {
   "cell_type": "code",
   "execution_count": 39,
   "metadata": {
    "scrolled": true
   },
   "outputs": [
    {
     "name": "stdout",
     "output_type": "stream",
     "text": [
      "model0 = 63.300%\n",
      "model1 = 62.963%\n",
      "model2 = 62.290%\n",
      "model3 = 59.259%\n",
      "model4 = 59.933%\n",
      "model5 = 59.596%\n",
      "model6 = 60.943%\n",
      "model7 = 60.269%\n",
      "model8 = 60.606%\n",
      "model9 = 59.259%\n",
      "model10 = 58.586%\n",
      "model11 = 59.596%\n",
      "model12 = 59.596%\n",
      "model13 = 59.933%\n"
     ]
    }
   ],
   "source": [
    "# calculate the accuracy for each model\n",
    "for i in range(14):\n",
    "    acc = 100. * (len(y_val) - (np.abs(results_df['model' + str(i)].values - y_val)).sum()) / len(y_val)\n",
    "    print('model' + str(i) + ' = {:06.3f}%'.format(acc))"
   ]
  },
  {
   "cell_type": "markdown",
   "metadata": {},
   "source": [
    "#### Evalute the Model Ensembles\n",
    "#### Use models 0-12 (13 models)"
   ]
  },
  {
   "cell_type": "code",
   "execution_count": 40,
   "metadata": {},
   "outputs": [],
   "source": [
    "acc_list = []"
   ]
  },
  {
   "cell_type": "code",
   "execution_count": 41,
   "metadata": {},
   "outputs": [
    {
     "name": "stdout",
     "output_type": "stream",
     "text": [
      "threshold = 6\n"
     ]
    }
   ],
   "source": [
    "cols = results_df.columns.tolist()\n",
    "cols.remove('best')\n",
    "cols.remove('model13')\n",
    "\n",
    "# Decision threshold for majority voting\n",
    "threshold = len(cols) // 2\n",
    "print('threshold = {}'.format(threshold))"
   ]
  },
  {
   "cell_type": "code",
   "execution_count": 42,
   "metadata": {},
   "outputs": [
    {
     "data": {
      "text/html": [
       "<div>\n",
       "<style scoped>\n",
       "    .dataframe tbody tr th:only-of-type {\n",
       "        vertical-align: middle;\n",
       "    }\n",
       "\n",
       "    .dataframe tbody tr th {\n",
       "        vertical-align: top;\n",
       "    }\n",
       "\n",
       "    .dataframe thead th {\n",
       "        text-align: right;\n",
       "    }\n",
       "</style>\n",
       "<table border=\"1\" class=\"dataframe\">\n",
       "  <thead>\n",
       "    <tr style=\"text-align: right;\">\n",
       "      <th></th>\n",
       "      <th>best</th>\n",
       "      <th>model0</th>\n",
       "      <th>model1</th>\n",
       "      <th>model2</th>\n",
       "      <th>model3</th>\n",
       "      <th>model4</th>\n",
       "      <th>model5</th>\n",
       "      <th>model6</th>\n",
       "      <th>model7</th>\n",
       "      <th>model8</th>\n",
       "      <th>model9</th>\n",
       "      <th>model10</th>\n",
       "      <th>model11</th>\n",
       "      <th>model12</th>\n",
       "      <th>model13</th>\n",
       "      <th>ensemble</th>\n",
       "    </tr>\n",
       "  </thead>\n",
       "  <tbody>\n",
       "    <tr>\n",
       "      <th>0</th>\n",
       "      <td>1</td>\n",
       "      <td>1</td>\n",
       "      <td>1</td>\n",
       "      <td>1</td>\n",
       "      <td>1</td>\n",
       "      <td>1</td>\n",
       "      <td>1</td>\n",
       "      <td>1</td>\n",
       "      <td>1</td>\n",
       "      <td>1</td>\n",
       "      <td>1</td>\n",
       "      <td>0</td>\n",
       "      <td>1</td>\n",
       "      <td>1</td>\n",
       "      <td>1</td>\n",
       "      <td>1</td>\n",
       "    </tr>\n",
       "    <tr>\n",
       "      <th>1</th>\n",
       "      <td>1</td>\n",
       "      <td>1</td>\n",
       "      <td>1</td>\n",
       "      <td>1</td>\n",
       "      <td>1</td>\n",
       "      <td>1</td>\n",
       "      <td>1</td>\n",
       "      <td>1</td>\n",
       "      <td>1</td>\n",
       "      <td>1</td>\n",
       "      <td>1</td>\n",
       "      <td>1</td>\n",
       "      <td>1</td>\n",
       "      <td>1</td>\n",
       "      <td>1</td>\n",
       "      <td>1</td>\n",
       "    </tr>\n",
       "    <tr>\n",
       "      <th>2</th>\n",
       "      <td>0</td>\n",
       "      <td>0</td>\n",
       "      <td>0</td>\n",
       "      <td>0</td>\n",
       "      <td>0</td>\n",
       "      <td>0</td>\n",
       "      <td>0</td>\n",
       "      <td>0</td>\n",
       "      <td>0</td>\n",
       "      <td>0</td>\n",
       "      <td>0</td>\n",
       "      <td>0</td>\n",
       "      <td>0</td>\n",
       "      <td>0</td>\n",
       "      <td>0</td>\n",
       "      <td>0</td>\n",
       "    </tr>\n",
       "    <tr>\n",
       "      <th>3</th>\n",
       "      <td>0</td>\n",
       "      <td>0</td>\n",
       "      <td>0</td>\n",
       "      <td>0</td>\n",
       "      <td>0</td>\n",
       "      <td>0</td>\n",
       "      <td>0</td>\n",
       "      <td>0</td>\n",
       "      <td>0</td>\n",
       "      <td>0</td>\n",
       "      <td>0</td>\n",
       "      <td>0</td>\n",
       "      <td>0</td>\n",
       "      <td>0</td>\n",
       "      <td>0</td>\n",
       "      <td>0</td>\n",
       "    </tr>\n",
       "    <tr>\n",
       "      <th>4</th>\n",
       "      <td>0</td>\n",
       "      <td>0</td>\n",
       "      <td>0</td>\n",
       "      <td>0</td>\n",
       "      <td>0</td>\n",
       "      <td>0</td>\n",
       "      <td>0</td>\n",
       "      <td>0</td>\n",
       "      <td>0</td>\n",
       "      <td>0</td>\n",
       "      <td>0</td>\n",
       "      <td>1</td>\n",
       "      <td>1</td>\n",
       "      <td>0</td>\n",
       "      <td>1</td>\n",
       "      <td>0</td>\n",
       "    </tr>\n",
       "  </tbody>\n",
       "</table>\n",
       "</div>"
      ],
      "text/plain": [
       "   best  model0  model1  model2  model3  model4  model5  model6  model7  \\\n",
       "0     1       1       1       1       1       1       1       1       1   \n",
       "1     1       1       1       1       1       1       1       1       1   \n",
       "2     0       0       0       0       0       0       0       0       0   \n",
       "3     0       0       0       0       0       0       0       0       0   \n",
       "4     0       0       0       0       0       0       0       0       0   \n",
       "\n",
       "   model8  model9  model10  model11  model12  model13  ensemble  \n",
       "0       1       1        0        1        1        1         1  \n",
       "1       1       1        1        1        1        1         1  \n",
       "2       0       0        0        0        0        0         0  \n",
       "3       0       0        0        0        0        0         0  \n",
       "4       0       0        1        1        0        1         0  "
      ]
     },
     "execution_count": 42,
     "metadata": {},
     "output_type": "execute_result"
    }
   ],
   "source": [
    "# Calculate the ensemble prediction\n",
    "results_df['ensemble'] = results_df.loc[:, cols].apply(lambda x: 1 if x.sum() > threshold else 0, axis=1)\n",
    "results_df.head()"
   ]
  },
  {
   "cell_type": "code",
   "execution_count": 43,
   "metadata": {},
   "outputs": [
    {
     "name": "stdout",
     "output_type": "stream",
     "text": [
      "model ensemble accuracy = 62.290%\n"
     ]
    }
   ],
   "source": [
    "# Calculate the model ensemble accuracy \n",
    "acc = 100. * (len(y_val) - (np.abs(results_df['ensemble'].values - y_val)).sum()) / len(y_val)\n",
    "print('model ensemble accuracy = {:06.3f}%'.format(acc))\n",
    "acc_list.append(('0-12', 13, acc))"
   ]
  },
  {
   "cell_type": "markdown",
   "metadata": {},
   "source": [
    "#### Use models 0-10 (11 models)"
   ]
  },
  {
   "cell_type": "code",
   "execution_count": 44,
   "metadata": {},
   "outputs": [
    {
     "name": "stdout",
     "output_type": "stream",
     "text": [
      "threshold = 5\n"
     ]
    },
    {
     "data": {
      "text/html": [
       "<div>\n",
       "<style scoped>\n",
       "    .dataframe tbody tr th:only-of-type {\n",
       "        vertical-align: middle;\n",
       "    }\n",
       "\n",
       "    .dataframe tbody tr th {\n",
       "        vertical-align: top;\n",
       "    }\n",
       "\n",
       "    .dataframe thead th {\n",
       "        text-align: right;\n",
       "    }\n",
       "</style>\n",
       "<table border=\"1\" class=\"dataframe\">\n",
       "  <thead>\n",
       "    <tr style=\"text-align: right;\">\n",
       "      <th></th>\n",
       "      <th>best</th>\n",
       "      <th>model0</th>\n",
       "      <th>model1</th>\n",
       "      <th>model2</th>\n",
       "      <th>model3</th>\n",
       "      <th>model4</th>\n",
       "      <th>model5</th>\n",
       "      <th>model6</th>\n",
       "      <th>model7</th>\n",
       "      <th>model8</th>\n",
       "      <th>model9</th>\n",
       "      <th>model10</th>\n",
       "      <th>model11</th>\n",
       "      <th>model12</th>\n",
       "      <th>model13</th>\n",
       "      <th>ensemble</th>\n",
       "    </tr>\n",
       "  </thead>\n",
       "  <tbody>\n",
       "    <tr>\n",
       "      <th>0</th>\n",
       "      <td>1</td>\n",
       "      <td>1</td>\n",
       "      <td>1</td>\n",
       "      <td>1</td>\n",
       "      <td>1</td>\n",
       "      <td>1</td>\n",
       "      <td>1</td>\n",
       "      <td>1</td>\n",
       "      <td>1</td>\n",
       "      <td>1</td>\n",
       "      <td>1</td>\n",
       "      <td>0</td>\n",
       "      <td>1</td>\n",
       "      <td>1</td>\n",
       "      <td>1</td>\n",
       "      <td>1</td>\n",
       "    </tr>\n",
       "    <tr>\n",
       "      <th>1</th>\n",
       "      <td>1</td>\n",
       "      <td>1</td>\n",
       "      <td>1</td>\n",
       "      <td>1</td>\n",
       "      <td>1</td>\n",
       "      <td>1</td>\n",
       "      <td>1</td>\n",
       "      <td>1</td>\n",
       "      <td>1</td>\n",
       "      <td>1</td>\n",
       "      <td>1</td>\n",
       "      <td>1</td>\n",
       "      <td>1</td>\n",
       "      <td>1</td>\n",
       "      <td>1</td>\n",
       "      <td>1</td>\n",
       "    </tr>\n",
       "    <tr>\n",
       "      <th>2</th>\n",
       "      <td>0</td>\n",
       "      <td>0</td>\n",
       "      <td>0</td>\n",
       "      <td>0</td>\n",
       "      <td>0</td>\n",
       "      <td>0</td>\n",
       "      <td>0</td>\n",
       "      <td>0</td>\n",
       "      <td>0</td>\n",
       "      <td>0</td>\n",
       "      <td>0</td>\n",
       "      <td>0</td>\n",
       "      <td>0</td>\n",
       "      <td>0</td>\n",
       "      <td>0</td>\n",
       "      <td>0</td>\n",
       "    </tr>\n",
       "    <tr>\n",
       "      <th>3</th>\n",
       "      <td>0</td>\n",
       "      <td>0</td>\n",
       "      <td>0</td>\n",
       "      <td>0</td>\n",
       "      <td>0</td>\n",
       "      <td>0</td>\n",
       "      <td>0</td>\n",
       "      <td>0</td>\n",
       "      <td>0</td>\n",
       "      <td>0</td>\n",
       "      <td>0</td>\n",
       "      <td>0</td>\n",
       "      <td>0</td>\n",
       "      <td>0</td>\n",
       "      <td>0</td>\n",
       "      <td>0</td>\n",
       "    </tr>\n",
       "    <tr>\n",
       "      <th>4</th>\n",
       "      <td>0</td>\n",
       "      <td>0</td>\n",
       "      <td>0</td>\n",
       "      <td>0</td>\n",
       "      <td>0</td>\n",
       "      <td>0</td>\n",
       "      <td>0</td>\n",
       "      <td>0</td>\n",
       "      <td>0</td>\n",
       "      <td>0</td>\n",
       "      <td>0</td>\n",
       "      <td>1</td>\n",
       "      <td>1</td>\n",
       "      <td>0</td>\n",
       "      <td>1</td>\n",
       "      <td>0</td>\n",
       "    </tr>\n",
       "  </tbody>\n",
       "</table>\n",
       "</div>"
      ],
      "text/plain": [
       "   best  model0  model1  model2  model3  model4  model5  model6  model7  \\\n",
       "0     1       1       1       1       1       1       1       1       1   \n",
       "1     1       1       1       1       1       1       1       1       1   \n",
       "2     0       0       0       0       0       0       0       0       0   \n",
       "3     0       0       0       0       0       0       0       0       0   \n",
       "4     0       0       0       0       0       0       0       0       0   \n",
       "\n",
       "   model8  model9  model10  model11  model12  model13  ensemble  \n",
       "0       1       1        0        1        1        1         1  \n",
       "1       1       1        1        1        1        1         1  \n",
       "2       0       0        0        0        0        0         0  \n",
       "3       0       0        0        0        0        0         0  \n",
       "4       0       0        1        1        0        1         0  "
      ]
     },
     "execution_count": 44,
     "metadata": {},
     "output_type": "execute_result"
    }
   ],
   "source": [
    "cols = results_df.columns.tolist()\n",
    "for i in ['best', 'model11', 'model12', 'model13', 'ensemble']:\n",
    "    cols.remove(i)\n",
    "threshold = len(cols) // 2\n",
    "print('threshold = {}'.format(threshold))\n",
    "results_df['ensemble'] = results_df.loc[:, cols].apply(lambda x: 1 if x.sum() > threshold else 0, axis=1)\n",
    "results_df.head()"
   ]
  },
  {
   "cell_type": "code",
   "execution_count": 45,
   "metadata": {},
   "outputs": [
    {
     "name": "stdout",
     "output_type": "stream",
     "text": [
      "model ensemble accuracy = 62.290%\n"
     ]
    }
   ],
   "source": [
    "acc = 100. * (len(y_val) - (np.abs(results_df['ensemble'].values - y_val)).sum()) / len(y_val)\n",
    "print('model ensemble accuracy = {:06.3f}%'.format(acc))\n",
    "acc_list.append(('0-10', 11, acc))"
   ]
  },
  {
   "cell_type": "markdown",
   "metadata": {},
   "source": [
    "#### Use models 0-8 (9 models)"
   ]
  },
  {
   "cell_type": "code",
   "execution_count": 46,
   "metadata": {},
   "outputs": [
    {
     "name": "stdout",
     "output_type": "stream",
     "text": [
      "threshold = 4\n"
     ]
    },
    {
     "data": {
      "text/html": [
       "<div>\n",
       "<style scoped>\n",
       "    .dataframe tbody tr th:only-of-type {\n",
       "        vertical-align: middle;\n",
       "    }\n",
       "\n",
       "    .dataframe tbody tr th {\n",
       "        vertical-align: top;\n",
       "    }\n",
       "\n",
       "    .dataframe thead th {\n",
       "        text-align: right;\n",
       "    }\n",
       "</style>\n",
       "<table border=\"1\" class=\"dataframe\">\n",
       "  <thead>\n",
       "    <tr style=\"text-align: right;\">\n",
       "      <th></th>\n",
       "      <th>best</th>\n",
       "      <th>model0</th>\n",
       "      <th>model1</th>\n",
       "      <th>model2</th>\n",
       "      <th>model3</th>\n",
       "      <th>model4</th>\n",
       "      <th>model5</th>\n",
       "      <th>model6</th>\n",
       "      <th>model7</th>\n",
       "      <th>model8</th>\n",
       "      <th>model9</th>\n",
       "      <th>model10</th>\n",
       "      <th>model11</th>\n",
       "      <th>model12</th>\n",
       "      <th>model13</th>\n",
       "      <th>ensemble</th>\n",
       "    </tr>\n",
       "  </thead>\n",
       "  <tbody>\n",
       "    <tr>\n",
       "      <th>0</th>\n",
       "      <td>1</td>\n",
       "      <td>1</td>\n",
       "      <td>1</td>\n",
       "      <td>1</td>\n",
       "      <td>1</td>\n",
       "      <td>1</td>\n",
       "      <td>1</td>\n",
       "      <td>1</td>\n",
       "      <td>1</td>\n",
       "      <td>1</td>\n",
       "      <td>1</td>\n",
       "      <td>0</td>\n",
       "      <td>1</td>\n",
       "      <td>1</td>\n",
       "      <td>1</td>\n",
       "      <td>1</td>\n",
       "    </tr>\n",
       "    <tr>\n",
       "      <th>1</th>\n",
       "      <td>1</td>\n",
       "      <td>1</td>\n",
       "      <td>1</td>\n",
       "      <td>1</td>\n",
       "      <td>1</td>\n",
       "      <td>1</td>\n",
       "      <td>1</td>\n",
       "      <td>1</td>\n",
       "      <td>1</td>\n",
       "      <td>1</td>\n",
       "      <td>1</td>\n",
       "      <td>1</td>\n",
       "      <td>1</td>\n",
       "      <td>1</td>\n",
       "      <td>1</td>\n",
       "      <td>1</td>\n",
       "    </tr>\n",
       "    <tr>\n",
       "      <th>2</th>\n",
       "      <td>0</td>\n",
       "      <td>0</td>\n",
       "      <td>0</td>\n",
       "      <td>0</td>\n",
       "      <td>0</td>\n",
       "      <td>0</td>\n",
       "      <td>0</td>\n",
       "      <td>0</td>\n",
       "      <td>0</td>\n",
       "      <td>0</td>\n",
       "      <td>0</td>\n",
       "      <td>0</td>\n",
       "      <td>0</td>\n",
       "      <td>0</td>\n",
       "      <td>0</td>\n",
       "      <td>0</td>\n",
       "    </tr>\n",
       "    <tr>\n",
       "      <th>3</th>\n",
       "      <td>0</td>\n",
       "      <td>0</td>\n",
       "      <td>0</td>\n",
       "      <td>0</td>\n",
       "      <td>0</td>\n",
       "      <td>0</td>\n",
       "      <td>0</td>\n",
       "      <td>0</td>\n",
       "      <td>0</td>\n",
       "      <td>0</td>\n",
       "      <td>0</td>\n",
       "      <td>0</td>\n",
       "      <td>0</td>\n",
       "      <td>0</td>\n",
       "      <td>0</td>\n",
       "      <td>0</td>\n",
       "    </tr>\n",
       "    <tr>\n",
       "      <th>4</th>\n",
       "      <td>0</td>\n",
       "      <td>0</td>\n",
       "      <td>0</td>\n",
       "      <td>0</td>\n",
       "      <td>0</td>\n",
       "      <td>0</td>\n",
       "      <td>0</td>\n",
       "      <td>0</td>\n",
       "      <td>0</td>\n",
       "      <td>0</td>\n",
       "      <td>0</td>\n",
       "      <td>1</td>\n",
       "      <td>1</td>\n",
       "      <td>0</td>\n",
       "      <td>1</td>\n",
       "      <td>0</td>\n",
       "    </tr>\n",
       "  </tbody>\n",
       "</table>\n",
       "</div>"
      ],
      "text/plain": [
       "   best  model0  model1  model2  model3  model4  model5  model6  model7  \\\n",
       "0     1       1       1       1       1       1       1       1       1   \n",
       "1     1       1       1       1       1       1       1       1       1   \n",
       "2     0       0       0       0       0       0       0       0       0   \n",
       "3     0       0       0       0       0       0       0       0       0   \n",
       "4     0       0       0       0       0       0       0       0       0   \n",
       "\n",
       "   model8  model9  model10  model11  model12  model13  ensemble  \n",
       "0       1       1        0        1        1        1         1  \n",
       "1       1       1        1        1        1        1         1  \n",
       "2       0       0        0        0        0        0         0  \n",
       "3       0       0        0        0        0        0         0  \n",
       "4       0       0        1        1        0        1         0  "
      ]
     },
     "execution_count": 46,
     "metadata": {},
     "output_type": "execute_result"
    }
   ],
   "source": [
    "cols = results_df.columns.tolist()\n",
    "for i in ['best', 'model9', 'model10', 'model11', 'model12', 'model13', 'ensemble']:\n",
    "    cols.remove(i)\n",
    "threshold = len(cols) // 2\n",
    "print('threshold = {}'.format(threshold))\n",
    "results_df['ensemble'] = results_df.loc[:, cols].apply(lambda x: 1 if x.sum() > threshold else 0, axis=1)\n",
    "results_df.head()"
   ]
  },
  {
   "cell_type": "code",
   "execution_count": 47,
   "metadata": {
    "scrolled": true
   },
   "outputs": [
    {
     "name": "stdout",
     "output_type": "stream",
     "text": [
      "model ensemble accuracy = 60.606%\n"
     ]
    }
   ],
   "source": [
    "acc = 100. * (len(y_val) - (np.abs(results_df['ensemble'].values - y_val)).sum()) / len(y_val)\n",
    "print('model ensemble accuracy = {:06.3f}%'.format(acc))\n",
    "acc_list.append(('0-8', 9, acc))"
   ]
  },
  {
   "cell_type": "markdown",
   "metadata": {},
   "source": [
    "#### Use models 0-6 (7 models)"
   ]
  },
  {
   "cell_type": "code",
   "execution_count": 48,
   "metadata": {},
   "outputs": [
    {
     "name": "stdout",
     "output_type": "stream",
     "text": [
      "threshold = 3\n"
     ]
    },
    {
     "data": {
      "text/html": [
       "<div>\n",
       "<style scoped>\n",
       "    .dataframe tbody tr th:only-of-type {\n",
       "        vertical-align: middle;\n",
       "    }\n",
       "\n",
       "    .dataframe tbody tr th {\n",
       "        vertical-align: top;\n",
       "    }\n",
       "\n",
       "    .dataframe thead th {\n",
       "        text-align: right;\n",
       "    }\n",
       "</style>\n",
       "<table border=\"1\" class=\"dataframe\">\n",
       "  <thead>\n",
       "    <tr style=\"text-align: right;\">\n",
       "      <th></th>\n",
       "      <th>best</th>\n",
       "      <th>model0</th>\n",
       "      <th>model1</th>\n",
       "      <th>model2</th>\n",
       "      <th>model3</th>\n",
       "      <th>model4</th>\n",
       "      <th>model5</th>\n",
       "      <th>model6</th>\n",
       "      <th>model7</th>\n",
       "      <th>model8</th>\n",
       "      <th>model9</th>\n",
       "      <th>model10</th>\n",
       "      <th>model11</th>\n",
       "      <th>model12</th>\n",
       "      <th>model13</th>\n",
       "      <th>ensemble</th>\n",
       "    </tr>\n",
       "  </thead>\n",
       "  <tbody>\n",
       "    <tr>\n",
       "      <th>0</th>\n",
       "      <td>1</td>\n",
       "      <td>1</td>\n",
       "      <td>1</td>\n",
       "      <td>1</td>\n",
       "      <td>1</td>\n",
       "      <td>1</td>\n",
       "      <td>1</td>\n",
       "      <td>1</td>\n",
       "      <td>1</td>\n",
       "      <td>1</td>\n",
       "      <td>1</td>\n",
       "      <td>0</td>\n",
       "      <td>1</td>\n",
       "      <td>1</td>\n",
       "      <td>1</td>\n",
       "      <td>1</td>\n",
       "    </tr>\n",
       "    <tr>\n",
       "      <th>1</th>\n",
       "      <td>1</td>\n",
       "      <td>1</td>\n",
       "      <td>1</td>\n",
       "      <td>1</td>\n",
       "      <td>1</td>\n",
       "      <td>1</td>\n",
       "      <td>1</td>\n",
       "      <td>1</td>\n",
       "      <td>1</td>\n",
       "      <td>1</td>\n",
       "      <td>1</td>\n",
       "      <td>1</td>\n",
       "      <td>1</td>\n",
       "      <td>1</td>\n",
       "      <td>1</td>\n",
       "      <td>1</td>\n",
       "    </tr>\n",
       "    <tr>\n",
       "      <th>2</th>\n",
       "      <td>0</td>\n",
       "      <td>0</td>\n",
       "      <td>0</td>\n",
       "      <td>0</td>\n",
       "      <td>0</td>\n",
       "      <td>0</td>\n",
       "      <td>0</td>\n",
       "      <td>0</td>\n",
       "      <td>0</td>\n",
       "      <td>0</td>\n",
       "      <td>0</td>\n",
       "      <td>0</td>\n",
       "      <td>0</td>\n",
       "      <td>0</td>\n",
       "      <td>0</td>\n",
       "      <td>0</td>\n",
       "    </tr>\n",
       "    <tr>\n",
       "      <th>3</th>\n",
       "      <td>0</td>\n",
       "      <td>0</td>\n",
       "      <td>0</td>\n",
       "      <td>0</td>\n",
       "      <td>0</td>\n",
       "      <td>0</td>\n",
       "      <td>0</td>\n",
       "      <td>0</td>\n",
       "      <td>0</td>\n",
       "      <td>0</td>\n",
       "      <td>0</td>\n",
       "      <td>0</td>\n",
       "      <td>0</td>\n",
       "      <td>0</td>\n",
       "      <td>0</td>\n",
       "      <td>0</td>\n",
       "    </tr>\n",
       "    <tr>\n",
       "      <th>4</th>\n",
       "      <td>0</td>\n",
       "      <td>0</td>\n",
       "      <td>0</td>\n",
       "      <td>0</td>\n",
       "      <td>0</td>\n",
       "      <td>0</td>\n",
       "      <td>0</td>\n",
       "      <td>0</td>\n",
       "      <td>0</td>\n",
       "      <td>0</td>\n",
       "      <td>0</td>\n",
       "      <td>1</td>\n",
       "      <td>1</td>\n",
       "      <td>0</td>\n",
       "      <td>1</td>\n",
       "      <td>0</td>\n",
       "    </tr>\n",
       "  </tbody>\n",
       "</table>\n",
       "</div>"
      ],
      "text/plain": [
       "   best  model0  model1  model2  model3  model4  model5  model6  model7  \\\n",
       "0     1       1       1       1       1       1       1       1       1   \n",
       "1     1       1       1       1       1       1       1       1       1   \n",
       "2     0       0       0       0       0       0       0       0       0   \n",
       "3     0       0       0       0       0       0       0       0       0   \n",
       "4     0       0       0       0       0       0       0       0       0   \n",
       "\n",
       "   model8  model9  model10  model11  model12  model13  ensemble  \n",
       "0       1       1        0        1        1        1         1  \n",
       "1       1       1        1        1        1        1         1  \n",
       "2       0       0        0        0        0        0         0  \n",
       "3       0       0        0        0        0        0         0  \n",
       "4       0       0        1        1        0        1         0  "
      ]
     },
     "execution_count": 48,
     "metadata": {},
     "output_type": "execute_result"
    }
   ],
   "source": [
    "cols = results_df.columns.tolist()\n",
    "for i in ['best', 'model7', 'model8', 'model9', 'model10', 'model11', 'model12', 'model13', 'ensemble']:\n",
    "    cols.remove(i)\n",
    "threshold = len(cols) // 2\n",
    "print('threshold = {}'.format(threshold))\n",
    "results_df['ensemble'] = results_df.loc[:, cols].apply(lambda x: 1 if x.sum() > threshold else 0, axis=1)\n",
    "results_df.head()"
   ]
  },
  {
   "cell_type": "code",
   "execution_count": 49,
   "metadata": {
    "scrolled": true
   },
   "outputs": [
    {
     "name": "stdout",
     "output_type": "stream",
     "text": [
      "model ensemble accuracy = 59.259%\n"
     ]
    }
   ],
   "source": [
    "acc = 100. * (len(y_val) - (np.abs(results_df['ensemble'].values - y_val)).sum()) / len(y_val)\n",
    "print('model ensemble accuracy = {:06.3f}%'.format(acc))\n",
    "acc_list.append(('0-6', 7, acc))"
   ]
  },
  {
   "cell_type": "markdown",
   "metadata": {},
   "source": [
    "#### Use models 0-4 (5 models)"
   ]
  },
  {
   "cell_type": "code",
   "execution_count": 50,
   "metadata": {},
   "outputs": [
    {
     "name": "stdout",
     "output_type": "stream",
     "text": [
      "threshold = 2\n"
     ]
    },
    {
     "data": {
      "text/html": [
       "<div>\n",
       "<style scoped>\n",
       "    .dataframe tbody tr th:only-of-type {\n",
       "        vertical-align: middle;\n",
       "    }\n",
       "\n",
       "    .dataframe tbody tr th {\n",
       "        vertical-align: top;\n",
       "    }\n",
       "\n",
       "    .dataframe thead th {\n",
       "        text-align: right;\n",
       "    }\n",
       "</style>\n",
       "<table border=\"1\" class=\"dataframe\">\n",
       "  <thead>\n",
       "    <tr style=\"text-align: right;\">\n",
       "      <th></th>\n",
       "      <th>best</th>\n",
       "      <th>model0</th>\n",
       "      <th>model1</th>\n",
       "      <th>model2</th>\n",
       "      <th>model3</th>\n",
       "      <th>model4</th>\n",
       "      <th>model5</th>\n",
       "      <th>model6</th>\n",
       "      <th>model7</th>\n",
       "      <th>model8</th>\n",
       "      <th>model9</th>\n",
       "      <th>model10</th>\n",
       "      <th>model11</th>\n",
       "      <th>model12</th>\n",
       "      <th>model13</th>\n",
       "      <th>ensemble</th>\n",
       "    </tr>\n",
       "  </thead>\n",
       "  <tbody>\n",
       "    <tr>\n",
       "      <th>0</th>\n",
       "      <td>1</td>\n",
       "      <td>1</td>\n",
       "      <td>1</td>\n",
       "      <td>1</td>\n",
       "      <td>1</td>\n",
       "      <td>1</td>\n",
       "      <td>1</td>\n",
       "      <td>1</td>\n",
       "      <td>1</td>\n",
       "      <td>1</td>\n",
       "      <td>1</td>\n",
       "      <td>0</td>\n",
       "      <td>1</td>\n",
       "      <td>1</td>\n",
       "      <td>1</td>\n",
       "      <td>1</td>\n",
       "    </tr>\n",
       "    <tr>\n",
       "      <th>1</th>\n",
       "      <td>1</td>\n",
       "      <td>1</td>\n",
       "      <td>1</td>\n",
       "      <td>1</td>\n",
       "      <td>1</td>\n",
       "      <td>1</td>\n",
       "      <td>1</td>\n",
       "      <td>1</td>\n",
       "      <td>1</td>\n",
       "      <td>1</td>\n",
       "      <td>1</td>\n",
       "      <td>1</td>\n",
       "      <td>1</td>\n",
       "      <td>1</td>\n",
       "      <td>1</td>\n",
       "      <td>1</td>\n",
       "    </tr>\n",
       "    <tr>\n",
       "      <th>2</th>\n",
       "      <td>0</td>\n",
       "      <td>0</td>\n",
       "      <td>0</td>\n",
       "      <td>0</td>\n",
       "      <td>0</td>\n",
       "      <td>0</td>\n",
       "      <td>0</td>\n",
       "      <td>0</td>\n",
       "      <td>0</td>\n",
       "      <td>0</td>\n",
       "      <td>0</td>\n",
       "      <td>0</td>\n",
       "      <td>0</td>\n",
       "      <td>0</td>\n",
       "      <td>0</td>\n",
       "      <td>0</td>\n",
       "    </tr>\n",
       "    <tr>\n",
       "      <th>3</th>\n",
       "      <td>0</td>\n",
       "      <td>0</td>\n",
       "      <td>0</td>\n",
       "      <td>0</td>\n",
       "      <td>0</td>\n",
       "      <td>0</td>\n",
       "      <td>0</td>\n",
       "      <td>0</td>\n",
       "      <td>0</td>\n",
       "      <td>0</td>\n",
       "      <td>0</td>\n",
       "      <td>0</td>\n",
       "      <td>0</td>\n",
       "      <td>0</td>\n",
       "      <td>0</td>\n",
       "      <td>0</td>\n",
       "    </tr>\n",
       "    <tr>\n",
       "      <th>4</th>\n",
       "      <td>0</td>\n",
       "      <td>0</td>\n",
       "      <td>0</td>\n",
       "      <td>0</td>\n",
       "      <td>0</td>\n",
       "      <td>0</td>\n",
       "      <td>0</td>\n",
       "      <td>0</td>\n",
       "      <td>0</td>\n",
       "      <td>0</td>\n",
       "      <td>0</td>\n",
       "      <td>1</td>\n",
       "      <td>1</td>\n",
       "      <td>0</td>\n",
       "      <td>1</td>\n",
       "      <td>0</td>\n",
       "    </tr>\n",
       "  </tbody>\n",
       "</table>\n",
       "</div>"
      ],
      "text/plain": [
       "   best  model0  model1  model2  model3  model4  model5  model6  model7  \\\n",
       "0     1       1       1       1       1       1       1       1       1   \n",
       "1     1       1       1       1       1       1       1       1       1   \n",
       "2     0       0       0       0       0       0       0       0       0   \n",
       "3     0       0       0       0       0       0       0       0       0   \n",
       "4     0       0       0       0       0       0       0       0       0   \n",
       "\n",
       "   model8  model9  model10  model11  model12  model13  ensemble  \n",
       "0       1       1        0        1        1        1         1  \n",
       "1       1       1        1        1        1        1         1  \n",
       "2       0       0        0        0        0        0         0  \n",
       "3       0       0        0        0        0        0         0  \n",
       "4       0       0        1        1        0        1         0  "
      ]
     },
     "execution_count": 50,
     "metadata": {},
     "output_type": "execute_result"
    }
   ],
   "source": [
    "cols = results_df.columns.tolist()\n",
    "for i in ['best', 'model5', 'model6', 'model7', 'model8', 'model9', 'model10', 'model11', 'model12', 'model13', 'ensemble']:\n",
    "    cols.remove(i)\n",
    "threshold = len(cols) // 2\n",
    "print('threshold = {}'.format(threshold))\n",
    "results_df['ensemble'] = results_df.loc[:, cols].apply(lambda x: 1 if x.sum() > threshold else 0, axis=1)\n",
    "results_df.head()"
   ]
  },
  {
   "cell_type": "code",
   "execution_count": 51,
   "metadata": {},
   "outputs": [
    {
     "name": "stdout",
     "output_type": "stream",
     "text": [
      "model ensemble accuracy = 61.279%\n"
     ]
    }
   ],
   "source": [
    "acc = 100. * (len(y_val) - (np.abs(results_df['ensemble'].values - y_val)).sum()) / len(y_val)\n",
    "print('model ensemble accuracy = {:06.3f}%'.format(acc))\n",
    "acc_list.append(('0-4', 5, acc))"
   ]
  },
  {
   "cell_type": "markdown",
   "metadata": {},
   "source": [
    "#### Use models 0, 1, 2 (3 models)"
   ]
  },
  {
   "cell_type": "code",
   "execution_count": 52,
   "metadata": {},
   "outputs": [
    {
     "name": "stdout",
     "output_type": "stream",
     "text": [
      "threshold = 1\n",
      "model ensemble accuracy = 63.636%\n"
     ]
    }
   ],
   "source": [
    "cols = ['model0', 'model1', 'model2']\n",
    "threshold = len(cols) // 2\n",
    "print('threshold = {}'.format(threshold))\n",
    "results_df['ensemble'] = results_df.loc[:, cols].apply(lambda x: 1 if x.sum() > threshold else 0, axis=1)\n",
    "acc = 100. * (len(y_val) - (np.abs(results_df['ensemble'].values - y_val)).sum()) / len(y_val)\n",
    "print('model ensemble accuracy = {:06.3f}%'.format(acc))\n",
    "acc_list.append(('0, 1, 2', 3, acc))"
   ]
  },
  {
   "cell_type": "code",
   "execution_count": 53,
   "metadata": {},
   "outputs": [
    {
     "data": {
      "text/html": [
       "<div>\n",
       "<style scoped>\n",
       "    .dataframe tbody tr th:only-of-type {\n",
       "        vertical-align: middle;\n",
       "    }\n",
       "\n",
       "    .dataframe tbody tr th {\n",
       "        vertical-align: top;\n",
       "    }\n",
       "\n",
       "    .dataframe thead th {\n",
       "        text-align: right;\n",
       "    }\n",
       "</style>\n",
       "<table border=\"1\" class=\"dataframe\">\n",
       "  <thead>\n",
       "    <tr style=\"text-align: right;\">\n",
       "      <th></th>\n",
       "      <th>Models</th>\n",
       "      <th>Number of models</th>\n",
       "      <th>Accuracy</th>\n",
       "    </tr>\n",
       "  </thead>\n",
       "  <tbody>\n",
       "    <tr>\n",
       "      <th>0</th>\n",
       "      <td>0-12</td>\n",
       "      <td>13</td>\n",
       "      <td>62.290</td>\n",
       "    </tr>\n",
       "    <tr>\n",
       "      <th>1</th>\n",
       "      <td>0-10</td>\n",
       "      <td>11</td>\n",
       "      <td>62.290</td>\n",
       "    </tr>\n",
       "    <tr>\n",
       "      <th>2</th>\n",
       "      <td>0-8</td>\n",
       "      <td>9</td>\n",
       "      <td>60.606</td>\n",
       "    </tr>\n",
       "    <tr>\n",
       "      <th>3</th>\n",
       "      <td>0-6</td>\n",
       "      <td>7</td>\n",
       "      <td>59.259</td>\n",
       "    </tr>\n",
       "    <tr>\n",
       "      <th>4</th>\n",
       "      <td>0-4</td>\n",
       "      <td>5</td>\n",
       "      <td>61.279</td>\n",
       "    </tr>\n",
       "    <tr>\n",
       "      <th>5</th>\n",
       "      <td>0, 1, 2</td>\n",
       "      <td>3</td>\n",
       "      <td>63.636</td>\n",
       "    </tr>\n",
       "  </tbody>\n",
       "</table>\n",
       "</div>"
      ],
      "text/plain": [
       "    Models  Number of models  Accuracy\n",
       "0     0-12                13    62.290\n",
       "1     0-10                11    62.290\n",
       "2      0-8                 9    60.606\n",
       "3      0-6                 7    59.259\n",
       "4      0-4                 5    61.279\n",
       "5  0, 1, 2                 3    63.636"
      ]
     },
     "execution_count": 53,
     "metadata": {},
     "output_type": "execute_result"
    }
   ],
   "source": [
    "acc_df = pd.DataFrame(acc_list, columns=['Models', 'Number of models', 'Accuracy'])\n",
    "acc_df"
   ]
  },
  {
   "cell_type": "markdown",
   "metadata": {},
   "source": [
    "**Model ensemble 5** has the best accuracy. The model ensemble beats the best single model accuracy of 63.30%."
   ]
  },
  {
   "cell_type": "markdown",
   "metadata": {},
   "source": [
    "### Ensemble of models of 1x16 conv1D, 2x16 GRU bidirectional, 1x8 Dense\n",
    "* Dropouts (.6/.6/.6)\n",
    "* Warm restarts cycle = 200, max_lr=.001\n",
    "* Saved model are best in each cycle"
   ]
  },
  {
   "cell_type": "code",
   "execution_count": 54,
   "metadata": {},
   "outputs": [],
   "source": [
    "from numpy.random import seed\n",
    "seed(123)\n",
    "from tensorflow import set_random_seed\n",
    "set_random_seed(456)"
   ]
  },
  {
   "cell_type": "code",
   "execution_count": 55,
   "metadata": {},
   "outputs": [
    {
     "name": "stdout",
     "output_type": "stream",
     "text": [
      "_________________________________________________________________\n",
      "Layer (type)                 Output Shape              Param #   \n",
      "=================================================================\n",
      "conv1d_1 (Conv1D)            (None, 192, 16)           1456      \n",
      "_________________________________________________________________\n",
      "batch_normalization_1 (Batch (None, 192, 16)           64        \n",
      "_________________________________________________________________\n",
      "max_pooling1d_1 (MaxPooling1 (None, 96, 16)            0         \n",
      "_________________________________________________________________\n",
      "bidirectional_1 (Bidirection (None, 96, 32)            3264      \n",
      "_________________________________________________________________\n",
      "bidirectional_2 (Bidirection (None, 32)                4800      \n",
      "_________________________________________________________________\n",
      "dropout_1 (Dropout)          (None, 32)                0         \n",
      "_________________________________________________________________\n",
      "dense_1 (Dense)              (None, 8)                 264       \n",
      "_________________________________________________________________\n",
      "dropout_2 (Dropout)          (None, 8)                 0         \n",
      "_________________________________________________________________\n",
      "dense_2 (Dense)              (None, 1)                 9         \n",
      "=================================================================\n",
      "Total params: 9,857\n",
      "Trainable params: 9,825\n",
      "Non-trainable params: 32\n",
      "_________________________________________________________________\n"
     ]
    }
   ],
   "source": [
    "# Best model\n",
    "model = load_model(os.path.join('models-layer2', 'layer2-1x16cv-2x16gruB-1x8d-dropout060606-wr01.best-epch1224.h5'))\n",
    "model.summary()"
   ]
  },
  {
   "cell_type": "code",
   "execution_count": 56,
   "metadata": {},
   "outputs": [],
   "source": [
    "results_df = pd.DataFrame()"
   ]
  },
  {
   "cell_type": "code",
   "execution_count": 57,
   "metadata": {},
   "outputs": [
    {
     "name": "stdout",
     "output_type": "stream",
     "text": [
      "297/297 [==============================] - 2s 7ms/step\n"
     ]
    }
   ],
   "source": [
    "results_df['best'] = pd.Series(model.predict_classes(X_val, batch_size=128, verbose=1).flatten())"
   ]
  },
  {
   "cell_type": "code",
   "execution_count": 58,
   "metadata": {},
   "outputs": [
    {
     "data": {
      "text/plain": [
       "'59.596%'"
      ]
     },
     "execution_count": 58,
     "metadata": {},
     "output_type": "execute_result"
    }
   ],
   "source": [
    "best_acc = 100. * (len(y_val) - (np.abs(results_df['best'].values - y_val)).sum()) / len(y_val)\n",
    "'{:06.3f}%'.format(best_acc)"
   ]
  },
  {
   "cell_type": "code",
   "execution_count": 59,
   "metadata": {},
   "outputs": [
    {
     "data": {
      "text/plain": [
       "['models-layer2/layer2-1x16cv-2x16gruB-1x8d-dropout060606-wr01-weights/model_wgts_cyc0200.h5',\n",
       " 'models-layer2/layer2-1x16cv-2x16gruB-1x8d-dropout060606-wr01-weights/model_wgts_cyc0400.h5',\n",
       " 'models-layer2/layer2-1x16cv-2x16gruB-1x8d-dropout060606-wr01-weights/model_wgts_cyc0600.h5',\n",
       " 'models-layer2/layer2-1x16cv-2x16gruB-1x8d-dropout060606-wr01-weights/model_wgts_cyc0800.h5',\n",
       " 'models-layer2/layer2-1x16cv-2x16gruB-1x8d-dropout060606-wr01-weights/model_wgts_cyc1000.h5',\n",
       " 'models-layer2/layer2-1x16cv-2x16gruB-1x8d-dropout060606-wr01-weights/model_wgts_cyc1200.h5',\n",
       " 'models-layer2/layer2-1x16cv-2x16gruB-1x8d-dropout060606-wr01-weights/model_wgts_cyc1400.h5',\n",
       " 'models-layer2/layer2-1x16cv-2x16gruB-1x8d-dropout060606-wr01-weights/model_wgts_cyc1600.h5',\n",
       " 'models-layer2/layer2-1x16cv-2x16gruB-1x8d-dropout060606-wr01-weights/model_wgts_cyc1800.h5',\n",
       " 'models-layer2/layer2-1x16cv-2x16gruB-1x8d-dropout060606-wr01-weights/model_wgts_cyc2000.h5']"
      ]
     },
     "execution_count": 59,
     "metadata": {},
     "output_type": "execute_result"
    }
   ],
   "source": [
    "path = [os.path.join('models-layer2', 'layer2-1x16cv-2x16gruB-1x8d-dropout060606-wr01-weights', i)\n",
    "        for i in ['model_wgts_cyc0200.h5', 'model_wgts_cyc0400.h5', 'model_wgts_cyc0600.h5',\n",
    "                  'model_wgts_cyc0800.h5', 'model_wgts_cyc1000.h5', 'model_wgts_cyc1200.h5',\n",
    "                  'model_wgts_cyc1400.h5', 'model_wgts_cyc1600.h5',\n",
    "                  'model_wgts_cyc1800.h5', 'model_wgts_cyc2000.h5']]\n",
    "path"
   ]
  },
  {
   "cell_type": "code",
   "execution_count": 60,
   "metadata": {},
   "outputs": [
    {
     "name": "stdout",
     "output_type": "stream",
     "text": [
      "297/297 [==============================] - 0s 882us/step\n",
      "297/297 [==============================] - 0s 874us/step\n",
      "297/297 [==============================] - 0s 857us/step\n",
      "297/297 [==============================] - 0s 862us/step\n",
      "297/297 [==============================] - 0s 842us/step\n",
      "297/297 [==============================] - 0s 933us/step\n",
      "297/297 [==============================] - 1s 2ms/step\n",
      "297/297 [==============================] - 0s 867us/step\n",
      "297/297 [==============================] - 0s 854us/step\n",
      "297/297 [==============================] - 0s 1ms/step\n"
     ]
    }
   ],
   "source": [
    "for idx, a_file in enumerate(path):\n",
    "    model.load_weights(filepath=a_file, by_name=False)\n",
    "    results_df['model' + str(idx)] = model.predict_classes(X_val, batch_size=128, verbose=1)"
   ]
  },
  {
   "cell_type": "code",
   "execution_count": 61,
   "metadata": {},
   "outputs": [
    {
     "name": "stdout",
     "output_type": "stream",
     "text": [
      "120\n",
      "91\n",
      "86\n",
      "55\n",
      "36\n",
      "24\n",
      "0\n",
      "19\n",
      "24\n",
      "23\n"
     ]
    }
   ],
   "source": [
    "for i in range(10):\n",
    "    print((results_df['best'] - results_df['model' + str(i)]).abs().sum())"
   ]
  },
  {
   "cell_type": "code",
   "execution_count": 62,
   "metadata": {
    "scrolled": false
   },
   "outputs": [
    {
     "name": "stdout",
     "output_type": "stream",
     "text": [
      "model0 = 54.209%\n",
      "model1 = 57.912%\n",
      "model2 = 57.576%\n",
      "model3 = 57.239%\n",
      "model4 = 57.576%\n",
      "model5 = 58.923%\n",
      "model6 = 59.596%\n",
      "model7 = 58.586%\n",
      "model8 = 57.576%\n",
      "model9 = 57.239%\n"
     ]
    }
   ],
   "source": [
    "for i in range(10):\n",
    "    acc = 100. * (len(y_val) - (np.abs(results_df['model' + str(i)].values - y_val)).sum()) / len(y_val)\n",
    "    print('model' + str(i) + ' = {:06.3f}%'.format(acc))"
   ]
  },
  {
   "cell_type": "code",
   "execution_count": 63,
   "metadata": {},
   "outputs": [],
   "source": [
    "acc_list = []"
   ]
  },
  {
   "cell_type": "markdown",
   "metadata": {},
   "source": [
    "#### Use models 1-9 (9 models)"
   ]
  },
  {
   "cell_type": "code",
   "execution_count": 64,
   "metadata": {},
   "outputs": [
    {
     "name": "stdout",
     "output_type": "stream",
     "text": [
      "threshold = 4\n"
     ]
    },
    {
     "data": {
      "text/html": [
       "<div>\n",
       "<style scoped>\n",
       "    .dataframe tbody tr th:only-of-type {\n",
       "        vertical-align: middle;\n",
       "    }\n",
       "\n",
       "    .dataframe tbody tr th {\n",
       "        vertical-align: top;\n",
       "    }\n",
       "\n",
       "    .dataframe thead th {\n",
       "        text-align: right;\n",
       "    }\n",
       "</style>\n",
       "<table border=\"1\" class=\"dataframe\">\n",
       "  <thead>\n",
       "    <tr style=\"text-align: right;\">\n",
       "      <th></th>\n",
       "      <th>best</th>\n",
       "      <th>model0</th>\n",
       "      <th>model1</th>\n",
       "      <th>model2</th>\n",
       "      <th>model3</th>\n",
       "      <th>model4</th>\n",
       "      <th>model5</th>\n",
       "      <th>model6</th>\n",
       "      <th>model7</th>\n",
       "      <th>model8</th>\n",
       "      <th>model9</th>\n",
       "      <th>ensemble</th>\n",
       "    </tr>\n",
       "  </thead>\n",
       "  <tbody>\n",
       "    <tr>\n",
       "      <th>0</th>\n",
       "      <td>1</td>\n",
       "      <td>0</td>\n",
       "      <td>1</td>\n",
       "      <td>1</td>\n",
       "      <td>1</td>\n",
       "      <td>1</td>\n",
       "      <td>1</td>\n",
       "      <td>1</td>\n",
       "      <td>1</td>\n",
       "      <td>1</td>\n",
       "      <td>1</td>\n",
       "      <td>1</td>\n",
       "    </tr>\n",
       "    <tr>\n",
       "      <th>1</th>\n",
       "      <td>1</td>\n",
       "      <td>0</td>\n",
       "      <td>1</td>\n",
       "      <td>1</td>\n",
       "      <td>1</td>\n",
       "      <td>1</td>\n",
       "      <td>0</td>\n",
       "      <td>1</td>\n",
       "      <td>1</td>\n",
       "      <td>0</td>\n",
       "      <td>0</td>\n",
       "      <td>1</td>\n",
       "    </tr>\n",
       "    <tr>\n",
       "      <th>2</th>\n",
       "      <td>0</td>\n",
       "      <td>0</td>\n",
       "      <td>0</td>\n",
       "      <td>0</td>\n",
       "      <td>0</td>\n",
       "      <td>0</td>\n",
       "      <td>0</td>\n",
       "      <td>0</td>\n",
       "      <td>0</td>\n",
       "      <td>0</td>\n",
       "      <td>0</td>\n",
       "      <td>0</td>\n",
       "    </tr>\n",
       "    <tr>\n",
       "      <th>3</th>\n",
       "      <td>0</td>\n",
       "      <td>0</td>\n",
       "      <td>0</td>\n",
       "      <td>0</td>\n",
       "      <td>0</td>\n",
       "      <td>0</td>\n",
       "      <td>0</td>\n",
       "      <td>0</td>\n",
       "      <td>0</td>\n",
       "      <td>0</td>\n",
       "      <td>0</td>\n",
       "      <td>0</td>\n",
       "    </tr>\n",
       "    <tr>\n",
       "      <th>4</th>\n",
       "      <td>0</td>\n",
       "      <td>0</td>\n",
       "      <td>1</td>\n",
       "      <td>1</td>\n",
       "      <td>0</td>\n",
       "      <td>0</td>\n",
       "      <td>0</td>\n",
       "      <td>0</td>\n",
       "      <td>0</td>\n",
       "      <td>0</td>\n",
       "      <td>0</td>\n",
       "      <td>0</td>\n",
       "    </tr>\n",
       "  </tbody>\n",
       "</table>\n",
       "</div>"
      ],
      "text/plain": [
       "   best  model0  model1  model2  model3  model4  model5  model6  model7  \\\n",
       "0     1       0       1       1       1       1       1       1       1   \n",
       "1     1       0       1       1       1       1       0       1       1   \n",
       "2     0       0       0       0       0       0       0       0       0   \n",
       "3     0       0       0       0       0       0       0       0       0   \n",
       "4     0       0       1       1       0       0       0       0       0   \n",
       "\n",
       "   model8  model9  ensemble  \n",
       "0       1       1         1  \n",
       "1       0       0         1  \n",
       "2       0       0         0  \n",
       "3       0       0         0  \n",
       "4       0       0         0  "
      ]
     },
     "execution_count": 64,
     "metadata": {},
     "output_type": "execute_result"
    }
   ],
   "source": [
    "cols = results_df.columns.tolist()\n",
    "cols.remove('best')\n",
    "cols.remove('model0')\n",
    "threshold = len(cols) // 2\n",
    "print('threshold = {}'.format(threshold))\n",
    "results_df['ensemble'] = results_df.loc[:, cols].apply(lambda x: 1 if x.sum() > threshold else 0, axis=1)\n",
    "results_df.head()"
   ]
  },
  {
   "cell_type": "code",
   "execution_count": 65,
   "metadata": {},
   "outputs": [
    {
     "name": "stdout",
     "output_type": "stream",
     "text": [
      "model ensemble accuracy = 58.249%\n"
     ]
    }
   ],
   "source": [
    "acc = 100. * (len(y_val) - (np.abs(results_df['ensemble'].values - y_val)).sum()) / len(y_val)\n",
    "print('model ensemble accuracy = {:06.3f}%'.format(acc))\n",
    "acc_list.append(('1-9', 9, acc))"
   ]
  },
  {
   "cell_type": "markdown",
   "metadata": {},
   "source": [
    "#### Use models 3-9 (7 models)"
   ]
  },
  {
   "cell_type": "code",
   "execution_count": 66,
   "metadata": {},
   "outputs": [
    {
     "name": "stdout",
     "output_type": "stream",
     "text": [
      "threshold = 3\n"
     ]
    },
    {
     "data": {
      "text/html": [
       "<div>\n",
       "<style scoped>\n",
       "    .dataframe tbody tr th:only-of-type {\n",
       "        vertical-align: middle;\n",
       "    }\n",
       "\n",
       "    .dataframe tbody tr th {\n",
       "        vertical-align: top;\n",
       "    }\n",
       "\n",
       "    .dataframe thead th {\n",
       "        text-align: right;\n",
       "    }\n",
       "</style>\n",
       "<table border=\"1\" class=\"dataframe\">\n",
       "  <thead>\n",
       "    <tr style=\"text-align: right;\">\n",
       "      <th></th>\n",
       "      <th>best</th>\n",
       "      <th>model0</th>\n",
       "      <th>model1</th>\n",
       "      <th>model2</th>\n",
       "      <th>model3</th>\n",
       "      <th>model4</th>\n",
       "      <th>model5</th>\n",
       "      <th>model6</th>\n",
       "      <th>model7</th>\n",
       "      <th>model8</th>\n",
       "      <th>model9</th>\n",
       "      <th>ensemble</th>\n",
       "    </tr>\n",
       "  </thead>\n",
       "  <tbody>\n",
       "    <tr>\n",
       "      <th>0</th>\n",
       "      <td>1</td>\n",
       "      <td>0</td>\n",
       "      <td>1</td>\n",
       "      <td>1</td>\n",
       "      <td>1</td>\n",
       "      <td>1</td>\n",
       "      <td>1</td>\n",
       "      <td>1</td>\n",
       "      <td>1</td>\n",
       "      <td>1</td>\n",
       "      <td>1</td>\n",
       "      <td>1</td>\n",
       "    </tr>\n",
       "    <tr>\n",
       "      <th>1</th>\n",
       "      <td>1</td>\n",
       "      <td>0</td>\n",
       "      <td>1</td>\n",
       "      <td>1</td>\n",
       "      <td>1</td>\n",
       "      <td>1</td>\n",
       "      <td>0</td>\n",
       "      <td>1</td>\n",
       "      <td>1</td>\n",
       "      <td>0</td>\n",
       "      <td>0</td>\n",
       "      <td>1</td>\n",
       "    </tr>\n",
       "    <tr>\n",
       "      <th>2</th>\n",
       "      <td>0</td>\n",
       "      <td>0</td>\n",
       "      <td>0</td>\n",
       "      <td>0</td>\n",
       "      <td>0</td>\n",
       "      <td>0</td>\n",
       "      <td>0</td>\n",
       "      <td>0</td>\n",
       "      <td>0</td>\n",
       "      <td>0</td>\n",
       "      <td>0</td>\n",
       "      <td>0</td>\n",
       "    </tr>\n",
       "    <tr>\n",
       "      <th>3</th>\n",
       "      <td>0</td>\n",
       "      <td>0</td>\n",
       "      <td>0</td>\n",
       "      <td>0</td>\n",
       "      <td>0</td>\n",
       "      <td>0</td>\n",
       "      <td>0</td>\n",
       "      <td>0</td>\n",
       "      <td>0</td>\n",
       "      <td>0</td>\n",
       "      <td>0</td>\n",
       "      <td>0</td>\n",
       "    </tr>\n",
       "    <tr>\n",
       "      <th>4</th>\n",
       "      <td>0</td>\n",
       "      <td>0</td>\n",
       "      <td>1</td>\n",
       "      <td>1</td>\n",
       "      <td>0</td>\n",
       "      <td>0</td>\n",
       "      <td>0</td>\n",
       "      <td>0</td>\n",
       "      <td>0</td>\n",
       "      <td>0</td>\n",
       "      <td>0</td>\n",
       "      <td>0</td>\n",
       "    </tr>\n",
       "  </tbody>\n",
       "</table>\n",
       "</div>"
      ],
      "text/plain": [
       "   best  model0  model1  model2  model3  model4  model5  model6  model7  \\\n",
       "0     1       0       1       1       1       1       1       1       1   \n",
       "1     1       0       1       1       1       1       0       1       1   \n",
       "2     0       0       0       0       0       0       0       0       0   \n",
       "3     0       0       0       0       0       0       0       0       0   \n",
       "4     0       0       1       1       0       0       0       0       0   \n",
       "\n",
       "   model8  model9  ensemble  \n",
       "0       1       1         1  \n",
       "1       0       0         1  \n",
       "2       0       0         0  \n",
       "3       0       0         0  \n",
       "4       0       0         0  "
      ]
     },
     "execution_count": 66,
     "metadata": {},
     "output_type": "execute_result"
    }
   ],
   "source": [
    "cols = results_df.columns.tolist()\n",
    "for i in ['best', 'model0', 'model1', 'model2', 'ensemble']:\n",
    "    cols.remove(i)\n",
    "threshold = len(cols) // 2\n",
    "print('threshold = {}'.format(threshold))\n",
    "results_df['ensemble'] = results_df.loc[:, cols].apply(lambda x: 1 if x.sum() > threshold else 0, axis=1)\n",
    "results_df.head()"
   ]
  },
  {
   "cell_type": "code",
   "execution_count": 67,
   "metadata": {},
   "outputs": [
    {
     "name": "stdout",
     "output_type": "stream",
     "text": [
      "model ensemble accuracy = 58.249%\n"
     ]
    }
   ],
   "source": [
    "acc = 100. * (len(y_val) - (np.abs(results_df['ensemble'].values - y_val)).sum()) / len(y_val)\n",
    "print('model ensemble accuracy = {:06.3f}%'.format(acc))\n",
    "acc_list.append(('3-9', 7, acc))"
   ]
  },
  {
   "cell_type": "markdown",
   "metadata": {},
   "source": [
    "#### Use models 4-8 (5 models)"
   ]
  },
  {
   "cell_type": "code",
   "execution_count": 68,
   "metadata": {},
   "outputs": [
    {
     "name": "stdout",
     "output_type": "stream",
     "text": [
      "threshold = 2\n"
     ]
    },
    {
     "data": {
      "text/html": [
       "<div>\n",
       "<style scoped>\n",
       "    .dataframe tbody tr th:only-of-type {\n",
       "        vertical-align: middle;\n",
       "    }\n",
       "\n",
       "    .dataframe tbody tr th {\n",
       "        vertical-align: top;\n",
       "    }\n",
       "\n",
       "    .dataframe thead th {\n",
       "        text-align: right;\n",
       "    }\n",
       "</style>\n",
       "<table border=\"1\" class=\"dataframe\">\n",
       "  <thead>\n",
       "    <tr style=\"text-align: right;\">\n",
       "      <th></th>\n",
       "      <th>best</th>\n",
       "      <th>model0</th>\n",
       "      <th>model1</th>\n",
       "      <th>model2</th>\n",
       "      <th>model3</th>\n",
       "      <th>model4</th>\n",
       "      <th>model5</th>\n",
       "      <th>model6</th>\n",
       "      <th>model7</th>\n",
       "      <th>model8</th>\n",
       "      <th>model9</th>\n",
       "      <th>ensemble</th>\n",
       "    </tr>\n",
       "  </thead>\n",
       "  <tbody>\n",
       "    <tr>\n",
       "      <th>0</th>\n",
       "      <td>1</td>\n",
       "      <td>0</td>\n",
       "      <td>1</td>\n",
       "      <td>1</td>\n",
       "      <td>1</td>\n",
       "      <td>1</td>\n",
       "      <td>1</td>\n",
       "      <td>1</td>\n",
       "      <td>1</td>\n",
       "      <td>1</td>\n",
       "      <td>1</td>\n",
       "      <td>1</td>\n",
       "    </tr>\n",
       "    <tr>\n",
       "      <th>1</th>\n",
       "      <td>1</td>\n",
       "      <td>0</td>\n",
       "      <td>1</td>\n",
       "      <td>1</td>\n",
       "      <td>1</td>\n",
       "      <td>1</td>\n",
       "      <td>0</td>\n",
       "      <td>1</td>\n",
       "      <td>1</td>\n",
       "      <td>0</td>\n",
       "      <td>0</td>\n",
       "      <td>1</td>\n",
       "    </tr>\n",
       "    <tr>\n",
       "      <th>2</th>\n",
       "      <td>0</td>\n",
       "      <td>0</td>\n",
       "      <td>0</td>\n",
       "      <td>0</td>\n",
       "      <td>0</td>\n",
       "      <td>0</td>\n",
       "      <td>0</td>\n",
       "      <td>0</td>\n",
       "      <td>0</td>\n",
       "      <td>0</td>\n",
       "      <td>0</td>\n",
       "      <td>0</td>\n",
       "    </tr>\n",
       "    <tr>\n",
       "      <th>3</th>\n",
       "      <td>0</td>\n",
       "      <td>0</td>\n",
       "      <td>0</td>\n",
       "      <td>0</td>\n",
       "      <td>0</td>\n",
       "      <td>0</td>\n",
       "      <td>0</td>\n",
       "      <td>0</td>\n",
       "      <td>0</td>\n",
       "      <td>0</td>\n",
       "      <td>0</td>\n",
       "      <td>0</td>\n",
       "    </tr>\n",
       "    <tr>\n",
       "      <th>4</th>\n",
       "      <td>0</td>\n",
       "      <td>0</td>\n",
       "      <td>1</td>\n",
       "      <td>1</td>\n",
       "      <td>0</td>\n",
       "      <td>0</td>\n",
       "      <td>0</td>\n",
       "      <td>0</td>\n",
       "      <td>0</td>\n",
       "      <td>0</td>\n",
       "      <td>0</td>\n",
       "      <td>0</td>\n",
       "    </tr>\n",
       "  </tbody>\n",
       "</table>\n",
       "</div>"
      ],
      "text/plain": [
       "   best  model0  model1  model2  model3  model4  model5  model6  model7  \\\n",
       "0     1       0       1       1       1       1       1       1       1   \n",
       "1     1       0       1       1       1       1       0       1       1   \n",
       "2     0       0       0       0       0       0       0       0       0   \n",
       "3     0       0       0       0       0       0       0       0       0   \n",
       "4     0       0       1       1       0       0       0       0       0   \n",
       "\n",
       "   model8  model9  ensemble  \n",
       "0       1       1         1  \n",
       "1       0       0         1  \n",
       "2       0       0         0  \n",
       "3       0       0         0  \n",
       "4       0       0         0  "
      ]
     },
     "execution_count": 68,
     "metadata": {},
     "output_type": "execute_result"
    }
   ],
   "source": [
    "cols = results_df.columns.tolist()\n",
    "for i in ['best', 'model0', 'model1', 'model2', 'model3', 'model9', 'ensemble']:\n",
    "    cols.remove(i)\n",
    "threshold = len(cols) // 2\n",
    "print('threshold = {}'.format(threshold))\n",
    "results_df['ensemble'] = results_df.loc[:, cols].apply(lambda x: 1 if x.sum() > threshold else 0, axis=1)\n",
    "results_df.head()"
   ]
  },
  {
   "cell_type": "code",
   "execution_count": 69,
   "metadata": {},
   "outputs": [
    {
     "name": "stdout",
     "output_type": "stream",
     "text": [
      "model ensemble accuracy = 58.923%\n"
     ]
    }
   ],
   "source": [
    "acc = 100. * (len(y_val) - (np.abs(results_df['ensemble'].values - y_val)).sum()) / len(y_val)\n",
    "print('model ensemble accuracy = {:06.3f}%'.format(acc))\n",
    "acc_list.append(('4-8', 5, acc))"
   ]
  },
  {
   "cell_type": "markdown",
   "metadata": {},
   "source": [
    "#### Use models 5-7 (3 models)"
   ]
  },
  {
   "cell_type": "code",
   "execution_count": 70,
   "metadata": {},
   "outputs": [
    {
     "name": "stdout",
     "output_type": "stream",
     "text": [
      "threshold = 1\n"
     ]
    },
    {
     "data": {
      "text/html": [
       "<div>\n",
       "<style scoped>\n",
       "    .dataframe tbody tr th:only-of-type {\n",
       "        vertical-align: middle;\n",
       "    }\n",
       "\n",
       "    .dataframe tbody tr th {\n",
       "        vertical-align: top;\n",
       "    }\n",
       "\n",
       "    .dataframe thead th {\n",
       "        text-align: right;\n",
       "    }\n",
       "</style>\n",
       "<table border=\"1\" class=\"dataframe\">\n",
       "  <thead>\n",
       "    <tr style=\"text-align: right;\">\n",
       "      <th></th>\n",
       "      <th>best</th>\n",
       "      <th>model0</th>\n",
       "      <th>model1</th>\n",
       "      <th>model2</th>\n",
       "      <th>model3</th>\n",
       "      <th>model4</th>\n",
       "      <th>model5</th>\n",
       "      <th>model6</th>\n",
       "      <th>model7</th>\n",
       "      <th>model8</th>\n",
       "      <th>model9</th>\n",
       "      <th>ensemble</th>\n",
       "    </tr>\n",
       "  </thead>\n",
       "  <tbody>\n",
       "    <tr>\n",
       "      <th>0</th>\n",
       "      <td>1</td>\n",
       "      <td>0</td>\n",
       "      <td>1</td>\n",
       "      <td>1</td>\n",
       "      <td>1</td>\n",
       "      <td>1</td>\n",
       "      <td>1</td>\n",
       "      <td>1</td>\n",
       "      <td>1</td>\n",
       "      <td>1</td>\n",
       "      <td>1</td>\n",
       "      <td>1</td>\n",
       "    </tr>\n",
       "    <tr>\n",
       "      <th>1</th>\n",
       "      <td>1</td>\n",
       "      <td>0</td>\n",
       "      <td>1</td>\n",
       "      <td>1</td>\n",
       "      <td>1</td>\n",
       "      <td>1</td>\n",
       "      <td>0</td>\n",
       "      <td>1</td>\n",
       "      <td>1</td>\n",
       "      <td>0</td>\n",
       "      <td>0</td>\n",
       "      <td>1</td>\n",
       "    </tr>\n",
       "    <tr>\n",
       "      <th>2</th>\n",
       "      <td>0</td>\n",
       "      <td>0</td>\n",
       "      <td>0</td>\n",
       "      <td>0</td>\n",
       "      <td>0</td>\n",
       "      <td>0</td>\n",
       "      <td>0</td>\n",
       "      <td>0</td>\n",
       "      <td>0</td>\n",
       "      <td>0</td>\n",
       "      <td>0</td>\n",
       "      <td>0</td>\n",
       "    </tr>\n",
       "    <tr>\n",
       "      <th>3</th>\n",
       "      <td>0</td>\n",
       "      <td>0</td>\n",
       "      <td>0</td>\n",
       "      <td>0</td>\n",
       "      <td>0</td>\n",
       "      <td>0</td>\n",
       "      <td>0</td>\n",
       "      <td>0</td>\n",
       "      <td>0</td>\n",
       "      <td>0</td>\n",
       "      <td>0</td>\n",
       "      <td>0</td>\n",
       "    </tr>\n",
       "    <tr>\n",
       "      <th>4</th>\n",
       "      <td>0</td>\n",
       "      <td>0</td>\n",
       "      <td>1</td>\n",
       "      <td>1</td>\n",
       "      <td>0</td>\n",
       "      <td>0</td>\n",
       "      <td>0</td>\n",
       "      <td>0</td>\n",
       "      <td>0</td>\n",
       "      <td>0</td>\n",
       "      <td>0</td>\n",
       "      <td>0</td>\n",
       "    </tr>\n",
       "  </tbody>\n",
       "</table>\n",
       "</div>"
      ],
      "text/plain": [
       "   best  model0  model1  model2  model3  model4  model5  model6  model7  \\\n",
       "0     1       0       1       1       1       1       1       1       1   \n",
       "1     1       0       1       1       1       1       0       1       1   \n",
       "2     0       0       0       0       0       0       0       0       0   \n",
       "3     0       0       0       0       0       0       0       0       0   \n",
       "4     0       0       1       1       0       0       0       0       0   \n",
       "\n",
       "   model8  model9  ensemble  \n",
       "0       1       1         1  \n",
       "1       0       0         1  \n",
       "2       0       0         0  \n",
       "3       0       0         0  \n",
       "4       0       0         0  "
      ]
     },
     "execution_count": 70,
     "metadata": {},
     "output_type": "execute_result"
    }
   ],
   "source": [
    "cols = ['model5', 'model6', 'model7']\n",
    "threshold = len(cols) // 2\n",
    "print('threshold = {}'.format(threshold))\n",
    "results_df['ensemble'] = results_df.loc[:, cols].apply(lambda x: 1 if x.sum() > threshold else 0, axis=1)\n",
    "results_df.head()"
   ]
  },
  {
   "cell_type": "code",
   "execution_count": 71,
   "metadata": {},
   "outputs": [
    {
     "name": "stdout",
     "output_type": "stream",
     "text": [
      "model ensemble accuracy = 59.596%\n"
     ]
    }
   ],
   "source": [
    "acc = 100. * (len(y_val) - (np.abs(results_df['ensemble'].values - y_val)).sum()) / len(y_val)\n",
    "print('model ensemble accuracy = {:06.3f}%'.format(acc))\n",
    "acc_list.append(('5-7', 3, acc))"
   ]
  },
  {
   "cell_type": "markdown",
   "metadata": {},
   "source": [
    "#### Use models 4, 6, 8 (3 models)"
   ]
  },
  {
   "cell_type": "code",
   "execution_count": 72,
   "metadata": {},
   "outputs": [
    {
     "name": "stdout",
     "output_type": "stream",
     "text": [
      "threshold = 1\n",
      "model ensemble accuracy = 58.923%\n"
     ]
    }
   ],
   "source": [
    "cols = ['model4', 'model6', 'model8']\n",
    "threshold = len(cols) // 2\n",
    "print('threshold = {}'.format(threshold))\n",
    "results_df['ensemble'] = results_df.loc[:, cols].apply(lambda x: 1 if x.sum() > threshold else 0, axis=1)\n",
    "acc = 100. * (len(y_val) - (np.abs(results_df['ensemble'].values - y_val)).sum()) / len(y_val)\n",
    "print('model ensemble accuracy = {:06.3f}%'.format(acc))\n",
    "acc_list.append(('4, 6, 8', 3, acc))"
   ]
  },
  {
   "cell_type": "markdown",
   "metadata": {},
   "source": [
    "#### Use models 3, 6, 9"
   ]
  },
  {
   "cell_type": "code",
   "execution_count": 73,
   "metadata": {},
   "outputs": [
    {
     "name": "stdout",
     "output_type": "stream",
     "text": [
      "threshold = 1\n",
      "model ensemble accuracy = 58.586%\n"
     ]
    }
   ],
   "source": [
    "cols = ['model3', 'model6', 'model9']\n",
    "threshold = len(cols) // 2\n",
    "print('threshold = {}'.format(threshold))\n",
    "results_df['ensemble'] = results_df.loc[:, cols].apply(lambda x: 1 if x.sum() > threshold else 0, axis=1)\n",
    "acc = 100. * (len(y_val) - (np.abs(results_df['ensemble'].values - y_val)).sum()) / len(y_val)\n",
    "print('model ensemble accuracy = {:06.3f}%'.format(acc))\n",
    "acc_list.append(('3, 6, 9', 3, acc))"
   ]
  },
  {
   "cell_type": "code",
   "execution_count": 74,
   "metadata": {},
   "outputs": [
    {
     "data": {
      "text/html": [
       "<div>\n",
       "<style scoped>\n",
       "    .dataframe tbody tr th:only-of-type {\n",
       "        vertical-align: middle;\n",
       "    }\n",
       "\n",
       "    .dataframe tbody tr th {\n",
       "        vertical-align: top;\n",
       "    }\n",
       "\n",
       "    .dataframe thead th {\n",
       "        text-align: right;\n",
       "    }\n",
       "</style>\n",
       "<table border=\"1\" class=\"dataframe\">\n",
       "  <thead>\n",
       "    <tr style=\"text-align: right;\">\n",
       "      <th></th>\n",
       "      <th>Models</th>\n",
       "      <th>Number of models</th>\n",
       "      <th>Accuracy</th>\n",
       "    </tr>\n",
       "  </thead>\n",
       "  <tbody>\n",
       "    <tr>\n",
       "      <th>0</th>\n",
       "      <td>1-9</td>\n",
       "      <td>9</td>\n",
       "      <td>58.249</td>\n",
       "    </tr>\n",
       "    <tr>\n",
       "      <th>1</th>\n",
       "      <td>3-9</td>\n",
       "      <td>7</td>\n",
       "      <td>58.249</td>\n",
       "    </tr>\n",
       "    <tr>\n",
       "      <th>2</th>\n",
       "      <td>4-8</td>\n",
       "      <td>5</td>\n",
       "      <td>58.923</td>\n",
       "    </tr>\n",
       "    <tr>\n",
       "      <th>3</th>\n",
       "      <td>5-7</td>\n",
       "      <td>3</td>\n",
       "      <td>59.596</td>\n",
       "    </tr>\n",
       "    <tr>\n",
       "      <th>4</th>\n",
       "      <td>4, 6, 8</td>\n",
       "      <td>3</td>\n",
       "      <td>58.923</td>\n",
       "    </tr>\n",
       "    <tr>\n",
       "      <th>5</th>\n",
       "      <td>3, 6, 9</td>\n",
       "      <td>3</td>\n",
       "      <td>58.586</td>\n",
       "    </tr>\n",
       "  </tbody>\n",
       "</table>\n",
       "</div>"
      ],
      "text/plain": [
       "    Models  Number of models  Accuracy\n",
       "0      1-9                 9    58.249\n",
       "1      3-9                 7    58.249\n",
       "2      4-8                 5    58.923\n",
       "3      5-7                 3    59.596\n",
       "4  4, 6, 8                 3    58.923\n",
       "5  3, 6, 9                 3    58.586"
      ]
     },
     "execution_count": 74,
     "metadata": {},
     "output_type": "execute_result"
    }
   ],
   "source": [
    "acc_df = pd.DataFrame(acc_list, columns=['Models', 'Number of models', 'Accuracy'])\n",
    "acc_df"
   ]
  },
  {
   "cell_type": "markdown",
   "metadata": {},
   "source": [
    "**Model ensemble 3** has the best accuracy which is equivalent to the best model accuracy of 59.60%"
   ]
  },
  {
   "cell_type": "markdown",
   "metadata": {},
   "source": [
    " ## Evaluate model ensembles, best single models on the test set"
   ]
  },
  {
   "cell_type": "code",
   "execution_count": 75,
   "metadata": {},
   "outputs": [
    {
     "name": "stdout",
     "output_type": "stream",
     "text": [
      "<class 'pandas.core.frame.DataFrame'>\n",
      "RangeIndex: 400 entries, 0 to 399\n",
      "Data columns (total 3 columns):\n",
      "id          400 non-null object\n",
      "type        400 non-null object\n",
      "sequence    400 non-null object\n",
      "dtypes: object(3)\n",
      "memory usage: 9.5+ KB\n"
     ]
    }
   ],
   "source": [
    "test_df = pd.read_csv(os.path.join('data', 'independent.csv'))\n",
    "test_df.info()"
   ]
  },
  {
   "cell_type": "code",
   "execution_count": 76,
   "metadata": {},
   "outputs": [
    {
     "data": {
      "text/html": [
       "<div>\n",
       "<style scoped>\n",
       "    .dataframe tbody tr th:only-of-type {\n",
       "        vertical-align: middle;\n",
       "    }\n",
       "\n",
       "    .dataframe tbody tr th {\n",
       "        vertical-align: top;\n",
       "    }\n",
       "\n",
       "    .dataframe thead th {\n",
       "        text-align: right;\n",
       "    }\n",
       "</style>\n",
       "<table border=\"1\" class=\"dataframe\">\n",
       "  <thead>\n",
       "    <tr style=\"text-align: right;\">\n",
       "      <th></th>\n",
       "      <th>id</th>\n",
       "      <th>type</th>\n",
       "      <th>sequence</th>\n",
       "    </tr>\n",
       "  </thead>\n",
       "  <tbody>\n",
       "    <tr>\n",
       "      <th>0</th>\n",
       "      <td>Chr11_6627824_6628024</td>\n",
       "      <td>strong</td>\n",
       "      <td>ATGCTGCCAGAAGGAAAAGGGGTGGAATTAATGAAACTGGAAGGTT...</td>\n",
       "    </tr>\n",
       "    <tr>\n",
       "      <th>1</th>\n",
       "      <td>Chr11_9587224_9587424</td>\n",
       "      <td>strong</td>\n",
       "      <td>GGCATTTTTTAACCTGTGTTTCATTTTCATCTGTGAAATGTGAATA...</td>\n",
       "    </tr>\n",
       "    <tr>\n",
       "      <th>2</th>\n",
       "      <td>Chr11_65187024_65187224</td>\n",
       "      <td>strong</td>\n",
       "      <td>GAAACCACAGAGCTGACCTGGCTTCAGAACAAGATGTGGGGCTCCA...</td>\n",
       "    </tr>\n",
       "    <tr>\n",
       "      <th>3</th>\n",
       "      <td>Chr10_74014594_74014794</td>\n",
       "      <td>strong</td>\n",
       "      <td>TTTGCATAGGGGCATTACCACTGGACTTGGGCTCAGAGCAAGTGTT...</td>\n",
       "    </tr>\n",
       "    <tr>\n",
       "      <th>4</th>\n",
       "      <td>Chr10_105667810_105668010</td>\n",
       "      <td>strong</td>\n",
       "      <td>CGGGAGGCGGGGGTTGCAGTGAGCCAAGATCACACCACTGCACTCC...</td>\n",
       "    </tr>\n",
       "  </tbody>\n",
       "</table>\n",
       "</div>"
      ],
      "text/plain": [
       "                          id    type  \\\n",
       "0      Chr11_6627824_6628024  strong   \n",
       "1      Chr11_9587224_9587424  strong   \n",
       "2    Chr11_65187024_65187224  strong   \n",
       "3    Chr10_74014594_74014794  strong   \n",
       "4  Chr10_105667810_105668010  strong   \n",
       "\n",
       "                                            sequence  \n",
       "0  ATGCTGCCAGAAGGAAAAGGGGTGGAATTAATGAAACTGGAAGGTT...  \n",
       "1  GGCATTTTTTAACCTGTGTTTCATTTTCATCTGTGAAATGTGAATA...  \n",
       "2  GAAACCACAGAGCTGACCTGGCTTCAGAACAAGATGTGGGGCTCCA...  \n",
       "3  TTTGCATAGGGGCATTACCACTGGACTTGGGCTCAGAGCAAGTGTT...  \n",
       "4  CGGGAGGCGGGGGTTGCAGTGAGCCAAGATCACACCACTGCACTCC...  "
      ]
     },
     "execution_count": 76,
     "metadata": {},
     "output_type": "execute_result"
    }
   ],
   "source": [
    "test_df.head()"
   ]
  },
  {
   "cell_type": "code",
   "execution_count": 77,
   "metadata": {},
   "outputs": [
    {
     "data": {
      "text/plain": [
       "non-enhancer    200\n",
       "weak            100\n",
       "strong          100\n",
       "Name: type, dtype: int64"
      ]
     },
     "execution_count": 77,
     "metadata": {},
     "output_type": "execute_result"
    }
   ],
   "source": [
    "test_df['type'].value_counts()"
   ]
  },
  {
   "cell_type": "code",
   "execution_count": 78,
   "metadata": {},
   "outputs": [],
   "source": [
    "test_df['enhancer'] = test_df['type'].map(lambda x: 0.0 if x == 'non-enhancer' else 1.0)"
   ]
  },
  {
   "cell_type": "code",
   "execution_count": 79,
   "metadata": {},
   "outputs": [
    {
     "data": {
      "text/html": [
       "<div>\n",
       "<style scoped>\n",
       "    .dataframe tbody tr th:only-of-type {\n",
       "        vertical-align: middle;\n",
       "    }\n",
       "\n",
       "    .dataframe tbody tr th {\n",
       "        vertical-align: top;\n",
       "    }\n",
       "\n",
       "    .dataframe thead th {\n",
       "        text-align: right;\n",
       "    }\n",
       "</style>\n",
       "<table border=\"1\" class=\"dataframe\">\n",
       "  <thead>\n",
       "    <tr style=\"text-align: right;\">\n",
       "      <th></th>\n",
       "      <th>id</th>\n",
       "      <th>type</th>\n",
       "      <th>sequence</th>\n",
       "      <th>enhancer</th>\n",
       "    </tr>\n",
       "  </thead>\n",
       "  <tbody>\n",
       "    <tr>\n",
       "      <th>0</th>\n",
       "      <td>Chr11_6627824_6628024</td>\n",
       "      <td>strong</td>\n",
       "      <td>ATGCTGCCAGAAGGAAAAGGGGTGGAATTAATGAAACTGGAAGGTT...</td>\n",
       "      <td>1.0</td>\n",
       "    </tr>\n",
       "    <tr>\n",
       "      <th>1</th>\n",
       "      <td>Chr11_9587224_9587424</td>\n",
       "      <td>strong</td>\n",
       "      <td>GGCATTTTTTAACCTGTGTTTCATTTTCATCTGTGAAATGTGAATA...</td>\n",
       "      <td>1.0</td>\n",
       "    </tr>\n",
       "    <tr>\n",
       "      <th>2</th>\n",
       "      <td>Chr11_65187024_65187224</td>\n",
       "      <td>strong</td>\n",
       "      <td>GAAACCACAGAGCTGACCTGGCTTCAGAACAAGATGTGGGGCTCCA...</td>\n",
       "      <td>1.0</td>\n",
       "    </tr>\n",
       "    <tr>\n",
       "      <th>3</th>\n",
       "      <td>Chr10_74014594_74014794</td>\n",
       "      <td>strong</td>\n",
       "      <td>TTTGCATAGGGGCATTACCACTGGACTTGGGCTCAGAGCAAGTGTT...</td>\n",
       "      <td>1.0</td>\n",
       "    </tr>\n",
       "    <tr>\n",
       "      <th>4</th>\n",
       "      <td>Chr10_105667810_105668010</td>\n",
       "      <td>strong</td>\n",
       "      <td>CGGGAGGCGGGGGTTGCAGTGAGCCAAGATCACACCACTGCACTCC...</td>\n",
       "      <td>1.0</td>\n",
       "    </tr>\n",
       "  </tbody>\n",
       "</table>\n",
       "</div>"
      ],
      "text/plain": [
       "                          id    type  \\\n",
       "0      Chr11_6627824_6628024  strong   \n",
       "1      Chr11_9587224_9587424  strong   \n",
       "2    Chr11_65187024_65187224  strong   \n",
       "3    Chr10_74014594_74014794  strong   \n",
       "4  Chr10_105667810_105668010  strong   \n",
       "\n",
       "                                            sequence  enhancer  \n",
       "0  ATGCTGCCAGAAGGAAAAGGGGTGGAATTAATGAAACTGGAAGGTT...       1.0  \n",
       "1  GGCATTTTTTAACCTGTGTTTCATTTTCATCTGTGAAATGTGAATA...       1.0  \n",
       "2  GAAACCACAGAGCTGACCTGGCTTCAGAACAAGATGTGGGGCTCCA...       1.0  \n",
       "3  TTTGCATAGGGGCATTACCACTGGACTTGGGCTCAGAGCAAGTGTT...       1.0  \n",
       "4  CGGGAGGCGGGGGTTGCAGTGAGCCAAGATCACACCACTGCACTCC...       1.0  "
      ]
     },
     "execution_count": 79,
     "metadata": {},
     "output_type": "execute_result"
    }
   ],
   "source": [
    "test_df.head()"
   ]
  },
  {
   "cell_type": "code",
   "execution_count": 80,
   "metadata": {},
   "outputs": [
    {
     "data": {
      "text/html": [
       "<div>\n",
       "<style scoped>\n",
       "    .dataframe tbody tr th:only-of-type {\n",
       "        vertical-align: middle;\n",
       "    }\n",
       "\n",
       "    .dataframe tbody tr th {\n",
       "        vertical-align: top;\n",
       "    }\n",
       "\n",
       "    .dataframe thead th {\n",
       "        text-align: right;\n",
       "    }\n",
       "</style>\n",
       "<table border=\"1\" class=\"dataframe\">\n",
       "  <thead>\n",
       "    <tr style=\"text-align: right;\">\n",
       "      <th></th>\n",
       "      <th>id</th>\n",
       "      <th>type</th>\n",
       "      <th>sequence</th>\n",
       "      <th>enhancer</th>\n",
       "    </tr>\n",
       "  </thead>\n",
       "  <tbody>\n",
       "    <tr>\n",
       "      <th>100</th>\n",
       "      <td>hg19_ct_UserTrack_3545_11005</td>\n",
       "      <td>weak</td>\n",
       "      <td>TTATGGTCACCTTCGACCCCAGAAATAATGGTCTCTGTTGTCAGAT...</td>\n",
       "      <td>1.0</td>\n",
       "    </tr>\n",
       "    <tr>\n",
       "      <th>101</th>\n",
       "      <td>hg19_ct_UserTrack_3545_8529</td>\n",
       "      <td>weak</td>\n",
       "      <td>CATCCAGGCTTGGTCCTGGTTGTTCCTTGCTGTTATACCAGCCTGG...</td>\n",
       "      <td>1.0</td>\n",
       "    </tr>\n",
       "    <tr>\n",
       "      <th>102</th>\n",
       "      <td>hg19_ct_UserTrack_3545_7245</td>\n",
       "      <td>weak</td>\n",
       "      <td>TTGTTTTTTTCTGTTTTGAGACGGAGTTTCGCTCTTGTTGCCCAGG...</td>\n",
       "      <td>1.0</td>\n",
       "    </tr>\n",
       "    <tr>\n",
       "      <th>103</th>\n",
       "      <td>hg19_ct_UserTrack_3545_12669</td>\n",
       "      <td>weak</td>\n",
       "      <td>ACTGTTAAATAGCAAAAATTATTGAGCTCAAACCATCTAACCAGGT...</td>\n",
       "      <td>1.0</td>\n",
       "    </tr>\n",
       "    <tr>\n",
       "      <th>104</th>\n",
       "      <td>hg19_ct_UserTrack_3545_5404</td>\n",
       "      <td>weak</td>\n",
       "      <td>GAGAATTAAGTTTGTATTAAGTTGGAGACCAGGGCAGATGGAAAGA...</td>\n",
       "      <td>1.0</td>\n",
       "    </tr>\n",
       "  </tbody>\n",
       "</table>\n",
       "</div>"
      ],
      "text/plain": [
       "                               id  type  \\\n",
       "100  hg19_ct_UserTrack_3545_11005  weak   \n",
       "101   hg19_ct_UserTrack_3545_8529  weak   \n",
       "102   hg19_ct_UserTrack_3545_7245  weak   \n",
       "103  hg19_ct_UserTrack_3545_12669  weak   \n",
       "104   hg19_ct_UserTrack_3545_5404  weak   \n",
       "\n",
       "                                              sequence  enhancer  \n",
       "100  TTATGGTCACCTTCGACCCCAGAAATAATGGTCTCTGTTGTCAGAT...       1.0  \n",
       "101  CATCCAGGCTTGGTCCTGGTTGTTCCTTGCTGTTATACCAGCCTGG...       1.0  \n",
       "102  TTGTTTTTTTCTGTTTTGAGACGGAGTTTCGCTCTTGTTGCCCAGG...       1.0  \n",
       "103  ACTGTTAAATAGCAAAAATTATTGAGCTCAAACCATCTAACCAGGT...       1.0  \n",
       "104  GAGAATTAAGTTTGTATTAAGTTGGAGACCAGGGCAGATGGAAAGA...       1.0  "
      ]
     },
     "execution_count": 80,
     "metadata": {},
     "output_type": "execute_result"
    }
   ],
   "source": [
    "test_df.loc[test_df['type'] == 'weak', :][:5]"
   ]
  },
  {
   "cell_type": "code",
   "execution_count": 81,
   "metadata": {},
   "outputs": [
    {
     "data": {
      "text/html": [
       "<div>\n",
       "<style scoped>\n",
       "    .dataframe tbody tr th:only-of-type {\n",
       "        vertical-align: middle;\n",
       "    }\n",
       "\n",
       "    .dataframe tbody tr th {\n",
       "        vertical-align: top;\n",
       "    }\n",
       "\n",
       "    .dataframe thead th {\n",
       "        text-align: right;\n",
       "    }\n",
       "</style>\n",
       "<table border=\"1\" class=\"dataframe\">\n",
       "  <thead>\n",
       "    <tr style=\"text-align: right;\">\n",
       "      <th></th>\n",
       "      <th>id</th>\n",
       "      <th>type</th>\n",
       "      <th>sequence</th>\n",
       "      <th>enhancer</th>\n",
       "    </tr>\n",
       "  </thead>\n",
       "  <tbody>\n",
       "    <tr>\n",
       "      <th>200</th>\n",
       "      <td>hg19_ct_UserTrack_3545_158</td>\n",
       "      <td>non-enhancer</td>\n",
       "      <td>AATTTTCTCATTTTCTCATAAAGTTTAACAGTTGTTTATTTGAGTC...</td>\n",
       "      <td>0.0</td>\n",
       "    </tr>\n",
       "    <tr>\n",
       "      <th>201</th>\n",
       "      <td>hg19_ct_UserTrack_3545_57</td>\n",
       "      <td>non-enhancer</td>\n",
       "      <td>ACTGGTTATCTTTTAGGACTAGTTAATATAACCCATTCTCTAACCA...</td>\n",
       "      <td>0.0</td>\n",
       "    </tr>\n",
       "    <tr>\n",
       "      <th>202</th>\n",
       "      <td>hg19_ct_UserTrack_3545_762</td>\n",
       "      <td>non-enhancer</td>\n",
       "      <td>ATGCATATGTTCTTCAGTAAACAGAGCAGCCACTGGTACCACAGGA...</td>\n",
       "      <td>0.0</td>\n",
       "    </tr>\n",
       "    <tr>\n",
       "      <th>203</th>\n",
       "      <td>hg19_ct_UserTrack_3545_78</td>\n",
       "      <td>non-enhancer</td>\n",
       "      <td>CTGCTCTCCTCGCTCTATAAAAGTCAGAGTGCCTAAGCTGTTAATT...</td>\n",
       "      <td>0.0</td>\n",
       "    </tr>\n",
       "    <tr>\n",
       "      <th>204</th>\n",
       "      <td>hg19_ct_UserTrack_3545_9</td>\n",
       "      <td>non-enhancer</td>\n",
       "      <td>GCTTGGGTATATATTGTCCAATATAGCAGGCCTCATGTGCTCCTTA...</td>\n",
       "      <td>0.0</td>\n",
       "    </tr>\n",
       "  </tbody>\n",
       "</table>\n",
       "</div>"
      ],
      "text/plain": [
       "                             id          type  \\\n",
       "200  hg19_ct_UserTrack_3545_158  non-enhancer   \n",
       "201   hg19_ct_UserTrack_3545_57  non-enhancer   \n",
       "202  hg19_ct_UserTrack_3545_762  non-enhancer   \n",
       "203   hg19_ct_UserTrack_3545_78  non-enhancer   \n",
       "204    hg19_ct_UserTrack_3545_9  non-enhancer   \n",
       "\n",
       "                                              sequence  enhancer  \n",
       "200  AATTTTCTCATTTTCTCATAAAGTTTAACAGTTGTTTATTTGAGTC...       0.0  \n",
       "201  ACTGGTTATCTTTTAGGACTAGTTAATATAACCCATTCTCTAACCA...       0.0  \n",
       "202  ATGCATATGTTCTTCAGTAAACAGAGCAGCCACTGGTACCACAGGA...       0.0  \n",
       "203  CTGCTCTCCTCGCTCTATAAAAGTCAGAGTGCCTAAGCTGTTAATT...       0.0  \n",
       "204  GCTTGGGTATATATTGTCCAATATAGCAGGCCTCATGTGCTCCTTA...       0.0  "
      ]
     },
     "execution_count": 81,
     "metadata": {},
     "output_type": "execute_result"
    }
   ],
   "source": [
    "test_df.loc[test_df['type'] == 'non-enhancer', :][:5]"
   ]
  },
  {
   "cell_type": "code",
   "execution_count": 82,
   "metadata": {},
   "outputs": [
    {
     "data": {
      "text/plain": [
       "(400, 200, 10)"
      ]
     },
     "execution_count": 82,
     "metadata": {},
     "output_type": "execute_result"
    }
   ],
   "source": [
    "# X_test = my_pipeline.fit_transform(test_df)  # wrong!\n",
    "X_test = my_pipeline.transform(test_df)\n",
    "X_test.shape"
   ]
  },
  {
   "cell_type": "code",
   "execution_count": 83,
   "metadata": {},
   "outputs": [
    {
     "data": {
      "text/plain": [
       "array([[0.        , 0.        , 0.        , 1.        , 0.86060606,\n",
       "        1.        , 0.31958763, 0.86363636, 0.6       , 0.75      ],\n",
       "       [0.        , 0.        , 1.        , 0.        , 0.04545455,\n",
       "        0.22053232, 0.36082474, 0.09090909, 0.1       , 0.29166667],\n",
       "       [0.        , 1.        , 0.        , 0.        , 1.        ,\n",
       "        0.53612167, 0.49484536, 0.5       , 1.        , 0.75      ],\n",
       "       [0.        , 0.        , 0.        , 0.        , 0.25757576,\n",
       "        0.31558935, 0.7628866 , 0.77272727, 0.3       , 0.79166667],\n",
       "       [0.        , 0.        , 1.        , 0.        , 0.04545455,\n",
       "        0.22053232, 0.36082474, 0.09090909, 0.1       , 0.29166667],\n",
       "       [0.        , 1.        , 0.        , 0.        , 1.        ,\n",
       "        0.53612167, 0.49484536, 0.5       , 1.        , 0.75      ],\n",
       "       [0.        , 0.        , 0.        , 0.        , 0.54848485,\n",
       "        0.17110266, 0.73195876, 0.54545455, 0.3       , 1.        ],\n",
       "       [0.        , 0.        , 0.        , 0.        , 0.04545455,\n",
       "        0.22053232, 0.36082474, 0.09090909, 0.1       , 0.29166667],\n",
       "       [0.        , 0.        , 0.        , 1.        , 0.25757576,\n",
       "        0.31558935, 0.7628866 , 0.77272727, 0.3       , 0.79166667],\n",
       "       [0.        , 1.        , 0.        , 0.        , 0.70606061,\n",
       "        0.27756654, 0.6185567 , 0.5       , 0.4       , 0.83333333]])"
      ]
     },
     "execution_count": 83,
     "metadata": {},
     "output_type": "execute_result"
    }
   ],
   "source": [
    "X_test[0, :10, :]"
   ]
  },
  {
   "cell_type": "code",
   "execution_count": 84,
   "metadata": {},
   "outputs": [
    {
     "data": {
      "text/plain": [
       "(400,)"
      ]
     },
     "execution_count": 84,
     "metadata": {},
     "output_type": "execute_result"
    }
   ],
   "source": [
    "y_test = test_df['enhancer'].values\n",
    "y_test.shape"
   ]
  },
  {
   "cell_type": "code",
   "execution_count": 85,
   "metadata": {
    "scrolled": false
   },
   "outputs": [
    {
     "data": {
      "text/plain": [
       "array([1., 1., 1., 1., 1., 1., 1., 1., 1., 1.])"
      ]
     },
     "execution_count": 85,
     "metadata": {},
     "output_type": "execute_result"
    }
   ],
   "source": [
    "y_test[:10]"
   ]
  },
  {
   "cell_type": "markdown",
   "metadata": {},
   "source": [
    "### Use the best ensemble layer 1 classifier predictions as Input for the Layer 2 Classifier"
   ]
  },
  {
   "cell_type": "code",
   "execution_count": 86,
   "metadata": {
    "scrolled": true
   },
   "outputs": [
    {
     "name": "stdout",
     "output_type": "stream",
     "text": [
      "_________________________________________________________________\n",
      "Layer (type)                 Output Shape              Param #   \n",
      "=================================================================\n",
      "gru_1 (GRU)                  (None, None, 16)          1344      \n",
      "_________________________________________________________________\n",
      "gru_2 (GRU)                  (None, 16)                1632      \n",
      "_________________________________________________________________\n",
      "dropout_1 (Dropout)          (None, 16)                0         \n",
      "_________________________________________________________________\n",
      "dense_1 (Dense)              (None, 16)                272       \n",
      "_________________________________________________________________\n",
      "dropout_2 (Dropout)          (None, 16)                0         \n",
      "_________________________________________________________________\n",
      "dense_2 (Dense)              (None, 1)                 17        \n",
      "=================================================================\n",
      "Total params: 3,265\n",
      "Trainable params: 3,265\n",
      "Non-trainable params: 0\n",
      "_________________________________________________________________\n"
     ]
    }
   ],
   "source": [
    "# Best model. Use this model to load the saved weights for the model ensemble.\n",
    "model = load_model(os.path.join('models', 'pcp-2x16gru1x16dense-dropout010101-wr41.best-epch1283.h5'))\n",
    "model.summary()"
   ]
  },
  {
   "cell_type": "code",
   "execution_count": 87,
   "metadata": {},
   "outputs": [],
   "source": [
    "results_df = pd.DataFrame()"
   ]
  },
  {
   "cell_type": "code",
   "execution_count": 88,
   "metadata": {},
   "outputs": [
    {
     "data": {
      "text/plain": [
       "['models/pcp-2x16gru1x16dense-dropout010101-wr41-weights/model_wgts_cyc1000.h5',\n",
       " 'models/pcp-2x16gru1x16dense-dropout010101-wr41-weights/model_wgts_cyc1200.h5',\n",
       " 'models/pcp-2x16gru1x16dense-dropout010101-wr41-weights/model_wgts_cyc1400.h5',\n",
       " 'models/pcp-2x16gru1x16dense-dropout010101-wr41-weights/model_wgts_cyc1600.h5',\n",
       " 'models/pcp-2x16gru1x16dense-dropout010101-wr41-weights/model_wgts_cyc1800.h5']"
      ]
     },
     "execution_count": 88,
     "metadata": {},
     "output_type": "execute_result"
    }
   ],
   "source": [
    "path = [os.path.join('models', 'pcp-2x16gru1x16dense-dropout010101-wr41-weights', i)\n",
    "        for i in ['model_wgts_cyc1000.h5', 'model_wgts_cyc1200.h5', 'model_wgts_cyc1400.h5',\n",
    "                  'model_wgts_cyc1600.h5', 'model_wgts_cyc1800.h5']]\n",
    "path"
   ]
  },
  {
   "cell_type": "code",
   "execution_count": 89,
   "metadata": {
    "scrolled": true
   },
   "outputs": [
    {
     "name": "stdout",
     "output_type": "stream",
     "text": [
      "400/400 [==============================] - 1s 1ms/step\n",
      "400/400 [==============================] - 0s 638us/step\n",
      "400/400 [==============================] - 0s 629us/step\n",
      "400/400 [==============================] - 0s 647us/step\n",
      "400/400 [==============================] - 0s 629us/step\n"
     ]
    }
   ],
   "source": [
    "for idx, a_file in enumerate(path):\n",
    "    model.load_weights(filepath=a_file, by_name=False)\n",
    "    results_df['model' + str(idx)] = pd.Series(model.predict_classes(X_test, batch_size=128, verbose=1).flatten())"
   ]
  },
  {
   "cell_type": "code",
   "execution_count": 90,
   "metadata": {},
   "outputs": [
    {
     "name": "stdout",
     "output_type": "stream",
     "text": [
      "threshold = 2\n"
     ]
    }
   ],
   "source": [
    "threshold = len(results_df.columns) // 2\n",
    "print('threshold = {}'.format(threshold))\n",
    "test_df['layer1_pred'] = results_df.apply(lambda x: 1 if x.sum() > threshold else 0, axis=1)"
   ]
  },
  {
   "cell_type": "code",
   "execution_count": 91,
   "metadata": {},
   "outputs": [
    {
     "data": {
      "text/plain": [
       "54"
      ]
     },
     "execution_count": 91,
     "metadata": {},
     "output_type": "execute_result"
    }
   ],
   "source": [
    "# Count the number of false negatives in the layer 1 predictions\n",
    "len(test_df.loc[(test_df['enhancer'] == 1.0) & (test_df['layer1_pred'] == 0.0), :]) "
   ]
  },
  {
   "cell_type": "code",
   "execution_count": 92,
   "metadata": {},
   "outputs": [
    {
     "data": {
      "text/plain": [
       "(146, 200, 10)"
      ]
     },
     "execution_count": 92,
     "metadata": {},
     "output_type": "execute_result"
    }
   ],
   "source": [
    "# Get the correctly predicted samples.\n",
    "layer2_df = test_df.loc[(test_df['enhancer'] == 1.0) & (test_df['layer1_pred'] == 1.0), :]\n",
    "#X_layer2_test = my_pipeline.fit_transform(layer2_df)\n",
    "X_layer2_test = my_pipeline.transform(layer2_df)\n",
    "X_layer2_test.shape"
   ]
  },
  {
   "cell_type": "code",
   "execution_count": 93,
   "metadata": {},
   "outputs": [
    {
     "data": {
      "text/plain": [
       "strong    89\n",
       "weak      57\n",
       "Name: type, dtype: int64"
      ]
     },
     "execution_count": 93,
     "metadata": {},
     "output_type": "execute_result"
    }
   ],
   "source": [
    "layer2_df['type'].value_counts()"
   ]
  },
  {
   "cell_type": "code",
   "execution_count": 94,
   "metadata": {},
   "outputs": [
    {
     "data": {
      "text/plain": [
       "(146,)"
      ]
     },
     "execution_count": 94,
     "metadata": {},
     "output_type": "execute_result"
    }
   ],
   "source": [
    "y_layer2_test = layer2_df['type'].map(lambda x: 1.0 if x == 'strong' else 0.0).values\n",
    "y_layer2_test.shape"
   ]
  },
  {
   "cell_type": "markdown",
   "metadata": {},
   "source": [
    "### Parameters, Functions for Scoring"
   ]
  },
  {
   "cell_type": "code",
   "execution_count": 95,
   "metadata": {},
   "outputs": [],
   "source": [
    "acc_list = []"
   ]
  },
  {
   "cell_type": "code",
   "execution_count": 96,
   "metadata": {},
   "outputs": [],
   "source": [
    "# customer scorer function for specificity\n",
    "def specificity(y, y_pred):\n",
    "    # print(y_pred)\n",
    "    tn, fp = 0, 0\n",
    "    for idx, a_pred in enumerate(y_pred):\n",
    "        if a_pred and not(y[idx]):\n",
    "            fp += 1\n",
    "        elif not(a_pred) and not(y[idx]):\n",
    "            tn += 1\n",
    "    return tn/(tn+fp)"
   ]
  },
  {
   "cell_type": "code",
   "execution_count": 97,
   "metadata": {},
   "outputs": [],
   "source": [
    "# function for all scores\n",
    "def all_scores(y, y_pred):\n",
    "    acc = accuracy_score(y, y_pred) * 100.\n",
    "    recall = recall_score(y, y_pred) * 100.\n",
    "    spec = specificity(y, y_pred) * 100.\n",
    "    auc = roc_auc_score(y, y_pred) * 100.\n",
    "    mcc = matthews_corrcoef(y, y_pred)\n",
    "    return (acc, mcc, recall, spec, auc)"
   ]
  },
  {
   "cell_type": "markdown",
   "metadata": {},
   "source": [
    "### 2x16 GRU, 1x16 Dense Best Single Model\n",
    "* Dropout 0.1\n",
    "* Best accuracy @epoch 865"
   ]
  },
  {
   "cell_type": "code",
   "execution_count": 98,
   "metadata": {},
   "outputs": [
    {
     "name": "stdout",
     "output_type": "stream",
     "text": [
      "_________________________________________________________________\n",
      "Layer (type)                 Output Shape              Param #   \n",
      "=================================================================\n",
      "gru_1 (GRU)                  (None, None, 16)          1344      \n",
      "_________________________________________________________________\n",
      "gru_2 (GRU)                  (None, 16)                1632      \n",
      "_________________________________________________________________\n",
      "dropout_1 (Dropout)          (None, 16)                0         \n",
      "_________________________________________________________________\n",
      "dense_1 (Dense)              (None, 16)                272       \n",
      "_________________________________________________________________\n",
      "dropout_2 (Dropout)          (None, 16)                0         \n",
      "_________________________________________________________________\n",
      "dense_2 (Dense)              (None, 1)                 17        \n",
      "=================================================================\n",
      "Total params: 3,265\n",
      "Trainable params: 3,265\n",
      "Non-trainable params: 0\n",
      "_________________________________________________________________\n"
     ]
    }
   ],
   "source": [
    "# Best model\n",
    "model = load_model(os.path.join('models-layer2', 'layer2-2x16gru1x16dense-dropout0101.best-epch547.h5'))\n",
    "model.summary()"
   ]
  },
  {
   "cell_type": "code",
   "execution_count": 99,
   "metadata": {},
   "outputs": [
    {
     "name": "stdout",
     "output_type": "stream",
     "text": [
      "146/146 [==============================] - 1s 5ms/step\n"
     ]
    }
   ],
   "source": [
    "y_pred = model.predict_classes(X_layer2_test, batch_size=None, verbose=1)"
   ]
  },
  {
   "cell_type": "code",
   "execution_count": 100,
   "metadata": {},
   "outputs": [],
   "source": [
    "acc_list.append(('2x16GRU 1x16D', 'single') + all_scores(y_layer2_test, y_pred))"
   ]
  },
  {
   "cell_type": "markdown",
   "metadata": {},
   "source": [
    "### 1x16 Conv1D, 2x16 GRU Bidirectional, 1x8 Dense Best Single Model\n",
    "* Dropout 0.6\n",
    "* Best accuracy @epoch 693"
   ]
  },
  {
   "cell_type": "code",
   "execution_count": 101,
   "metadata": {},
   "outputs": [
    {
     "name": "stdout",
     "output_type": "stream",
     "text": [
      "_________________________________________________________________\n",
      "Layer (type)                 Output Shape              Param #   \n",
      "=================================================================\n",
      "conv1d_1 (Conv1D)            (None, 192, 16)           1456      \n",
      "_________________________________________________________________\n",
      "batch_normalization_1 (Batch (None, 192, 16)           64        \n",
      "_________________________________________________________________\n",
      "max_pooling1d_1 (MaxPooling1 (None, 96, 16)            0         \n",
      "_________________________________________________________________\n",
      "bidirectional_1 (Bidirection (None, 96, 32)            3264      \n",
      "_________________________________________________________________\n",
      "bidirectional_2 (Bidirection (None, 32)                4800      \n",
      "_________________________________________________________________\n",
      "dropout_1 (Dropout)          (None, 32)                0         \n",
      "_________________________________________________________________\n",
      "dense_1 (Dense)              (None, 8)                 264       \n",
      "_________________________________________________________________\n",
      "dropout_2 (Dropout)          (None, 8)                 0         \n",
      "_________________________________________________________________\n",
      "dense_2 (Dense)              (None, 1)                 9         \n",
      "=================================================================\n",
      "Total params: 9,857\n",
      "Trainable params: 9,825\n",
      "Non-trainable params: 32\n",
      "_________________________________________________________________\n"
     ]
    }
   ],
   "source": [
    "# Best model\n",
    "model = load_model(os.path.join('models-layer2', 'layer2-1x16cv-2x16gruB-1x8d-dropout060606.best-epch2081.h5'))\n",
    "model.summary()"
   ]
  },
  {
   "cell_type": "code",
   "execution_count": 102,
   "metadata": {},
   "outputs": [
    {
     "name": "stdout",
     "output_type": "stream",
     "text": [
      "146/146 [==============================] - 1s 7ms/step\n"
     ]
    }
   ],
   "source": [
    "y_pred = model.predict_classes(X_layer2_test, batch_size=None, verbose=1)"
   ]
  },
  {
   "cell_type": "code",
   "execution_count": 103,
   "metadata": {},
   "outputs": [],
   "source": [
    "acc_list.append(('1x16 Conv1D 2x16 GRU-B 1x8 Dense', 'single') + all_scores(y_layer2_test, y_pred))"
   ]
  },
  {
   "cell_type": "markdown",
   "metadata": {},
   "source": [
    "### Model Ensemble of 2x16 GRU, 1x16 Dense using 3 models\n",
    "* Dropouts 0.1\n",
    "* Warm restarts cycle = 200, lr=0.003\n",
    "* Using models 0-2 out of 0-10"
   ]
  },
  {
   "cell_type": "code",
   "execution_count": 104,
   "metadata": {},
   "outputs": [
    {
     "name": "stdout",
     "output_type": "stream",
     "text": [
      "_________________________________________________________________\n",
      "Layer (type)                 Output Shape              Param #   \n",
      "=================================================================\n",
      "gru_1 (GRU)                  (None, None, 16)          1344      \n",
      "_________________________________________________________________\n",
      "gru_2 (GRU)                  (None, 16)                1632      \n",
      "_________________________________________________________________\n",
      "dropout_1 (Dropout)          (None, 16)                0         \n",
      "_________________________________________________________________\n",
      "dense_1 (Dense)              (None, 16)                272       \n",
      "_________________________________________________________________\n",
      "dropout_2 (Dropout)          (None, 16)                0         \n",
      "_________________________________________________________________\n",
      "dense_2 (Dense)              (None, 1)                 17        \n",
      "=================================================================\n",
      "Total params: 3,265\n",
      "Trainable params: 3,265\n",
      "Non-trainable params: 0\n",
      "_________________________________________________________________\n"
     ]
    }
   ],
   "source": [
    "# Best model. Use this model to load the saved weights for the model ensemble.\n",
    "model = load_model(os.path.join('models-layer2', 'layer2-2x16gru1x16dense-dropout010101-wr01.best-epch228.h5'))\n",
    "model.summary()"
   ]
  },
  {
   "cell_type": "code",
   "execution_count": 105,
   "metadata": {},
   "outputs": [],
   "source": [
    "results_df = pd.DataFrame()"
   ]
  },
  {
   "cell_type": "code",
   "execution_count": 106,
   "metadata": {},
   "outputs": [
    {
     "data": {
      "text/plain": [
       "['models-layer2/layer2-2x16gru1x16dense-dropout010101-wr01-weights/model_wgts_cyc0400.h5',\n",
       " 'models-layer2/layer2-2x16gru1x16dense-dropout010101-wr01-weights/model_wgts_cyc0600.h5',\n",
       " 'models-layer2/layer2-2x16gru1x16dense-dropout010101-wr01-weights/model_wgts_cyc0800.h5']"
      ]
     },
     "execution_count": 106,
     "metadata": {},
     "output_type": "execute_result"
    }
   ],
   "source": [
    "path = [os.path.join('models-layer2', 'layer2-2x16gru1x16dense-dropout010101-wr01-weights', i)\n",
    "        for i in ['model_wgts_cyc0400.h5', 'model_wgts_cyc0600.h5', 'model_wgts_cyc0800.h5']]\n",
    "path"
   ]
  },
  {
   "cell_type": "code",
   "execution_count": 107,
   "metadata": {},
   "outputs": [
    {
     "name": "stdout",
     "output_type": "stream",
     "text": [
      "146/146 [==============================] - 1s 5ms/step\n",
      "146/146 [==============================] - 0s 862us/step\n",
      "146/146 [==============================] - 0s 875us/step\n"
     ]
    }
   ],
   "source": [
    "for idx, a_file in enumerate(path):\n",
    "    model.load_weights(filepath=a_file, by_name=False)\n",
    "    results_df['model' + str(idx)] = pd.Series(model.predict_classes(X_layer2_test, batch_size=128, verbose=1).flatten())"
   ]
  },
  {
   "cell_type": "code",
   "execution_count": 108,
   "metadata": {},
   "outputs": [
    {
     "data": {
      "text/html": [
       "<div>\n",
       "<style scoped>\n",
       "    .dataframe tbody tr th:only-of-type {\n",
       "        vertical-align: middle;\n",
       "    }\n",
       "\n",
       "    .dataframe tbody tr th {\n",
       "        vertical-align: top;\n",
       "    }\n",
       "\n",
       "    .dataframe thead th {\n",
       "        text-align: right;\n",
       "    }\n",
       "</style>\n",
       "<table border=\"1\" class=\"dataframe\">\n",
       "  <thead>\n",
       "    <tr style=\"text-align: right;\">\n",
       "      <th></th>\n",
       "      <th>model0</th>\n",
       "      <th>model1</th>\n",
       "      <th>model2</th>\n",
       "    </tr>\n",
       "  </thead>\n",
       "  <tbody>\n",
       "    <tr>\n",
       "      <th>0</th>\n",
       "      <td>0</td>\n",
       "      <td>1</td>\n",
       "      <td>1</td>\n",
       "    </tr>\n",
       "    <tr>\n",
       "      <th>1</th>\n",
       "      <td>1</td>\n",
       "      <td>1</td>\n",
       "      <td>1</td>\n",
       "    </tr>\n",
       "    <tr>\n",
       "      <th>2</th>\n",
       "      <td>1</td>\n",
       "      <td>1</td>\n",
       "      <td>1</td>\n",
       "    </tr>\n",
       "    <tr>\n",
       "      <th>3</th>\n",
       "      <td>0</td>\n",
       "      <td>1</td>\n",
       "      <td>1</td>\n",
       "    </tr>\n",
       "    <tr>\n",
       "      <th>4</th>\n",
       "      <td>0</td>\n",
       "      <td>1</td>\n",
       "      <td>1</td>\n",
       "    </tr>\n",
       "  </tbody>\n",
       "</table>\n",
       "</div>"
      ],
      "text/plain": [
       "   model0  model1  model2\n",
       "0       0       1       1\n",
       "1       1       1       1\n",
       "2       1       1       1\n",
       "3       0       1       1\n",
       "4       0       1       1"
      ]
     },
     "execution_count": 108,
     "metadata": {},
     "output_type": "execute_result"
    }
   ],
   "source": [
    "results_df.head()"
   ]
  },
  {
   "cell_type": "code",
   "execution_count": 109,
   "metadata": {},
   "outputs": [
    {
     "name": "stdout",
     "output_type": "stream",
     "text": [
      "threshold = 1\n"
     ]
    },
    {
     "data": {
      "text/html": [
       "<div>\n",
       "<style scoped>\n",
       "    .dataframe tbody tr th:only-of-type {\n",
       "        vertical-align: middle;\n",
       "    }\n",
       "\n",
       "    .dataframe tbody tr th {\n",
       "        vertical-align: top;\n",
       "    }\n",
       "\n",
       "    .dataframe thead th {\n",
       "        text-align: right;\n",
       "    }\n",
       "</style>\n",
       "<table border=\"1\" class=\"dataframe\">\n",
       "  <thead>\n",
       "    <tr style=\"text-align: right;\">\n",
       "      <th></th>\n",
       "      <th>model0</th>\n",
       "      <th>model1</th>\n",
       "      <th>model2</th>\n",
       "      <th>ensemble</th>\n",
       "    </tr>\n",
       "  </thead>\n",
       "  <tbody>\n",
       "    <tr>\n",
       "      <th>0</th>\n",
       "      <td>0</td>\n",
       "      <td>1</td>\n",
       "      <td>1</td>\n",
       "      <td>1</td>\n",
       "    </tr>\n",
       "    <tr>\n",
       "      <th>1</th>\n",
       "      <td>1</td>\n",
       "      <td>1</td>\n",
       "      <td>1</td>\n",
       "      <td>1</td>\n",
       "    </tr>\n",
       "    <tr>\n",
       "      <th>2</th>\n",
       "      <td>1</td>\n",
       "      <td>1</td>\n",
       "      <td>1</td>\n",
       "      <td>1</td>\n",
       "    </tr>\n",
       "    <tr>\n",
       "      <th>3</th>\n",
       "      <td>0</td>\n",
       "      <td>1</td>\n",
       "      <td>1</td>\n",
       "      <td>1</td>\n",
       "    </tr>\n",
       "    <tr>\n",
       "      <th>4</th>\n",
       "      <td>0</td>\n",
       "      <td>1</td>\n",
       "      <td>1</td>\n",
       "      <td>1</td>\n",
       "    </tr>\n",
       "  </tbody>\n",
       "</table>\n",
       "</div>"
      ],
      "text/plain": [
       "   model0  model1  model2  ensemble\n",
       "0       0       1       1         1\n",
       "1       1       1       1         1\n",
       "2       1       1       1         1\n",
       "3       0       1       1         1\n",
       "4       0       1       1         1"
      ]
     },
     "execution_count": 109,
     "metadata": {},
     "output_type": "execute_result"
    }
   ],
   "source": [
    "threshold = len(results_df.columns) // 2\n",
    "print('threshold = {}'.format(threshold))\n",
    "results_df['ensemble'] = results_df.apply(lambda x: 1 if x.sum() > threshold else 0, axis=1)\n",
    "results_df.head()"
   ]
  },
  {
   "cell_type": "code",
   "execution_count": 110,
   "metadata": {},
   "outputs": [],
   "source": [
    "acc_list.append(('2x16GRU 1x16D', 'ensemble') + all_scores(y_layer2_test, results_df['ensemble'].values))"
   ]
  },
  {
   "cell_type": "markdown",
   "metadata": {},
   "source": [
    "#### Model Ensemble for base learner 1x16cv, 2x16gruB, 1x8d, dropout 060606 using 3 models (1, 4 and 7) \n",
    "\n",
    "### Model Ensemble of 1x16 Conv1D, 2x16 GRU Bidirectional, 1x8 Dense using 3 models\n",
    "* Dropouts (.6/.6/.6)\n",
    "* Warm restarts cycle = 200, max_lr=.001\n",
    "* Using models 5-7 out of 0-9"
   ]
  },
  {
   "cell_type": "code",
   "execution_count": 111,
   "metadata": {},
   "outputs": [
    {
     "name": "stdout",
     "output_type": "stream",
     "text": [
      "_________________________________________________________________\n",
      "Layer (type)                 Output Shape              Param #   \n",
      "=================================================================\n",
      "conv1d_1 (Conv1D)            (None, 192, 16)           1456      \n",
      "_________________________________________________________________\n",
      "batch_normalization_1 (Batch (None, 192, 16)           64        \n",
      "_________________________________________________________________\n",
      "max_pooling1d_1 (MaxPooling1 (None, 96, 16)            0         \n",
      "_________________________________________________________________\n",
      "bidirectional_1 (Bidirection (None, 96, 32)            3264      \n",
      "_________________________________________________________________\n",
      "bidirectional_2 (Bidirection (None, 32)                4800      \n",
      "_________________________________________________________________\n",
      "dropout_1 (Dropout)          (None, 32)                0         \n",
      "_________________________________________________________________\n",
      "dense_1 (Dense)              (None, 8)                 264       \n",
      "_________________________________________________________________\n",
      "dropout_2 (Dropout)          (None, 8)                 0         \n",
      "_________________________________________________________________\n",
      "dense_2 (Dense)              (None, 1)                 9         \n",
      "=================================================================\n",
      "Total params: 9,857\n",
      "Trainable params: 9,825\n",
      "Non-trainable params: 32\n",
      "_________________________________________________________________\n"
     ]
    }
   ],
   "source": [
    "# Best model\n",
    "model = load_model(os.path.join('models-layer2', 'layer2-1x16cv-2x16gruB-1x8d-dropout060606-wr01.best-epch1224.h5'))\n",
    "model.summary()"
   ]
  },
  {
   "cell_type": "code",
   "execution_count": 112,
   "metadata": {},
   "outputs": [],
   "source": [
    "results_df = pd.DataFrame()"
   ]
  },
  {
   "cell_type": "code",
   "execution_count": 113,
   "metadata": {},
   "outputs": [
    {
     "data": {
      "text/plain": [
       "['models-layer2/layer2-1x16cv-2x16gruB-1x8d-dropout060606-wr01-weights/model_wgts_cyc1200.h5',\n",
       " 'models-layer2/layer2-1x16cv-2x16gruB-1x8d-dropout060606-wr01-weights/model_wgts_cyc1400.h5',\n",
       " 'models-layer2/layer2-1x16cv-2x16gruB-1x8d-dropout060606-wr01-weights/model_wgts_cyc1600.h5']"
      ]
     },
     "execution_count": 113,
     "metadata": {},
     "output_type": "execute_result"
    }
   ],
   "source": [
    "path = [os.path.join('models-layer2', 'layer2-1x16cv-2x16gruB-1x8d-dropout060606-wr01-weights', i)\n",
    "        for i in ['model_wgts_cyc1200.h5', 'model_wgts_cyc1400.h5', 'model_wgts_cyc1600.h5']]\n",
    "path"
   ]
  },
  {
   "cell_type": "code",
   "execution_count": 114,
   "metadata": {},
   "outputs": [
    {
     "name": "stdout",
     "output_type": "stream",
     "text": [
      "146/146 [==============================] - 1s 7ms/step\n",
      "146/146 [==============================] - 0s 1ms/step\n",
      "146/146 [==============================] - 0s 1ms/step\n"
     ]
    }
   ],
   "source": [
    "for idx, a_file in enumerate(path):\n",
    "    model.load_weights(filepath=a_file, by_name=False)\n",
    "    results_df['model' + str(idx)] = pd.Series(model.predict_classes(X_layer2_test, batch_size=128, verbose=1).flatten())"
   ]
  },
  {
   "cell_type": "code",
   "execution_count": 115,
   "metadata": {},
   "outputs": [
    {
     "data": {
      "text/html": [
       "<div>\n",
       "<style scoped>\n",
       "    .dataframe tbody tr th:only-of-type {\n",
       "        vertical-align: middle;\n",
       "    }\n",
       "\n",
       "    .dataframe tbody tr th {\n",
       "        vertical-align: top;\n",
       "    }\n",
       "\n",
       "    .dataframe thead th {\n",
       "        text-align: right;\n",
       "    }\n",
       "</style>\n",
       "<table border=\"1\" class=\"dataframe\">\n",
       "  <thead>\n",
       "    <tr style=\"text-align: right;\">\n",
       "      <th></th>\n",
       "      <th>model0</th>\n",
       "      <th>model1</th>\n",
       "      <th>model2</th>\n",
       "    </tr>\n",
       "  </thead>\n",
       "  <tbody>\n",
       "    <tr>\n",
       "      <th>0</th>\n",
       "      <td>1</td>\n",
       "      <td>1</td>\n",
       "      <td>1</td>\n",
       "    </tr>\n",
       "    <tr>\n",
       "      <th>1</th>\n",
       "      <td>1</td>\n",
       "      <td>1</td>\n",
       "      <td>1</td>\n",
       "    </tr>\n",
       "    <tr>\n",
       "      <th>2</th>\n",
       "      <td>1</td>\n",
       "      <td>1</td>\n",
       "      <td>1</td>\n",
       "    </tr>\n",
       "    <tr>\n",
       "      <th>3</th>\n",
       "      <td>1</td>\n",
       "      <td>1</td>\n",
       "      <td>1</td>\n",
       "    </tr>\n",
       "    <tr>\n",
       "      <th>4</th>\n",
       "      <td>0</td>\n",
       "      <td>0</td>\n",
       "      <td>0</td>\n",
       "    </tr>\n",
       "  </tbody>\n",
       "</table>\n",
       "</div>"
      ],
      "text/plain": [
       "   model0  model1  model2\n",
       "0       1       1       1\n",
       "1       1       1       1\n",
       "2       1       1       1\n",
       "3       1       1       1\n",
       "4       0       0       0"
      ]
     },
     "execution_count": 115,
     "metadata": {},
     "output_type": "execute_result"
    }
   ],
   "source": [
    "results_df.head()"
   ]
  },
  {
   "cell_type": "code",
   "execution_count": 116,
   "metadata": {},
   "outputs": [
    {
     "name": "stdout",
     "output_type": "stream",
     "text": [
      "threshold = 1\n"
     ]
    },
    {
     "data": {
      "text/html": [
       "<div>\n",
       "<style scoped>\n",
       "    .dataframe tbody tr th:only-of-type {\n",
       "        vertical-align: middle;\n",
       "    }\n",
       "\n",
       "    .dataframe tbody tr th {\n",
       "        vertical-align: top;\n",
       "    }\n",
       "\n",
       "    .dataframe thead th {\n",
       "        text-align: right;\n",
       "    }\n",
       "</style>\n",
       "<table border=\"1\" class=\"dataframe\">\n",
       "  <thead>\n",
       "    <tr style=\"text-align: right;\">\n",
       "      <th></th>\n",
       "      <th>model0</th>\n",
       "      <th>model1</th>\n",
       "      <th>model2</th>\n",
       "      <th>ensemble</th>\n",
       "    </tr>\n",
       "  </thead>\n",
       "  <tbody>\n",
       "    <tr>\n",
       "      <th>0</th>\n",
       "      <td>1</td>\n",
       "      <td>1</td>\n",
       "      <td>1</td>\n",
       "      <td>1</td>\n",
       "    </tr>\n",
       "    <tr>\n",
       "      <th>1</th>\n",
       "      <td>1</td>\n",
       "      <td>1</td>\n",
       "      <td>1</td>\n",
       "      <td>1</td>\n",
       "    </tr>\n",
       "    <tr>\n",
       "      <th>2</th>\n",
       "      <td>1</td>\n",
       "      <td>1</td>\n",
       "      <td>1</td>\n",
       "      <td>1</td>\n",
       "    </tr>\n",
       "    <tr>\n",
       "      <th>3</th>\n",
       "      <td>1</td>\n",
       "      <td>1</td>\n",
       "      <td>1</td>\n",
       "      <td>1</td>\n",
       "    </tr>\n",
       "    <tr>\n",
       "      <th>4</th>\n",
       "      <td>0</td>\n",
       "      <td>0</td>\n",
       "      <td>0</td>\n",
       "      <td>0</td>\n",
       "    </tr>\n",
       "  </tbody>\n",
       "</table>\n",
       "</div>"
      ],
      "text/plain": [
       "   model0  model1  model2  ensemble\n",
       "0       1       1       1         1\n",
       "1       1       1       1         1\n",
       "2       1       1       1         1\n",
       "3       1       1       1         1\n",
       "4       0       0       0         0"
      ]
     },
     "execution_count": 116,
     "metadata": {},
     "output_type": "execute_result"
    }
   ],
   "source": [
    "threshold = len(results_df.columns) // 2\n",
    "print('threshold = {}'.format(threshold))\n",
    "results_df['ensemble'] = results_df.apply(lambda x: 1 if x.sum() > threshold else 0, axis=1)\n",
    "results_df.head()"
   ]
  },
  {
   "cell_type": "code",
   "execution_count": 117,
   "metadata": {},
   "outputs": [],
   "source": [
    "acc_list.append(('1x16 Conv1D 2x16 GRU-B 1x8 Dense', 'ensemble')\n",
    "                + all_scores(y_layer2_test, results_df['ensemble'].values))"
   ]
  },
  {
   "cell_type": "code",
   "execution_count": 118,
   "metadata": {
    "scrolled": true
   },
   "outputs": [
    {
     "data": {
      "text/html": [
       "<div>\n",
       "<style scoped>\n",
       "    .dataframe tbody tr th:only-of-type {\n",
       "        vertical-align: middle;\n",
       "    }\n",
       "\n",
       "    .dataframe tbody tr th {\n",
       "        vertical-align: top;\n",
       "    }\n",
       "\n",
       "    .dataframe thead th {\n",
       "        text-align: right;\n",
       "    }\n",
       "</style>\n",
       "<table border=\"1\" class=\"dataframe\">\n",
       "  <thead>\n",
       "    <tr style=\"text-align: right;\">\n",
       "      <th></th>\n",
       "      <th>Model</th>\n",
       "      <th>Type</th>\n",
       "      <th>Accuracy(%)</th>\n",
       "      <th>MCC</th>\n",
       "      <th>Recall(%)</th>\n",
       "      <th>Specificity(%)</th>\n",
       "      <th>AUC(%)</th>\n",
       "    </tr>\n",
       "  </thead>\n",
       "  <tbody>\n",
       "    <tr>\n",
       "      <th>0</th>\n",
       "      <td>2x16GRU 1x16D</td>\n",
       "      <td>single</td>\n",
       "      <td>60.959</td>\n",
       "      <td>0.100</td>\n",
       "      <td>86.517</td>\n",
       "      <td>21.053</td>\n",
       "      <td>53.785</td>\n",
       "    </tr>\n",
       "    <tr>\n",
       "      <th>1</th>\n",
       "      <td>1x16 Conv1D 2x16 GRU-B 1x8 Dense</td>\n",
       "      <td>single</td>\n",
       "      <td>68.493</td>\n",
       "      <td>0.312</td>\n",
       "      <td>83.146</td>\n",
       "      <td>45.614</td>\n",
       "      <td>64.380</td>\n",
       "    </tr>\n",
       "    <tr>\n",
       "      <th>2</th>\n",
       "      <td>2x16GRU 1x16D</td>\n",
       "      <td>ensemble</td>\n",
       "      <td>58.904</td>\n",
       "      <td>0.071</td>\n",
       "      <td>79.775</td>\n",
       "      <td>26.316</td>\n",
       "      <td>53.046</td>\n",
       "    </tr>\n",
       "    <tr>\n",
       "      <th>3</th>\n",
       "      <td>1x16 Conv1D 2x16 GRU-B 1x8 Dense</td>\n",
       "      <td>ensemble</td>\n",
       "      <td>62.329</td>\n",
       "      <td>0.201</td>\n",
       "      <td>70.787</td>\n",
       "      <td>49.123</td>\n",
       "      <td>59.955</td>\n",
       "    </tr>\n",
       "  </tbody>\n",
       "</table>\n",
       "</div>"
      ],
      "text/plain": [
       "                              Model      Type  Accuracy(%)    MCC  Recall(%)  \\\n",
       "0                     2x16GRU 1x16D    single       60.959  0.100     86.517   \n",
       "1  1x16 Conv1D 2x16 GRU-B 1x8 Dense    single       68.493  0.312     83.146   \n",
       "2                     2x16GRU 1x16D  ensemble       58.904  0.071     79.775   \n",
       "3  1x16 Conv1D 2x16 GRU-B 1x8 Dense  ensemble       62.329  0.201     70.787   \n",
       "\n",
       "   Specificity(%)  AUC(%)  \n",
       "0          21.053  53.785  \n",
       "1          45.614  64.380  \n",
       "2          26.316  53.046  \n",
       "3          49.123  59.955  "
      ]
     },
     "execution_count": 118,
     "metadata": {},
     "output_type": "execute_result"
    }
   ],
   "source": [
    "acc_df = pd.DataFrame(acc_list, columns=['Model', 'Type', 'Accuracy(%)', 'MCC', 'Recall(%)', 'Specificity(%)',\n",
    "                                         'AUC(%)'])\n",
    "acc_df"
   ]
  },
  {
   "cell_type": "code",
   "execution_count": null,
   "metadata": {},
   "outputs": [],
   "source": []
  }
 ],
 "metadata": {
  "kernelspec": {
   "display_name": "tsfvenv",
   "language": "python",
   "name": "tsfvenv"
  },
  "language_info": {
   "codemirror_mode": {
    "name": "ipython",
    "version": 3
   },
   "file_extension": ".py",
   "mimetype": "text/x-python",
   "name": "python",
   "nbconvert_exporter": "python",
   "pygments_lexer": "ipython3",
   "version": "3.6.7"
  }
 },
 "nbformat": 4,
 "nbformat_minor": 1
}
