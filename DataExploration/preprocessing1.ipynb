{
 "cells": [
  {
   "cell_type": "markdown",
   "metadata": {
    "collapsed": true
   },
   "source": [
    "# KE5006 Applied Research\n",
    "\n",
    "### Identifying enhancers and their strength with deep neural networks\n",
    "\n",
    "# Data Pre-processing"
   ]
  },
  {
   "cell_type": "markdown",
   "metadata": {},
   "source": [
    "## Load libraries"
   ]
  },
  {
   "cell_type": "code",
   "execution_count": 1,
   "metadata": {},
   "outputs": [],
   "source": [
    "import pandas as pd\n",
    "import os\n",
    "import re"
   ]
  },
  {
   "cell_type": "markdown",
   "metadata": {},
   "source": [
    "## Load data"
   ]
  },
  {
   "cell_type": "code",
   "execution_count": 2,
   "metadata": {},
   "outputs": [],
   "source": [
    "raw_data_df = pd.read_csv(os.path.join('data', 'enhancer.txt'), delim_whitespace=True, header=None)"
   ]
  },
  {
   "cell_type": "code",
   "execution_count": 3,
   "metadata": {},
   "outputs": [
    {
     "data": {
      "text/html": [
       "<div>\n",
       "<style scoped>\n",
       "    .dataframe tbody tr th:only-of-type {\n",
       "        vertical-align: middle;\n",
       "    }\n",
       "\n",
       "    .dataframe tbody tr th {\n",
       "        vertical-align: top;\n",
       "    }\n",
       "\n",
       "    .dataframe thead th {\n",
       "        text-align: right;\n",
       "    }\n",
       "</style>\n",
       "<table border=\"1\" class=\"dataframe\">\n",
       "  <thead>\n",
       "    <tr style=\"text-align: right;\">\n",
       "      <th></th>\n",
       "      <th>0</th>\n",
       "    </tr>\n",
       "  </thead>\n",
       "  <tbody>\n",
       "    <tr>\n",
       "      <th>0</th>\n",
       "      <td>&gt;CHRX_48897056_48897256</td>\n",
       "    </tr>\n",
       "    <tr>\n",
       "      <th>1</th>\n",
       "      <td>CACAATGTAGAAGCAGAGACACAGGAACCAGGCTTGGTGATGGCTC...</td>\n",
       "    </tr>\n",
       "    <tr>\n",
       "      <th>2</th>\n",
       "      <td>&gt;CHR12_6444339_6444539</td>\n",
       "    </tr>\n",
       "    <tr>\n",
       "      <th>3</th>\n",
       "      <td>GCCCTCACATTCCCTGGCCCATCCCCTCCACCTCAAAATTTACAAA...</td>\n",
       "    </tr>\n",
       "    <tr>\n",
       "      <th>4</th>\n",
       "      <td>&gt;CHR12_6444939_6445139</td>\n",
       "    </tr>\n",
       "  </tbody>\n",
       "</table>\n",
       "</div>"
      ],
      "text/plain": [
       "<div>\n",
       "<style scoped>\n",
       "    .dataframe tbody tr th:only-of-type {\n",
       "        vertical-align: middle;\n",
       "    }\n",
       "\n",
       "    .dataframe tbody tr th {\n",
       "        vertical-align: top;\n",
       "    }\n",
       "\n",
       "    .dataframe thead th {\n",
       "        text-align: right;\n",
       "    }\n",
       "</style>\n",
       "<table border=\"1\" class=\"dataframe\">\n",
       "  <thead>\n",
       "    <tr style=\"text-align: right;\">\n",
       "      <th></th>\n",
       "      <th>0</th>\n",
       "    </tr>\n",
       "  </thead>\n",
       "  <tbody>\n",
       "    <tr>\n",
       "      <th>0</th>\n",
       "      <td>&gt;CHRX_48897056_48897256</td>\n",
       "    </tr>\n",
       "    <tr>\n",
       "      <th>1</th>\n",
       "      <td>CACAATGTAGAAGCAGAGACACAGGAACCAGGCTTGGTGATGGCTC...</td>\n",
       "    </tr>\n",
       "    <tr>\n",
       "      <th>2</th>\n",
       "      <td>&gt;CHR12_6444339_6444539</td>\n",
       "    </tr>\n",
       "    <tr>\n",
       "      <th>3</th>\n",
       "      <td>GCCCTCACATTCCCTGGCCCATCCCCTCCACCTCAAAATTTACAAA...</td>\n",
       "    </tr>\n",
       "    <tr>\n",
       "      <th>4</th>\n",
       "      <td>&gt;CHR12_6444939_6445139</td>\n",
       "    </tr>\n",
       "  </tbody>\n",
       "</table>\n",
       "</div>"
      ]
     },
     "execution_count": 3,
     "metadata": {},
     "output_type": "execute_result"
    }
   ],
   "source": [
    "raw_data_df.head()"
   ]
  },
  {
   "cell_type": "markdown",
   "metadata": {},
   "source": [
    "## Pre-processing"
   ]
  },
  {
   "cell_type": "markdown",
   "metadata": {},
   "source": [
    "Extract the id attribute."
   ]
  },
  {
   "cell_type": "code",
   "execution_count": 4,
   "metadata": {},
   "outputs": [
    {
     "data": {
      "text/html": [
       "<div>\n",
       "<style scoped>\n",
       "    .dataframe tbody tr th:only-of-type {\n",
       "        vertical-align: middle;\n",
       "    }\n",
       "\n",
       "    .dataframe tbody tr th {\n",
       "        vertical-align: top;\n",
       "    }\n",
       "\n",
       "    .dataframe thead th {\n",
       "        text-align: right;\n",
       "    }\n",
       "</style>\n",
       "<table border=\"1\" class=\"dataframe\">\n",
       "  <thead>\n",
       "    <tr style=\"text-align: right;\">\n",
       "      <th></th>\n",
       "      <th>0</th>\n",
       "    </tr>\n",
       "  </thead>\n",
       "  <tbody>\n",
       "    <tr>\n",
       "      <th>0</th>\n",
       "      <td>CHRX_48897056_48897256</td>\n",
       "    </tr>\n",
       "    <tr>\n",
       "      <th>1</th>\n",
       "      <td>CHR12_6444339_6444539</td>\n",
       "    </tr>\n",
       "    <tr>\n",
       "      <th>2</th>\n",
       "      <td>CHR12_6444939_6445139</td>\n",
       "    </tr>\n",
       "    <tr>\n",
       "      <th>3</th>\n",
       "      <td>CHR12_6445139_6445339</td>\n",
       "    </tr>\n",
       "    <tr>\n",
       "      <th>4</th>\n",
       "      <td>CHR12_6445339_6445539</td>\n",
       "    </tr>\n",
       "  </tbody>\n",
       "</table>\n",
       "</div>"
      ],
      "text/plain": [
       "<div>\n",
       "<style scoped>\n",
       "    .dataframe tbody tr th:only-of-type {\n",
       "        vertical-align: middle;\n",
       "    }\n",
       "\n",
       "    .dataframe tbody tr th {\n",
       "        vertical-align: top;\n",
       "    }\n",
       "\n",
       "    .dataframe thead th {\n",
       "        text-align: right;\n",
       "    }\n",
       "</style>\n",
       "<table border=\"1\" class=\"dataframe\">\n",
       "  <thead>\n",
       "    <tr style=\"text-align: right;\">\n",
       "      <th></th>\n",
       "      <th>0</th>\n",
       "    </tr>\n",
       "  </thead>\n",
       "  <tbody>\n",
       "    <tr>\n",
       "      <th>0</th>\n",
       "      <td>CHRX_48897056_48897256</td>\n",
       "    </tr>\n",
       "    <tr>\n",
       "      <th>1</th>\n",
       "      <td>CHR12_6444339_6444539</td>\n",
       "    </tr>\n",
       "    <tr>\n",
       "      <th>2</th>\n",
       "      <td>CHR12_6444939_6445139</td>\n",
       "    </tr>\n",
       "    <tr>\n",
       "      <th>3</th>\n",
       "      <td>CHR12_6445139_6445339</td>\n",
       "    </tr>\n",
       "    <tr>\n",
       "      <th>4</th>\n",
       "      <td>CHR12_6445339_6445539</td>\n",
       "    </tr>\n",
       "  </tbody>\n",
       "</table>\n",
       "</div>"
      ]
     },
     "execution_count": 4,
     "metadata": {},
     "output_type": "execute_result"
    }
   ],
   "source": [
    "id = raw_data_df.iloc[[i for i in raw_data_df.index if i % 2 == 0], :]\n",
    "id.reset_index(drop=True, inplace=True)\n",
    "id = id.applymap(lambda x: x[1:])\n",
    "id.head()\n"
   ]
  },
  {
   "cell_type": "markdown",
   "metadata": {},
   "source": [
    "Extract the sequence attribute."
   ]
  },
  {
   "cell_type": "code",
   "execution_count": 5,
   "metadata": {},
   "outputs": [
    {
     "data": {
      "text/html": [
       "<div>\n",
       "<style scoped>\n",
       "    .dataframe tbody tr th:only-of-type {\n",
       "        vertical-align: middle;\n",
       "    }\n",
       "\n",
       "    .dataframe tbody tr th {\n",
       "        vertical-align: top;\n",
       "    }\n",
       "\n",
       "    .dataframe thead th {\n",
       "        text-align: right;\n",
       "    }\n",
       "</style>\n",
       "<table border=\"1\" class=\"dataframe\">\n",
       "  <thead>\n",
       "    <tr style=\"text-align: right;\">\n",
       "      <th></th>\n",
       "      <th>0</th>\n",
       "    </tr>\n",
       "  </thead>\n",
       "  <tbody>\n",
       "    <tr>\n",
       "      <th>0</th>\n",
       "      <td>CACAATGTAGAAGCAGAGACACAGGAACCAGGCTTGGTGATGGCTC...</td>\n",
       "    </tr>\n",
       "    <tr>\n",
       "      <th>1</th>\n",
       "      <td>GCCCTCACATTCCCTGGCCCATCCCCTCCACCTCAAAATTTACAAA...</td>\n",
       "    </tr>\n",
       "    <tr>\n",
       "      <th>2</th>\n",
       "      <td>GAGCAGGAGGCCAGTCACCCTGAGTCAGCCACGGGGAGACGCTGCA...</td>\n",
       "    </tr>\n",
       "    <tr>\n",
       "      <th>3</th>\n",
       "      <td>CCTCTGCTGAGAACAGGACTGGGGCTTCCAGGGCAACAGGAAGGGT...</td>\n",
       "    </tr>\n",
       "    <tr>\n",
       "      <th>4</th>\n",
       "      <td>ACAGCCTTAAAGGGAGCTTTTCAGGGACCTCTGGCCAGTGGGGGAT...</td>\n",
       "    </tr>\n",
       "  </tbody>\n",
       "</table>\n",
       "</div>"
      ],
      "text/plain": [
       "<div>\n",
       "<style scoped>\n",
       "    .dataframe tbody tr th:only-of-type {\n",
       "        vertical-align: middle;\n",
       "    }\n",
       "\n",
       "    .dataframe tbody tr th {\n",
       "        vertical-align: top;\n",
       "    }\n",
       "\n",
       "    .dataframe thead th {\n",
       "        text-align: right;\n",
       "    }\n",
       "</style>\n",
       "<table border=\"1\" class=\"dataframe\">\n",
       "  <thead>\n",
       "    <tr style=\"text-align: right;\">\n",
       "      <th></th>\n",
       "      <th>0</th>\n",
       "    </tr>\n",
       "  </thead>\n",
       "  <tbody>\n",
       "    <tr>\n",
       "      <th>0</th>\n",
       "      <td>CACAATGTAGAAGCAGAGACACAGGAACCAGGCTTGGTGATGGCTC...</td>\n",
       "    </tr>\n",
       "    <tr>\n",
       "      <th>1</th>\n",
       "      <td>GCCCTCACATTCCCTGGCCCATCCCCTCCACCTCAAAATTTACAAA...</td>\n",
       "    </tr>\n",
       "    <tr>\n",
       "      <th>2</th>\n",
       "      <td>GAGCAGGAGGCCAGTCACCCTGAGTCAGCCACGGGGAGACGCTGCA...</td>\n",
       "    </tr>\n",
       "    <tr>\n",
       "      <th>3</th>\n",
       "      <td>CCTCTGCTGAGAACAGGACTGGGGCTTCCAGGGCAACAGGAAGGGT...</td>\n",
       "    </tr>\n",
       "    <tr>\n",
       "      <th>4</th>\n",
       "      <td>ACAGCCTTAAAGGGAGCTTTTCAGGGACCTCTGGCCAGTGGGGGAT...</td>\n",
       "    </tr>\n",
       "  </tbody>\n",
       "</table>\n",
       "</div>"
      ]
     },
     "execution_count": 5,
     "metadata": {},
     "output_type": "execute_result"
    }
   ],
   "source": [
    "sequence = raw_data_df.iloc[[i for i in raw_data_df.index if i % 2 > 0], :]\n",
    "sequence.reset_index(drop=True, inplace=True)\n",
    "sequence.head()"
   ]
  },
  {
   "cell_type": "markdown",
   "metadata": {},
   "source": [
    "Combine the attributes into a data frame."
   ]
  },
  {
   "cell_type": "code",
   "execution_count": 6,
   "metadata": {},
   "outputs": [
    {
     "data": {
      "text/html": [
       "<div>\n",
       "<style scoped>\n",
       "    .dataframe tbody tr th:only-of-type {\n",
       "        vertical-align: middle;\n",
       "    }\n",
       "\n",
       "    .dataframe tbody tr th {\n",
       "        vertical-align: top;\n",
       "    }\n",
       "\n",
       "    .dataframe thead th {\n",
       "        text-align: right;\n",
       "    }\n",
       "</style>\n",
       "<table border=\"1\" class=\"dataframe\">\n",
       "  <thead>\n",
       "    <tr style=\"text-align: right;\">\n",
       "      <th></th>\n",
       "      <th>id</th>\n",
       "      <th>sequence</th>\n",
       "    </tr>\n",
       "  </thead>\n",
       "  <tbody>\n",
       "    <tr>\n",
       "      <th>0</th>\n",
       "      <td>CHRX_48897056_48897256</td>\n",
       "      <td>CACAATGTAGAAGCAGAGACACAGGAACCAGGCTTGGTGATGGCTC...</td>\n",
       "    </tr>\n",
       "    <tr>\n",
       "      <th>1</th>\n",
       "      <td>CHR12_6444339_6444539</td>\n",
       "      <td>GCCCTCACATTCCCTGGCCCATCCCCTCCACCTCAAAATTTACAAA...</td>\n",
       "    </tr>\n",
       "    <tr>\n",
       "      <th>2</th>\n",
       "      <td>CHR12_6444939_6445139</td>\n",
       "      <td>GAGCAGGAGGCCAGTCACCCTGAGTCAGCCACGGGGAGACGCTGCA...</td>\n",
       "    </tr>\n",
       "    <tr>\n",
       "      <th>3</th>\n",
       "      <td>CHR12_6445139_6445339</td>\n",
       "      <td>CCTCTGCTGAGAACAGGACTGGGGCTTCCAGGGCAACAGGAAGGGT...</td>\n",
       "    </tr>\n",
       "    <tr>\n",
       "      <th>4</th>\n",
       "      <td>CHR12_6445339_6445539</td>\n",
       "      <td>ACAGCCTTAAAGGGAGCTTTTCAGGGACCTCTGGCCAGTGGGGGAT...</td>\n",
       "    </tr>\n",
       "  </tbody>\n",
       "</table>\n",
       "</div>"
      ],
      "text/plain": [
       "<div>\n",
       "<style scoped>\n",
       "    .dataframe tbody tr th:only-of-type {\n",
       "        vertical-align: middle;\n",
       "    }\n",
       "\n",
       "    .dataframe tbody tr th {\n",
       "        vertical-align: top;\n",
       "    }\n",
       "\n",
       "    .dataframe thead th {\n",
       "        text-align: right;\n",
       "    }\n",
       "</style>\n",
       "<table border=\"1\" class=\"dataframe\">\n",
       "  <thead>\n",
       "    <tr style=\"text-align: right;\">\n",
       "      <th></th>\n",
       "      <th>id</th>\n",
       "      <th>sequence</th>\n",
       "    </tr>\n",
       "  </thead>\n",
       "  <tbody>\n",
       "    <tr>\n",
       "      <th>0</th>\n",
       "      <td>CHRX_48897056_48897256</td>\n",
       "      <td>CACAATGTAGAAGCAGAGACACAGGAACCAGGCTTGGTGATGGCTC...</td>\n",
       "    </tr>\n",
       "    <tr>\n",
       "      <th>1</th>\n",
       "      <td>CHR12_6444339_6444539</td>\n",
       "      <td>GCCCTCACATTCCCTGGCCCATCCCCTCCACCTCAAAATTTACAAA...</td>\n",
       "    </tr>\n",
       "    <tr>\n",
       "      <th>2</th>\n",
       "      <td>CHR12_6444939_6445139</td>\n",
       "      <td>GAGCAGGAGGCCAGTCACCCTGAGTCAGCCACGGGGAGACGCTGCA...</td>\n",
       "    </tr>\n",
       "    <tr>\n",
       "      <th>3</th>\n",
       "      <td>CHR12_6445139_6445339</td>\n",
       "      <td>CCTCTGCTGAGAACAGGACTGGGGCTTCCAGGGCAACAGGAAGGGT...</td>\n",
       "    </tr>\n",
       "    <tr>\n",
       "      <th>4</th>\n",
       "      <td>CHR12_6445339_6445539</td>\n",
       "      <td>ACAGCCTTAAAGGGAGCTTTTCAGGGACCTCTGGCCAGTGGGGGAT...</td>\n",
       "    </tr>\n",
       "  </tbody>\n",
       "</table>\n",
       "</div>"
      ]
     },
     "execution_count": 6,
     "metadata": {},
     "output_type": "execute_result"
    }
   ],
   "source": [
    "enhancer_df = pd.concat([id, sequence], axis=1)\n",
    "enhancer_df.columns = ['id', 'sequence']\n",
    "enhancer_df.head()"
   ]
  },
  {
   "cell_type": "code",
   "execution_count": 7,
   "metadata": {},
   "outputs": [
    {
     "data": {
      "text/plain": [
       "200"
      ]
     },
     "execution_count": 7,
     "metadata": {},
     "output_type": "execute_result"
    }
   ],
   "source": [
    "len(enhancer_df.iloc[0, 1])"
   ]
  },
  {
   "cell_type": "markdown",
   "metadata": {},
   "source": [
    "Check if all the sequences are the same length."
   ]
  },
  {
   "cell_type": "code",
   "execution_count": 8,
   "metadata": {},
   "outputs": [
    {
     "data": {
      "text/plain": [
       "True"
      ]
     },
     "execution_count": 8,
     "metadata": {},
     "output_type": "execute_result"
    }
   ],
   "source": [
    "enhancer_df['sequence'].map(lambda x: len(x) == 200).all()"
   ]
  },
  {
   "cell_type": "markdown",
   "metadata": {},
   "source": [
    "There are 1484 samples of enhancers which is correct according to the reference paper."
   ]
  },
  {
   "cell_type": "code",
   "execution_count": 9,
   "metadata": {},
   "outputs": [
    {
     "name": "stdout",
     "output_type": "stream",
     "text": [
      "<class 'pandas.core.frame.DataFrame'>\nRangeIndex: 1484 entries, 0 to 1483\nData columns (total 2 columns):\nid          1484 non-null object\nsequence    1484 non-null object\ndtypes: object(2)\nmemory usage: 23.3+ KB\n"
     ]
    }
   ],
   "source": [
    "enhancer_df.info()"
   ]
  },
  {
   "cell_type": "markdown",
   "metadata": {},
   "source": [
    "Save preprocessed data to file."
   ]
  },
  {
   "cell_type": "code",
   "execution_count": 10,
   "metadata": {},
   "outputs": [],
   "source": [
    "enhancer_df.to_csv(os.path.join('data', 'enhancer.csv'), index=False)"
   ]
  },
  {
   "cell_type": "markdown",
   "metadata": {},
   "source": [
    "## Repeat the pre-processing for the other files (except for independent.txt which has a different format)"
   ]
  },
  {
   "cell_type": "code",
   "execution_count": 11,
   "metadata": {},
   "outputs": [],
   "source": [
    "def preprocess_data(filenames):\n",
    "    for a_filename in filenames:\n",
    "        raw_data_df = pd.read_csv(os.path.join('data', a_filename), delim_whitespace=True, header=None)\n",
    "        id = raw_data_df.iloc[[i for i in raw_data_df.index if i % 2 == 0], :]\n",
    "        id.reset_index(drop=True, inplace=True)\n",
    "        id = id.applymap(lambda x: x[1:])\n",
    "        sequence = raw_data_df.iloc[[i for i in raw_data_df.index if i % 2 > 0], :]\n",
    "        sequence.reset_index(drop=True, inplace=True)\n",
    "        preprocessed_df = pd.concat([id, sequence], axis=1)\n",
    "        preprocessed_df.columns = ['id', 'sequence']\n",
    "        newfilename = a_filename.split('.')[0] + '.csv'\n",
    "        preprocessed_df.to_csv(os.path.join('data', newfilename), index=False)        "
   ]
  },
  {
   "cell_type": "code",
   "execution_count": 12,
   "metadata": {},
   "outputs": [],
   "source": [
    "preprocess_data(['non_enhancer.txt', 'strong.txt', 'weak.txt'])"
   ]
  },
  {
   "cell_type": "markdown",
   "metadata": {},
   "source": [
    "## Process the file independent.txt"
   ]
  },
  {
   "cell_type": "markdown",
   "metadata": {},
   "source": [
    "Load the raw data"
   ]
  },
  {
   "cell_type": "code",
   "execution_count": 13,
   "metadata": {},
   "outputs": [],
   "source": [
    "raw_data_df = pd.read_csv(os.path.join('data', 'independent.txt'), delim_whitespace=True, header=None, skiprows=6)"
   ]
  },
  {
   "cell_type": "code",
   "execution_count": 14,
   "metadata": {},
   "outputs": [
    {
     "data": {
      "text/html": [
       "<div>\n",
       "<style scoped>\n",
       "    .dataframe tbody tr th:only-of-type {\n",
       "        vertical-align: middle;\n",
       "    }\n",
       "\n",
       "    .dataframe tbody tr th {\n",
       "        vertical-align: top;\n",
       "    }\n",
       "\n",
       "    .dataframe thead th {\n",
       "        text-align: right;\n",
       "    }\n",
       "</style>\n",
       "<table border=\"1\" class=\"dataframe\">\n",
       "  <thead>\n",
       "    <tr style=\"text-align: right;\">\n",
       "      <th></th>\n",
       "      <th>0</th>\n",
       "      <th>1</th>\n",
       "      <th>2</th>\n",
       "      <th>3</th>\n",
       "    </tr>\n",
       "  </thead>\n",
       "  <tbody>\n",
       "    <tr>\n",
       "      <th>0</th>\n",
       "      <td>(1)</td>\n",
       "      <td>100</td>\n",
       "      <td>strong</td>\n",
       "      <td>enhancers</td>\n",
       "    </tr>\n",
       "    <tr>\n",
       "      <th>1</th>\n",
       "      <td>&gt;Chr11_6627824_6628024</td>\n",
       "      <td>NaN</td>\n",
       "      <td>NaN</td>\n",
       "      <td>NaN</td>\n",
       "    </tr>\n",
       "    <tr>\n",
       "      <th>2</th>\n",
       "      <td>ATGCTGCCAGAAGGAAAAGGGGTGGAATTAATGAAACTGGAAGGTT...</td>\n",
       "      <td>NaN</td>\n",
       "      <td>NaN</td>\n",
       "      <td>NaN</td>\n",
       "    </tr>\n",
       "    <tr>\n",
       "      <th>3</th>\n",
       "      <td>TAAAGTATGGGGGCCAAAGTTGGCTATATGCTGGATATGAAGAGGG...</td>\n",
       "      <td>NaN</td>\n",
       "      <td>NaN</td>\n",
       "      <td>NaN</td>\n",
       "    </tr>\n",
       "    <tr>\n",
       "      <th>4</th>\n",
       "      <td>TTCTTGAGATAGAAGTCCAGGCCCTGAGGTGGCAGGCAGCCTGATA...</td>\n",
       "      <td>NaN</td>\n",
       "      <td>NaN</td>\n",
       "      <td>NaN</td>\n",
       "    </tr>\n",
       "  </tbody>\n",
       "</table>\n",
       "</div>"
      ],
      "text/plain": [
       "<div>\n",
       "<style scoped>\n",
       "    .dataframe tbody tr th:only-of-type {\n",
       "        vertical-align: middle;\n",
       "    }\n",
       "\n",
       "    .dataframe tbody tr th {\n",
       "        vertical-align: top;\n",
       "    }\n",
       "\n",
       "    .dataframe thead th {\n",
       "        text-align: right;\n",
       "    }\n",
       "</style>\n",
       "<table border=\"1\" class=\"dataframe\">\n",
       "  <thead>\n",
       "    <tr style=\"text-align: right;\">\n",
       "      <th></th>\n",
       "      <th>0</th>\n",
       "      <th>1</th>\n",
       "      <th>2</th>\n",
       "      <th>3</th>\n",
       "    </tr>\n",
       "  </thead>\n",
       "  <tbody>\n",
       "    <tr>\n",
       "      <th>0</th>\n",
       "      <td>(1)</td>\n",
       "      <td>100</td>\n",
       "      <td>strong</td>\n",
       "      <td>enhancers</td>\n",
       "    </tr>\n",
       "    <tr>\n",
       "      <th>1</th>\n",
       "      <td>&gt;Chr11_6627824_6628024</td>\n",
       "      <td>NaN</td>\n",
       "      <td>NaN</td>\n",
       "      <td>NaN</td>\n",
       "    </tr>\n",
       "    <tr>\n",
       "      <th>2</th>\n",
       "      <td>ATGCTGCCAGAAGGAAAAGGGGTGGAATTAATGAAACTGGAAGGTT...</td>\n",
       "      <td>NaN</td>\n",
       "      <td>NaN</td>\n",
       "      <td>NaN</td>\n",
       "    </tr>\n",
       "    <tr>\n",
       "      <th>3</th>\n",
       "      <td>TAAAGTATGGGGGCCAAAGTTGGCTATATGCTGGATATGAAGAGGG...</td>\n",
       "      <td>NaN</td>\n",
       "      <td>NaN</td>\n",
       "      <td>NaN</td>\n",
       "    </tr>\n",
       "    <tr>\n",
       "      <th>4</th>\n",
       "      <td>TTCTTGAGATAGAAGTCCAGGCCCTGAGGTGGCAGGCAGCCTGATA...</td>\n",
       "      <td>NaN</td>\n",
       "      <td>NaN</td>\n",
       "      <td>NaN</td>\n",
       "    </tr>\n",
       "  </tbody>\n",
       "</table>\n",
       "</div>"
      ]
     },
     "execution_count": 14,
     "metadata": {},
     "output_type": "execute_result"
    }
   ],
   "source": [
    "raw_data_df.head()"
   ]
  },
  {
   "cell_type": "markdown",
   "metadata": {},
   "source": [
    "Locate the section dividers for strong, weak and non-enhancers  "
   ]
  },
  {
   "cell_type": "code",
   "execution_count": 15,
   "metadata": {},
   "outputs": [
    {
     "data": {
      "text/plain": [
       "Int64Index([0, 512, 1160], dtype='int64')"
      ]
     },
     "execution_count": 15,
     "metadata": {},
     "output_type": "execute_result"
    }
   ],
   "source": [
    "type_string = re.compile('^\\([0-9]+\\)$')\n",
    "raw_data_df.loc[raw_data_df.loc[:, 0].map(lambda x: type_string.match(x) != None), :].index"
   ]
  },
  {
   "cell_type": "code",
   "execution_count": 16,
   "metadata": {},
   "outputs": [
    {
     "data": {
      "text/plain": [
       "0          (1)\n1          100\n2       strong\n3    enhancers\nName: 0, dtype: object"
      ]
     },
     "execution_count": 16,
     "metadata": {},
     "output_type": "execute_result"
    }
   ],
   "source": [
    "raw_data_df.iloc[0, :]"
   ]
  },
  {
   "cell_type": "code",
   "execution_count": 17,
   "metadata": {},
   "outputs": [
    {
     "data": {
      "text/plain": [
       "0          (2)\n1          100\n2         weak\n3    enhancers\nName: 512, dtype: object"
      ]
     },
     "execution_count": 17,
     "metadata": {},
     "output_type": "execute_result"
    }
   ],
   "source": [
    "raw_data_df.iloc[512, :]"
   ]
  },
  {
   "cell_type": "code",
   "execution_count": 18,
   "metadata": {},
   "outputs": [
    {
     "data": {
      "text/plain": [
       "0              (3)\n1              200\n2    non-enhancers\n3              NaN\nName: 1160, dtype: object"
      ]
     },
     "execution_count": 18,
     "metadata": {},
     "output_type": "execute_result"
    }
   ],
   "source": [
    "raw_data_df.iloc[1160, :]"
   ]
  },
  {
   "cell_type": "markdown",
   "metadata": {},
   "source": [
    "Extract the strong samples"
   ]
  },
  {
   "cell_type": "code",
   "execution_count": 19,
   "metadata": {},
   "outputs": [],
   "source": [
    "strong_df = raw_data_df.iloc[1:512, 0]"
   ]
  },
  {
   "cell_type": "markdown",
   "metadata": {},
   "source": [
    "Remove the page footers e.g. row 39 below"
   ]
  },
  {
   "cell_type": "code",
   "execution_count": 20,
   "metadata": {},
   "outputs": [
    {
     "data": {
      "text/plain": [
       "1                                >Chr11_6627824_6628024\n2     ATGCTGCCAGAAGGAAAAGGGGTGGAATTAATGAAACTGGAAGGTT...\n3     TAAAGTATGGGGGCCAAAGTTGGCTATATGCTGGATATGAAGAGGG...\n4     TTCTTGAGATAGAAGTCCAGGCCCTGAGGTGGCAGGCAGCCTGATA...\n5                                                 CCATA\n6                                >Chr11_9587224_9587424\n7     GGCATTTTTTAACCTGTGTTTCATTTTCATCTGTGAAATGTGAATA...\n8     GTTCCCGTAAAGATTAAATAAGTATGTAAAGCATCTGGGTCAGTGC...\n9     AAAATATTCTCCCCTCTCCCAGCTCCTGCAAAGGCACCCCAGCTCT...\n10                                                TCTCA\n11                             >Chr11_65187024_65187224\n12    GAAACCACAGAGCTGACCTGGCTTCAGAACAAGATGTGGGGCTCCA...\n13    ACCCTGATTGGCAATAGCCGCAAGAAAGGGCTTGGAGACAGGGGCC...\n14    GTAATCGCAGCACTTTGGGAGGTCAAGGCAGGTGGATCACTTGAGG...\n15                                                CTGGC\n16                             >Chr10_74014594_74014794\n17    TTTGCATAGGGGCATTACCACTGGACTTGGGCTCAGAGCAAGTGTT...\n18    CGTCTCAGAATCACAGAGCACTCCTCTACCTTTGACCTTCTGCAGG...\n19    GCCAAGAACCTTCTCCGCCCCCACCCAGCTCTCTCTCCCCTGCAAT...\n20                                                TTTTA\n21                           >Chr10_105667810_105668010\n22    CGGGAGGCGGGGGTTGCAGTGAGCCAAGATCACACCACTGCACTCC...\n23    GACTCCATCTCAAAAAAAAAAAAAAAATTAGCACATGAACATTTGT...\n24    TTCTGGTCTTGACTGTAGCCTTCCAATATTCTAGGTCTAAGCTCGA...\n25                                                TGCAC\n26                             >Chr16_87812299_87812499\n27    CCACAGGCGTGTACCACTACGCCCGGCTAATTTTGTAATATTTTGT...\n28    ATGCTGCTCAGGCTGGTGACAAACTCCTGGGCTCAAGCGACCCACC...\n29    GGTGGGATCACAGACGTGAGCCAGCGCTCCCTGTCAGCGTTTCATT...\n30                                                CTTGG\n31                             >Chr14_61570047_61570247\n32    ACTTAGCACCTGTCAATCTCCTGTCCTCTGTGAAAGAGCCTGCATT...\n33    ACTTCTCCAGGATTTTTTCAGTGCTGTCTGTCCAAGTCTTTCTTCT...\n34    GAAGTCAGCTCTAGCCATGGCTACAAATAATTCACCTTTCCAGCAG...\n35                                                CCGGT\n36                             >Chr19_39177160_39177360\n37    AGCCTCTGCTGCTGCCCTAATTTTAAAACTGCCTTTTGGGAGTGTA...\n38    AGTTATTTCAAGGTAGGCCTCACCATCTCCTCCTCCTGGTGAGAAG...\n39                                                   \n2\n40    CACTGCCTCCCGCTCTGTGGGCCCCACCTGCCTTGGGTTGAGACCT...\n41                                                GTGGG\n42                             >Chr22_36726454_36726654\n43    TTGGTCTGTTATCTTGTGTGGCCTCCAATAACCTTACAAGGTATTG...\n44    GGTATTATCATCATTGTTTTGCCATCTTTCCACACAGCGGTTCTTC...\n45    AGAGGCATCTCTTCTGGGCAGTGGGGTGGTTAGAATTCTTAGCAAC...\n46                                                CTCAG\n47                             >Chr20_30160339_30160539\n48    GGCACCGTCAGTCTGACAGCAGGGCTGGCTCCTGCAGTGTGAATGA...\n49    GTGAAGGGGGGTTAGGACCTGCTTCCCAGGGCGGGTCCAGCTTTCT...\n50    CTCCATCAGGCCGGCACCAGGTACCAGTTAAGCACTGGGCAGGGAA...\nName: 0, dtype: object"
      ]
     },
     "execution_count": 20,
     "metadata": {},
     "output_type": "execute_result"
    }
   ],
   "source": [
    "strong_df[:50]"
   ]
  },
  {
   "cell_type": "code",
   "execution_count": 21,
   "metadata": {},
   "outputs": [
    {
     "data": {
      "text/plain": [
       "1                                >Chr11_6627824_6628024\n2     ATGCTGCCAGAAGGAAAAGGGGTGGAATTAATGAAACTGGAAGGTT...\n3     TAAAGTATGGGGGCCAAAGTTGGCTATATGCTGGATATGAAGAGGG...\n4     TTCTTGAGATAGAAGTCCAGGCCCTGAGGTGGCAGGCAGCCTGATA...\n5                                                 CCATA\n6                                >Chr11_9587224_9587424\n7     GGCATTTTTTAACCTGTGTTTCATTTTCATCTGTGAAATGTGAATA...\n8     GTTCCCGTAAAGATTAAATAAGTATGTAAAGCATCTGGGTCAGTGC...\n9     AAAATATTCTCCCCTCTCCCAGCTCCTGCAAAGGCACCCCAGCTCT...\n10                                                TCTCA\n11                             >Chr11_65187024_65187224\n12    GAAACCACAGAGCTGACCTGGCTTCAGAACAAGATGTGGGGCTCCA...\n13    ACCCTGATTGGCAATAGCCGCAAGAAAGGGCTTGGAGACAGGGGCC...\n14    GTAATCGCAGCACTTTGGGAGGTCAAGGCAGGTGGATCACTTGAGG...\n15                                                CTGGC\n16                             >Chr10_74014594_74014794\n17    TTTGCATAGGGGCATTACCACTGGACTTGGGCTCAGAGCAAGTGTT...\n18    CGTCTCAGAATCACAGAGCACTCCTCTACCTTTGACCTTCTGCAGG...\n19    GCCAAGAACCTTCTCCGCCCCCACCCAGCTCTCTCTCCCCTGCAAT...\n20                                                TTTTA\n21                           >Chr10_105667810_105668010\n22    CGGGAGGCGGGGGTTGCAGTGAGCCAAGATCACACCACTGCACTCC...\n23    GACTCCATCTCAAAAAAAAAAAAAAAATTAGCACATGAACATTTGT...\n24    TTCTGGTCTTGACTGTAGCCTTCCAATATTCTAGGTCTAAGCTCGA...\n25                                                TGCAC\n26                             >Chr16_87812299_87812499\n27    CCACAGGCGTGTACCACTACGCCCGGCTAATTTTGTAATATTTTGT...\n28    ATGCTGCTCAGGCTGGTGACAAACTCCTGGGCTCAAGCGACCCACC...\n29    GGTGGGATCACAGACGTGAGCCAGCGCTCCCTGTCAGCGTTTCATT...\n30                                                CTTGG\n31                             >Chr14_61570047_61570247\n32    ACTTAGCACCTGTCAATCTCCTGTCCTCTGTGAAAGAGCCTGCATT...\n33    ACTTCTCCAGGATTTTTTCAGTGCTGTCTGTCCAAGTCTTTCTTCT...\n34    GAAGTCAGCTCTAGCCATGGCTACAAATAATTCACCTTTCCAGCAG...\n35                                                CCGGT\n36                             >Chr19_39177160_39177360\n37    AGCCTCTGCTGCTGCCCTAATTTTAAAACTGCCTTTTGGGAGTGTA...\n38    AGTTATTTCAAGGTAGGCCTCACCATCTCCTCCTCCTGGTGAGAAG...\n40    CACTGCCTCCCGCTCTGTGGGCCCCACCTGCCTTGGGTTGAGACCT...\n41                                                GTGGG\n42                             >Chr22_36726454_36726654\n43    TTGGTCTGTTATCTTGTGTGGCCTCCAATAACCTTACAAGGTATTG...\n44    GGTATTATCATCATTGTTTTGCCATCTTTCCACACAGCGGTTCTTC...\n45    AGAGGCATCTCTTCTGGGCAGTGGGGTGGTTAGAATTCTTAGCAAC...\n46                                                CTCAG\n47                             >Chr20_30160339_30160539\n48    GGCACCGTCAGTCTGACAGCAGGGCTGGCTCCTGCAGTGTGAATGA...\n49    GTGAAGGGGGGTTAGGACCTGCTTCCCAGGGCGGGTCCAGCTTTCT...\n50    CTCCATCAGGCCGGCACCAGGTACCAGTTAAGCACTGGGCAGGGAA...\n51                                                CTTGC\nName: 0, dtype: object"
      ]
     },
     "execution_count": 21,
     "metadata": {},
     "output_type": "execute_result"
    }
   ],
   "source": [
    "page_string = re.compile('^\\f')\n",
    "strong_df.drop(strong_df[strong_df.map(lambda x: page_string.match(x) != None)].index, inplace=True)\n",
    "strong_df[:50]"
   ]
  },
  {
   "cell_type": "code",
   "execution_count": 22,
   "metadata": {},
   "outputs": [
    {
     "data": {
      "text/plain": [
       "500"
      ]
     },
     "execution_count": 22,
     "metadata": {},
     "output_type": "execute_result"
    }
   ],
   "source": [
    "len(strong_df)"
   ]
  },
  {
   "cell_type": "markdown",
   "metadata": {},
   "source": [
    "Combine the sub-sequences into 1"
   ]
  },
  {
   "cell_type": "code",
   "execution_count": 23,
   "metadata": {},
   "outputs": [
    {
     "data": {
      "text/plain": [
       "array([['>Chr11_6627824_6628024',\n        'ATGCTGCCAGAAGGAAAAGGGGTGGAATTAATGAAACTGGAAGGTTGTGGTGCTGGTTTGAGGAG',\n        'TAAAGTATGGGGGCCAAAGTTGGCTATATGCTGGATATGAAGAGGGGGTTAATTCCTTGCAGGTC',\n        'TTCTTGAGATAGAAGTCCAGGCCCTGAGGTGGCAGGCAGCCTGATAGTGAACAGAACCCTTGTGC',\n        'CCATA'],\n       ['>Chr11_9587224_9587424',\n        'GGCATTTTTTAACCTGTGTTTCATTTTCATCTGTGAAATGTGAATAAAAATAACTCTCTTACAGA',\n        'GTTCCCGTAAAGATTAAATAAGTATGTAAAGCATCTGGGTCAGTGCCTATCATATAGTTGGCACC',\n        'AAAATATTCTCCCCTCTCCCAGCTCCTGCAAAGGCACCCCAGCTCTTTGCAGCACTTAGGGCCTT',\n        'TCTCA'],\n       ['>Chr11_65187024_65187224',\n        'GAAACCACAGAGCTGACCTGGCTTCAGAACAAGATGTGGGGCTCCAGGCACCCGGGAGACCAGTG',\n        'ACCCTGATTGGCAATAGCCGCAAGAAAGGGCTTGGAGACAGGGGCCAGGCGCGGTGGCTACCCCT',\n        'GTAATCGCAGCACTTTGGGAGGTCAAGGCAGGTGGATCACTTGAGGTCAGGAGTTGGAGACCAGC',\n        'CTGGC'],\n       ['>Chr10_74014594_74014794',\n        'TTTGCATAGGGGCATTACCACTGGACTTGGGCTCAGAGCAAGTGTTTATGAGATAAATGAGGTGC',\n        'CGTCTCAGAATCACAGAGCACTCCTCTACCTTTGACCTTCTGCAGGCTTTCACTGGCTTCTAAGA',\n        'GCCAAGAACCTTCTCCGCCCCCACCCAGCTCTCTCTCCCCTGCAATCTCTCCATGAACAGCATTG',\n        'TTTTA'],\n       ['>Chr10_105667810_105668010',\n        'CGGGAGGCGGGGGTTGCAGTGAGCCAAGATCACACCACTGCACTCCAGCGTGGGCCACAGAGCGA',\n        'GACTCCATCTCAAAAAAAAAAAAAAAATTAGCACATGAACATTTGTCCTAGAGAATGCGAGGTCA',\n        'TTCTGGTCTTGACTGTAGCCTTCCAATATTCTAGGTCTAAGCTCGAGTTGCTACCAAGTGTTCTG',\n        'TGCAC']], dtype=object)"
      ]
     },
     "execution_count": 23,
     "metadata": {},
     "output_type": "execute_result"
    }
   ],
   "source": [
    "strong_df.values.reshape((-1, 5))[:5]"
   ]
  },
  {
   "cell_type": "code",
   "execution_count": 24,
   "metadata": {},
   "outputs": [
    {
     "data": {
      "text/plain": [
       "array([0, 1, 2, 3, 4])"
      ]
     },
     "execution_count": 24,
     "metadata": {},
     "output_type": "execute_result"
    }
   ],
   "source": [
    "strong_df = pd.DataFrame(strong_df.values.reshape((-1, 5)))\n",
    "strong_df.columns.values"
   ]
  },
  {
   "cell_type": "code",
   "execution_count": 25,
   "metadata": {},
   "outputs": [
    {
     "data": {
      "text/plain": [
       "0    ATGCTGCCAGAAGGAAAAGGGGTGGAATTAATGAAACTGGAAGGTT...\n1    GGCATTTTTTAACCTGTGTTTCATTTTCATCTGTGAAATGTGAATA...\n2    GAAACCACAGAGCTGACCTGGCTTCAGAACAAGATGTGGGGCTCCA...\n3    TTTGCATAGGGGCATTACCACTGGACTTGGGCTCAGAGCAAGTGTT...\n4    CGGGAGGCGGGGGTTGCAGTGAGCCAAGATCACACCACTGCACTCC...\nName: sequence, dtype: object"
      ]
     },
     "execution_count": 25,
     "metadata": {},
     "output_type": "execute_result"
    }
   ],
   "source": [
    "strong_df['sequence'] = strong_df[1] + strong_df[2] + strong_df[3] + strong_df[4]\n",
    "strong_df['sequence'].head()"
   ]
  },
  {
   "cell_type": "code",
   "execution_count": 26,
   "metadata": {},
   "outputs": [
    {
     "data": {
      "text/html": [
       "<div>\n",
       "<style scoped>\n",
       "    .dataframe tbody tr th:only-of-type {\n",
       "        vertical-align: middle;\n",
       "    }\n",
       "\n",
       "    .dataframe tbody tr th {\n",
       "        vertical-align: top;\n",
       "    }\n",
       "\n",
       "    .dataframe thead th {\n",
       "        text-align: right;\n",
       "    }\n",
       "</style>\n",
       "<table border=\"1\" class=\"dataframe\">\n",
       "  <thead>\n",
       "    <tr style=\"text-align: right;\">\n",
       "      <th></th>\n",
       "      <th>id</th>\n",
       "      <th>sequence</th>\n",
       "    </tr>\n",
       "  </thead>\n",
       "  <tbody>\n",
       "    <tr>\n",
       "      <th>0</th>\n",
       "      <td>Chr11_6627824_6628024</td>\n",
       "      <td>ATGCTGCCAGAAGGAAAAGGGGTGGAATTAATGAAACTGGAAGGTT...</td>\n",
       "    </tr>\n",
       "    <tr>\n",
       "      <th>1</th>\n",
       "      <td>Chr11_9587224_9587424</td>\n",
       "      <td>GGCATTTTTTAACCTGTGTTTCATTTTCATCTGTGAAATGTGAATA...</td>\n",
       "    </tr>\n",
       "    <tr>\n",
       "      <th>2</th>\n",
       "      <td>Chr11_65187024_65187224</td>\n",
       "      <td>GAAACCACAGAGCTGACCTGGCTTCAGAACAAGATGTGGGGCTCCA...</td>\n",
       "    </tr>\n",
       "    <tr>\n",
       "      <th>3</th>\n",
       "      <td>Chr10_74014594_74014794</td>\n",
       "      <td>TTTGCATAGGGGCATTACCACTGGACTTGGGCTCAGAGCAAGTGTT...</td>\n",
       "    </tr>\n",
       "    <tr>\n",
       "      <th>4</th>\n",
       "      <td>Chr10_105667810_105668010</td>\n",
       "      <td>CGGGAGGCGGGGGTTGCAGTGAGCCAAGATCACACCACTGCACTCC...</td>\n",
       "    </tr>\n",
       "  </tbody>\n",
       "</table>\n",
       "</div>"
      ],
      "text/plain": [
       "<div>\n",
       "<style scoped>\n",
       "    .dataframe tbody tr th:only-of-type {\n",
       "        vertical-align: middle;\n",
       "    }\n",
       "\n",
       "    .dataframe tbody tr th {\n",
       "        vertical-align: top;\n",
       "    }\n",
       "\n",
       "    .dataframe thead th {\n",
       "        text-align: right;\n",
       "    }\n",
       "</style>\n",
       "<table border=\"1\" class=\"dataframe\">\n",
       "  <thead>\n",
       "    <tr style=\"text-align: right;\">\n",
       "      <th></th>\n",
       "      <th>id</th>\n",
       "      <th>sequence</th>\n",
       "    </tr>\n",
       "  </thead>\n",
       "  <tbody>\n",
       "    <tr>\n",
       "      <th>0</th>\n",
       "      <td>Chr11_6627824_6628024</td>\n",
       "      <td>ATGCTGCCAGAAGGAAAAGGGGTGGAATTAATGAAACTGGAAGGTT...</td>\n",
       "    </tr>\n",
       "    <tr>\n",
       "      <th>1</th>\n",
       "      <td>Chr11_9587224_9587424</td>\n",
       "      <td>GGCATTTTTTAACCTGTGTTTCATTTTCATCTGTGAAATGTGAATA...</td>\n",
       "    </tr>\n",
       "    <tr>\n",
       "      <th>2</th>\n",
       "      <td>Chr11_65187024_65187224</td>\n",
       "      <td>GAAACCACAGAGCTGACCTGGCTTCAGAACAAGATGTGGGGCTCCA...</td>\n",
       "    </tr>\n",
       "    <tr>\n",
       "      <th>3</th>\n",
       "      <td>Chr10_74014594_74014794</td>\n",
       "      <td>TTTGCATAGGGGCATTACCACTGGACTTGGGCTCAGAGCAAGTGTT...</td>\n",
       "    </tr>\n",
       "    <tr>\n",
       "      <th>4</th>\n",
       "      <td>Chr10_105667810_105668010</td>\n",
       "      <td>CGGGAGGCGGGGGTTGCAGTGAGCCAAGATCACACCACTGCACTCC...</td>\n",
       "    </tr>\n",
       "  </tbody>\n",
       "</table>\n",
       "</div>"
      ]
     },
     "execution_count": 26,
     "metadata": {},
     "output_type": "execute_result"
    }
   ],
   "source": [
    "strong_df.drop([1,2,3,4], axis=1, inplace=True)\n",
    "strong_df.columns = ['id', 'sequence']\n",
    "strong_df['id'] = strong_df['id'].map(lambda x: x[1:])\n",
    "strong_df.head()"
   ]
  },
  {
   "cell_type": "markdown",
   "metadata": {},
   "source": [
    "There are some additional rows in the weak, non-enhancer sections after each 'id'."
   ]
  },
  {
   "cell_type": "code",
   "execution_count": 27,
   "metadata": {},
   "outputs": [],
   "source": [
    "weak_df = raw_data_df.iloc[513:1160, 0]"
   ]
  },
  {
   "cell_type": "code",
   "execution_count": 28,
   "metadata": {},
   "outputs": [
    {
     "data": {
      "text/plain": [
       "513                        >hg19_ct_UserTrack_3545_11005\n514                      range=chr11:132363991-132364190\n515                                              5'pad=0\n516    TTATGGTCACCTTCGACCCCAGAAATAATGGTCTCTGTTGTCAGAT...\n517    TTGTTGTCAATAATACTTTTGTAAATGCAAGAAGGACAATGTCAGT...\n518    CTTCCCATACTGCTGTGAATCATGCATATGCCTCATCTGCTGCTAC...\n519                                                CAATT\n520                         >hg19_ct_UserTrack_3545_8529\n521                      range=chr11:112506991-112507990\n522                                              5'pad=0\nName: 0, dtype: object"
      ]
     },
     "execution_count": 28,
     "metadata": {},
     "output_type": "execute_result"
    }
   ],
   "source": [
    "weak_df[:10]"
   ]
  },
  {
   "cell_type": "markdown",
   "metadata": {},
   "source": [
    "Remove these rows."
   ]
  },
  {
   "cell_type": "code",
   "execution_count": 29,
   "metadata": {},
   "outputs": [],
   "source": [
    "keep_string = re.compile('^[>ACTG]')\n",
    "weak_df.drop(weak_df[weak_df.map(lambda x: keep_string.match(x) is None)].index, inplace=True)"
   ]
  },
  {
   "cell_type": "code",
   "execution_count": 30,
   "metadata": {},
   "outputs": [
    {
     "data": {
      "text/plain": [
       "513                        >hg19_ct_UserTrack_3545_11005\n516    TTATGGTCACCTTCGACCCCAGAAATAATGGTCTCTGTTGTCAGAT...\n517    TTGTTGTCAATAATACTTTTGTAAATGCAAGAAGGACAATGTCAGT...\n518    CTTCCCATACTGCTGTGAATCATGCATATGCCTCATCTGCTGCTAC...\n519                                                CAATT\n520                         >hg19_ct_UserTrack_3545_8529\n523    CATCCAGGCTTGGTCCTGGTTGTTCCTTGCTGTTATACCAGCCTGG...\n524    GCTAAGAGTGGTTCCTTGCCTGACTGTTCACGCCATGGCTTCTTGT...\n525    AATGCTGCAGAGCTGCAAATCTGTCACTGCCACCTCTGAGTAGATC...\n526                                                CAGCA\n527                         >hg19_ct_UserTrack_3545_7245\n529    TTGTTTTTTTCTGTTTTGAGACGGAGTTTCGCTCTTGTTGCCCAGG...\n530    TCTCGGCTCACTGCAACCTCCACCTCCCGGGTTCAAGCGATTCTCC...\n531    AGTTGGGATTACAGGCATGTGCCACCAAGCCCGGCCAATTTTGTAT...\n532                                                TCTCC\n533                        >hg19_ct_UserTrack_3545_12669\n537    ACTGTTAAATAGCAAAAATTATTGAGCTCAAACCATCTAACCAGGT...\n538    GAGTGTTTTAGCACAGAAGAATTTCATTTTCAGAGAGTGACTCTAT...\n539    AAGCACCTCTGGGTGATGCTGGGTTCACAGAGACATAGCACTGTGA...\n540                                                GCTTG\n541                         >hg19_ct_UserTrack_3545_5404\n543    GAGAATTAAGTTTGTATTAAGTTGGAGACCAGGGCAGATGGAAAGA...\n544    TGGGAGCTCCCTTCTTCAGGGGTCAGCTCCCCATAGGATCTGCAAG...\n545    CCCTTGAGCCATGTGACACTCCATGACAAAGGCACCCCCAACTATG...\n546                                                CTATC\n547                         >hg19_ct_UserTrack_3545_6136\n549    CCTCAACACTCCCTTTTCCCCAGAAGAAATACCTTTTAGTGAATAG...\n550    TATTGAATGACTGTCCTTTGAATATCATTCTTGGAATAAGAAAATG...\n551    GTAACATATAGCTTTTATCTTCCTGGAGTCCTCTATTTTTTTCTCT...\n552                                                CATTC\n553                         >hg19_ct_UserTrack_3545_9048\n555    TTTTATCATACGTGCTTGTTTTTAAGCCATTATCACTTAGTTTCAA...\n556    CTTGTCTTAGTAGGTCTGGGGCTCCGCAAACTACATTTCCACTTTT...\n557    GCTTCCACATAGTGAATTCTGAAGGAAGACTGGAGTCCTGGAGGAA...\n558                                                CCTGT\n559                         >hg19_ct_UserTrack_3545_1030\n561    GACTTCATGAAAGTGGTATGCAAATAACTGATATTTGGGATGTACT...\n562    GGGCTCTGGAGTGAGACAAATGCAATATTGAATTTTAGCTTTATCT...\n563    GTGTACTCTGACCTAAAACTCTTCATTTTGTAGTCACAATAATGAT...\n564                                                TTTGA\n565                         >hg19_ct_UserTrack_3545_2146\n567    AGGATTAAACAAGTTTTACTGGGGTCTGAAGAAACTCCCCAGACCT...\n568    GAAACTAAAGGAGCTCCCTCAACCTCCGTGATTTAGCAGAGGGCAA...\n569    GCACCTGGACCCAGTTAGATTCAGTAAATCCACTGAGGCTCCAGAG...\n570                                                GCCTT\n571                         >hg19_ct_UserTrack_3545_6017\n573    TTCATGCCCAGGTGGAGCCACTTTAGTAAAAAAAATAGCATTTTTG...\n574    TAAAACAGACCACTGGATACTGCTGGTTTGCATTCCTGCTTCCTGG...\n575    CATGAGCCTCTTTGGGAAAGGTACAAACTTAGGGAATTACTGACAC...\n576                                                ATCCT\nName: 0, dtype: object"
      ]
     },
     "execution_count": 30,
     "metadata": {},
     "output_type": "execute_result"
    }
   ],
   "source": [
    "weak_df[:50]"
   ]
  },
  {
   "cell_type": "code",
   "execution_count": 31,
   "metadata": {},
   "outputs": [
    {
     "data": {
      "text/html": [
       "<div>\n",
       "<style scoped>\n",
       "    .dataframe tbody tr th:only-of-type {\n",
       "        vertical-align: middle;\n",
       "    }\n",
       "\n",
       "    .dataframe tbody tr th {\n",
       "        vertical-align: top;\n",
       "    }\n",
       "\n",
       "    .dataframe thead th {\n",
       "        text-align: right;\n",
       "    }\n",
       "</style>\n",
       "<table border=\"1\" class=\"dataframe\">\n",
       "  <thead>\n",
       "    <tr style=\"text-align: right;\">\n",
       "      <th></th>\n",
       "      <th>id</th>\n",
       "      <th>sequence</th>\n",
       "    </tr>\n",
       "  </thead>\n",
       "  <tbody>\n",
       "    <tr>\n",
       "      <th>0</th>\n",
       "      <td>hg19_ct_UserTrack_3545_11005</td>\n",
       "      <td>TTATGGTCACCTTCGACCCCAGAAATAATGGTCTCTGTTGTCAGAT...</td>\n",
       "    </tr>\n",
       "    <tr>\n",
       "      <th>1</th>\n",
       "      <td>hg19_ct_UserTrack_3545_8529</td>\n",
       "      <td>CATCCAGGCTTGGTCCTGGTTGTTCCTTGCTGTTATACCAGCCTGG...</td>\n",
       "    </tr>\n",
       "    <tr>\n",
       "      <th>2</th>\n",
       "      <td>hg19_ct_UserTrack_3545_7245</td>\n",
       "      <td>TTGTTTTTTTCTGTTTTGAGACGGAGTTTCGCTCTTGTTGCCCAGG...</td>\n",
       "    </tr>\n",
       "    <tr>\n",
       "      <th>3</th>\n",
       "      <td>hg19_ct_UserTrack_3545_12669</td>\n",
       "      <td>ACTGTTAAATAGCAAAAATTATTGAGCTCAAACCATCTAACCAGGT...</td>\n",
       "    </tr>\n",
       "    <tr>\n",
       "      <th>4</th>\n",
       "      <td>hg19_ct_UserTrack_3545_5404</td>\n",
       "      <td>GAGAATTAAGTTTGTATTAAGTTGGAGACCAGGGCAGATGGAAAGA...</td>\n",
       "    </tr>\n",
       "  </tbody>\n",
       "</table>\n",
       "</div>"
      ],
      "text/plain": [
       "<div>\n",
       "<style scoped>\n",
       "    .dataframe tbody tr th:only-of-type {\n",
       "        vertical-align: middle;\n",
       "    }\n",
       "\n",
       "    .dataframe tbody tr th {\n",
       "        vertical-align: top;\n",
       "    }\n",
       "\n",
       "    .dataframe thead th {\n",
       "        text-align: right;\n",
       "    }\n",
       "</style>\n",
       "<table border=\"1\" class=\"dataframe\">\n",
       "  <thead>\n",
       "    <tr style=\"text-align: right;\">\n",
       "      <th></th>\n",
       "      <th>id</th>\n",
       "      <th>sequence</th>\n",
       "    </tr>\n",
       "  </thead>\n",
       "  <tbody>\n",
       "    <tr>\n",
       "      <th>0</th>\n",
       "      <td>hg19_ct_UserTrack_3545_11005</td>\n",
       "      <td>TTATGGTCACCTTCGACCCCAGAAATAATGGTCTCTGTTGTCAGAT...</td>\n",
       "    </tr>\n",
       "    <tr>\n",
       "      <th>1</th>\n",
       "      <td>hg19_ct_UserTrack_3545_8529</td>\n",
       "      <td>CATCCAGGCTTGGTCCTGGTTGTTCCTTGCTGTTATACCAGCCTGG...</td>\n",
       "    </tr>\n",
       "    <tr>\n",
       "      <th>2</th>\n",
       "      <td>hg19_ct_UserTrack_3545_7245</td>\n",
       "      <td>TTGTTTTTTTCTGTTTTGAGACGGAGTTTCGCTCTTGTTGCCCAGG...</td>\n",
       "    </tr>\n",
       "    <tr>\n",
       "      <th>3</th>\n",
       "      <td>hg19_ct_UserTrack_3545_12669</td>\n",
       "      <td>ACTGTTAAATAGCAAAAATTATTGAGCTCAAACCATCTAACCAGGT...</td>\n",
       "    </tr>\n",
       "    <tr>\n",
       "      <th>4</th>\n",
       "      <td>hg19_ct_UserTrack_3545_5404</td>\n",
       "      <td>GAGAATTAAGTTTGTATTAAGTTGGAGACCAGGGCAGATGGAAAGA...</td>\n",
       "    </tr>\n",
       "  </tbody>\n",
       "</table>\n",
       "</div>"
      ]
     },
     "execution_count": 31,
     "metadata": {},
     "output_type": "execute_result"
    }
   ],
   "source": [
    "weak_df = pd.DataFrame(weak_df.values.reshape((-1, 5)))\n",
    "weak_df['sequence'] = weak_df[1] + weak_df[2] + weak_df[3] + weak_df[4]\n",
    "weak_df.drop([1,2,3,4], axis=1, inplace=True)\n",
    "weak_df.columns = ['id', 'sequence']\n",
    "weak_df['id'] = weak_df['id'].map(lambda x: x[1:])\n",
    "weak_df.head()"
   ]
  },
  {
   "cell_type": "markdown",
   "metadata": {},
   "source": [
    "## Repeat the pre-processing for the 3 sections (strong, weak, non-enhancers)"
   ]
  },
  {
   "cell_type": "code",
   "execution_count": 32,
   "metadata": {},
   "outputs": [],
   "source": [
    "def preprocess_indep_data():\n",
    "    raw_data_df = pd.read_csv(os.path.join('data', 'independent.txt'), delim_whitespace=True, header=None, skiprows=6)\n",
    "    type_string = re.compile('^\\([0-9]+\\)$')\n",
    "    type_idx = raw_data_df.loc[raw_data_df.loc[:, 0].map(lambda x: type_string.match(x) != None), :].index.values.tolist()\n",
    "    type_idx.append(len(raw_data_df))\n",
    "    type_name = ['strong', 'weak', 'non-enhancer']\n",
    "    all_df = []\n",
    "    for i, start_idx in enumerate(type_idx[:-1]):\n",
    "        # load raw data\n",
    "        df = raw_data_df.iloc[start_idx+1:type_idx[i+1], 0]\t\n",
    "        # remove page strings\n",
    "        page_string = re.compile('^\\f')\n",
    "        df.drop(df[df.map(lambda x: page_string.match(x) != None)].index, inplace=True)\n",
    "        # remove id details strings i.e. all rows not starting with >, A, C, G or T\n",
    "        keep_string = re.compile('^[>ACGT]')\n",
    "        df.drop(df[df.map(lambda x: keep_string.match(x) is None)].index, inplace=True)\n",
    "        # Combine sub-sequences into 1\n",
    "        df = pd.DataFrame(df.values.reshape((-1, 5)))\n",
    "        df['sequence'] = df[1] + df[2] + df[3] + df[4]\n",
    "        df.drop([1,2,3,4], axis=1, inplace=True)\n",
    "        # remove '>' from id\n",
    "        df.rename(columns={0: 'id'}, inplace=True)\n",
    "        df['id'] = df['id'].map(lambda x: x[1:])\n",
    "        df['type'] = type_name[i]\n",
    "        # rearrange columns\n",
    "        df = df[['id', 'type', 'sequence']]\n",
    "        all_df.append(df)\n",
    "    # combine strong, weak, non-enhancer into 1 data frame\n",
    "    indep_df = pd.concat(all_df)\n",
    "    indep_df.to_csv(os.path.join('data', 'independent.csv'), index=False)\n",
    "    return indep_df"
   ]
  },
  {
   "cell_type": "code",
   "execution_count": 33,
   "metadata": {},
   "outputs": [],
   "source": [
    "indep_df = preprocess_indep_data()"
   ]
  },
  {
   "cell_type": "code",
   "execution_count": 34,
   "metadata": {},
   "outputs": [
    {
     "name": "stdout",
     "output_type": "stream",
     "text": [
      "<class 'pandas.core.frame.DataFrame'>\nInt64Index: 400 entries, 0 to 199\nData columns (total 3 columns):\nid          400 non-null object\ntype        400 non-null object\nsequence    400 non-null object\ndtypes: object(3)\nmemory usage: 12.5+ KB\n"
     ]
    }
   ],
   "source": [
    "indep_df.info()"
   ]
  },
  {
   "cell_type": "markdown",
   "metadata": {},
   "source": [
    "The number of samples are correct."
   ]
  },
  {
   "cell_type": "code",
   "execution_count": 35,
   "metadata": {},
   "outputs": [
    {
     "data": {
      "text/plain": [
       "Counter({'strong': 100, 'weak': 100, 'non-enhancer': 200})"
      ]
     },
     "execution_count": 35,
     "metadata": {},
     "output_type": "execute_result"
    }
   ],
   "source": [
    "import collections\n",
    "collections.Counter(indep_df['type'])"
   ]
  },
  {
   "cell_type": "code",
   "execution_count": 36,
   "metadata": {},
   "outputs": [
    {
     "data": {
      "text/html": [
       "<div>\n",
       "<style scoped>\n",
       "    .dataframe tbody tr th:only-of-type {\n",
       "        vertical-align: middle;\n",
       "    }\n",
       "\n",
       "    .dataframe tbody tr th {\n",
       "        vertical-align: top;\n",
       "    }\n",
       "\n",
       "    .dataframe thead th {\n",
       "        text-align: right;\n",
       "    }\n",
       "</style>\n",
       "<table border=\"1\" class=\"dataframe\">\n",
       "  <thead>\n",
       "    <tr style=\"text-align: right;\">\n",
       "      <th></th>\n",
       "      <th>id</th>\n",
       "      <th>type</th>\n",
       "    </tr>\n",
       "  </thead>\n",
       "  <tbody>\n",
       "    <tr>\n",
       "      <th>0</th>\n",
       "      <td>Chr11_6627824_6628024</td>\n",
       "      <td>strong</td>\n",
       "    </tr>\n",
       "    <tr>\n",
       "      <th>1</th>\n",
       "      <td>Chr11_9587224_9587424</td>\n",
       "      <td>strong</td>\n",
       "    </tr>\n",
       "    <tr>\n",
       "      <th>2</th>\n",
       "      <td>Chr11_65187024_65187224</td>\n",
       "      <td>strong</td>\n",
       "    </tr>\n",
       "    <tr>\n",
       "      <th>3</th>\n",
       "      <td>Chr10_74014594_74014794</td>\n",
       "      <td>strong</td>\n",
       "    </tr>\n",
       "    <tr>\n",
       "      <th>4</th>\n",
       "      <td>Chr10_105667810_105668010</td>\n",
       "      <td>strong</td>\n",
       "    </tr>\n",
       "  </tbody>\n",
       "</table>\n",
       "</div>"
      ],
      "text/plain": [
       "<div>\n",
       "<style scoped>\n",
       "    .dataframe tbody tr th:only-of-type {\n",
       "        vertical-align: middle;\n",
       "    }\n",
       "\n",
       "    .dataframe tbody tr th {\n",
       "        vertical-align: top;\n",
       "    }\n",
       "\n",
       "    .dataframe thead th {\n",
       "        text-align: right;\n",
       "    }\n",
       "</style>\n",
       "<table border=\"1\" class=\"dataframe\">\n",
       "  <thead>\n",
       "    <tr style=\"text-align: right;\">\n",
       "      <th></th>\n",
       "      <th>id</th>\n",
       "      <th>type</th>\n",
       "    </tr>\n",
       "  </thead>\n",
       "  <tbody>\n",
       "    <tr>\n",
       "      <th>0</th>\n",
       "      <td>Chr11_6627824_6628024</td>\n",
       "      <td>strong</td>\n",
       "    </tr>\n",
       "    <tr>\n",
       "      <th>1</th>\n",
       "      <td>Chr11_9587224_9587424</td>\n",
       "      <td>strong</td>\n",
       "    </tr>\n",
       "    <tr>\n",
       "      <th>2</th>\n",
       "      <td>Chr11_65187024_65187224</td>\n",
       "      <td>strong</td>\n",
       "    </tr>\n",
       "    <tr>\n",
       "      <th>3</th>\n",
       "      <td>Chr10_74014594_74014794</td>\n",
       "      <td>strong</td>\n",
       "    </tr>\n",
       "    <tr>\n",
       "      <th>4</th>\n",
       "      <td>Chr10_105667810_105668010</td>\n",
       "      <td>strong</td>\n",
       "    </tr>\n",
       "  </tbody>\n",
       "</table>\n",
       "</div>"
      ]
     },
     "execution_count": 36,
     "metadata": {},
     "output_type": "execute_result"
    }
   ],
   "source": [
    "indep_df.iloc[:5, :2]"
   ]
  },
  {
   "cell_type": "code",
   "execution_count": 37,
   "metadata": {},
   "outputs": [
    {
     "data": {
      "text/plain": [
       "0    ATGCTGCCAGAAGGAAAAGGGGTGGAATTAATGAAACTGGAAGGTT...\n1    GGCATTTTTTAACCTGTGTTTCATTTTCATCTGTGAAATGTGAATA...\n2    GAAACCACAGAGCTGACCTGGCTTCAGAACAAGATGTGGGGCTCCA...\n3    TTTGCATAGGGGCATTACCACTGGACTTGGGCTCAGAGCAAGTGTT...\n4    CGGGAGGCGGGGGTTGCAGTGAGCCAAGATCACACCACTGCACTCC...\nName: sequence, dtype: object"
      ]
     },
     "execution_count": 37,
     "metadata": {},
     "output_type": "execute_result"
    }
   ],
   "source": [
    "indep_df.iloc[:5, 2]"
   ]
  },
  {
   "cell_type": "code",
   "execution_count": 38,
   "metadata": {},
   "outputs": [],
   "source": []
  }
 ],
 "metadata": {
  "kernelspec": {
   "display_name": "Python 2",
   "language": "python",
   "name": "python2"
  },
  "language_info": {
   "codemirror_mode": {
    "name": "ipython",
    "version": 2
   },
   "file_extension": ".py",
   "mimetype": "text/x-python",
   "name": "python",
   "nbconvert_exporter": "python",
   "pygments_lexer": "ipython2",
   "version": "2.7.6"
  }
 },
 "nbformat": 4,
 "nbformat_minor": 0
}
